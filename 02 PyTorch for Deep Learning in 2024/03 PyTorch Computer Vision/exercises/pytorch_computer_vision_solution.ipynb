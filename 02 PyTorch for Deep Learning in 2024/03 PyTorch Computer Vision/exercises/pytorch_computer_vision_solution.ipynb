{
  "cells": [
    {
      "cell_type": "markdown",
      "metadata": {
        "id": "Vex99np2wFVt"
      },
      "source": [
        "# 03. PyTorch Computer Vision Exercises\n",
        "\n",
        "The following is a collection of exercises based on computer vision fundamentals in PyTorch.\n",
        "\n",
        "They're a bunch of fun.\n",
        "\n",
        "You're going to get to write plenty of code!"
      ]
    },
    {
      "cell_type": "code",
      "execution_count": 1,
      "metadata": {
        "colab": {
          "base_uri": "https://localhost:8080/"
        },
        "id": "GaeYzOTLwWh2",
        "outputId": "82adc001-a433-40ed-f642-a06608fd4bc3"
      },
      "outputs": [
        {
          "name": "stdout",
          "output_type": "stream",
          "text": [
            "Fri Feb 16 08:26:14 2024       \n",
            "+---------------------------------------------------------------------------------------+\n",
            "| NVIDIA-SMI 535.104.05             Driver Version: 535.104.05   CUDA Version: 12.2     |\n",
            "|-----------------------------------------+----------------------+----------------------+\n",
            "| GPU  Name                 Persistence-M | Bus-Id        Disp.A | Volatile Uncorr. ECC |\n",
            "| Fan  Temp   Perf          Pwr:Usage/Cap |         Memory-Usage | GPU-Util  Compute M. |\n",
            "|                                         |                      |               MIG M. |\n",
            "|=========================================+======================+======================|\n",
            "|   0  Tesla T4                       Off | 00000000:00:04.0 Off |                    0 |\n",
            "| N/A   33C    P8               9W /  70W |      0MiB / 15360MiB |      0%      Default |\n",
            "|                                         |                      |                  N/A |\n",
            "+-----------------------------------------+----------------------+----------------------+\n",
            "                                                                                         \n",
            "+---------------------------------------------------------------------------------------+\n",
            "| Processes:                                                                            |\n",
            "|  GPU   GI   CI        PID   Type   Process name                            GPU Memory |\n",
            "|        ID   ID                                                             Usage      |\n",
            "|=======================================================================================|\n",
            "|  No running processes found                                                           |\n",
            "+---------------------------------------------------------------------------------------+\n"
          ]
        }
      ],
      "source": [
        "# Check for GPU\n",
        "!nvidia-smi"
      ]
    },
    {
      "cell_type": "code",
      "execution_count": 2,
      "metadata": {
        "colab": {
          "base_uri": "https://localhost:8080/",
          "height": 53
        },
        "id": "DNwZLMbCzJLk",
        "outputId": "c81e8e83-cd91-4c0a-adfb-ea604e5c4556"
      },
      "outputs": [
        {
          "name": "stdout",
          "output_type": "stream",
          "text": [
            "2.1.0+cu121\n"
          ]
        },
        {
          "data": {
            "application/vnd.google.colaboratory.intrinsic+json": {
              "type": "string"
            },
            "text/plain": [
              "'cuda'"
            ]
          },
          "execution_count": 2,
          "metadata": {},
          "output_type": "execute_result"
        }
      ],
      "source": [
        "# Import torch\n",
        "import torch\n",
        "\n",
        "# Exercises require PyTorch > 1.10.0\n",
        "print(torch.__version__)\n",
        "\n",
        "# TODO: Setup device agnostic code\n",
        "device = \"cuda\" if torch.cuda.is_available() else \"cpu\"\n",
        "device"
      ]
    },
    {
      "cell_type": "markdown",
      "metadata": {
        "id": "FSFX7tc1w-en"
      },
      "source": [
        "## 1. What are 3 areas in industry where computer vision is currently being used?"
      ]
    },
    {
      "cell_type": "markdown",
      "metadata": {
        "id": "VyWRkvWGbCXj"
      },
      "source": [
        "1. [Self-driving cars](https://youtu.be/j0z4FweCy4M), such as Tesla using computer vision to perceive what's happening on the road.\n",
        "2. [Healthcare imaging](https://ai.googleblog.com/2021/08/improved-detection-of-elusive-polyps.html), such as using computer vision to help interpret X-rays. Google also uses computer vision for detecting polyps in the intestines.\n",
        "3. [Security](https://store.google.com/au/product/nest_cam_battery?hl=en-GB), computer vision can be used to detect whether someone is invading your home or not."
      ]
    },
    {
      "cell_type": "markdown",
      "metadata": {
        "id": "oBK-WI6YxDYa"
      },
      "source": [
        "## 2. Search \"what is overfitting in machine learning\" and write down a sentence about what you find."
      ]
    },
    {
      "cell_type": "markdown",
      "metadata": {
        "id": "d1rxD6GObCqh"
      },
      "source": [
        "Overfitting is an undesirable machine learning behavior that occurs when the machine learning model gives accurate predictions for training data but not for new data. When data scientists use machine learning models for making predictions, they first train the model on a known data set. Then, based on this information, the model tries to predict outcomes for new data sets. An overfit model can give inaccurate predictions and cannot perform well for all types of new data.\n",
        "\n",
        "<a href=\"https://www.geeksforgeeks.org/underfitting-and-overfitting-in-machine-learning/\"><img src=\"./Images/overfitting_2.png\" alt=\"Overfitting\"></a>"
      ]
    },
    {
      "cell_type": "markdown",
      "metadata": {
        "id": "XeYFEqw8xK26"
      },
      "source": [
        "## 3. Search \"ways to prevent overfitting in machine learning\", write down 3 of the things you find and a sentence about each.\n",
        "> **Note:** there are lots of these, so don't worry too much about all of them, just pick 3 and start with those."
      ]
    },
    {
      "cell_type": "markdown",
      "metadata": {
        "id": "ocvOdWKcbEKr"
      },
      "source": [
        "[How can you prevent overfitting?](https://aws.amazon.com/what-is/overfitting/)\n",
        "\n",
        "You can prevent overfitting by diversifying and scaling your training data set or using some other data science strategies, like those given below.\n",
        "\n",
        "**Early stopping**\n",
        "\n",
        "Early stopping pauses the training phase before the machine learning model learns the noise in the data. However, getting the timing right is important; else the model will still not give accurate results.\n",
        "\n",
        "**Pruning**\n",
        "\n",
        "You might identify several features or parameters that impact the final prediction when you build a model. Feature selection—or pruning—identifies the most important features within the training set and eliminates irrelevant ones. For example, to predict if an image is an animal or human, you can look at various input parameters like face shape, ear position, body structure, etc. You may prioritize face shape and ignore the shape of the eyes.\n",
        "\n",
        "**Regularization**\n",
        "\n",
        "Regularization is a collection of training/optimization techniques that seek to reduce overfitting. These methods try to eliminate those factors that do not impact the prediction outcomes by grading features based on importance. For example, mathematical calculations apply a penalty value to features with minimal impact. Consider a statistical model attempting to predict the housing prices of a city in 20 years. Regularization would give a lower penalty value to features like population growth and average annual income but a higher penalty value to the average annual temperature of the city.\n",
        "\n",
        "**Ensembling**\n",
        "\n",
        "Ensembling combines predictions from several separate machine learning algorithms. Some models are called weak learners because their results are often inaccurate. Ensemble methods combine all the weak learners to get more accurate results. They use multiple models to analyze sample data and pick the most accurate outcomes. The two main ensemble methods are bagging and boosting. Boosting trains different machine learning models one after another to get the final result, while bagging trains them in parallel.\n",
        "\n",
        "**Data augmentation**\n",
        "\n",
        "Data augmentation is a machine learning technique that changes the sample data slightly every time the model processes it. You can do this by changing the input data in small ways. When done in moderation, data augmentation makes the training sets appear unique to the model and prevents the model from learning their characteristics. For example, applying transformations such as translation, flipping, and rotation to input images."
      ]
    },
    {
      "cell_type": "markdown",
      "metadata": {
        "id": "DKdEEFEqxM-8"
      },
      "source": [
        "## 4. Spend 20-minutes reading and clicking through the [CNN Explainer website](https://poloclub.github.io/cnn-explainer/).\n",
        "\n",
        "* Upload your own example image using the \"upload\" button on the website and see what happens in each layer of a CNN as your image passes through it."
      ]
    },
    {
      "cell_type": "markdown",
      "metadata": {
        "id": "lvf-3pODxXYI"
      },
      "source": [
        "## 5. Load the [`torchvision.datasets.MNIST()`](https://pytorch.org/vision/stable/generated/torchvision.datasets.MNIST.html#torchvision.datasets.MNIST) train and test datasets."
      ]
    },
    {
      "cell_type": "code",
      "execution_count": 3,
      "metadata": {
        "colab": {
          "base_uri": "https://localhost:8080/"
        },
        "id": "SHjeuN81bHza",
        "outputId": "edf490b1-22eb-4ae8-9a41-8d0127a85d48"
      },
      "outputs": [
        {
          "name": "stdout",
          "output_type": "stream",
          "text": [
            "Downloading http://yann.lecun.com/exdb/mnist/train-images-idx3-ubyte.gz\n",
            "Downloading http://yann.lecun.com/exdb/mnist/train-images-idx3-ubyte.gz to ./Data/MNIST/raw/train-images-idx3-ubyte.gz\n"
          ]
        },
        {
          "name": "stderr",
          "output_type": "stream",
          "text": [
            "100%|██████████| 9912422/9912422 [00:00<00:00, 128383099.25it/s]\n"
          ]
        },
        {
          "name": "stdout",
          "output_type": "stream",
          "text": [
            "Extracting ./Data/MNIST/raw/train-images-idx3-ubyte.gz to ./Data/MNIST/raw\n",
            "\n",
            "Downloading http://yann.lecun.com/exdb/mnist/train-labels-idx1-ubyte.gz\n",
            "Downloading http://yann.lecun.com/exdb/mnist/train-labels-idx1-ubyte.gz to ./Data/MNIST/raw/train-labels-idx1-ubyte.gz\n"
          ]
        },
        {
          "name": "stderr",
          "output_type": "stream",
          "text": [
            "100%|██████████| 28881/28881 [00:00<00:00, 29028443.28it/s]\n"
          ]
        },
        {
          "name": "stdout",
          "output_type": "stream",
          "text": [
            "Extracting ./Data/MNIST/raw/train-labels-idx1-ubyte.gz to ./Data/MNIST/raw\n",
            "\n",
            "Downloading http://yann.lecun.com/exdb/mnist/t10k-images-idx3-ubyte.gz\n",
            "Downloading http://yann.lecun.com/exdb/mnist/t10k-images-idx3-ubyte.gz to ./Data/MNIST/raw/t10k-images-idx3-ubyte.gz\n"
          ]
        },
        {
          "name": "stderr",
          "output_type": "stream",
          "text": [
            "100%|██████████| 1648877/1648877 [00:00<00:00, 29031409.48it/s]\n"
          ]
        },
        {
          "name": "stdout",
          "output_type": "stream",
          "text": [
            "Extracting ./Data/MNIST/raw/t10k-images-idx3-ubyte.gz to ./Data/MNIST/raw\n",
            "\n",
            "Downloading http://yann.lecun.com/exdb/mnist/t10k-labels-idx1-ubyte.gz\n",
            "Downloading http://yann.lecun.com/exdb/mnist/t10k-labels-idx1-ubyte.gz to ./Data/MNIST/raw/t10k-labels-idx1-ubyte.gz\n"
          ]
        },
        {
          "name": "stderr",
          "output_type": "stream",
          "text": [
            "100%|██████████| 4542/4542 [00:00<00:00, 20116714.64it/s]\n"
          ]
        },
        {
          "name": "stdout",
          "output_type": "stream",
          "text": [
            "Extracting ./Data/MNIST/raw/t10k-labels-idx1-ubyte.gz to ./Data/MNIST/raw\n",
            "\n"
          ]
        }
      ],
      "source": [
        "from torchvision.datasets import MNIST\n",
        "from torchvision.transforms import ToTensor\n",
        "\n",
        "train_data = MNIST(root='./Data',\n",
        "                   train=True,\n",
        "                   download=True,\n",
        "                   transform=ToTensor())\n",
        "\n",
        "test_data = MNIST(root='./Data',\n",
        "                   train=False,\n",
        "                   download=True,\n",
        "                   transform=ToTensor())"
      ]
    },
    {
      "cell_type": "code",
      "execution_count": 4,
      "metadata": {
        "colab": {
          "base_uri": "https://localhost:8080/"
        },
        "id": "NKYuWB02BpJU",
        "outputId": "49435f48-430a-4f99-dc74-783f5aab4a9a"
      },
      "outputs": [
        {
          "data": {
            "text/plain": [
              "(Dataset MNIST\n",
              "     Number of datapoints: 60000\n",
              "     Root location: ./Data\n",
              "     Split: Train\n",
              "     StandardTransform\n",
              " Transform: ToTensor(),\n",
              " Dataset MNIST\n",
              "     Number of datapoints: 10000\n",
              "     Root location: ./Data\n",
              "     Split: Test\n",
              "     StandardTransform\n",
              " Transform: ToTensor())"
            ]
          },
          "execution_count": 4,
          "metadata": {},
          "output_type": "execute_result"
        }
      ],
      "source": [
        "train_data, test_data"
      ]
    },
    {
      "cell_type": "code",
      "execution_count": 6,
      "metadata": {
        "colab": {
          "base_uri": "https://localhost:8080/"
        },
        "id": "jzj-XEJXB2r6",
        "outputId": "4d9bc1f7-b4a4-4edc-ada6-81e43874d718"
      },
      "outputs": [
        {
          "data": {
            "text/plain": [
              "(60000, 10000)"
            ]
          },
          "execution_count": 6,
          "metadata": {},
          "output_type": "execute_result"
        }
      ],
      "source": [
        "len(train_data), len(test_data)"
      ]
    },
    {
      "cell_type": "code",
      "execution_count": 8,
      "metadata": {
        "colab": {
          "base_uri": "https://localhost:8080/"
        },
        "id": "r38tDu3fB6jO",
        "outputId": "a1b9d289-ae69-4a0a-8e6b-8be8d3f9fad2"
      },
      "outputs": [
        {
          "name": "stdout",
          "output_type": "stream",
          "text": [
            "Image:\n",
            "tensor([[[0.0000, 0.0000, 0.0000, 0.0000, 0.0000, 0.0000, 0.0000, 0.0000,\n",
            "          0.0000, 0.0000, 0.0000, 0.0000, 0.0000, 0.0000, 0.0000, 0.0000,\n",
            "          0.0000, 0.0000, 0.0000, 0.0000, 0.0000, 0.0000, 0.0000, 0.0000,\n",
            "          0.0000, 0.0000, 0.0000, 0.0000],\n",
            "         [0.0000, 0.0000, 0.0000, 0.0000, 0.0000, 0.0000, 0.0000, 0.0000,\n",
            "          0.0000, 0.0000, 0.0000, 0.0000, 0.0000, 0.0000, 0.0000, 0.0000,\n",
            "          0.0000, 0.0000, 0.0000, 0.0000, 0.0000, 0.0000, 0.0000, 0.0000,\n",
            "          0.0000, 0.0000, 0.0000, 0.0000],\n",
            "         [0.0000, 0.0000, 0.0000, 0.0000, 0.0000, 0.0000, 0.0000, 0.0000,\n",
            "          0.0000, 0.0000, 0.0000, 0.0000, 0.0000, 0.0000, 0.0000, 0.0000,\n",
            "          0.0000, 0.0000, 0.0000, 0.0000, 0.0000, 0.0000, 0.0000, 0.0000,\n",
            "          0.0000, 0.0000, 0.0000, 0.0000],\n",
            "         [0.0000, 0.0000, 0.0000, 0.0000, 0.0000, 0.0000, 0.0000, 0.0000,\n",
            "          0.0000, 0.0000, 0.0000, 0.0000, 0.0000, 0.0000, 0.0000, 0.0000,\n",
            "          0.0000, 0.0000, 0.0000, 0.0000, 0.0000, 0.0000, 0.0000, 0.0000,\n",
            "          0.0000, 0.0000, 0.0000, 0.0000],\n",
            "         [0.0000, 0.0000, 0.0000, 0.0000, 0.0000, 0.0000, 0.0000, 0.0000,\n",
            "          0.0000, 0.0000, 0.0000, 0.0000, 0.0000, 0.0000, 0.0000, 0.0000,\n",
            "          0.0000, 0.0000, 0.0000, 0.0000, 0.0000, 0.0000, 0.0000, 0.0000,\n",
            "          0.0000, 0.0000, 0.0000, 0.0000],\n",
            "         [0.0000, 0.0000, 0.0000, 0.0000, 0.0000, 0.0000, 0.0000, 0.0000,\n",
            "          0.0000, 0.0000, 0.0000, 0.0000, 0.0118, 0.0706, 0.0706, 0.0706,\n",
            "          0.4941, 0.5333, 0.6863, 0.1020, 0.6510, 1.0000, 0.9686, 0.4980,\n",
            "          0.0000, 0.0000, 0.0000, 0.0000],\n",
            "         [0.0000, 0.0000, 0.0000, 0.0000, 0.0000, 0.0000, 0.0000, 0.0000,\n",
            "          0.1176, 0.1412, 0.3686, 0.6039, 0.6667, 0.9922, 0.9922, 0.9922,\n",
            "          0.9922, 0.9922, 0.8824, 0.6745, 0.9922, 0.9490, 0.7647, 0.2510,\n",
            "          0.0000, 0.0000, 0.0000, 0.0000],\n",
            "         [0.0000, 0.0000, 0.0000, 0.0000, 0.0000, 0.0000, 0.0000, 0.1922,\n",
            "          0.9333, 0.9922, 0.9922, 0.9922, 0.9922, 0.9922, 0.9922, 0.9922,\n",
            "          0.9922, 0.9843, 0.3647, 0.3216, 0.3216, 0.2196, 0.1529, 0.0000,\n",
            "          0.0000, 0.0000, 0.0000, 0.0000],\n",
            "         [0.0000, 0.0000, 0.0000, 0.0000, 0.0000, 0.0000, 0.0000, 0.0706,\n",
            "          0.8588, 0.9922, 0.9922, 0.9922, 0.9922, 0.9922, 0.7765, 0.7137,\n",
            "          0.9686, 0.9451, 0.0000, 0.0000, 0.0000, 0.0000, 0.0000, 0.0000,\n",
            "          0.0000, 0.0000, 0.0000, 0.0000],\n",
            "         [0.0000, 0.0000, 0.0000, 0.0000, 0.0000, 0.0000, 0.0000, 0.0000,\n",
            "          0.3137, 0.6118, 0.4196, 0.9922, 0.9922, 0.8039, 0.0431, 0.0000,\n",
            "          0.1686, 0.6039, 0.0000, 0.0000, 0.0000, 0.0000, 0.0000, 0.0000,\n",
            "          0.0000, 0.0000, 0.0000, 0.0000],\n",
            "         [0.0000, 0.0000, 0.0000, 0.0000, 0.0000, 0.0000, 0.0000, 0.0000,\n",
            "          0.0000, 0.0549, 0.0039, 0.6039, 0.9922, 0.3529, 0.0000, 0.0000,\n",
            "          0.0000, 0.0000, 0.0000, 0.0000, 0.0000, 0.0000, 0.0000, 0.0000,\n",
            "          0.0000, 0.0000, 0.0000, 0.0000],\n",
            "         [0.0000, 0.0000, 0.0000, 0.0000, 0.0000, 0.0000, 0.0000, 0.0000,\n",
            "          0.0000, 0.0000, 0.0000, 0.5451, 0.9922, 0.7451, 0.0078, 0.0000,\n",
            "          0.0000, 0.0000, 0.0000, 0.0000, 0.0000, 0.0000, 0.0000, 0.0000,\n",
            "          0.0000, 0.0000, 0.0000, 0.0000],\n",
            "         [0.0000, 0.0000, 0.0000, 0.0000, 0.0000, 0.0000, 0.0000, 0.0000,\n",
            "          0.0000, 0.0000, 0.0000, 0.0431, 0.7451, 0.9922, 0.2745, 0.0000,\n",
            "          0.0000, 0.0000, 0.0000, 0.0000, 0.0000, 0.0000, 0.0000, 0.0000,\n",
            "          0.0000, 0.0000, 0.0000, 0.0000],\n",
            "         [0.0000, 0.0000, 0.0000, 0.0000, 0.0000, 0.0000, 0.0000, 0.0000,\n",
            "          0.0000, 0.0000, 0.0000, 0.0000, 0.1373, 0.9451, 0.8824, 0.6275,\n",
            "          0.4235, 0.0039, 0.0000, 0.0000, 0.0000, 0.0000, 0.0000, 0.0000,\n",
            "          0.0000, 0.0000, 0.0000, 0.0000],\n",
            "         [0.0000, 0.0000, 0.0000, 0.0000, 0.0000, 0.0000, 0.0000, 0.0000,\n",
            "          0.0000, 0.0000, 0.0000, 0.0000, 0.0000, 0.3176, 0.9412, 0.9922,\n",
            "          0.9922, 0.4667, 0.0980, 0.0000, 0.0000, 0.0000, 0.0000, 0.0000,\n",
            "          0.0000, 0.0000, 0.0000, 0.0000],\n",
            "         [0.0000, 0.0000, 0.0000, 0.0000, 0.0000, 0.0000, 0.0000, 0.0000,\n",
            "          0.0000, 0.0000, 0.0000, 0.0000, 0.0000, 0.0000, 0.1765, 0.7294,\n",
            "          0.9922, 0.9922, 0.5882, 0.1059, 0.0000, 0.0000, 0.0000, 0.0000,\n",
            "          0.0000, 0.0000, 0.0000, 0.0000],\n",
            "         [0.0000, 0.0000, 0.0000, 0.0000, 0.0000, 0.0000, 0.0000, 0.0000,\n",
            "          0.0000, 0.0000, 0.0000, 0.0000, 0.0000, 0.0000, 0.0000, 0.0627,\n",
            "          0.3647, 0.9882, 0.9922, 0.7333, 0.0000, 0.0000, 0.0000, 0.0000,\n",
            "          0.0000, 0.0000, 0.0000, 0.0000],\n",
            "         [0.0000, 0.0000, 0.0000, 0.0000, 0.0000, 0.0000, 0.0000, 0.0000,\n",
            "          0.0000, 0.0000, 0.0000, 0.0000, 0.0000, 0.0000, 0.0000, 0.0000,\n",
            "          0.0000, 0.9765, 0.9922, 0.9765, 0.2510, 0.0000, 0.0000, 0.0000,\n",
            "          0.0000, 0.0000, 0.0000, 0.0000],\n",
            "         [0.0000, 0.0000, 0.0000, 0.0000, 0.0000, 0.0000, 0.0000, 0.0000,\n",
            "          0.0000, 0.0000, 0.0000, 0.0000, 0.0000, 0.0000, 0.1804, 0.5098,\n",
            "          0.7176, 0.9922, 0.9922, 0.8118, 0.0078, 0.0000, 0.0000, 0.0000,\n",
            "          0.0000, 0.0000, 0.0000, 0.0000],\n",
            "         [0.0000, 0.0000, 0.0000, 0.0000, 0.0000, 0.0000, 0.0000, 0.0000,\n",
            "          0.0000, 0.0000, 0.0000, 0.0000, 0.1529, 0.5804, 0.8980, 0.9922,\n",
            "          0.9922, 0.9922, 0.9804, 0.7137, 0.0000, 0.0000, 0.0000, 0.0000,\n",
            "          0.0000, 0.0000, 0.0000, 0.0000],\n",
            "         [0.0000, 0.0000, 0.0000, 0.0000, 0.0000, 0.0000, 0.0000, 0.0000,\n",
            "          0.0000, 0.0000, 0.0941, 0.4471, 0.8667, 0.9922, 0.9922, 0.9922,\n",
            "          0.9922, 0.7882, 0.3059, 0.0000, 0.0000, 0.0000, 0.0000, 0.0000,\n",
            "          0.0000, 0.0000, 0.0000, 0.0000],\n",
            "         [0.0000, 0.0000, 0.0000, 0.0000, 0.0000, 0.0000, 0.0000, 0.0000,\n",
            "          0.0902, 0.2588, 0.8353, 0.9922, 0.9922, 0.9922, 0.9922, 0.7765,\n",
            "          0.3176, 0.0078, 0.0000, 0.0000, 0.0000, 0.0000, 0.0000, 0.0000,\n",
            "          0.0000, 0.0000, 0.0000, 0.0000],\n",
            "         [0.0000, 0.0000, 0.0000, 0.0000, 0.0000, 0.0000, 0.0706, 0.6706,\n",
            "          0.8588, 0.9922, 0.9922, 0.9922, 0.9922, 0.7647, 0.3137, 0.0353,\n",
            "          0.0000, 0.0000, 0.0000, 0.0000, 0.0000, 0.0000, 0.0000, 0.0000,\n",
            "          0.0000, 0.0000, 0.0000, 0.0000],\n",
            "         [0.0000, 0.0000, 0.0000, 0.0000, 0.2157, 0.6745, 0.8863, 0.9922,\n",
            "          0.9922, 0.9922, 0.9922, 0.9569, 0.5216, 0.0431, 0.0000, 0.0000,\n",
            "          0.0000, 0.0000, 0.0000, 0.0000, 0.0000, 0.0000, 0.0000, 0.0000,\n",
            "          0.0000, 0.0000, 0.0000, 0.0000],\n",
            "         [0.0000, 0.0000, 0.0000, 0.0000, 0.5333, 0.9922, 0.9922, 0.9922,\n",
            "          0.8314, 0.5294, 0.5176, 0.0627, 0.0000, 0.0000, 0.0000, 0.0000,\n",
            "          0.0000, 0.0000, 0.0000, 0.0000, 0.0000, 0.0000, 0.0000, 0.0000,\n",
            "          0.0000, 0.0000, 0.0000, 0.0000],\n",
            "         [0.0000, 0.0000, 0.0000, 0.0000, 0.0000, 0.0000, 0.0000, 0.0000,\n",
            "          0.0000, 0.0000, 0.0000, 0.0000, 0.0000, 0.0000, 0.0000, 0.0000,\n",
            "          0.0000, 0.0000, 0.0000, 0.0000, 0.0000, 0.0000, 0.0000, 0.0000,\n",
            "          0.0000, 0.0000, 0.0000, 0.0000],\n",
            "         [0.0000, 0.0000, 0.0000, 0.0000, 0.0000, 0.0000, 0.0000, 0.0000,\n",
            "          0.0000, 0.0000, 0.0000, 0.0000, 0.0000, 0.0000, 0.0000, 0.0000,\n",
            "          0.0000, 0.0000, 0.0000, 0.0000, 0.0000, 0.0000, 0.0000, 0.0000,\n",
            "          0.0000, 0.0000, 0.0000, 0.0000],\n",
            "         [0.0000, 0.0000, 0.0000, 0.0000, 0.0000, 0.0000, 0.0000, 0.0000,\n",
            "          0.0000, 0.0000, 0.0000, 0.0000, 0.0000, 0.0000, 0.0000, 0.0000,\n",
            "          0.0000, 0.0000, 0.0000, 0.0000, 0.0000, 0.0000, 0.0000, 0.0000,\n",
            "          0.0000, 0.0000, 0.0000, 0.0000]]])\n",
            "Label:\n",
            "5\n"
          ]
        }
      ],
      "source": [
        "# Data is in tuple form (image, label)\n",
        "img, label = train_data[0]\n",
        "print(f\"Image:\\n{img}\")\n",
        "print(f\"Label:\\n{label}\")"
      ]
    },
    {
      "cell_type": "code",
      "execution_count": 9,
      "metadata": {
        "colab": {
          "base_uri": "https://localhost:8080/"
        },
        "id": "dQSWTPt3CXae",
        "outputId": "1abc449e-5979-4910-8e6e-f8a9525aee73"
      },
      "outputs": [
        {
          "name": "stdout",
          "output_type": "stream",
          "text": [
            "Image shape: torch.Size([1, 28, 28]) -> [color_channels, height, width] (CHW)\n",
            "Label: 5 -> no shape, due to being integer\n"
          ]
        }
      ],
      "source": [
        "# Check out the shapes of our data\n",
        "print(f\"Image shape: {img.shape} -> [color_channels, height, width] (CHW)\")\n",
        "print(f\"Label: {label} -> no shape, due to being integer\")"
      ]
    },
    {
      "cell_type": "code",
      "execution_count": 10,
      "metadata": {
        "colab": {
          "base_uri": "https://localhost:8080/"
        },
        "id": "egUEgnZyChcA",
        "outputId": "3d81bcb3-404e-46dd-a321-7138a1fff273"
      },
      "outputs": [
        {
          "data": {
            "text/plain": [
              "['0 - zero',\n",
              " '1 - one',\n",
              " '2 - two',\n",
              " '3 - three',\n",
              " '4 - four',\n",
              " '5 - five',\n",
              " '6 - six',\n",
              " '7 - seven',\n",
              " '8 - eight',\n",
              " '9 - nine']"
            ]
          },
          "execution_count": 10,
          "metadata": {},
          "output_type": "execute_result"
        }
      ],
      "source": [
        "# Get the class names from the dataset\n",
        "class_names = train_data.classes\n",
        "class_names"
      ]
    },
    {
      "cell_type": "markdown",
      "metadata": {
        "id": "qxZW-uAbxe_F"
      },
      "source": [
        "## 6. Visualize at least 5 different samples of the MNIST training dataset."
      ]
    },
    {
      "cell_type": "code",
      "execution_count": 15,
      "metadata": {
        "colab": {
          "base_uri": "https://localhost:8080/",
          "height": 1000
        },
        "id": "QVFsYi1PbItE",
        "outputId": "8c854364-4b68-421d-b6e3-fb1aa70b3ed5"
      },
      "outputs": [
        {
          "name": "stdout",
          "output_type": "stream",
          "text": [
            "Image shape:\n",
            "torch.Size([1, 28, 28])\n",
            "\n",
            "Squeezed image shape:\n",
            "torch.Size([28, 28])\n",
            "\n",
            "Image shape:\n",
            "torch.Size([1, 28, 28])\n",
            "\n",
            "Squeezed image shape:\n",
            "torch.Size([28, 28])\n",
            "\n",
            "Image shape:\n",
            "torch.Size([1, 28, 28])\n",
            "\n",
            "Squeezed image shape:\n",
            "torch.Size([28, 28])\n",
            "\n",
            "Image shape:\n",
            "torch.Size([1, 28, 28])\n",
            "\n",
            "Squeezed image shape:\n",
            "torch.Size([28, 28])\n",
            "\n",
            "Image shape:\n",
            "torch.Size([1, 28, 28])\n",
            "\n",
            "Squeezed image shape:\n",
            "torch.Size([28, 28])\n",
            "\n"
          ]
        },
        {
          "data": {
            "image/png": "[encoded data removed]",
            "text/plain": [
              "<Figure size 300x300 with 1 Axes>"
            ]
          },
          "metadata": {},
          "output_type": "display_data"
        },
        {
          "data": {
            "image/png": "[encoded data removed]",
            "text/plain": [
              "<Figure size 300x300 with 1 Axes>"
            ]
          },
          "metadata": {},
          "output_type": "display_data"
        },
        {
          "data": {
            "image/png": "[encoded data removed]",
            "text/plain": [
              "<Figure size 300x300 with 1 Axes>"
            ]
          },
          "metadata": {},
          "output_type": "display_data"
        },
        {
          "data": {
            "image/png": "[encoded data removed]",
            "text/plain": [
              "<Figure size 300x300 with 1 Axes>"
            ]
          },
          "metadata": {},
          "output_type": "display_data"
        },
        {
          "data": {
            "image/png": "[encoded data removed]",
            "text/plain": [
              "<Figure size 300x300 with 1 Axes>"
            ]
          },
          "metadata": {},
          "output_type": "display_data"
        }
      ],
      "source": [
        "import matplotlib.pyplot as plt\n",
        "for i in range(5):\n",
        "  img, label = train_data[i]\n",
        "  print(f\"Image shape:\\n{img.shape}\\n\")\n",
        "  img_squeeze = img.squeeze()\n",
        "  print(f\"Squeezed image shape:\\n{img_squeeze.shape}\\n\")\n",
        "  plt.figure(figsize=(3, 3))\n",
        "  plt.imshow(img_squeeze, cmap='gray')\n",
        "  plt.title(class_names[label])\n",
        "  plt.axis(False);"
      ]
    },
    {
      "cell_type": "markdown",
      "metadata": {
        "id": "JAPDzW0wxhi3"
      },
      "source": [
        "## 7. Turn the MNIST train and test datasets into dataloaders using `torch.utils.data.DataLoader`, set the `batch_size=32`."
      ]
    },
    {
      "cell_type": "code",
      "execution_count": 16,
      "metadata": {
        "id": "ALA6MPcFbJXQ"
      },
      "outputs": [],
      "source": [
        "from torch.utils.data import DataLoader\n",
        "\n",
        "train_dataloader = DataLoader(train_data,\n",
        "                              batch_size=32,\n",
        "                              shuffle=True)\n",
        "\n",
        "test_dataloader = DataLoader(test_data,\n",
        "                             batch_size=32,\n",
        "                             shuffle=False)"
      ]
    },
    {
      "cell_type": "code",
      "execution_count": 17,
      "metadata": {
        "colab": {
          "base_uri": "https://localhost:8080/"
        },
        "id": "uoZZlt6nEEHK",
        "outputId": "cd20e08d-3606-444b-9c84-8617e43d86b9"
      },
      "outputs": [
        {
          "data": {
            "text/plain": [
              "(<torch.utils.data.dataloader.DataLoader at 0x7f3853c53160>,\n",
              " <torch.utils.data.dataloader.DataLoader at 0x7f3853c53c40>)"
            ]
          },
          "execution_count": 17,
          "metadata": {},
          "output_type": "execute_result"
        }
      ],
      "source": [
        "train_dataloader, test_dataloader"
      ]
    },
    {
      "cell_type": "code",
      "execution_count": 18,
      "metadata": {
        "colab": {
          "base_uri": "https://localhost:8080/"
        },
        "id": "wK-fzZI7EIqJ",
        "outputId": "bd8bbfde-36c2-4bf9-a0c1-60bc4c2a3abd"
      },
      "outputs": [
        {
          "name": "stdout",
          "output_type": "stream",
          "text": [
            "torch.Size([32, 1, 28, 28])\n",
            "torch.Size([32])\n"
          ]
        }
      ],
      "source": [
        "for sample in next(iter(train_dataloader)):\n",
        "  print(sample.shape)"
      ]
    },
    {
      "cell_type": "code",
      "execution_count": 19,
      "metadata": {
        "colab": {
          "base_uri": "https://localhost:8080/"
        },
        "id": "qslrUCOYEVIt",
        "outputId": "233c23e2-42d1-4701-a6cc-f7760a67fbcc"
      },
      "outputs": [
        {
          "data": {
            "text/plain": [
              "(1875, 313)"
            ]
          },
          "execution_count": 19,
          "metadata": {},
          "output_type": "execute_result"
        }
      ],
      "source": [
        "len(train_dataloader), len(test_dataloader)"
      ]
    },
    {
      "cell_type": "markdown",
      "metadata": {
        "id": "bCCVfXk5xjYS"
      },
      "source": [
        "## 8. Recreate `model_2` used in notebook 03 (the same model from the [CNN Explainer website](https://poloclub.github.io/cnn-explainer/), also known as TinyVGG) capable of fitting on the MNIST dataset."
      ]
    },
    {
      "cell_type": "code",
      "execution_count": 20,
      "metadata": {
        "id": "5IKNF22XbKYS"
      },
      "outputs": [],
      "source": [
        "from torch import nn\n",
        "\n",
        "class MNIST_model(nn.Module):\n",
        "  \"\"\"Model capable of predicting on MNIST dataset.\"\"\"\n",
        "  def __init__(self, input_shape: int, hidden_units: int, output_shape: int):\n",
        "    super().__init__()\n",
        "    self.conv_block_1 = nn.Sequential(\n",
        "        nn.Conv2d(in_channels=input_shape,\n",
        "                  out_channels=hidden_units,\n",
        "                  kernel_size=3,\n",
        "                  stride=1,\n",
        "                  padding=1),\n",
        "        nn.ReLU(),\n",
        "        nn.Conv2d(in_channels=hidden_units,\n",
        "                  out_channels=hidden_units,\n",
        "                  kernel_size=3,\n",
        "                  stride=1,\n",
        "                  padding=1),\n",
        "        nn.ReLU(),\n",
        "        nn.MaxPool2d(kernel_size=2)\n",
        "    )\n",
        "    self.conv_block_2 = nn.Sequential(\n",
        "        nn.Conv2d(in_channels=hidden_units,\n",
        "                  out_channels=hidden_units,\n",
        "                  kernel_size=3,\n",
        "                  stride=1,\n",
        "                  padding=1),\n",
        "        nn.ReLU(),\n",
        "        nn.Conv2d(in_channels=hidden_units,\n",
        "                  out_channels=hidden_units,\n",
        "                  kernel_size=3,\n",
        "                  stride=1,\n",
        "                  padding=1),\n",
        "        nn.ReLU(),\n",
        "        nn.MaxPool2d(kernel_size=2)\n",
        "    )\n",
        "    self.classifier = nn.Sequential(\n",
        "        nn.Flatten(),\n",
        "        nn.Linear(in_features=hidden_units*7*7,\n",
        "                  out_features=output_shape)\n",
        "    )\n",
        "\n",
        "  def forward(self, x):\n",
        "    x = self.conv_block_1(x)\n",
        "    # print(f\"Output shape of conv block 1: {x.shape}\")\n",
        "    x = self.conv_block_2(x)\n",
        "    # print(f\"Output shape of conv block 2: {x.shape}\")\n",
        "    x = self.classifier(x)\n",
        "    # print(f\"Output shape of classifier: {x.shape}\")\n",
        "    return x"
      ]
    },
    {
      "cell_type": "code",
      "execution_count": 22,
      "metadata": {
        "colab": {
          "base_uri": "https://localhost:8080/"
        },
        "id": "8QKxeYbaF9aI",
        "outputId": "e8ed9a00-60cd-474c-c10e-1d9f47aa1cd4"
      },
      "outputs": [
        {
          "data": {
            "text/plain": [
              "MNIST_model(\n",
              "  (conv_block_1): Sequential(\n",
              "    (0): Conv2d(1, 64, kernel_size=(3, 3), stride=(1, 1), padding=(1, 1))\n",
              "    (1): ReLU()\n",
              "    (2): Conv2d(64, 64, kernel_size=(3, 3), stride=(1, 1), padding=(1, 1))\n",
              "    (3): ReLU()\n",
              "    (4): MaxPool2d(kernel_size=2, stride=2, padding=0, dilation=1, ceil_mode=False)\n",
              "  )\n",
              "  (conv_block_2): Sequential(\n",
              "    (0): Conv2d(64, 64, kernel_size=(3, 3), stride=(1, 1), padding=(1, 1))\n",
              "    (1): ReLU()\n",
              "    (2): Conv2d(64, 64, kernel_size=(3, 3), stride=(1, 1), padding=(1, 1))\n",
              "    (3): ReLU()\n",
              "    (4): MaxPool2d(kernel_size=2, stride=2, padding=0, dilation=1, ceil_mode=False)\n",
              "  )\n",
              "  (classifier): Sequential(\n",
              "    (0): Flatten(start_dim=1, end_dim=-1)\n",
              "    (1): Linear(in_features=3136, out_features=10, bias=True)\n",
              "  )\n",
              ")"
            ]
          },
          "execution_count": 22,
          "metadata": {},
          "output_type": "execute_result"
        }
      ],
      "source": [
        "model = MNIST_model(input_shape=1,\n",
        "                    hidden_units=64,\n",
        "                    output_shape=10).to(device)\n",
        "model"
      ]
    },
    {
      "cell_type": "code",
      "execution_count": 23,
      "metadata": {
        "colab": {
          "base_uri": "https://localhost:8080/"
        },
        "id": "aBpdnUZyF_Og",
        "outputId": "2af25dfd-f489-4792-d1bc-4794209bf9e6"
      },
      "outputs": [
        {
          "data": {
            "text/plain": [
              "OrderedDict([('conv_block_1.0.weight',\n",
              "              tensor([[[[-0.0094, -0.2624,  0.1870],\n",
              "                        [-0.2951,  0.3327, -0.2948],\n",
              "                        [-0.2269, -0.0629,  0.0894]]],\n",
              "              \n",
              "              \n",
              "                      [[[-0.3148,  0.2634,  0.1940],\n",
              "                        [-0.1820,  0.2573, -0.1417],\n",
              "                        [-0.1362,  0.1543,  0.1984]]],\n",
              "              \n",
              "              \n",
              "                      [[[ 0.1689,  0.0260, -0.3220],\n",
              "                        [ 0.2563, -0.0670, -0.1096],\n",
              "                        [-0.1170,  0.0690, -0.1774]]],\n",
              "              \n",
              "              \n",
              "                      [[[ 0.0966,  0.0221, -0.0092],\n",
              "                        [-0.0087,  0.2580, -0.0867],\n",
              "                        [-0.3238,  0.0718,  0.3036]]],\n",
              "              \n",
              "              \n",
              "                      [[[-0.2346, -0.2965,  0.2521],\n",
              "                        [ 0.1922,  0.3218, -0.2229],\n",
              "                        [ 0.2676,  0.2352,  0.3237]]],\n",
              "              \n",
              "              \n",
              "                      [[[ 0.1109,  0.0982, -0.0926],\n",
              "                        [-0.2725,  0.2337,  0.0089],\n",
              "                        [ 0.0907,  0.2240,  0.1749]]],\n",
              "              \n",
              "              \n",
              "                      [[[-0.2105,  0.0113, -0.2410],\n",
              "                        [-0.1836,  0.2066, -0.2124],\n",
              "                        [ 0.2110, -0.0439, -0.2311]]],\n",
              "              \n",
              "              \n",
              "                      [[[ 0.1739, -0.1856,  0.1894],\n",
              "                        [-0.1099,  0.2322,  0.2417],\n",
              "                        [-0.2906,  0.0155, -0.0729]]],\n",
              "              \n",
              "              \n",
              "                      [[[-0.0237,  0.0375,  0.1802],\n",
              "                        [-0.2152, -0.2029,  0.1228],\n",
              "                        [ 0.0379, -0.1701, -0.0407]]],\n",
              "              \n",
              "              \n",
              "                      [[[ 0.2780, -0.2282, -0.1491],\n",
              "                        [ 0.0379,  0.2317,  0.1104],\n",
              "                        [-0.1415,  0.1939,  0.0865]]],\n",
              "              \n",
              "              \n",
              "                      [[[-0.1607, -0.2965, -0.3308],\n",
              "                        [ 0.0837,  0.2328, -0.2544],\n",
              "                        [-0.0728, -0.2031, -0.1894]]],\n",
              "              \n",
              "              \n",
              "                      [[[-0.2666, -0.1008, -0.2388],\n",
              "                        [-0.1513, -0.1709,  0.0394],\n",
              "                        [ 0.0211,  0.3101,  0.1802]]],\n",
              "              \n",
              "              \n",
              "                      [[[ 0.1801, -0.1186, -0.2818],\n",
              "                        [ 0.0357,  0.1850,  0.1904],\n",
              "                        [ 0.0948, -0.1149, -0.2572]]],\n",
              "              \n",
              "              \n",
              "                      [[[-0.0750,  0.1759,  0.0275],\n",
              "                        [ 0.0396, -0.1430, -0.0089],\n",
              "                        [-0.2903, -0.0758, -0.1894]]],\n",
              "              \n",
              "              \n",
              "                      [[[-0.2446, -0.2342,  0.1568],\n",
              "                        [ 0.2621, -0.0684,  0.1500],\n",
              "                        [-0.0018, -0.2251,  0.1429]]],\n",
              "              \n",
              "              \n",
              "                      [[[ 0.3183,  0.1273, -0.2108],\n",
              "                        [-0.1740,  0.1867,  0.1231],\n",
              "                        [-0.0297,  0.2766,  0.2036]]],\n",
              "              \n",
              "              \n",
              "                      [[[ 0.0029, -0.2732,  0.1708],\n",
              "                        [ 0.0486, -0.0675,  0.2397],\n",
              "                        [ 0.2642, -0.0433, -0.3006]]],\n",
              "              \n",
              "              \n",
              "                      [[[-0.1377, -0.0641,  0.1997],\n",
              "                        [-0.0323,  0.1889,  0.2325],\n",
              "                        [-0.2973, -0.1589,  0.2246]]],\n",
              "              \n",
              "              \n",
              "                      [[[ 0.2080, -0.2001, -0.0460],\n",
              "                        [-0.1174, -0.3320, -0.3231],\n",
              "                        [-0.1501, -0.0903, -0.3308]]],\n",
              "              \n",
              "              \n",
              "                      [[[-0.0810,  0.2453,  0.0042],\n",
              "                        [-0.2711, -0.3123, -0.1316],\n",
              "                        [-0.0618,  0.0204, -0.0786]]],\n",
              "              \n",
              "              \n",
              "                      [[[-0.3209, -0.2538,  0.3030],\n",
              "                        [ 0.2330,  0.2049,  0.2411],\n",
              "                        [ 0.0167, -0.2669, -0.0151]]],\n",
              "              \n",
              "              \n",
              "                      [[[-0.1168, -0.2169, -0.2237],\n",
              "                        [-0.3128,  0.2156, -0.0059],\n",
              "                        [-0.0125, -0.0213,  0.0918]]],\n",
              "              \n",
              "              \n",
              "                      [[[ 0.0793, -0.0324, -0.1332],\n",
              "                        [-0.0072, -0.1605,  0.2609],\n",
              "                        [-0.2448, -0.2726, -0.1305]]],\n",
              "              \n",
              "              \n",
              "                      [[[ 0.2483, -0.2031, -0.0836],\n",
              "                        [ 0.1170,  0.0473,  0.0707],\n",
              "                        [ 0.1601, -0.2281, -0.3178]]],\n",
              "              \n",
              "              \n",
              "                      [[[ 0.2573,  0.2956, -0.3046],\n",
              "                        [ 0.2061, -0.1604,  0.3009],\n",
              "                        [ 0.0273,  0.1443,  0.2927]]],\n",
              "              \n",
              "              \n",
              "                      [[[-0.0161, -0.1419, -0.1793],\n",
              "                        [ 0.1026, -0.2924,  0.2601],\n",
              "                        [-0.0264, -0.2349,  0.0654]]],\n",
              "              \n",
              "              \n",
              "                      [[[ 0.0275, -0.3146,  0.2090],\n",
              "                        [-0.2240, -0.0364,  0.2352],\n",
              "                        [-0.0957,  0.3256,  0.2315]]],\n",
              "              \n",
              "              \n",
              "                      [[[-0.0734,  0.2849,  0.2490],\n",
              "                        [-0.2481, -0.1763,  0.0443],\n",
              "                        [ 0.1336,  0.2453, -0.1969]]],\n",
              "              \n",
              "              \n",
              "                      [[[ 0.0522,  0.0142,  0.3190],\n",
              "                        [ 0.2690, -0.2204, -0.0732],\n",
              "                        [-0.0854,  0.0470,  0.1462]]],\n",
              "              \n",
              "              \n",
              "                      [[[ 0.2981, -0.2023, -0.2969],\n",
              "                        [-0.1981,  0.0209, -0.0930],\n",
              "                        [ 0.2631, -0.3127, -0.1256]]],\n",
              "              \n",
              "              \n",
              "                      [[[-0.1720,  0.1977,  0.1673],\n",
              "                        [-0.0806, -0.0555, -0.3102],\n",
              "                        [ 0.0320,  0.0218,  0.2790]]],\n",
              "              \n",
              "              \n",
              "                      [[[-0.1508,  0.0064, -0.0462],\n",
              "                        [-0.2713, -0.2688, -0.2255],\n",
              "                        [ 0.1654, -0.2014, -0.1504]]],\n",
              "              \n",
              "              \n",
              "                      [[[ 0.0409, -0.0144, -0.3229],\n",
              "                        [ 0.2231,  0.1754, -0.0118],\n",
              "                        [ 0.2411,  0.2204, -0.2525]]],\n",
              "              \n",
              "              \n",
              "                      [[[ 0.1470, -0.1751,  0.0231],\n",
              "                        [ 0.3126,  0.1584, -0.2243],\n",
              "                        [-0.0298, -0.2782, -0.2972]]],\n",
              "              \n",
              "              \n",
              "                      [[[ 0.0657, -0.0838, -0.0497],\n",
              "                        [-0.2742, -0.2434, -0.1996],\n",
              "                        [ 0.2332,  0.0324, -0.0765]]],\n",
              "              \n",
              "              \n",
              "                      [[[-0.2845,  0.1016, -0.0116],\n",
              "                        [ 0.0065,  0.2835, -0.3212],\n",
              "                        [ 0.3088, -0.1199, -0.0703]]],\n",
              "              \n",
              "              \n",
              "                      [[[-0.1727, -0.1187, -0.0146],\n",
              "                        [ 0.2526, -0.0047,  0.1534],\n",
              "                        [-0.0826,  0.0602,  0.0344]]],\n",
              "              \n",
              "              \n",
              "                      [[[-0.0258, -0.2693, -0.3207],\n",
              "                        [ 0.0334, -0.1883,  0.2318],\n",
              "                        [ 0.3279, -0.0522, -0.2855]]],\n",
              "              \n",
              "              \n",
              "                      [[[ 0.1980,  0.3075, -0.0051],\n",
              "                        [-0.2460,  0.1484, -0.0878],\n",
              "                        [-0.1976, -0.0919, -0.2306]]],\n",
              "              \n",
              "              \n",
              "                      [[[-0.0505, -0.0672, -0.2540],\n",
              "                        [-0.2491,  0.2141,  0.2359],\n",
              "                        [ 0.2703, -0.0387,  0.0022]]],\n",
              "              \n",
              "              \n",
              "                      [[[ 0.3181, -0.2812,  0.3076],\n",
              "                        [ 0.3186,  0.1465,  0.1578],\n",
              "                        [-0.0346,  0.1121,  0.1425]]],\n",
              "              \n",
              "              \n",
              "                      [[[ 0.3161, -0.0238, -0.1873],\n",
              "                        [-0.2749, -0.1731,  0.0157],\n",
              "                        [-0.0453, -0.3208, -0.3277]]],\n",
              "              \n",
              "              \n",
              "                      [[[-0.2583,  0.0249,  0.1398],\n",
              "                        [ 0.0422,  0.2215, -0.0406],\n",
              "                        [ 0.1054,  0.1342,  0.1386]]],\n",
              "              \n",
              "              \n",
              "                      [[[ 0.2163, -0.2014,  0.1392],\n",
              "                        [-0.0900,  0.1900, -0.3120],\n",
              "                        [-0.1299,  0.2717, -0.2632]]],\n",
              "              \n",
              "              \n",
              "                      [[[ 0.0979, -0.2441,  0.3131],\n",
              "                        [ 0.2928,  0.2445, -0.1619],\n",
              "                        [-0.1033, -0.1275,  0.2093]]],\n",
              "              \n",
              "              \n",
              "                      [[[ 0.1166, -0.1893, -0.2585],\n",
              "                        [ 0.3169, -0.2029,  0.3013],\n",
              "                        [-0.2350, -0.1057, -0.3005]]],\n",
              "              \n",
              "              \n",
              "                      [[[-0.0916, -0.3186, -0.2491],\n",
              "                        [ 0.2389, -0.2535, -0.2651],\n",
              "                        [-0.1998, -0.1226,  0.1555]]],\n",
              "              \n",
              "              \n",
              "                      [[[-0.0245, -0.3247,  0.2491],\n",
              "                        [ 0.2650,  0.1326,  0.2929],\n",
              "                        [-0.0829, -0.0337, -0.1042]]],\n",
              "              \n",
              "              \n",
              "                      [[[-0.0532,  0.2220,  0.2829],\n",
              "                        [-0.2598,  0.2526,  0.0592],\n",
              "                        [-0.3232,  0.2412, -0.2179]]],\n",
              "              \n",
              "              \n",
              "                      [[[ 0.2435, -0.0582, -0.3134],\n",
              "                        [-0.2189, -0.3118, -0.0902],\n",
              "                        [ 0.0017,  0.1107, -0.1032]]],\n",
              "              \n",
              "              \n",
              "                      [[[-0.1544,  0.0993, -0.1417],\n",
              "                        [ 0.1854, -0.0847,  0.0794],\n",
              "                        [ 0.3136,  0.1529, -0.0911]]],\n",
              "              \n",
              "              \n",
              "                      [[[-0.2446, -0.2327, -0.3233],\n",
              "                        [-0.1331,  0.1783, -0.1639],\n",
              "                        [-0.3202, -0.2017, -0.1757]]],\n",
              "              \n",
              "              \n",
              "                      [[[-0.2288, -0.1258, -0.1283],\n",
              "                        [ 0.1954,  0.1717,  0.2693],\n",
              "                        [ 0.1897, -0.0712, -0.2100]]],\n",
              "              \n",
              "              \n",
              "                      [[[ 0.2218, -0.0808,  0.0712],\n",
              "                        [-0.0240,  0.1433, -0.0377],\n",
              "                        [ 0.2523, -0.2640,  0.0736]]],\n",
              "              \n",
              "              \n",
              "                      [[[-0.1219,  0.2893, -0.1569],\n",
              "                        [ 0.2112,  0.2494, -0.3118],\n",
              "                        [ 0.0916, -0.2219,  0.2808]]],\n",
              "              \n",
              "              \n",
              "                      [[[-0.0459,  0.2121,  0.2433],\n",
              "                        [-0.2013, -0.1055, -0.2223],\n",
              "                        [ 0.0148, -0.0861,  0.2521]]],\n",
              "              \n",
              "              \n",
              "                      [[[-0.2798,  0.2995,  0.2906],\n",
              "                        [ 0.1862,  0.2023, -0.0736],\n",
              "                        [ 0.2327, -0.2626,  0.2469]]],\n",
              "              \n",
              "              \n",
              "                      [[[ 0.1882, -0.2419, -0.1860],\n",
              "                        [ 0.0126,  0.1361,  0.0432],\n",
              "                        [ 0.3222, -0.2347, -0.1312]]],\n",
              "              \n",
              "              \n",
              "                      [[[-0.0123,  0.2905,  0.2346],\n",
              "                        [-0.0055,  0.2514,  0.3138],\n",
              "                        [ 0.0028,  0.2336, -0.0800]]],\n",
              "              \n",
              "              \n",
              "                      [[[-0.1028,  0.0727, -0.2541],\n",
              "                        [-0.2827,  0.1348,  0.1596],\n",
              "                        [ 0.0922, -0.1637, -0.0867]]],\n",
              "              \n",
              "              \n",
              "                      [[[-0.0209,  0.1289, -0.3163],\n",
              "                        [-0.1633, -0.0353, -0.3218],\n",
              "                        [ 0.3268,  0.0936,  0.2458]]],\n",
              "              \n",
              "              \n",
              "                      [[[ 0.0960,  0.1397, -0.0506],\n",
              "                        [-0.2645, -0.0609, -0.1002],\n",
              "                        [-0.3330,  0.1022,  0.2979]]],\n",
              "              \n",
              "              \n",
              "                      [[[ 0.1245, -0.0243,  0.2367],\n",
              "                        [-0.0239, -0.0308, -0.1066],\n",
              "                        [-0.1328,  0.1725, -0.0243]]],\n",
              "              \n",
              "              \n",
              "                      [[[-0.0879, -0.0958,  0.0797],\n",
              "                        [-0.1720,  0.0189, -0.1211],\n",
              "                        [-0.2338, -0.0054, -0.2029]]]], device='cuda:0')),\n",
              "             ('conv_block_1.0.bias',\n",
              "              tensor([-0.1725, -0.3250,  0.1098,  0.1326,  0.2689, -0.0162, -0.2420, -0.2414,\n",
              "                      -0.1199,  0.2204,  0.0538,  0.0962,  0.3034,  0.1748, -0.1326,  0.2577,\n",
              "                      -0.2213, -0.0044,  0.0567,  0.2678,  0.2517, -0.2465, -0.2637, -0.3190,\n",
              "                      -0.0030,  0.2363,  0.1651, -0.1757,  0.1566, -0.0096, -0.2794,  0.0508,\n",
              "                      -0.2210, -0.0664,  0.2474,  0.1096,  0.1147, -0.1459, -0.2418, -0.0076,\n",
              "                       0.2298,  0.1555,  0.1088, -0.0309, -0.2092, -0.0192,  0.1847, -0.2511,\n",
              "                       0.1606,  0.2362, -0.0370,  0.3203,  0.0368,  0.3162, -0.1284, -0.0779,\n",
              "                       0.2004, -0.2175,  0.3119,  0.0732,  0.2405,  0.3087,  0.3162, -0.0968],\n",
              "                     device='cuda:0')),\n",
              "             ('conv_block_1.2.weight',\n",
              "              tensor([[[[ 0.0042, -0.0295,  0.0173],\n",
              "                        [-0.0173, -0.0096,  0.0379],\n",
              "                        [-0.0123,  0.0012, -0.0360]],\n",
              "              \n",
              "                       [[-0.0286,  0.0054,  0.0089],\n",
              "                        [-0.0040, -0.0269, -0.0157],\n",
              "                        [ 0.0261, -0.0267, -0.0364]],\n",
              "              \n",
              "                       [[-0.0301,  0.0217, -0.0101],\n",
              "                        [ 0.0367,  0.0265, -0.0387],\n",
              "                        [ 0.0368,  0.0391, -0.0346]],\n",
              "              \n",
              "                       ...,\n",
              "              \n",
              "                       [[-0.0120,  0.0035,  0.0183],\n",
              "                        [-0.0037, -0.0226, -0.0292],\n",
              "                        [-0.0314, -0.0215,  0.0024]],\n",
              "              \n",
              "                       [[-0.0300,  0.0305,  0.0051],\n",
              "                        [ 0.0206,  0.0360,  0.0211],\n",
              "                        [ 0.0356,  0.0333,  0.0358]],\n",
              "              \n",
              "                       [[ 0.0182,  0.0186,  0.0229],\n",
              "                        [ 0.0008,  0.0262, -0.0268],\n",
              "                        [ 0.0127, -0.0363, -0.0009]]],\n",
              "              \n",
              "              \n",
              "                      [[[-0.0145, -0.0090,  0.0026],\n",
              "                        [-0.0321, -0.0123,  0.0122],\n",
              "                        [ 0.0400,  0.0006, -0.0392]],\n",
              "              \n",
              "                       [[-0.0138,  0.0022,  0.0115],\n",
              "                        [ 0.0312, -0.0401, -0.0239],\n",
              "                        [-0.0342,  0.0057, -0.0414]],\n",
              "              \n",
              "                       [[ 0.0023,  0.0394, -0.0208],\n",
              "                        [-0.0347,  0.0367,  0.0131],\n",
              "                        [-0.0164, -0.0240, -0.0298]],\n",
              "              \n",
              "                       ...,\n",
              "              \n",
              "                       [[ 0.0025,  0.0156,  0.0162],\n",
              "                        [-0.0301, -0.0258,  0.0188],\n",
              "                        [-0.0320, -0.0249, -0.0038]],\n",
              "              \n",
              "                       [[ 0.0180,  0.0145, -0.0110],\n",
              "                        [ 0.0289, -0.0213,  0.0024],\n",
              "                        [-0.0333, -0.0199, -0.0058]],\n",
              "              \n",
              "                       [[-0.0224,  0.0355,  0.0149],\n",
              "                        [-0.0288,  0.0228, -0.0152],\n",
              "                        [ 0.0277, -0.0158,  0.0134]]],\n",
              "              \n",
              "              \n",
              "                      [[[-0.0328,  0.0071,  0.0157],\n",
              "                        [-0.0150,  0.0273, -0.0392],\n",
              "                        [-0.0045, -0.0101, -0.0395]],\n",
              "              \n",
              "                       [[ 0.0051, -0.0394,  0.0195],\n",
              "                        [ 0.0117, -0.0015,  0.0256],\n",
              "                        [ 0.0295, -0.0183, -0.0058]],\n",
              "              \n",
              "                       [[-0.0360,  0.0065,  0.0108],\n",
              "                        [ 0.0272, -0.0283, -0.0336],\n",
              "                        [ 0.0380,  0.0381,  0.0203]],\n",
              "              \n",
              "                       ...,\n",
              "              \n",
              "                       [[ 0.0081,  0.0082, -0.0199],\n",
              "                        [-0.0300,  0.0199,  0.0102],\n",
              "                        [-0.0018, -0.0254, -0.0275]],\n",
              "              \n",
              "                       [[ 0.0154,  0.0256, -0.0298],\n",
              "                        [ 0.0204,  0.0294,  0.0180],\n",
              "                        [-0.0356,  0.0067, -0.0053]],\n",
              "              \n",
              "                       [[-0.0150,  0.0246, -0.0214],\n",
              "                        [ 0.0182, -0.0061,  0.0399],\n",
              "                        [-0.0251, -0.0089,  0.0231]]],\n",
              "              \n",
              "              \n",
              "                      ...,\n",
              "              \n",
              "              \n",
              "                      [[[ 0.0239, -0.0079, -0.0275],\n",
              "                        [-0.0007,  0.0191, -0.0034],\n",
              "                        [-0.0109, -0.0171, -0.0055]],\n",
              "              \n",
              "                       [[ 0.0305,  0.0087,  0.0051],\n",
              "                        [ 0.0142, -0.0211,  0.0076],\n",
              "                        [-0.0318, -0.0069, -0.0289]],\n",
              "              \n",
              "                       [[-0.0050,  0.0388, -0.0343],\n",
              "                        [-0.0085,  0.0282,  0.0097],\n",
              "                        [-0.0375, -0.0158,  0.0303]],\n",
              "              \n",
              "                       ...,\n",
              "              \n",
              "                       [[ 0.0040, -0.0123, -0.0002],\n",
              "                        [ 0.0048,  0.0266, -0.0082],\n",
              "                        [ 0.0395, -0.0183, -0.0143]],\n",
              "              \n",
              "                       [[ 0.0145,  0.0294,  0.0064],\n",
              "                        [ 0.0130,  0.0170,  0.0322],\n",
              "                        [ 0.0166,  0.0303, -0.0019]],\n",
              "              \n",
              "                       [[ 0.0287, -0.0322, -0.0309],\n",
              "                        [ 0.0157,  0.0231, -0.0335],\n",
              "                        [-0.0104, -0.0414, -0.0316]]],\n",
              "              \n",
              "              \n",
              "                      [[[-0.0042, -0.0411, -0.0335],\n",
              "                        [ 0.0387, -0.0107, -0.0261],\n",
              "                        [-0.0188, -0.0121, -0.0251]],\n",
              "              \n",
              "                       [[ 0.0314, -0.0356, -0.0111],\n",
              "                        [ 0.0398, -0.0399, -0.0318],\n",
              "                        [ 0.0126,  0.0271, -0.0276]],\n",
              "              \n",
              "                       [[ 0.0256,  0.0176,  0.0356],\n",
              "                        [ 0.0326,  0.0181, -0.0017],\n",
              "                        [ 0.0167,  0.0333, -0.0081]],\n",
              "              \n",
              "                       ...,\n",
              "              \n",
              "                       [[-0.0292,  0.0023, -0.0358],\n",
              "                        [-0.0320, -0.0369, -0.0287],\n",
              "                        [ 0.0227,  0.0244,  0.0171]],\n",
              "              \n",
              "                       [[ 0.0051,  0.0112,  0.0244],\n",
              "                        [ 0.0358,  0.0121,  0.0301],\n",
              "                        [-0.0187,  0.0123,  0.0035]],\n",
              "              \n",
              "                       [[ 0.0232, -0.0148,  0.0197],\n",
              "                        [-0.0380,  0.0289,  0.0394],\n",
              "                        [-0.0198, -0.0344,  0.0142]]],\n",
              "              \n",
              "              \n",
              "                      [[[ 0.0215,  0.0099, -0.0261],\n",
              "                        [ 0.0027, -0.0166,  0.0183],\n",
              "                        [ 0.0019, -0.0133, -0.0156]],\n",
              "              \n",
              "                       [[-0.0115, -0.0398, -0.0391],\n",
              "                        [-0.0081,  0.0135,  0.0071],\n",
              "                        [ 0.0164,  0.0099, -0.0277]],\n",
              "              \n",
              "                       [[ 0.0088, -0.0301, -0.0086],\n",
              "                        [-0.0067, -0.0049,  0.0216],\n",
              "                        [-0.0310,  0.0217,  0.0233]],\n",
              "              \n",
              "                       ...,\n",
              "              \n",
              "                       [[-0.0242,  0.0075, -0.0148],\n",
              "                        [ 0.0238, -0.0311, -0.0119],\n",
              "                        [-0.0256, -0.0049,  0.0291]],\n",
              "              \n",
              "                       [[-0.0153,  0.0366, -0.0089],\n",
              "                        [-0.0243, -0.0049, -0.0340],\n",
              "                        [-0.0299, -0.0199,  0.0217]],\n",
              "              \n",
              "                       [[-0.0190,  0.0385, -0.0014],\n",
              "                        [-0.0324,  0.0183, -0.0254],\n",
              "                        [-0.0284, -0.0254, -0.0201]]]], device='cuda:0')),\n",
              "             ('conv_block_1.2.bias',\n",
              "              tensor([ 0.0015,  0.0116,  0.0134,  0.0162,  0.0415, -0.0299, -0.0342, -0.0148,\n",
              "                       0.0398,  0.0339, -0.0240,  0.0192, -0.0413, -0.0080,  0.0157, -0.0048,\n",
              "                       0.0138, -0.0200,  0.0068, -0.0123,  0.0290, -0.0257,  0.0156, -0.0065,\n",
              "                      -0.0106,  0.0010, -0.0093, -0.0290, -0.0217, -0.0118,  0.0318,  0.0153,\n",
              "                       0.0212,  0.0208, -0.0014, -0.0298,  0.0143, -0.0293, -0.0009,  0.0343,\n",
              "                      -0.0287, -0.0241,  0.0379, -0.0140, -0.0317, -0.0177,  0.0206, -0.0102,\n",
              "                       0.0166,  0.0112,  0.0345, -0.0347, -0.0126, -0.0404, -0.0237, -0.0113,\n",
              "                      -0.0233, -0.0178,  0.0191, -0.0404, -0.0267, -0.0059,  0.0026, -0.0272],\n",
              "                     device='cuda:0')),\n",
              "             ('conv_block_2.0.weight',\n",
              "              tensor([[[[ 0.0120,  0.0233, -0.0115],\n",
              "                        [-0.0209, -0.0143, -0.0369],\n",
              "                        [-0.0189, -0.0067, -0.0268]],\n",
              "              \n",
              "                       [[-0.0067,  0.0201, -0.0015],\n",
              "                        [-0.0276,  0.0197,  0.0028],\n",
              "                        [ 0.0380, -0.0191,  0.0381]],\n",
              "              \n",
              "                       [[ 0.0183, -0.0111,  0.0039],\n",
              "                        [-0.0291,  0.0033, -0.0056],\n",
              "                        [-0.0183, -0.0191, -0.0210]],\n",
              "              \n",
              "                       ...,\n",
              "              \n",
              "                       [[-0.0107, -0.0182,  0.0053],\n",
              "                        [-0.0049, -0.0019, -0.0337],\n",
              "                        [-0.0285,  0.0308,  0.0045]],\n",
              "              \n",
              "                       [[ 0.0371, -0.0001, -0.0017],\n",
              "                        [ 0.0301,  0.0218,  0.0148],\n",
              "                        [-0.0229,  0.0050,  0.0361]],\n",
              "              \n",
              "                       [[-0.0121, -0.0323, -0.0018],\n",
              "                        [ 0.0167, -0.0224,  0.0138],\n",
              "                        [ 0.0053, -0.0039, -0.0141]]],\n",
              "              \n",
              "              \n",
              "                      [[[ 0.0114, -0.0408,  0.0031],\n",
              "                        [ 0.0073,  0.0398, -0.0256],\n",
              "                        [-0.0319,  0.0098,  0.0237]],\n",
              "              \n",
              "                       [[-0.0239, -0.0075,  0.0336],\n",
              "                        [-0.0406,  0.0163,  0.0216],\n",
              "                        [ 0.0244, -0.0337,  0.0091]],\n",
              "              \n",
              "                       [[-0.0161, -0.0219, -0.0355],\n",
              "                        [ 0.0294,  0.0229,  0.0216],\n",
              "                        [-0.0096,  0.0208, -0.0216]],\n",
              "              \n",
              "                       ...,\n",
              "              \n",
              "                       [[-0.0371, -0.0395, -0.0056],\n",
              "                        [ 0.0051,  0.0016, -0.0083],\n",
              "                        [-0.0133, -0.0238, -0.0274]],\n",
              "              \n",
              "                       [[-0.0300,  0.0409,  0.0154],\n",
              "                        [-0.0330, -0.0001, -0.0052],\n",
              "                        [-0.0040, -0.0117,  0.0264]],\n",
              "              \n",
              "                       [[-0.0275,  0.0127, -0.0062],\n",
              "                        [ 0.0397, -0.0338, -0.0028],\n",
              "                        [ 0.0016,  0.0177, -0.0006]]],\n",
              "              \n",
              "              \n",
              "                      [[[ 0.0130, -0.0103, -0.0041],\n",
              "                        [-0.0078,  0.0074, -0.0323],\n",
              "                        [ 0.0295, -0.0051,  0.0326]],\n",
              "              \n",
              "                       [[-0.0040,  0.0303, -0.0244],\n",
              "                        [ 0.0291, -0.0122, -0.0378],\n",
              "                        [-0.0262,  0.0053, -0.0368]],\n",
              "              \n",
              "                       [[-0.0256, -0.0259,  0.0076],\n",
              "                        [-0.0216,  0.0303,  0.0054],\n",
              "                        [ 0.0216, -0.0052, -0.0174]],\n",
              "              \n",
              "                       ...,\n",
              "              \n",
              "                       [[-0.0011, -0.0018, -0.0348],\n",
              "                        [-0.0033,  0.0161,  0.0082],\n",
              "                        [-0.0149, -0.0095, -0.0403]],\n",
              "              \n",
              "                       [[-0.0028,  0.0352, -0.0411],\n",
              "                        [ 0.0116,  0.0075,  0.0066],\n",
              "                        [ 0.0087, -0.0092,  0.0405]],\n",
              "              \n",
              "                       [[-0.0302,  0.0259, -0.0411],\n",
              "                        [ 0.0015,  0.0191,  0.0089],\n",
              "                        [ 0.0378,  0.0262,  0.0062]]],\n",
              "              \n",
              "              \n",
              "                      ...,\n",
              "              \n",
              "              \n",
              "                      [[[ 0.0090,  0.0217,  0.0080],\n",
              "                        [-0.0256,  0.0245,  0.0150],\n",
              "                        [ 0.0086, -0.0104,  0.0225]],\n",
              "              \n",
              "                       [[ 0.0101, -0.0022, -0.0178],\n",
              "                        [ 0.0019,  0.0363, -0.0391],\n",
              "                        [ 0.0354, -0.0062, -0.0348]],\n",
              "              \n",
              "                       [[ 0.0397, -0.0321, -0.0290],\n",
              "                        [-0.0305,  0.0091,  0.0114],\n",
              "                        [-0.0115,  0.0150, -0.0119]],\n",
              "              \n",
              "                       ...,\n",
              "              \n",
              "                       [[-0.0369,  0.0186,  0.0296],\n",
              "                        [-0.0255, -0.0208,  0.0393],\n",
              "                        [-0.0343,  0.0312, -0.0228]],\n",
              "              \n",
              "                       [[-0.0413, -0.0234,  0.0051],\n",
              "                        [ 0.0055,  0.0126, -0.0079],\n",
              "                        [-0.0217, -0.0343, -0.0226]],\n",
              "              \n",
              "                       [[-0.0161,  0.0138, -0.0156],\n",
              "                        [-0.0276,  0.0377,  0.0325],\n",
              "                        [ 0.0018, -0.0229,  0.0051]]],\n",
              "              \n",
              "              \n",
              "                      [[[ 0.0189, -0.0193,  0.0033],\n",
              "                        [-0.0164,  0.0389,  0.0407],\n",
              "                        [ 0.0339, -0.0415, -0.0347]],\n",
              "              \n",
              "                       [[-0.0380, -0.0136, -0.0387],\n",
              "                        [-0.0049, -0.0255,  0.0094],\n",
              "                        [-0.0183, -0.0092,  0.0259]],\n",
              "              \n",
              "                       [[-0.0377, -0.0299, -0.0216],\n",
              "                        [ 0.0130,  0.0313,  0.0336],\n",
              "                        [ 0.0080, -0.0211,  0.0053]],\n",
              "              \n",
              "                       ...,\n",
              "              \n",
              "                       [[-0.0095, -0.0043,  0.0384],\n",
              "                        [-0.0114,  0.0316,  0.0383],\n",
              "                        [-0.0347, -0.0054,  0.0155]],\n",
              "              \n",
              "                       [[ 0.0176, -0.0355,  0.0225],\n",
              "                        [ 0.0133, -0.0387, -0.0270],\n",
              "                        [-0.0220, -0.0343, -0.0139]],\n",
              "              \n",
              "                       [[ 0.0397, -0.0127, -0.0262],\n",
              "                        [-0.0099,  0.0014, -0.0129],\n",
              "                        [ 0.0146, -0.0331, -0.0290]]],\n",
              "              \n",
              "              \n",
              "                      [[[-0.0357, -0.0132,  0.0328],\n",
              "                        [ 0.0408, -0.0358,  0.0014],\n",
              "                        [ 0.0003, -0.0230,  0.0161]],\n",
              "              \n",
              "                       [[ 0.0242,  0.0344,  0.0173],\n",
              "                        [ 0.0345, -0.0004, -0.0139],\n",
              "                        [-0.0379, -0.0071,  0.0053]],\n",
              "              \n",
              "                       [[-0.0016, -0.0212,  0.0222],\n",
              "                        [ 0.0366,  0.0338, -0.0414],\n",
              "                        [-0.0400,  0.0112,  0.0160]],\n",
              "              \n",
              "                       ...,\n",
              "              \n",
              "                       [[ 0.0261, -0.0079,  0.0314],\n",
              "                        [ 0.0349, -0.0167,  0.0038],\n",
              "                        [ 0.0092,  0.0221, -0.0080]],\n",
              "              \n",
              "                       [[-0.0299, -0.0141,  0.0346],\n",
              "                        [-0.0413,  0.0215,  0.0377],\n",
              "                        [ 0.0393,  0.0142, -0.0136]],\n",
              "              \n",
              "                       [[ 0.0323,  0.0052, -0.0192],\n",
              "                        [-0.0402,  0.0309, -0.0048],\n",
              "                        [-0.0303,  0.0129,  0.0367]]]], device='cuda:0')),\n",
              "             ('conv_block_2.0.bias',\n",
              "              tensor([ 2.2465e-03, -3.8476e-03, -3.6868e-02, -2.7664e-02,  3.3099e-02,\n",
              "                       2.6677e-02,  3.9323e-03,  3.8548e-02, -2.0441e-02,  6.4790e-05,\n",
              "                       3.2599e-02, -2.2503e-02,  4.1563e-02,  2.2867e-02, -2.1547e-02,\n",
              "                       3.4647e-02,  3.8660e-02, -1.4217e-02,  1.2717e-02, -2.6085e-02,\n",
              "                       3.1804e-02,  2.0027e-02,  1.6186e-02, -3.3961e-02,  1.5954e-02,\n",
              "                       1.7601e-02, -3.1913e-02, -1.4290e-02, -3.9685e-02,  5.5671e-03,\n",
              "                      -4.0857e-02,  1.0763e-02, -3.8712e-02, -1.2059e-03,  3.3500e-03,\n",
              "                      -1.7917e-02, -2.1424e-02, -2.4273e-02, -1.4821e-02, -1.4095e-02,\n",
              "                       1.4837e-02,  3.7858e-02,  1.4381e-02,  2.6500e-02,  3.6988e-02,\n",
              "                       3.9431e-02, -1.8161e-02, -3.4956e-02,  2.7843e-02, -2.8833e-02,\n",
              "                      -1.6223e-02, -2.9179e-02, -3.4204e-02, -4.1570e-02,  2.2557e-02,\n",
              "                      -2.7300e-02,  3.5882e-02, -4.7317e-03,  7.9936e-03, -3.5618e-02,\n",
              "                       3.7130e-03, -2.5049e-02,  2.0020e-02,  2.6023e-02], device='cuda:0')),\n",
              "             ('conv_block_2.2.weight',\n",
              "              tensor([[[[ 0.0023, -0.0332,  0.0046],\n",
              "                        [-0.0169,  0.0321, -0.0284],\n",
              "                        [ 0.0249,  0.0329, -0.0090]],\n",
              "              \n",
              "                       [[ 0.0066,  0.0247, -0.0398],\n",
              "                        [-0.0177, -0.0149,  0.0244],\n",
              "                        [-0.0273, -0.0342,  0.0191]],\n",
              "              \n",
              "                       [[-0.0225,  0.0097, -0.0338],\n",
              "                        [ 0.0356,  0.0002, -0.0285],\n",
              "                        [ 0.0138,  0.0336, -0.0199]],\n",
              "              \n",
              "                       ...,\n",
              "              \n",
              "                       [[ 0.0028,  0.0019,  0.0107],\n",
              "                        [-0.0414, -0.0326, -0.0075],\n",
              "                        [ 0.0181,  0.0183, -0.0017]],\n",
              "              \n",
              "                       [[ 0.0230,  0.0286,  0.0319],\n",
              "                        [-0.0325,  0.0270, -0.0359],\n",
              "                        [ 0.0093,  0.0157,  0.0147]],\n",
              "              \n",
              "                       [[-0.0038, -0.0180, -0.0082],\n",
              "                        [-0.0265,  0.0016, -0.0182],\n",
              "                        [ 0.0102,  0.0084,  0.0018]]],\n",
              "              \n",
              "              \n",
              "                      [[[-0.0059,  0.0085, -0.0416],\n",
              "                        [-0.0006, -0.0005, -0.0321],\n",
              "                        [-0.0337,  0.0066, -0.0075]],\n",
              "              \n",
              "                       [[ 0.0350, -0.0411,  0.0257],\n",
              "                        [-0.0318,  0.0412, -0.0402],\n",
              "                        [-0.0323,  0.0242,  0.0066]],\n",
              "              \n",
              "                       [[ 0.0278, -0.0297,  0.0107],\n",
              "                        [-0.0013,  0.0088, -0.0360],\n",
              "                        [-0.0216,  0.0223, -0.0158]],\n",
              "              \n",
              "                       ...,\n",
              "              \n",
              "                       [[ 0.0142, -0.0159,  0.0211],\n",
              "                        [-0.0053, -0.0349,  0.0304],\n",
              "                        [ 0.0334, -0.0152,  0.0239]],\n",
              "              \n",
              "                       [[ 0.0339, -0.0106,  0.0307],\n",
              "                        [-0.0042,  0.0270,  0.0010],\n",
              "                        [-0.0380,  0.0155, -0.0012]],\n",
              "              \n",
              "                       [[ 0.0156,  0.0282,  0.0106],\n",
              "                        [ 0.0320,  0.0152, -0.0117],\n",
              "                        [-0.0392,  0.0031,  0.0006]]],\n",
              "              \n",
              "              \n",
              "                      [[[ 0.0124, -0.0135,  0.0130],\n",
              "                        [-0.0060,  0.0187, -0.0318],\n",
              "                        [-0.0279,  0.0404,  0.0173]],\n",
              "              \n",
              "                       [[ 0.0337,  0.0282,  0.0336],\n",
              "                        [-0.0119,  0.0301, -0.0404],\n",
              "                        [-0.0376,  0.0138, -0.0390]],\n",
              "              \n",
              "                       [[-0.0122, -0.0264,  0.0196],\n",
              "                        [-0.0385,  0.0091, -0.0208],\n",
              "                        [-0.0219,  0.0178, -0.0007]],\n",
              "              \n",
              "                       ...,\n",
              "              \n",
              "                       [[ 0.0365, -0.0026,  0.0259],\n",
              "                        [-0.0377,  0.0039,  0.0158],\n",
              "                        [-0.0050,  0.0266,  0.0385]],\n",
              "              \n",
              "                       [[ 0.0322,  0.0068,  0.0195],\n",
              "                        [ 0.0272,  0.0059,  0.0200],\n",
              "                        [ 0.0314,  0.0387, -0.0332]],\n",
              "              \n",
              "                       [[-0.0194, -0.0081, -0.0357],\n",
              "                        [ 0.0322, -0.0024,  0.0180],\n",
              "                        [-0.0217, -0.0220,  0.0157]]],\n",
              "              \n",
              "              \n",
              "                      ...,\n",
              "              \n",
              "              \n",
              "                      [[[ 0.0399,  0.0044,  0.0395],\n",
              "                        [-0.0178, -0.0176,  0.0354],\n",
              "                        [-0.0194,  0.0074, -0.0254]],\n",
              "              \n",
              "                       [[-0.0329, -0.0408,  0.0205],\n",
              "                        [ 0.0346, -0.0222, -0.0037],\n",
              "                        [ 0.0282,  0.0099, -0.0325]],\n",
              "              \n",
              "                       [[ 0.0301,  0.0085, -0.0042],\n",
              "                        [-0.0107,  0.0207,  0.0355],\n",
              "                        [-0.0289,  0.0359,  0.0341]],\n",
              "              \n",
              "                       ...,\n",
              "              \n",
              "                       [[ 0.0041,  0.0333,  0.0406],\n",
              "                        [ 0.0336, -0.0244,  0.0024],\n",
              "                        [-0.0320,  0.0052, -0.0074]],\n",
              "              \n",
              "                       [[ 0.0069, -0.0138,  0.0132],\n",
              "                        [-0.0012, -0.0252, -0.0078],\n",
              "                        [ 0.0197,  0.0219,  0.0076]],\n",
              "              \n",
              "                       [[-0.0282, -0.0249,  0.0062],\n",
              "                        [ 0.0124,  0.0186,  0.0248],\n",
              "                        [-0.0022,  0.0415, -0.0080]]],\n",
              "              \n",
              "              \n",
              "                      [[[ 0.0414, -0.0138,  0.0150],\n",
              "                        [ 0.0403, -0.0353, -0.0374],\n",
              "                        [ 0.0310,  0.0118, -0.0389]],\n",
              "              \n",
              "                       [[ 0.0412,  0.0053,  0.0116],\n",
              "                        [-0.0230, -0.0147,  0.0366],\n",
              "                        [ 0.0208,  0.0353,  0.0159]],\n",
              "              \n",
              "                       [[ 0.0134,  0.0274, -0.0224],\n",
              "                        [ 0.0378, -0.0186,  0.0154],\n",
              "                        [ 0.0170,  0.0251, -0.0354]],\n",
              "              \n",
              "                       ...,\n",
              "              \n",
              "                       [[-0.0361,  0.0135, -0.0261],\n",
              "                        [ 0.0188, -0.0240,  0.0293],\n",
              "                        [-0.0004, -0.0038,  0.0413]],\n",
              "              \n",
              "                       [[ 0.0256,  0.0109,  0.0185],\n",
              "                        [ 0.0181,  0.0226, -0.0032],\n",
              "                        [ 0.0112, -0.0183, -0.0395]],\n",
              "              \n",
              "                       [[-0.0023, -0.0205,  0.0049],\n",
              "                        [-0.0341, -0.0056,  0.0196],\n",
              "                        [-0.0146, -0.0198,  0.0059]]],\n",
              "              \n",
              "              \n",
              "                      [[[ 0.0372, -0.0063,  0.0039],\n",
              "                        [-0.0210, -0.0281,  0.0287],\n",
              "                        [-0.0323,  0.0291,  0.0396]],\n",
              "              \n",
              "                       [[-0.0115,  0.0172, -0.0263],\n",
              "                        [-0.0405,  0.0131,  0.0259],\n",
              "                        [ 0.0258, -0.0225, -0.0136]],\n",
              "              \n",
              "                       [[-0.0140,  0.0084,  0.0010],\n",
              "                        [-0.0070, -0.0250,  0.0318],\n",
              "                        [-0.0173,  0.0124,  0.0023]],\n",
              "              \n",
              "                       ...,\n",
              "              \n",
              "                       [[-0.0081,  0.0112,  0.0300],\n",
              "                        [-0.0358,  0.0098, -0.0351],\n",
              "                        [-0.0156,  0.0038,  0.0290]],\n",
              "              \n",
              "                       [[-0.0340,  0.0029,  0.0063],\n",
              "                        [ 0.0267,  0.0229,  0.0391],\n",
              "                        [-0.0098,  0.0402, -0.0104]],\n",
              "              \n",
              "                       [[ 0.0006,  0.0171, -0.0358],\n",
              "                        [ 0.0224, -0.0073,  0.0009],\n",
              "                        [ 0.0059, -0.0247,  0.0399]]]], device='cuda:0')),\n",
              "             ('conv_block_2.2.bias',\n",
              "              tensor([ 0.0303, -0.0264,  0.0374,  0.0089,  0.0143, -0.0348,  0.0349, -0.0284,\n",
              "                      -0.0237, -0.0048, -0.0377, -0.0276,  0.0084, -0.0230,  0.0266,  0.0209,\n",
              "                      -0.0152,  0.0023,  0.0021, -0.0281, -0.0392,  0.0359,  0.0360,  0.0342,\n",
              "                       0.0092,  0.0207,  0.0098,  0.0114, -0.0174,  0.0228, -0.0301,  0.0013,\n",
              "                      -0.0118, -0.0038,  0.0062,  0.0067,  0.0404,  0.0162,  0.0345,  0.0353,\n",
              "                      -0.0182, -0.0363, -0.0288, -0.0296,  0.0345, -0.0232, -0.0159, -0.0014,\n",
              "                      -0.0094,  0.0330,  0.0029,  0.0051, -0.0339,  0.0367,  0.0018, -0.0145,\n",
              "                      -0.0243, -0.0021, -0.0085, -0.0211,  0.0172, -0.0257, -0.0245, -0.0308],\n",
              "                     device='cuda:0')),\n",
              "             ('classifier.1.weight',\n",
              "              tensor([[ 0.0034, -0.0124, -0.0172,  ...,  0.0109,  0.0018,  0.0175],\n",
              "                      [-0.0119, -0.0175,  0.0018,  ...,  0.0014, -0.0042,  0.0141],\n",
              "                      [-0.0175,  0.0068,  0.0067,  ..., -0.0095, -0.0070,  0.0026],\n",
              "                      ...,\n",
              "                      [ 0.0010,  0.0050, -0.0116,  ...,  0.0165, -0.0114, -0.0022],\n",
              "                      [ 0.0048,  0.0027, -0.0149,  ...,  0.0138, -0.0156,  0.0138],\n",
              "                      [ 0.0057,  0.0055,  0.0098,  ..., -0.0029, -0.0117,  0.0036]],\n",
              "                     device='cuda:0')),\n",
              "             ('classifier.1.bias',\n",
              "              tensor([ 0.0109,  0.0174,  0.0159,  0.0022, -0.0166,  0.0156,  0.0096,  0.0074,\n",
              "                       0.0039,  0.0019], device='cuda:0'))])"
            ]
          },
          "execution_count": 23,
          "metadata": {},
          "output_type": "execute_result"
        }
      ],
      "source": [
        "# Check out the model state dict to find out what patterns our model wants to learn\n",
        "model.state_dict()"
      ]
    },
    {
      "cell_type": "code",
      "execution_count": 24,
      "metadata": {
        "colab": {
          "base_uri": "https://localhost:8080/"
        },
        "id": "OaFBPzUVGFDK",
        "outputId": "441d1b80-9cbc-460e-b0c6-80a8dd3da4f9"
      },
      "outputs": [
        {
          "data": {
            "text/plain": [
              "tensor([[ 0.0266, -0.0112,  0.0442, -0.0233, -0.0088, -0.0254,  0.0008, -0.0010,\n",
              "          0.0040,  0.0007]], device='cuda:0', grad_fn=<AddmmBackward0>)"
            ]
          },
          "execution_count": 24,
          "metadata": {},
          "output_type": "execute_result"
        }
      ],
      "source": [
        "# Try a dummy forward pass to see what shapes our data is\n",
        "dummy_x = torch.rand(size=(1, 28, 28)).unsqueeze(dim=0).to(device)\n",
        "# dummy_x.shape\n",
        "model(dummy_x)"
      ]
    },
    {
      "cell_type": "code",
      "execution_count": 25,
      "metadata": {
        "colab": {
          "base_uri": "https://localhost:8080/"
        },
        "id": "7XzsswFyGKLU",
        "outputId": "6309e0bf-0f57-4f0c-8c45-3d084a05738c"
      },
      "outputs": [
        {
          "data": {
            "text/plain": [
              "torch.Size([1, 10, 7, 7])"
            ]
          },
          "execution_count": 25,
          "metadata": {},
          "output_type": "execute_result"
        }
      ],
      "source": [
        "dummy_x_2 = torch.rand(size=([1, 10, 7, 7]))\n",
        "dummy_x_2.shape"
      ]
    },
    {
      "cell_type": "code",
      "execution_count": 26,
      "metadata": {
        "colab": {
          "base_uri": "https://localhost:8080/"
        },
        "id": "I_Ohr7WoGMrx",
        "outputId": "172c803e-d4b4-4356-fce3-a000f2c3f641"
      },
      "outputs": [
        {
          "data": {
            "text/plain": [
              "torch.Size([1, 490])"
            ]
          },
          "execution_count": 26,
          "metadata": {},
          "output_type": "execute_result"
        }
      ],
      "source": [
        "flatten_layer = nn.Flatten()\n",
        "flatten_layer(dummy_x_2).shape"
      ]
    },
    {
      "cell_type": "markdown",
      "metadata": {
        "id": "sf_3zUr7xlhy"
      },
      "source": [
        "## 9. Train the model you built in exercise 8. for 5 epochs on CPU and GPU and see how long it takes on each."
      ]
    },
    {
      "cell_type": "code",
      "execution_count": 27,
      "metadata": {
        "colab": {
          "base_uri": "https://localhost:8080/",
          "height": 170,
          "referenced_widgets": [
            "52430ff194004ef788c446dba3ffed8f",
            "e27535d66499494fa087c4b6f377f49c",
            "8e6070497ab84a999d6c933ee28db009",
            "7fabff4b6195430abf51903c2cd466a2",
            "36853260e5b24367a5a8f8abcb62df42",
            "5cfb3655ac8547c2aee0dc42abcf6098",
            "e6fb9a62e7b042d1b54e8d72ff9017d9",
            "72ff40c7855b4a6cabe14640adf4bbc9",
            "a9454db465554cc894388fbcaa9951a7",
            "05e52e8f44ba4e29939abfb1b781b184",
            "4d8b30be6fba4e4c8a7efb94c592fa93"
          ]
        },
        "id": "jSo6vVWFbNLD",
        "outputId": "ed63cca5-497f-4637-b711-2352fd453121"
      },
      "outputs": [
        {
          "data": {
            "application/vnd.jupyter.widget-view+json": {
              "model_id": "52430ff194004ef788c446dba3ffed8f",
              "version_major": 2,
              "version_minor": 0
            },
            "text/plain": [
              "  0%|          | 0/5 [00:00<?, ?it/s]"
            ]
          },
          "metadata": {},
          "output_type": "display_data"
        },
        {
          "name": "stdout",
          "output_type": "stream",
          "text": [
            "Epoch: 0 | Loss: 0.543 | Test loss: 0.101\n",
            "Epoch: 1 | Loss: 0.085 | Test loss: 0.063\n",
            "Epoch: 2 | Loss: 0.066 | Test loss: 0.059\n",
            "Epoch: 3 | Loss: 0.054 | Test loss: 0.043\n",
            "Epoch: 4 | Loss: 0.048 | Test loss: 0.046\n",
            "CPU times: user 3min 37s, sys: 1.59 s, total: 3min 39s\n",
            "Wall time: 3min 42s\n"
          ]
        }
      ],
      "source": [
        "%%time\n",
        "from tqdm.auto import tqdm\n",
        "\n",
        "# Train on CPU\n",
        "model_cpu = MNIST_model(input_shape=1,\n",
        "                        hidden_units=10,\n",
        "                        output_shape=10).to(\"cpu\")\n",
        "\n",
        "# Create a loss function and optimizer\n",
        "loss_fn = nn.CrossEntropyLoss()\n",
        "optimizer = torch.optim.SGD(model_cpu.parameters(), lr=0.1)\n",
        "\n",
        "### Training loop\n",
        "epochs = 5\n",
        "for epoch in tqdm(range(epochs)):\n",
        "  train_loss = 0\n",
        "  for batch, (X, y) in enumerate(train_dataloader):\n",
        "    model_cpu.train()\n",
        "\n",
        "    # Put data on CPU\n",
        "    X, y = X.to(\"cpu\"), y.to(\"cpu\")\n",
        "\n",
        "    # Forward pass\n",
        "    y_pred = model_cpu(X)\n",
        "\n",
        "    # Loss calculation\n",
        "    loss = loss_fn(y_pred, y)\n",
        "    train_loss += loss\n",
        "\n",
        "    # Optimizer zero grad\n",
        "    optimizer.zero_grad()\n",
        "\n",
        "    # Loss backward\n",
        "    loss.backward()\n",
        "\n",
        "    # Step the optimizer\n",
        "    optimizer.step()\n",
        "\n",
        "  # Adjust train loss for number of batches\n",
        "  train_loss /= len(train_dataloader)\n",
        "\n",
        "  ### Testing loop\n",
        "  test_loss_total = 0\n",
        "\n",
        "  # Put model in eval mode\n",
        "  model_cpu.eval()\n",
        "\n",
        "  # Turn on inference mode\n",
        "  with torch.inference_mode():\n",
        "    for batch, (X_test, y_test) in enumerate(test_dataloader):\n",
        "      # Make sure test data on CPU\n",
        "      X_test, y_test = X_test.to(\"cpu\"), y_test.to(\"cpu\")\n",
        "      test_pred = model_cpu(X_test)\n",
        "      test_loss = loss_fn(test_pred, y_test)\n",
        "\n",
        "      test_loss_total += test_loss\n",
        "\n",
        "    test_loss_total /= len(test_dataloader)\n",
        "\n",
        "  # Print out what's happening\n",
        "  print(f\"Epoch: {epoch} | Loss: {train_loss:.3f} | Test loss: {test_loss_total:.3f}\")"
      ]
    },
    {
      "cell_type": "code",
      "execution_count": 28,
      "metadata": {
        "colab": {
          "base_uri": "https://localhost:8080/",
          "height": 170,
          "referenced_widgets": [
            "31b287a701224c8da3e69db9f7fd10de",
            "9a801b531b574dad8878eb6ed3554c12",
            "ed813370b81c4b2ab90b14ba76104b29",
            "95f39a7fa06c49fe8e6cd4e2966ca47d",
            "1743f27aa7174794982aff03f9b01aa9",
            "91627a3b9b354bf68fa372ac144d027b",
            "53e2d66e96e1478e854bb562bbf0c29f",
            "73781ecdd4504b73a93cd39a771345d4",
            "f8197cad740b470d990cdd5136ab2257",
            "bf16438866284d538ac3a20f54d3efb0",
            "ab43e5dabebb4b07b8e0c84685966be3"
          ]
        },
        "id": "Q2PDRg2yGfaw",
        "outputId": "2ea0f677-2a83-436c-dfda-8a3358b9012b"
      },
      "outputs": [
        {
          "data": {
            "application/vnd.jupyter.widget-view+json": {
              "model_id": "31b287a701224c8da3e69db9f7fd10de",
              "version_major": 2,
              "version_minor": 0
            },
            "text/plain": [
              "  0%|          | 0/5 [00:00<?, ?it/s]"
            ]
          },
          "metadata": {},
          "output_type": "display_data"
        },
        {
          "name": "stdout",
          "output_type": "stream",
          "text": [
            "Epoch: 0 | Loss: 0.320 | Test loss: 0.085\n",
            "Epoch: 1 | Loss: 0.073 | Test loss: 0.054\n",
            "Epoch: 2 | Loss: 0.056 | Test loss: 0.047\n",
            "Epoch: 3 | Loss: 0.048 | Test loss: 0.037\n",
            "Epoch: 4 | Loss: 0.040 | Test loss: 0.045\n",
            "CPU times: user 1min 2s, sys: 635 ms, total: 1min 3s\n",
            "Wall time: 1min 7s\n"
          ]
        }
      ],
      "source": [
        "%%time\n",
        "from tqdm.auto import tqdm\n",
        "\n",
        "device = \"cuda\" if torch.cuda.is_available() else \"cpu\"\n",
        "\n",
        "# Train on GPU\n",
        "model_gpu = MNIST_model(input_shape=1,\n",
        "                        hidden_units=10,\n",
        "                        output_shape=10).to(device)\n",
        "\n",
        "# Create a loss function and optimizer\n",
        "loss_fn = nn.CrossEntropyLoss()\n",
        "optimizer = torch.optim.SGD(model_gpu.parameters(), lr=0.1)\n",
        "\n",
        "# Training loop\n",
        "epochs = 5\n",
        "for epoch in tqdm(range(epochs)):\n",
        "  train_loss = 0\n",
        "  model_gpu.train()\n",
        "  for batch, (X, y) in enumerate(train_dataloader):\n",
        "    # Put data on target device\n",
        "    X, y = X.to(device), y.to(device)\n",
        "\n",
        "    # Forward pass\n",
        "    y_pred = model_gpu(X)\n",
        "\n",
        "    # Loss calculation\n",
        "    loss = loss_fn(y_pred, y)\n",
        "    train_loss += loss\n",
        "\n",
        "    # Optimizer zero grad\n",
        "    optimizer.zero_grad()\n",
        "\n",
        "    # Loss backward\n",
        "    loss.backward()\n",
        "\n",
        "    # Step the optimizer\n",
        "    optimizer.step()\n",
        "\n",
        "  # Adjust train loss to number of batches\n",
        "  train_loss /= len(train_dataloader)\n",
        "\n",
        "  ### Testing loop\n",
        "  test_loss_total = 0\n",
        "  # Put model in eval mode and turn on inference mode\n",
        "  model_gpu.eval()\n",
        "  with torch.inference_mode():\n",
        "    for batch, (X_test, y_test) in enumerate(test_dataloader):\n",
        "      # Make sure test data on target device\n",
        "      X_test, y_test = X_test.to(device), y_test.to(device)\n",
        "\n",
        "      test_pred = model_gpu(X_test)\n",
        "      test_loss = loss_fn(test_pred, y_test)\n",
        "\n",
        "      test_loss_total += test_loss\n",
        "\n",
        "    # Adjust test loss total for number of batches\n",
        "    test_loss_total /= len(test_dataloader)\n",
        "\n",
        "  # Print out what's happening\n",
        "  print(f\"Epoch: {epoch} | Loss: {train_loss:.3f} | Test loss: {test_loss_total:.3f}\")"
      ]
    },
    {
      "cell_type": "markdown",
      "metadata": {
        "id": "w1CsHhPpxp1w"
      },
      "source": [
        "## 10. Make predictions using your trained model and visualize at least 5 of them comparing the prediciton to the target label."
      ]
    },
    {
      "cell_type": "code",
      "execution_count": 29,
      "metadata": {
        "colab": {
          "base_uri": "https://localhost:8080/",
          "height": 447
        },
        "id": "_YGgZvSobNxu",
        "outputId": "9213299e-300d-476f-960d-52301de33600"
      },
      "outputs": [
        {
          "data": {
            "text/plain": [
              "<matplotlib.image.AxesImage at 0x7f3851620970>"
            ]
          },
          "execution_count": 29,
          "metadata": {},
          "output_type": "execute_result"
        },
        {
          "data": {
            "image/png": "[encoded data removed]",
            "text/plain": [
              "<Figure size 640x480 with 1 Axes>"
            ]
          },
          "metadata": {},
          "output_type": "display_data"
        }
      ],
      "source": [
        "# Make predictions with the trained model\n",
        "plt.imshow(test_data[0][0].squeeze(), cmap=\"gray\")"
      ]
    },
    {
      "cell_type": "code",
      "execution_count": 30,
      "metadata": {
        "colab": {
          "base_uri": "https://localhost:8080/"
        },
        "id": "XiZ1iVySHcIO",
        "outputId": "4010ffa9-f8b5-4363-987f-b5a73d645235"
      },
      "outputs": [
        {
          "data": {
            "text/plain": [
              "tensor([7], device='cuda:0')"
            ]
          },
          "execution_count": 30,
          "metadata": {},
          "output_type": "execute_result"
        }
      ],
      "source": [
        "# Logits -> Prediction probabilities -> Prediction labels\n",
        "model_pred_logits = model_gpu(test_data[0][0].unsqueeze(dim=0).to(device)) # make sure image is right shape + on right device\n",
        "model_pred_probs = torch.softmax(model_pred_logits, dim=1)\n",
        "model_pred_label = torch.argmax(model_pred_probs, dim=1)\n",
        "model_pred_label"
      ]
    },
    {
      "cell_type": "code",
      "execution_count": 31,
      "metadata": {
        "colab": {
          "base_uri": "https://localhost:8080/",
          "height": 1000
        },
        "id": "agXU9xgiHcl7",
        "outputId": "aee5b001-c8b7-4ced-d513-709a165a7863"
      },
      "outputs": [
        {
          "data": {
            "image/png": "[encoded data removed]",
            "text/plain": [
              "<Figure size 640x480 with 1 Axes>"
            ]
          },
          "metadata": {},
          "output_type": "display_data"
        },
        {
          "data": {
            "image/png": "[encoded data removed]",
            "text/plain": [
              "<Figure size 640x480 with 1 Axes>"
            ]
          },
          "metadata": {},
          "output_type": "display_data"
        },
        {
          "data": {
            "image/png": "[encoded data removed]",
            "text/plain": [
              "<Figure size 640x480 with 1 Axes>"
            ]
          },
          "metadata": {},
          "output_type": "display_data"
        },
        {
          "data": {
            "image/png": "[encoded data removed]",
            "text/plain": [
              "<Figure size 640x480 with 1 Axes>"
            ]
          },
          "metadata": {},
          "output_type": "display_data"
        },
        {
          "data": {
            "image/png": "[encoded data removed]",
            "text/plain": [
              "<Figure size 640x480 with 1 Axes>"
            ]
          },
          "metadata": {},
          "output_type": "display_data"
        }
      ],
      "source": [
        "num_to_plot = 5\n",
        "for i in range(num_to_plot):\n",
        "  # Get image and labels from the test data\n",
        "  img = test_data[i][0]\n",
        "  label = test_data[i][1]\n",
        "\n",
        "  # Make prediction on image\n",
        "  model_pred_logits = model_gpu(img.unsqueeze(dim=0).to(device))\n",
        "  model_pred_probs = torch.softmax(model_pred_logits, dim=1)\n",
        "  model_pred_label = torch.argmax(model_pred_probs, dim=1)\n",
        "\n",
        "  # Plot the image and prediction\n",
        "  plt.figure()\n",
        "  plt.imshow(img.squeeze(), cmap=\"gray\")\n",
        "  plt.title(f\"Truth: {label} | Pred: {model_pred_label.cpu().item()}\")\n",
        "  plt.axis(False);"
      ]
    },
    {
      "cell_type": "markdown",
      "metadata": {
        "id": "qQwzqlBWxrpG"
      },
      "source": [
        "## 11. Plot a confusion matrix comparing your model's predictions to the truth labels."
      ]
    },
    {
      "cell_type": "code",
      "execution_count": 32,
      "metadata": {
        "colab": {
          "base_uri": "https://localhost:8080/"
        },
        "id": "vSrXiT_AbQ6e",
        "outputId": "598380e6-b496-421d-d1b9-d5087598cef1"
      },
      "outputs": [
        {
          "name": "stdout",
          "output_type": "stream",
          "text": [
            "\u001b[2K     \u001b[90m━━━━━━━━━━━━━━━━━━━━━━━━━━━━━━━━━━━━━━━━\u001b[0m \u001b[32m840.4/840.4 kB\u001b[0m \u001b[31m5.7 MB/s\u001b[0m eta \u001b[36m0:00:00\u001b[0m\n",
            "\u001b[2K     \u001b[90m━━━━━━━━━━━━━━━━━━━━━━━━━━━━━━━━━━━━━━━━\u001b[0m \u001b[32m1.4/1.4 MB\u001b[0m \u001b[31m27.8 MB/s\u001b[0m eta \u001b[36m0:00:00\u001b[0m\n",
            "\u001b[?25hmlxtend version: 0.23.1\n"
          ]
        }
      ],
      "source": [
        "# See if torchmetrics exists, if not, install it\n",
        "try:\n",
        "    import torchmetrics, mlxtend\n",
        "    print(f\"mlxtend version: {mlxtend.__version__}\")\n",
        "    assert int(mlxtend.__version__.split(\".\")[1]) >= 19, \"mlxtend verison should be 0.19.0 or higher\"\n",
        "except:\n",
        "    !pip install -q torchmetrics -U mlxtend # <- Note: If you're using Google Colab, this may require restarting the runtime\n",
        "    import torchmetrics, mlxtend\n",
        "    print(f\"mlxtend version: {mlxtend.__version__}\")"
      ]
    },
    {
      "cell_type": "code",
      "execution_count": 33,
      "metadata": {
        "colab": {
          "base_uri": "https://localhost:8080/"
        },
        "id": "7R1T9t3PHtH2",
        "outputId": "a896d5c6-557d-4d01-903d-9f09a57df9a3"
      },
      "outputs": [
        {
          "name": "stdout",
          "output_type": "stream",
          "text": [
            "0.23.1\n"
          ]
        }
      ],
      "source": [
        "# Import mlxtend upgraded version\n",
        "import mlxtend\n",
        "print(mlxtend.__version__)\n",
        "assert int(mlxtend.__version__.split(\".\")[1]) >= 19 # should be version 0.19.0 or higher"
      ]
    },
    {
      "cell_type": "code",
      "execution_count": 34,
      "metadata": {
        "colab": {
          "base_uri": "https://localhost:8080/",
          "height": 66,
          "referenced_widgets": [
            "7c1cf1ad9fc141979fb4df9eafb17463",
            "bea2983c20274c7996f031db041e911a",
            "6810102837eb40709c5717ad1c5955fc",
            "56657a7fea7f492e88d041ec5a8e1670",
            "233811649edb430faed898ab665dfc7f",
            "a9be15c42ca5479dbd1340680811ac58",
            "2bb3d2386928447caea2d9aa54937776",
            "9a6734a2e1dd4c59bcfe22305e829dbc",
            "da7b0c5a83ea45d58a6a9a829db5cf6c",
            "48317a167b814450a99da814edb108b0",
            "493e05d9d26a4acbad72ea277ec3339e"
          ]
        },
        "id": "OQuT3i_THw-w",
        "outputId": "db7290a6-581a-4f67-9666-36943a363f39"
      },
      "outputs": [
        {
          "data": {
            "application/vnd.jupyter.widget-view+json": {
              "model_id": "7c1cf1ad9fc141979fb4df9eafb17463",
              "version_major": 2,
              "version_minor": 0
            },
            "text/plain": [
              "0it [00:00, ?it/s]"
            ]
          },
          "metadata": {},
          "output_type": "display_data"
        },
        {
          "data": {
            "text/plain": [
              "10000"
            ]
          },
          "execution_count": 34,
          "metadata": {},
          "output_type": "execute_result"
        }
      ],
      "source": [
        "# Make predictions across all test data\n",
        "from tqdm.auto import tqdm\n",
        "model_gpu.eval()\n",
        "y_preds = []\n",
        "with torch.inference_mode():\n",
        "  for batch, (X, y) in tqdm(enumerate(test_dataloader)):\n",
        "    # Make sure data on right device\n",
        "    X, y = X.to(device), y.to(device)\n",
        "    # Forward pass\n",
        "    y_pred_logits = model_gpu(X)\n",
        "    # Logits -> Pred probs -> Pred label\n",
        "    y_pred_labels = torch.argmax(torch.softmax(y_pred_logits, dim=1), dim=1)\n",
        "    # Append the labels to the preds list\n",
        "    y_preds.append(y_pred_labels)\n",
        "  y_preds=torch.cat(y_preds).cpu()\n",
        "len(y_preds)"
      ]
    },
    {
      "cell_type": "code",
      "execution_count": 35,
      "metadata": {
        "colab": {
          "base_uri": "https://localhost:8080/"
        },
        "id": "G7hpxjGuHzYA",
        "outputId": "1ea5b798-2263-44bb-e6d9-e5e370db502a"
      },
      "outputs": [
        {
          "data": {
            "text/plain": [
              "(tensor([7, 2, 1, 0, 4, 1, 4, 9, 5, 9]),\n",
              " tensor([7, 2, 1, 0, 4, 1, 4, 9, 5, 9]))"
            ]
          },
          "execution_count": 35,
          "metadata": {},
          "output_type": "execute_result"
        }
      ],
      "source": [
        "test_data.targets[:10], y_preds[:10]"
      ]
    },
    {
      "cell_type": "code",
      "execution_count": 36,
      "metadata": {
        "colab": {
          "base_uri": "https://localhost:8080/",
          "height": 660
        },
        "id": "ly2MpwiBH1-n",
        "outputId": "31c83cd2-2dbd-4b20-ddc5-3709a9d8192a"
      },
      "outputs": [
        {
          "data": {
            "image/png": "[encoded data removed]",
            "text/plain": [
              "<Figure size 1000x700 with 1 Axes>"
            ]
          },
          "metadata": {},
          "output_type": "display_data"
        }
      ],
      "source": [
        "from torchmetrics import ConfusionMatrix\n",
        "from mlxtend.plotting import plot_confusion_matrix\n",
        "\n",
        "# Setup confusion matrix\n",
        "confmat = ConfusionMatrix(task=\"multiclass\", num_classes=len(class_names))\n",
        "confmat_tensor = confmat(preds=y_preds,\n",
        "                         target=test_data.targets)\n",
        "\n",
        "# Plot the confusion matrix\n",
        "fix, ax = plot_confusion_matrix(\n",
        "    conf_mat=confmat_tensor.numpy(),\n",
        "    class_names=class_names,\n",
        "    figsize=(10, 7)\n",
        ")"
      ]
    },
    {
      "cell_type": "markdown",
      "metadata": {
        "id": "lj6bDhoWxt2y"
      },
      "source": [
        "## 12. Create a random tensor of shape `[1, 3, 64, 64]` and pass it through a `nn.Conv2d()` layer with various hyperparameter settings (these can be any settings you choose), what do you notice if the `kernel_size` parameter goes up and down?"
      ]
    },
    {
      "cell_type": "code",
      "execution_count": 37,
      "metadata": {
        "colab": {
          "base_uri": "https://localhost:8080/"
        },
        "id": "leCTsqtSbR5P",
        "outputId": "7c391a7a-f5a9-48ac-cfeb-8fa41e67b703"
      },
      "outputs": [
        {
          "data": {
            "text/plain": [
              "torch.Size([1, 3, 64, 64])"
            ]
          },
          "execution_count": 37,
          "metadata": {},
          "output_type": "execute_result"
        }
      ],
      "source": [
        "random_tensor = torch.rand([1, 3, 64, 64])\n",
        "random_tensor.shape"
      ]
    },
    {
      "cell_type": "code",
      "execution_count": 38,
      "metadata": {
        "colab": {
          "base_uri": "https://localhost:8080/"
        },
        "id": "GoiRtYmmH90V",
        "outputId": "b0ff81b2-3456-4075-ab82-abf024551802"
      },
      "outputs": [
        {
          "name": "stdout",
          "output_type": "stream",
          "text": [
            "Random tensor original shape: torch.Size([1, 3, 64, 64])\n",
            "Random tensor through conv layer shape: torch.Size([1, 64, 32, 32])\n"
          ]
        }
      ],
      "source": [
        "conv_layer = nn.Conv2d(in_channels=3,\n",
        "                       out_channels=64,\n",
        "                       kernel_size=3,\n",
        "                       stride=2,\n",
        "                       padding=1)\n",
        "\n",
        "print(f\"Random tensor original shape: {random_tensor.shape}\")\n",
        "random_tensor_through_conv_layer = conv_layer(random_tensor)\n",
        "print(f\"Random tensor through conv layer shape: {random_tensor_through_conv_layer.shape}\")"
      ]
    },
    {
      "cell_type": "markdown",
      "metadata": {
        "id": "VHS20cNTxwSi"
      },
      "source": [
        "## 13. Use a model similar to the trained `model_2` from notebook 03 to make predictions on the test [`torchvision.datasets.FashionMNIST`](https://pytorch.org/vision/main/generated/torchvision.datasets.FashionMNIST.html) dataset.\n",
        "* Then plot some predictions where the model was wrong alongside what the label of the image should've been.\n",
        "* After visualing these predictions do you think it's more of a modelling error or a data error?\n",
        "* As in, could the model do better or are the labels of the data too close to each other (e.g. a \"Shirt\" label is too close to \"T-shirt/top\")?"
      ]
    },
    {
      "cell_type": "code",
      "execution_count": 40,
      "metadata": {
        "colab": {
          "base_uri": "https://localhost:8080/"
        },
        "id": "78a8LjtdbSZj",
        "outputId": "ba307d11-fa10-4f64-aff4-af8ad04098d9"
      },
      "outputs": [
        {
          "name": "stdout",
          "output_type": "stream",
          "text": [
            "Downloading http://fashion-mnist.s3-website.eu-central-1.amazonaws.com/train-images-idx3-ubyte.gz\n",
            "Downloading http://fashion-mnist.s3-website.eu-central-1.amazonaws.com/train-images-idx3-ubyte.gz to ./Data/FashionMNIST/raw/train-images-idx3-ubyte.gz\n"
          ]
        },
        {
          "name": "stderr",
          "output_type": "stream",
          "text": [
            "100%|██████████| 26421880/26421880 [00:01<00:00, 15967757.84it/s]\n"
          ]
        },
        {
          "name": "stdout",
          "output_type": "stream",
          "text": [
            "Extracting ./Data/FashionMNIST/raw/train-images-idx3-ubyte.gz to ./Data/FashionMNIST/raw\n",
            "\n",
            "Downloading http://fashion-mnist.s3-website.eu-central-1.amazonaws.com/train-labels-idx1-ubyte.gz\n",
            "Downloading http://fashion-mnist.s3-website.eu-central-1.amazonaws.com/train-labels-idx1-ubyte.gz to ./Data/FashionMNIST/raw/train-labels-idx1-ubyte.gz\n"
          ]
        },
        {
          "name": "stderr",
          "output_type": "stream",
          "text": [
            "100%|██████████| 29515/29515 [00:00<00:00, 272437.72it/s]\n"
          ]
        },
        {
          "name": "stdout",
          "output_type": "stream",
          "text": [
            "Extracting ./Data/FashionMNIST/raw/train-labels-idx1-ubyte.gz to ./Data/FashionMNIST/raw\n",
            "\n",
            "Downloading http://fashion-mnist.s3-website.eu-central-1.amazonaws.com/t10k-images-idx3-ubyte.gz\n",
            "Downloading http://fashion-mnist.s3-website.eu-central-1.amazonaws.com/t10k-images-idx3-ubyte.gz to ./Data/FashionMNIST/raw/t10k-images-idx3-ubyte.gz\n"
          ]
        },
        {
          "name": "stderr",
          "output_type": "stream",
          "text": [
            "100%|██████████| 4422102/4422102 [00:00<00:00, 5057661.98it/s]\n"
          ]
        },
        {
          "name": "stdout",
          "output_type": "stream",
          "text": [
            "Extracting ./Data/FashionMNIST/raw/t10k-images-idx3-ubyte.gz to ./Data/FashionMNIST/raw\n",
            "\n",
            "Downloading http://fashion-mnist.s3-website.eu-central-1.amazonaws.com/t10k-labels-idx1-ubyte.gz\n",
            "Downloading http://fashion-mnist.s3-website.eu-central-1.amazonaws.com/t10k-labels-idx1-ubyte.gz to ./Data/FashionMNIST/raw/t10k-labels-idx1-ubyte.gz\n"
          ]
        },
        {
          "name": "stderr",
          "output_type": "stream",
          "text": [
            "100%|██████████| 5148/5148 [00:00<00:00, 19505218.60it/s]"
          ]
        },
        {
          "name": "stdout",
          "output_type": "stream",
          "text": [
            "Extracting ./Data/FashionMNIST/raw/t10k-labels-idx1-ubyte.gz to ./Data/FashionMNIST/raw\n",
            "\n"
          ]
        },
        {
          "name": "stderr",
          "output_type": "stream",
          "text": [
            "\n"
          ]
        },
        {
          "data": {
            "text/plain": [
              "(60000, 10000)"
            ]
          },
          "execution_count": 40,
          "metadata": {},
          "output_type": "execute_result"
        }
      ],
      "source": [
        "# Download FashionMNIST train & test\n",
        "from torchvision import datasets\n",
        "from torchvision import transforms\n",
        "\n",
        "fashion_mnist_train = datasets.FashionMNIST(root=\"./Data\",\n",
        "                                            download=True,\n",
        "                                            train=True,\n",
        "                                            transform=transforms.ToTensor())\n",
        "\n",
        "fashion_mnist_test = datasets.FashionMNIST(root=\"./Data\",\n",
        "                                           train=False,\n",
        "                                           download=True,\n",
        "                                           transform=transforms.ToTensor())\n",
        "\n",
        "len(fashion_mnist_train), len(fashion_mnist_test)"
      ]
    },
    {
      "cell_type": "code",
      "execution_count": 41,
      "metadata": {
        "colab": {
          "base_uri": "https://localhost:8080/"
        },
        "id": "lvOk96OJICaj",
        "outputId": "61022e18-5071-40a3-d7cd-89c27b391085"
      },
      "outputs": [
        {
          "data": {
            "text/plain": [
              "['T-shirt/top',\n",
              " 'Trouser',\n",
              " 'Pullover',\n",
              " 'Dress',\n",
              " 'Coat',\n",
              " 'Sandal',\n",
              " 'Shirt',\n",
              " 'Sneaker',\n",
              " 'Bag',\n",
              " 'Ankle boot']"
            ]
          },
          "execution_count": 41,
          "metadata": {},
          "output_type": "execute_result"
        }
      ],
      "source": [
        "# Get the class names of the Fashion MNIST dataset\n",
        "fashion_mnist_class_names = fashion_mnist_train.classes\n",
        "fashion_mnist_class_names"
      ]
    },
    {
      "cell_type": "code",
      "execution_count": 42,
      "metadata": {
        "colab": {
          "base_uri": "https://localhost:8080/"
        },
        "id": "MLvNnGddIIQU",
        "outputId": "a13771b4-7da6-49ba-9bb2-48c9c10ac9d7"
      },
      "outputs": [
        {
          "data": {
            "text/plain": [
              "(1875, 313)"
            ]
          },
          "execution_count": 42,
          "metadata": {},
          "output_type": "execute_result"
        }
      ],
      "source": [
        "# Turn FashionMNIST datasets into dataloaders\n",
        "from torch.utils.data import DataLoader\n",
        "\n",
        "fashion_mnist_train_dataloader = DataLoader(fashion_mnist_train,\n",
        "                                            batch_size=32,\n",
        "                                            shuffle=True)\n",
        "\n",
        "fashion_mnist_test_dataloader = DataLoader(fashion_mnist_test,\n",
        "                                           batch_size=32,\n",
        "                                           shuffle=False)\n",
        "\n",
        "len(fashion_mnist_train_dataloader), len(fashion_mnist_test_dataloader)"
      ]
    },
    {
      "cell_type": "code",
      "execution_count": 43,
      "metadata": {
        "colab": {
          "base_uri": "https://localhost:8080/"
        },
        "id": "nQ7vsyFiIJ7S",
        "outputId": "ef5b7a3c-71cb-4908-de49-65de16d0ebdd"
      },
      "outputs": [
        {
          "data": {
            "text/plain": [
              "MNIST_model(\n",
              "  (conv_block_1): Sequential(\n",
              "    (0): Conv2d(1, 10, kernel_size=(3, 3), stride=(1, 1), padding=(1, 1))\n",
              "    (1): ReLU()\n",
              "    (2): Conv2d(10, 10, kernel_size=(3, 3), stride=(1, 1), padding=(1, 1))\n",
              "    (3): ReLU()\n",
              "    (4): MaxPool2d(kernel_size=2, stride=2, padding=0, dilation=1, ceil_mode=False)\n",
              "  )\n",
              "  (conv_block_2): Sequential(\n",
              "    (0): Conv2d(10, 10, kernel_size=(3, 3), stride=(1, 1), padding=(1, 1))\n",
              "    (1): ReLU()\n",
              "    (2): Conv2d(10, 10, kernel_size=(3, 3), stride=(1, 1), padding=(1, 1))\n",
              "    (3): ReLU()\n",
              "    (4): MaxPool2d(kernel_size=2, stride=2, padding=0, dilation=1, ceil_mode=False)\n",
              "  )\n",
              "  (classifier): Sequential(\n",
              "    (0): Flatten(start_dim=1, end_dim=-1)\n",
              "    (1): Linear(in_features=490, out_features=10, bias=True)\n",
              "  )\n",
              ")"
            ]
          },
          "execution_count": 43,
          "metadata": {},
          "output_type": "execute_result"
        }
      ],
      "source": [
        "# model_2 is the same architecture as MNIST_model\n",
        "model_2 = MNIST_model(input_shape=1,\n",
        "                      hidden_units=10,\n",
        "                      output_shape=10).to(device)\n",
        "model_2"
      ]
    },
    {
      "cell_type": "code",
      "execution_count": 44,
      "metadata": {
        "id": "qEtCGm9LILbG"
      },
      "outputs": [],
      "source": [
        "# Setup loss and optimizer\n",
        "from torch import nn\n",
        "loss_fn = nn.CrossEntropyLoss()\n",
        "optimizer = torch.optim.SGD(model_2.parameters(), lr=0.01)"
      ]
    },
    {
      "cell_type": "code",
      "execution_count": 46,
      "metadata": {
        "colab": {
          "base_uri": "https://localhost:8080/",
          "height": 136,
          "referenced_widgets": [
            "a00cf19ec9cd4649a9db3fc03d3f6217",
            "0af114c6397d42c9873e06685c23ca9c",
            "75829711860540bf821b6d310d7fa95e",
            "d18a058c825542bf890fbf24df360494",
            "1a3db576165c41fea7aba39393f72188",
            "50c4402927e14ac4b2504b822e553d14",
            "7e79bd33896340559645b412797d3f12",
            "c999d5890e4a4ef3ad076e733a54d218",
            "b9f2a7f7fa1440b79b3103375be7a96a",
            "12d9c55a05134da8894c2eaed4d100db",
            "44faead6166f4304b517d629b9054478"
          ]
        },
        "id": "pPjVvTpAINZh",
        "outputId": "943f53d4-39a3-434b-fb53-c287f13e6617"
      },
      "outputs": [
        {
          "data": {
            "application/vnd.jupyter.widget-view+json": {
              "model_id": "a00cf19ec9cd4649a9db3fc03d3f6217",
              "version_major": 2,
              "version_minor": 0
            },
            "text/plain": [
              "  0%|          | 0/5 [00:00<?, ?it/s]"
            ]
          },
          "metadata": {},
          "output_type": "display_data"
        },
        {
          "name": "stdout",
          "output_type": "stream",
          "text": [
            "Epoch: 0 | Train loss: 1.437 | Train acc: 0.48 | Test loss: 212.313 | Test acc: 0.75\n",
            "Epoch: 1 | Train loss: 0.573 | Train acc: 0.79 | Test loss: 160.872 | Test acc: 0.81\n",
            "Epoch: 2 | Train loss: 0.447 | Train acc: 0.84 | Test loss: 137.992 | Test acc: 0.84\n",
            "Epoch: 3 | Train loss: 0.398 | Train acc: 0.86 | Test loss: 122.809 | Test acc: 0.86\n",
            "Epoch: 4 | Train loss: 0.370 | Train acc: 0.87 | Test loss: 133.135 | Test acc: 0.84\n"
          ]
        }
      ],
      "source": [
        "# Setup metrics\n",
        "from tqdm.auto import tqdm\n",
        "from torchmetrics import Accuracy\n",
        "\n",
        "acc_fn = Accuracy(task='multiclass',\n",
        "                  num_classes=len(fashion_mnist_class_names)).to(device)\n",
        "\n",
        "# Setup training/testing loop\n",
        "epochs = 5\n",
        "for epoch in tqdm(range(epochs)):\n",
        "  train_loss, test_loss_total = 0, 0\n",
        "  train_acc, test_acc = 0, 0\n",
        "\n",
        "  ### Training\n",
        "  model_2.train()\n",
        "  for batch, (X_train, y_train) in enumerate(fashion_mnist_train_dataloader):\n",
        "    X_train, y_train = X_train.to(device), y_train.to(device)\n",
        "\n",
        "    # Forward pass and loss\n",
        "    y_pred = model_2(X_train)\n",
        "    loss = loss_fn(y_pred, y_train)\n",
        "    train_loss += loss\n",
        "    train_acc += acc_fn(y_pred, y_train)\n",
        "\n",
        "    # Backprop and gradient descent\n",
        "    optimizer.zero_grad()\n",
        "    loss.backward()\n",
        "    optimizer.step()\n",
        "\n",
        "  # Adjust the loss/acc (find the loss/acc per epoch)\n",
        "  train_loss /= len(fashion_mnist_train_dataloader)\n",
        "  train_acc /= len(fashion_mnist_train_dataloader)\n",
        "\n",
        "  ### Testing\n",
        "  model_2.eval()\n",
        "  with torch.inference_mode():\n",
        "    for batch, (X_test, y_test) in enumerate(fashion_mnist_test_dataloader):\n",
        "      X_test, y_test = X_test.to(device), y_test.to(device)\n",
        "\n",
        "      # Forward pass and loss\n",
        "      y_pred_test = model_2(X_test)\n",
        "      test_loss = loss_fn(y_pred_test, y_test)\n",
        "      test_loss_total += test_loss\n",
        "\n",
        "      test_acc += acc_fn(y_pred_test, y_test)\n",
        "\n",
        "    # Adjust the loss/acc (find the loss/acc per epoch)\n",
        "    test_loss /= len(fashion_mnist_test_dataloader)\n",
        "    test_acc /= len(fashion_mnist_test_dataloader)\n",
        "\n",
        "  # Print out what's happening\n",
        "  print(f\"Epoch: {epoch} | Train loss: {train_loss:.3f} | Train acc: {train_acc:.2f} | Test loss: {test_loss_total:.3f} | Test acc: {test_acc:.2f}\")"
      ]
    },
    {
      "cell_type": "code",
      "execution_count": 47,
      "metadata": {
        "colab": {
          "base_uri": "https://localhost:8080/",
          "height": 66,
          "referenced_widgets": [
            "64dab955ec0d42dba2431088c849afe0",
            "07cde9153f4a46f2b302cf9e80e10459",
            "0ee65c59e07844549c20693cd6fed367",
            "6faa3d0b936640649842c3c3cb39311e",
            "38559d0ac553499cbf46871abd2d278a",
            "bbbd5187d0ce48cabf74b82bc0ef50f8",
            "aaddd228e751445b99f63f71cd90e926",
            "7be55b6d4fec49d482564521e0bae5cb",
            "31f6d89badae49179f83d2503ddd6118",
            "fbd08fcb31624a92bc4035d4d2940df0",
            "08d0755b95e54249aa1ab71f8720248b"
          ]
        },
        "id": "0wIxO20BIO_2",
        "outputId": "3f215064-f743-433d-a5a5-d06162dabd3f"
      },
      "outputs": [
        {
          "data": {
            "application/vnd.jupyter.widget-view+json": {
              "model_id": "64dab955ec0d42dba2431088c849afe0",
              "version_major": 2,
              "version_minor": 0
            },
            "text/plain": [
              "  0%|          | 0/313 [00:00<?, ?it/s]"
            ]
          },
          "metadata": {},
          "output_type": "display_data"
        },
        {
          "data": {
            "text/plain": [
              "(tensor([9, 2, 1, 1, 6, 1, 4, 6, 5, 7]), 10000)"
            ]
          },
          "execution_count": 47,
          "metadata": {},
          "output_type": "execute_result"
        }
      ],
      "source": [
        "# Make predictions with trained model_2\n",
        "test_preds = []\n",
        "model_2.eval()\n",
        "with torch.inference_mode():\n",
        "  for X_test, y_test in tqdm(fashion_mnist_test_dataloader):\n",
        "    y_logits = model_2(X_test.to(device))\n",
        "    y_pred_probs = torch.softmax(y_logits, dim=1)\n",
        "    y_pred_labels = torch.argmax(y_pred_probs, dim=1)\n",
        "    test_preds.append(y_pred_labels)\n",
        "test_preds = torch.cat(test_preds).cpu() # matplotlib likes CPU\n",
        "test_preds[:10], len(test_preds)"
      ]
    },
    {
      "cell_type": "code",
      "execution_count": 48,
      "metadata": {
        "colab": {
          "base_uri": "https://localhost:8080/"
        },
        "id": "7GpzAAXdIcq4",
        "outputId": "5764237d-6fa7-493c-d64e-a6425ed30a60"
      },
      "outputs": [
        {
          "data": {
            "text/plain": [
              "1597"
            ]
          },
          "execution_count": 48,
          "metadata": {},
          "output_type": "execute_result"
        }
      ],
      "source": [
        "# Get wrong prediction indexes\n",
        "import numpy as np\n",
        "wrong_pred_indexes = np.where(test_preds != fashion_mnist_test.targets)[0]\n",
        "len(wrong_pred_indexes)"
      ]
    },
    {
      "cell_type": "code",
      "execution_count": 49,
      "metadata": {
        "colab": {
          "base_uri": "https://localhost:8080/",
          "height": 829
        },
        "id": "VMRzw2CsIqis",
        "outputId": "402cb4e1-c14b-4e22-8e40-e11416a05e81"
      },
      "outputs": [
        {
          "data": {
            "image/png": "[encoded data removed]",
            "text/plain": [
              "<Figure size 1000x1000 with 9 Axes>"
            ]
          },
          "metadata": {},
          "output_type": "display_data"
        }
      ],
      "source": [
        "# Select random 9 wrong predictions and plot them\n",
        "import random\n",
        "random_selection = random.sample(list(wrong_pred_indexes), k=9)\n",
        "\n",
        "plt.figure(figsize=(10, 10))\n",
        "for i, idx in enumerate(random_selection):\n",
        "  # Get true and pred labels\n",
        "  true_label = fashion_mnist_class_names[fashion_mnist_test[idx][1]]\n",
        "  pred_label = fashion_mnist_class_names[test_preds[idx]]\n",
        "\n",
        "  # Plot the wrong prediction with its original label\n",
        "  plt.subplot(3, 3, i+1)\n",
        "  plt.imshow(fashion_mnist_test[idx][0].squeeze(), cmap=\"gray\")\n",
        "  plt.title(f\"True: {true_label} | Pred: {pred_label}\", c=\"r\")\n",
        "  plt.axis(False);"
      ]
    },
    {
      "cell_type": "markdown",
      "metadata": {
        "id": "WNr2f14LIvnx"
      },
      "source": [
        "From the look of some of these predictions, the model is getting about as confused as I would...\n",
        "\n",
        "For example it predicts \"Sneaker\" instead of \"Sandal\" when it could have easily been a \"Sneaker\".\n",
        "\n",
        "The same goes for the confusion between the classes of \"T-shirt/top\" and \"Shirt\", many of the examples here look similar."
      ]
    },
    {
      "cell_type": "code",
      "execution_count": null,
      "metadata": {
        "id": "kYrn7-0_I8Pi"
      },
      "outputs": [],
      "source": []
    }
  ],
  "metadata": {
    "accelerator": "GPU",
    "colab": {
      "provenance": []
    },
    "kernelspec": {
      "display_name": "Python 3",
      "name": "python3"
    },
    "language_info": {
      "codemirror_mode": {
        "name": "ipython",
        "version": 3
      },
      "file_extension": ".py",
      "mimetype": "text/x-python",
      "name": "python",
      "nbconvert_exporter": "python",
      "pygments_lexer": "ipython3",
      "version": "3.10.13"
    },
    "widgets": {
      "application/vnd.jupyter.widget-state+json": {
        "05e52e8f44ba4e29939abfb1b781b184": {
          "model_module": "@jupyter-widgets/base",
          "model_module_version": "1.2.0",
          "model_name": "LayoutModel",
          "state": {
            "_model_module": "@jupyter-widgets/base",
            "_model_module_version": "1.2.0",
            "_model_name": "LayoutModel",
            "_view_count": null,
            "_view_module": "@jupyter-widgets/base",
            "_view_module_version": "1.2.0",
            "_view_name": "LayoutView",
            "align_content": null,
            "align_items": null,
            "align_self": null,
            "border": null,
            "bottom": null,
            "display": null,
            "flex": null,
            "flex_flow": null,
            "grid_area": null,
            "grid_auto_columns": null,
            "grid_auto_flow": null,
            "grid_auto_rows": null,
            "grid_column": null,
            "grid_gap": null,
            "grid_row": null,
            "grid_template_areas": null,
            "grid_template_columns": null,
            "grid_template_rows": null,
            "height": null,
            "justify_content": null,
            "justify_items": null,
            "left": null,
            "margin": null,
            "max_height": null,
            "max_width": null,
            "min_height": null,
            "min_width": null,
            "object_fit": null,
            "object_position": null,
            "order": null,
            "overflow": null,
            "overflow_x": null,
            "overflow_y": null,
            "padding": null,
            "right": null,
            "top": null,
            "visibility": null,
            "width": null
          }
        },
        "07cde9153f4a46f2b302cf9e80e10459": {
          "model_module": "@jupyter-widgets/controls",
          "model_module_version": "1.5.0",
          "model_name": "HTMLModel",
          "state": {
            "_dom_classes": [],
            "_model_module": "@jupyter-widgets/controls",
            "_model_module_version": "1.5.0",
            "_model_name": "HTMLModel",
            "_view_count": null,
            "_view_module": "@jupyter-widgets/controls",
            "_view_module_version": "1.5.0",
            "_view_name": "HTMLView",
            "description": "",
            "description_tooltip": null,
            "layout": "IPY_MODEL_bbbd5187d0ce48cabf74b82bc0ef50f8",
            "placeholder": "​",
            "style": "IPY_MODEL_aaddd228e751445b99f63f71cd90e926",
            "value": "100%"
          }
        },
        "08d0755b95e54249aa1ab71f8720248b": {
          "model_module": "@jupyter-widgets/controls",
          "model_module_version": "1.5.0",
          "model_name": "DescriptionStyleModel",
          "state": {
            "_model_module": "@jupyter-widgets/controls",
            "_model_module_version": "1.5.0",
            "_model_name": "DescriptionStyleModel",
            "_view_count": null,
            "_view_module": "@jupyter-widgets/base",
            "_view_module_version": "1.2.0",
            "_view_name": "StyleView",
            "description_width": ""
          }
        },
        "0af114c6397d42c9873e06685c23ca9c": {
          "model_module": "@jupyter-widgets/controls",
          "model_module_version": "1.5.0",
          "model_name": "HTMLModel",
          "state": {
            "_dom_classes": [],
            "_model_module": "@jupyter-widgets/controls",
            "_model_module_version": "1.5.0",
            "_model_name": "HTMLModel",
            "_view_count": null,
            "_view_module": "@jupyter-widgets/controls",
            "_view_module_version": "1.5.0",
            "_view_name": "HTMLView",
            "description": "",
            "description_tooltip": null,
            "layout": "IPY_MODEL_50c4402927e14ac4b2504b822e553d14",
            "placeholder": "​",
            "style": "IPY_MODEL_7e79bd33896340559645b412797d3f12",
            "value": "100%"
          }
        },
        "0ee65c59e07844549c20693cd6fed367": {
          "model_module": "@jupyter-widgets/controls",
          "model_module_version": "1.5.0",
          "model_name": "FloatProgressModel",
          "state": {
            "_dom_classes": [],
            "_model_module": "@jupyter-widgets/controls",
            "_model_module_version": "1.5.0",
            "_model_name": "FloatProgressModel",
            "_view_count": null,
            "_view_module": "@jupyter-widgets/controls",
            "_view_module_version": "1.5.0",
            "_view_name": "ProgressView",
            "bar_style": "success",
            "description": "",
            "description_tooltip": null,
            "layout": "IPY_MODEL_7be55b6d4fec49d482564521e0bae5cb",
            "max": 313,
            "min": 0,
            "orientation": "horizontal",
            "style": "IPY_MODEL_31f6d89badae49179f83d2503ddd6118",
            "value": 313
          }
        },
        "12d9c55a05134da8894c2eaed4d100db": {
          "model_module": "@jupyter-widgets/base",
          "model_module_version": "1.2.0",
          "model_name": "LayoutModel",
          "state": {
            "_model_module": "@jupyter-widgets/base",
            "_model_module_version": "1.2.0",
            "_model_name": "LayoutModel",
            "_view_count": null,
            "_view_module": "@jupyter-widgets/base",
            "_view_module_version": "1.2.0",
            "_view_name": "LayoutView",
            "align_content": null,
            "align_items": null,
            "align_self": null,
            "border": null,
            "bottom": null,
            "display": null,
            "flex": null,
            "flex_flow": null,
            "grid_area": null,
            "grid_auto_columns": null,
            "grid_auto_flow": null,
            "grid_auto_rows": null,
            "grid_column": null,
            "grid_gap": null,
            "grid_row": null,
            "grid_template_areas": null,
            "grid_template_columns": null,
            "grid_template_rows": null,
            "height": null,
            "justify_content": null,
            "justify_items": null,
            "left": null,
            "margin": null,
            "max_height": null,
            "max_width": null,
            "min_height": null,
            "min_width": null,
            "object_fit": null,
            "object_position": null,
            "order": null,
            "overflow": null,
            "overflow_x": null,
            "overflow_y": null,
            "padding": null,
            "right": null,
            "top": null,
            "visibility": null,
            "width": null
          }
        },
        "1743f27aa7174794982aff03f9b01aa9": {
          "model_module": "@jupyter-widgets/base",
          "model_module_version": "1.2.0",
          "model_name": "LayoutModel",
          "state": {
            "_model_module": "@jupyter-widgets/base",
            "_model_module_version": "1.2.0",
            "_model_name": "LayoutModel",
            "_view_count": null,
            "_view_module": "@jupyter-widgets/base",
            "_view_module_version": "1.2.0",
            "_view_name": "LayoutView",
            "align_content": null,
            "align_items": null,
            "align_self": null,
            "border": null,
            "bottom": null,
            "display": null,
            "flex": null,
            "flex_flow": null,
            "grid_area": null,
            "grid_auto_columns": null,
            "grid_auto_flow": null,
            "grid_auto_rows": null,
            "grid_column": null,
            "grid_gap": null,
            "grid_row": null,
            "grid_template_areas": null,
            "grid_template_columns": null,
            "grid_template_rows": null,
            "height": null,
            "justify_content": null,
            "justify_items": null,
            "left": null,
            "margin": null,
            "max_height": null,
            "max_width": null,
            "min_height": null,
            "min_width": null,
            "object_fit": null,
            "object_position": null,
            "order": null,
            "overflow": null,
            "overflow_x": null,
            "overflow_y": null,
            "padding": null,
            "right": null,
            "top": null,
            "visibility": null,
            "width": null
          }
        },
        "1a3db576165c41fea7aba39393f72188": {
          "model_module": "@jupyter-widgets/base",
          "model_module_version": "1.2.0",
          "model_name": "LayoutModel",
          "state": {
            "_model_module": "@jupyter-widgets/base",
            "_model_module_version": "1.2.0",
            "_model_name": "LayoutModel",
            "_view_count": null,
            "_view_module": "@jupyter-widgets/base",
            "_view_module_version": "1.2.0",
            "_view_name": "LayoutView",
            "align_content": null,
            "align_items": null,
            "align_self": null,
            "border": null,
            "bottom": null,
            "display": null,
            "flex": null,
            "flex_flow": null,
            "grid_area": null,
            "grid_auto_columns": null,
            "grid_auto_flow": null,
            "grid_auto_rows": null,
            "grid_column": null,
            "grid_gap": null,
            "grid_row": null,
            "grid_template_areas": null,
            "grid_template_columns": null,
            "grid_template_rows": null,
            "height": null,
            "justify_content": null,
            "justify_items": null,
            "left": null,
            "margin": null,
            "max_height": null,
            "max_width": null,
            "min_height": null,
            "min_width": null,
            "object_fit": null,
            "object_position": null,
            "order": null,
            "overflow": null,
            "overflow_x": null,
            "overflow_y": null,
            "padding": null,
            "right": null,
            "top": null,
            "visibility": null,
            "width": null
          }
        },
        "233811649edb430faed898ab665dfc7f": {
          "model_module": "@jupyter-widgets/base",
          "model_module_version": "1.2.0",
          "model_name": "LayoutModel",
          "state": {
            "_model_module": "@jupyter-widgets/base",
            "_model_module_version": "1.2.0",
            "_model_name": "LayoutModel",
            "_view_count": null,
            "_view_module": "@jupyter-widgets/base",
            "_view_module_version": "1.2.0",
            "_view_name": "LayoutView",
            "align_content": null,
            "align_items": null,
            "align_self": null,
            "border": null,
            "bottom": null,
            "display": null,
            "flex": null,
            "flex_flow": null,
            "grid_area": null,
            "grid_auto_columns": null,
            "grid_auto_flow": null,
            "grid_auto_rows": null,
            "grid_column": null,
            "grid_gap": null,
            "grid_row": null,
            "grid_template_areas": null,
            "grid_template_columns": null,
            "grid_template_rows": null,
            "height": null,
            "justify_content": null,
            "justify_items": null,
            "left": null,
            "margin": null,
            "max_height": null,
            "max_width": null,
            "min_height": null,
            "min_width": null,
            "object_fit": null,
            "object_position": null,
            "order": null,
            "overflow": null,
            "overflow_x": null,
            "overflow_y": null,
            "padding": null,
            "right": null,
            "top": null,
            "visibility": null,
            "width": null
          }
        },
        "2bb3d2386928447caea2d9aa54937776": {
          "model_module": "@jupyter-widgets/controls",
          "model_module_version": "1.5.0",
          "model_name": "DescriptionStyleModel",
          "state": {
            "_model_module": "@jupyter-widgets/controls",
            "_model_module_version": "1.5.0",
            "_model_name": "DescriptionStyleModel",
            "_view_count": null,
            "_view_module": "@jupyter-widgets/base",
            "_view_module_version": "1.2.0",
            "_view_name": "StyleView",
            "description_width": ""
          }
        },
        "31b287a701224c8da3e69db9f7fd10de": {
          "model_module": "@jupyter-widgets/controls",
          "model_module_version": "1.5.0",
          "model_name": "HBoxModel",
          "state": {
            "_dom_classes": [],
            "_model_module": "@jupyter-widgets/controls",
            "_model_module_version": "1.5.0",
            "_model_name": "HBoxModel",
            "_view_count": null,
            "_view_module": "@jupyter-widgets/controls",
            "_view_module_version": "1.5.0",
            "_view_name": "HBoxView",
            "box_style": "",
            "children": [
              "IPY_MODEL_9a801b531b574dad8878eb6ed3554c12",
              "IPY_MODEL_ed813370b81c4b2ab90b14ba76104b29",
              "IPY_MODEL_95f39a7fa06c49fe8e6cd4e2966ca47d"
            ],
            "layout": "IPY_MODEL_1743f27aa7174794982aff03f9b01aa9"
          }
        },
        "31f6d89badae49179f83d2503ddd6118": {
          "model_module": "@jupyter-widgets/controls",
          "model_module_version": "1.5.0",
          "model_name": "ProgressStyleModel",
          "state": {
            "_model_module": "@jupyter-widgets/controls",
            "_model_module_version": "1.5.0",
            "_model_name": "ProgressStyleModel",
            "_view_count": null,
            "_view_module": "@jupyter-widgets/base",
            "_view_module_version": "1.2.0",
            "_view_name": "StyleView",
            "bar_color": null,
            "description_width": ""
          }
        },
        "36853260e5b24367a5a8f8abcb62df42": {
          "model_module": "@jupyter-widgets/base",
          "model_module_version": "1.2.0",
          "model_name": "LayoutModel",
          "state": {
            "_model_module": "@jupyter-widgets/base",
            "_model_module_version": "1.2.0",
            "_model_name": "LayoutModel",
            "_view_count": null,
            "_view_module": "@jupyter-widgets/base",
            "_view_module_version": "1.2.0",
            "_view_name": "LayoutView",
            "align_content": null,
            "align_items": null,
            "align_self": null,
            "border": null,
            "bottom": null,
            "display": null,
            "flex": null,
            "flex_flow": null,
            "grid_area": null,
            "grid_auto_columns": null,
            "grid_auto_flow": null,
            "grid_auto_rows": null,
            "grid_column": null,
            "grid_gap": null,
            "grid_row": null,
            "grid_template_areas": null,
            "grid_template_columns": null,
            "grid_template_rows": null,
            "height": null,
            "justify_content": null,
            "justify_items": null,
            "left": null,
            "margin": null,
            "max_height": null,
            "max_width": null,
            "min_height": null,
            "min_width": null,
            "object_fit": null,
            "object_position": null,
            "order": null,
            "overflow": null,
            "overflow_x": null,
            "overflow_y": null,
            "padding": null,
            "right": null,
            "top": null,
            "visibility": null,
            "width": null
          }
        },
        "38559d0ac553499cbf46871abd2d278a": {
          "model_module": "@jupyter-widgets/base",
          "model_module_version": "1.2.0",
          "model_name": "LayoutModel",
          "state": {
            "_model_module": "@jupyter-widgets/base",
            "_model_module_version": "1.2.0",
            "_model_name": "LayoutModel",
            "_view_count": null,
            "_view_module": "@jupyter-widgets/base",
            "_view_module_version": "1.2.0",
            "_view_name": "LayoutView",
            "align_content": null,
            "align_items": null,
            "align_self": null,
            "border": null,
            "bottom": null,
            "display": null,
            "flex": null,
            "flex_flow": null,
            "grid_area": null,
            "grid_auto_columns": null,
            "grid_auto_flow": null,
            "grid_auto_rows": null,
            "grid_column": null,
            "grid_gap": null,
            "grid_row": null,
            "grid_template_areas": null,
            "grid_template_columns": null,
            "grid_template_rows": null,
            "height": null,
            "justify_content": null,
            "justify_items": null,
            "left": null,
            "margin": null,
            "max_height": null,
            "max_width": null,
            "min_height": null,
            "min_width": null,
            "object_fit": null,
            "object_position": null,
            "order": null,
            "overflow": null,
            "overflow_x": null,
            "overflow_y": null,
            "padding": null,
            "right": null,
            "top": null,
            "visibility": null,
            "width": null
          }
        },
        "44faead6166f4304b517d629b9054478": {
          "model_module": "@jupyter-widgets/controls",
          "model_module_version": "1.5.0",
          "model_name": "DescriptionStyleModel",
          "state": {
            "_model_module": "@jupyter-widgets/controls",
            "_model_module_version": "1.5.0",
            "_model_name": "DescriptionStyleModel",
            "_view_count": null,
            "_view_module": "@jupyter-widgets/base",
            "_view_module_version": "1.2.0",
            "_view_name": "StyleView",
            "description_width": ""
          }
        },
        "48317a167b814450a99da814edb108b0": {
          "model_module": "@jupyter-widgets/base",
          "model_module_version": "1.2.0",
          "model_name": "LayoutModel",
          "state": {
            "_model_module": "@jupyter-widgets/base",
            "_model_module_version": "1.2.0",
            "_model_name": "LayoutModel",
            "_view_count": null,
            "_view_module": "@jupyter-widgets/base",
            "_view_module_version": "1.2.0",
            "_view_name": "LayoutView",
            "align_content": null,
            "align_items": null,
            "align_self": null,
            "border": null,
            "bottom": null,
            "display": null,
            "flex": null,
            "flex_flow": null,
            "grid_area": null,
            "grid_auto_columns": null,
            "grid_auto_flow": null,
            "grid_auto_rows": null,
            "grid_column": null,
            "grid_gap": null,
            "grid_row": null,
            "grid_template_areas": null,
            "grid_template_columns": null,
            "grid_template_rows": null,
            "height": null,
            "justify_content": null,
            "justify_items": null,
            "left": null,
            "margin": null,
            "max_height": null,
            "max_width": null,
            "min_height": null,
            "min_width": null,
            "object_fit": null,
            "object_position": null,
            "order": null,
            "overflow": null,
            "overflow_x": null,
            "overflow_y": null,
            "padding": null,
            "right": null,
            "top": null,
            "visibility": null,
            "width": null
          }
        },
        "493e05d9d26a4acbad72ea277ec3339e": {
          "model_module": "@jupyter-widgets/controls",
          "model_module_version": "1.5.0",
          "model_name": "DescriptionStyleModel",
          "state": {
            "_model_module": "@jupyter-widgets/controls",
            "_model_module_version": "1.5.0",
            "_model_name": "DescriptionStyleModel",
            "_view_count": null,
            "_view_module": "@jupyter-widgets/base",
            "_view_module_version": "1.2.0",
            "_view_name": "StyleView",
            "description_width": ""
          }
        },
        "4d8b30be6fba4e4c8a7efb94c592fa93": {
          "model_module": "@jupyter-widgets/controls",
          "model_module_version": "1.5.0",
          "model_name": "DescriptionStyleModel",
          "state": {
            "_model_module": "@jupyter-widgets/controls",
            "_model_module_version": "1.5.0",
            "_model_name": "DescriptionStyleModel",
            "_view_count": null,
            "_view_module": "@jupyter-widgets/base",
            "_view_module_version": "1.2.0",
            "_view_name": "StyleView",
            "description_width": ""
          }
        },
        "50c4402927e14ac4b2504b822e553d14": {
          "model_module": "@jupyter-widgets/base",
          "model_module_version": "1.2.0",
          "model_name": "LayoutModel",
          "state": {
            "_model_module": "@jupyter-widgets/base",
            "_model_module_version": "1.2.0",
            "_model_name": "LayoutModel",
            "_view_count": null,
            "_view_module": "@jupyter-widgets/base",
            "_view_module_version": "1.2.0",
            "_view_name": "LayoutView",
            "align_content": null,
            "align_items": null,
            "align_self": null,
            "border": null,
            "bottom": null,
            "display": null,
            "flex": null,
            "flex_flow": null,
            "grid_area": null,
            "grid_auto_columns": null,
            "grid_auto_flow": null,
            "grid_auto_rows": null,
            "grid_column": null,
            "grid_gap": null,
            "grid_row": null,
            "grid_template_areas": null,
            "grid_template_columns": null,
            "grid_template_rows": null,
            "height": null,
            "justify_content": null,
            "justify_items": null,
            "left": null,
            "margin": null,
            "max_height": null,
            "max_width": null,
            "min_height": null,
            "min_width": null,
            "object_fit": null,
            "object_position": null,
            "order": null,
            "overflow": null,
            "overflow_x": null,
            "overflow_y": null,
            "padding": null,
            "right": null,
            "top": null,
            "visibility": null,
            "width": null
          }
        },
        "52430ff194004ef788c446dba3ffed8f": {
          "model_module": "@jupyter-widgets/controls",
          "model_module_version": "1.5.0",
          "model_name": "HBoxModel",
          "state": {
            "_dom_classes": [],
            "_model_module": "@jupyter-widgets/controls",
            "_model_module_version": "1.5.0",
            "_model_name": "HBoxModel",
            "_view_count": null,
            "_view_module": "@jupyter-widgets/controls",
            "_view_module_version": "1.5.0",
            "_view_name": "HBoxView",
            "box_style": "",
            "children": [
              "IPY_MODEL_e27535d66499494fa087c4b6f377f49c",
              "IPY_MODEL_8e6070497ab84a999d6c933ee28db009",
              "IPY_MODEL_7fabff4b6195430abf51903c2cd466a2"
            ],
            "layout": "IPY_MODEL_36853260e5b24367a5a8f8abcb62df42"
          }
        },
        "53e2d66e96e1478e854bb562bbf0c29f": {
          "model_module": "@jupyter-widgets/controls",
          "model_module_version": "1.5.0",
          "model_name": "DescriptionStyleModel",
          "state": {
            "_model_module": "@jupyter-widgets/controls",
            "_model_module_version": "1.5.0",
            "_model_name": "DescriptionStyleModel",
            "_view_count": null,
            "_view_module": "@jupyter-widgets/base",
            "_view_module_version": "1.2.0",
            "_view_name": "StyleView",
            "description_width": ""
          }
        },
        "56657a7fea7f492e88d041ec5a8e1670": {
          "model_module": "@jupyter-widgets/controls",
          "model_module_version": "1.5.0",
          "model_name": "HTMLModel",
          "state": {
            "_dom_classes": [],
            "_model_module": "@jupyter-widgets/controls",
            "_model_module_version": "1.5.0",
            "_model_name": "HTMLModel",
            "_view_count": null,
            "_view_module": "@jupyter-widgets/controls",
            "_view_module_version": "1.5.0",
            "_view_name": "HTMLView",
            "description": "",
            "description_tooltip": null,
            "layout": "IPY_MODEL_48317a167b814450a99da814edb108b0",
            "placeholder": "​",
            "style": "IPY_MODEL_493e05d9d26a4acbad72ea277ec3339e",
            "value": " 313/? [00:03&lt;00:00, 99.40it/s]"
          }
        },
        "5cfb3655ac8547c2aee0dc42abcf6098": {
          "model_module": "@jupyter-widgets/base",
          "model_module_version": "1.2.0",
          "model_name": "LayoutModel",
          "state": {
            "_model_module": "@jupyter-widgets/base",
            "_model_module_version": "1.2.0",
            "_model_name": "LayoutModel",
            "_view_count": null,
            "_view_module": "@jupyter-widgets/base",
            "_view_module_version": "1.2.0",
            "_view_name": "LayoutView",
            "align_content": null,
            "align_items": null,
            "align_self": null,
            "border": null,
            "bottom": null,
            "display": null,
            "flex": null,
            "flex_flow": null,
            "grid_area": null,
            "grid_auto_columns": null,
            "grid_auto_flow": null,
            "grid_auto_rows": null,
            "grid_column": null,
            "grid_gap": null,
            "grid_row": null,
            "grid_template_areas": null,
            "grid_template_columns": null,
            "grid_template_rows": null,
            "height": null,
            "justify_content": null,
            "justify_items": null,
            "left": null,
            "margin": null,
            "max_height": null,
            "max_width": null,
            "min_height": null,
            "min_width": null,
            "object_fit": null,
            "object_position": null,
            "order": null,
            "overflow": null,
            "overflow_x": null,
            "overflow_y": null,
            "padding": null,
            "right": null,
            "top": null,
            "visibility": null,
            "width": null
          }
        },
        "64dab955ec0d42dba2431088c849afe0": {
          "model_module": "@jupyter-widgets/controls",
          "model_module_version": "1.5.0",
          "model_name": "HBoxModel",
          "state": {
            "_dom_classes": [],
            "_model_module": "@jupyter-widgets/controls",
            "_model_module_version": "1.5.0",
            "_model_name": "HBoxModel",
            "_view_count": null,
            "_view_module": "@jupyter-widgets/controls",
            "_view_module_version": "1.5.0",
            "_view_name": "HBoxView",
            "box_style": "",
            "children": [
              "IPY_MODEL_07cde9153f4a46f2b302cf9e80e10459",
              "IPY_MODEL_0ee65c59e07844549c20693cd6fed367",
              "IPY_MODEL_6faa3d0b936640649842c3c3cb39311e"
            ],
            "layout": "IPY_MODEL_38559d0ac553499cbf46871abd2d278a"
          }
        },
        "6810102837eb40709c5717ad1c5955fc": {
          "model_module": "@jupyter-widgets/controls",
          "model_module_version": "1.5.0",
          "model_name": "FloatProgressModel",
          "state": {
            "_dom_classes": [],
            "_model_module": "@jupyter-widgets/controls",
            "_model_module_version": "1.5.0",
            "_model_name": "FloatProgressModel",
            "_view_count": null,
            "_view_module": "@jupyter-widgets/controls",
            "_view_module_version": "1.5.0",
            "_view_name": "ProgressView",
            "bar_style": "success",
            "description": "",
            "description_tooltip": null,
            "layout": "IPY_MODEL_9a6734a2e1dd4c59bcfe22305e829dbc",
            "max": 1,
            "min": 0,
            "orientation": "horizontal",
            "style": "IPY_MODEL_da7b0c5a83ea45d58a6a9a829db5cf6c",
            "value": 1
          }
        },
        "6faa3d0b936640649842c3c3cb39311e": {
          "model_module": "@jupyter-widgets/controls",
          "model_module_version": "1.5.0",
          "model_name": "HTMLModel",
          "state": {
            "_dom_classes": [],
            "_model_module": "@jupyter-widgets/controls",
            "_model_module_version": "1.5.0",
            "_model_name": "HTMLModel",
            "_view_count": null,
            "_view_module": "@jupyter-widgets/controls",
            "_view_module_version": "1.5.0",
            "_view_name": "HTMLView",
            "description": "",
            "description_tooltip": null,
            "layout": "IPY_MODEL_fbd08fcb31624a92bc4035d4d2940df0",
            "placeholder": "​",
            "style": "IPY_MODEL_08d0755b95e54249aa1ab71f8720248b",
            "value": " 313/313 [00:01&lt;00:00, 265.18it/s]"
          }
        },
        "72ff40c7855b4a6cabe14640adf4bbc9": {
          "model_module": "@jupyter-widgets/base",
          "model_module_version": "1.2.0",
          "model_name": "LayoutModel",
          "state": {
            "_model_module": "@jupyter-widgets/base",
            "_model_module_version": "1.2.0",
            "_model_name": "LayoutModel",
            "_view_count": null,
            "_view_module": "@jupyter-widgets/base",
            "_view_module_version": "1.2.0",
            "_view_name": "LayoutView",
            "align_content": null,
            "align_items": null,
            "align_self": null,
            "border": null,
            "bottom": null,
            "display": null,
            "flex": null,
            "flex_flow": null,
            "grid_area": null,
            "grid_auto_columns": null,
            "grid_auto_flow": null,
            "grid_auto_rows": null,
            "grid_column": null,
            "grid_gap": null,
            "grid_row": null,
            "grid_template_areas": null,
            "grid_template_columns": null,
            "grid_template_rows": null,
            "height": null,
            "justify_content": null,
            "justify_items": null,
            "left": null,
            "margin": null,
            "max_height": null,
            "max_width": null,
            "min_height": null,
            "min_width": null,
            "object_fit": null,
            "object_position": null,
            "order": null,
            "overflow": null,
            "overflow_x": null,
            "overflow_y": null,
            "padding": null,
            "right": null,
            "top": null,
            "visibility": null,
            "width": null
          }
        },
        "73781ecdd4504b73a93cd39a771345d4": {
          "model_module": "@jupyter-widgets/base",
          "model_module_version": "1.2.0",
          "model_name": "LayoutModel",
          "state": {
            "_model_module": "@jupyter-widgets/base",
            "_model_module_version": "1.2.0",
            "_model_name": "LayoutModel",
            "_view_count": null,
            "_view_module": "@jupyter-widgets/base",
            "_view_module_version": "1.2.0",
            "_view_name": "LayoutView",
            "align_content": null,
            "align_items": null,
            "align_self": null,
            "border": null,
            "bottom": null,
            "display": null,
            "flex": null,
            "flex_flow": null,
            "grid_area": null,
            "grid_auto_columns": null,
            "grid_auto_flow": null,
            "grid_auto_rows": null,
            "grid_column": null,
            "grid_gap": null,
            "grid_row": null,
            "grid_template_areas": null,
            "grid_template_columns": null,
            "grid_template_rows": null,
            "height": null,
            "justify_content": null,
            "justify_items": null,
            "left": null,
            "margin": null,
            "max_height": null,
            "max_width": null,
            "min_height": null,
            "min_width": null,
            "object_fit": null,
            "object_position": null,
            "order": null,
            "overflow": null,
            "overflow_x": null,
            "overflow_y": null,
            "padding": null,
            "right": null,
            "top": null,
            "visibility": null,
            "width": null
          }
        },
        "75829711860540bf821b6d310d7fa95e": {
          "model_module": "@jupyter-widgets/controls",
          "model_module_version": "1.5.0",
          "model_name": "FloatProgressModel",
          "state": {
            "_dom_classes": [],
            "_model_module": "@jupyter-widgets/controls",
            "_model_module_version": "1.5.0",
            "_model_name": "FloatProgressModel",
            "_view_count": null,
            "_view_module": "@jupyter-widgets/controls",
            "_view_module_version": "1.5.0",
            "_view_name": "ProgressView",
            "bar_style": "success",
            "description": "",
            "description_tooltip": null,
            "layout": "IPY_MODEL_c999d5890e4a4ef3ad076e733a54d218",
            "max": 5,
            "min": 0,
            "orientation": "horizontal",
            "style": "IPY_MODEL_b9f2a7f7fa1440b79b3103375be7a96a",
            "value": 5
          }
        },
        "7be55b6d4fec49d482564521e0bae5cb": {
          "model_module": "@jupyter-widgets/base",
          "model_module_version": "1.2.0",
          "model_name": "LayoutModel",
          "state": {
            "_model_module": "@jupyter-widgets/base",
            "_model_module_version": "1.2.0",
            "_model_name": "LayoutModel",
            "_view_count": null,
            "_view_module": "@jupyter-widgets/base",
            "_view_module_version": "1.2.0",
            "_view_name": "LayoutView",
            "align_content": null,
            "align_items": null,
            "align_self": null,
            "border": null,
            "bottom": null,
            "display": null,
            "flex": null,
            "flex_flow": null,
            "grid_area": null,
            "grid_auto_columns": null,
            "grid_auto_flow": null,
            "grid_auto_rows": null,
            "grid_column": null,
            "grid_gap": null,
            "grid_row": null,
            "grid_template_areas": null,
            "grid_template_columns": null,
            "grid_template_rows": null,
            "height": null,
            "justify_content": null,
            "justify_items": null,
            "left": null,
            "margin": null,
            "max_height": null,
            "max_width": null,
            "min_height": null,
            "min_width": null,
            "object_fit": null,
            "object_position": null,
            "order": null,
            "overflow": null,
            "overflow_x": null,
            "overflow_y": null,
            "padding": null,
            "right": null,
            "top": null,
            "visibility": null,
            "width": null
          }
        },
        "7c1cf1ad9fc141979fb4df9eafb17463": {
          "model_module": "@jupyter-widgets/controls",
          "model_module_version": "1.5.0",
          "model_name": "HBoxModel",
          "state": {
            "_dom_classes": [],
            "_model_module": "@jupyter-widgets/controls",
            "_model_module_version": "1.5.0",
            "_model_name": "HBoxModel",
            "_view_count": null,
            "_view_module": "@jupyter-widgets/controls",
            "_view_module_version": "1.5.0",
            "_view_name": "HBoxView",
            "box_style": "",
            "children": [
              "IPY_MODEL_bea2983c20274c7996f031db041e911a",
              "IPY_MODEL_6810102837eb40709c5717ad1c5955fc",
              "IPY_MODEL_56657a7fea7f492e88d041ec5a8e1670"
            ],
            "layout": "IPY_MODEL_233811649edb430faed898ab665dfc7f"
          }
        },
        "7e79bd33896340559645b412797d3f12": {
          "model_module": "@jupyter-widgets/controls",
          "model_module_version": "1.5.0",
          "model_name": "DescriptionStyleModel",
          "state": {
            "_model_module": "@jupyter-widgets/controls",
            "_model_module_version": "1.5.0",
            "_model_name": "DescriptionStyleModel",
            "_view_count": null,
            "_view_module": "@jupyter-widgets/base",
            "_view_module_version": "1.2.0",
            "_view_name": "StyleView",
            "description_width": ""
          }
        },
        "7fabff4b6195430abf51903c2cd466a2": {
          "model_module": "@jupyter-widgets/controls",
          "model_module_version": "1.5.0",
          "model_name": "HTMLModel",
          "state": {
            "_dom_classes": [],
            "_model_module": "@jupyter-widgets/controls",
            "_model_module_version": "1.5.0",
            "_model_name": "HTMLModel",
            "_view_count": null,
            "_view_module": "@jupyter-widgets/controls",
            "_view_module_version": "1.5.0",
            "_view_name": "HTMLView",
            "description": "",
            "description_tooltip": null,
            "layout": "IPY_MODEL_05e52e8f44ba4e29939abfb1b781b184",
            "placeholder": "​",
            "style": "IPY_MODEL_4d8b30be6fba4e4c8a7efb94c592fa93",
            "value": " 5/5 [03:42&lt;00:00, 44.37s/it]"
          }
        },
        "8e6070497ab84a999d6c933ee28db009": {
          "model_module": "@jupyter-widgets/controls",
          "model_module_version": "1.5.0",
          "model_name": "FloatProgressModel",
          "state": {
            "_dom_classes": [],
            "_model_module": "@jupyter-widgets/controls",
            "_model_module_version": "1.5.0",
            "_model_name": "FloatProgressModel",
            "_view_count": null,
            "_view_module": "@jupyter-widgets/controls",
            "_view_module_version": "1.5.0",
            "_view_name": "ProgressView",
            "bar_style": "success",
            "description": "",
            "description_tooltip": null,
            "layout": "IPY_MODEL_72ff40c7855b4a6cabe14640adf4bbc9",
            "max": 5,
            "min": 0,
            "orientation": "horizontal",
            "style": "IPY_MODEL_a9454db465554cc894388fbcaa9951a7",
            "value": 5
          }
        },
        "91627a3b9b354bf68fa372ac144d027b": {
          "model_module": "@jupyter-widgets/base",
          "model_module_version": "1.2.0",
          "model_name": "LayoutModel",
          "state": {
            "_model_module": "@jupyter-widgets/base",
            "_model_module_version": "1.2.0",
            "_model_name": "LayoutModel",
            "_view_count": null,
            "_view_module": "@jupyter-widgets/base",
            "_view_module_version": "1.2.0",
            "_view_name": "LayoutView",
            "align_content": null,
            "align_items": null,
            "align_self": null,
            "border": null,
            "bottom": null,
            "display": null,
            "flex": null,
            "flex_flow": null,
            "grid_area": null,
            "grid_auto_columns": null,
            "grid_auto_flow": null,
            "grid_auto_rows": null,
            "grid_column": null,
            "grid_gap": null,
            "grid_row": null,
            "grid_template_areas": null,
            "grid_template_columns": null,
            "grid_template_rows": null,
            "height": null,
            "justify_content": null,
            "justify_items": null,
            "left": null,
            "margin": null,
            "max_height": null,
            "max_width": null,
            "min_height": null,
            "min_width": null,
            "object_fit": null,
            "object_position": null,
            "order": null,
            "overflow": null,
            "overflow_x": null,
            "overflow_y": null,
            "padding": null,
            "right": null,
            "top": null,
            "visibility": null,
            "width": null
          }
        },
        "95f39a7fa06c49fe8e6cd4e2966ca47d": {
          "model_module": "@jupyter-widgets/controls",
          "model_module_version": "1.5.0",
          "model_name": "HTMLModel",
          "state": {
            "_dom_classes": [],
            "_model_module": "@jupyter-widgets/controls",
            "_model_module_version": "1.5.0",
            "_model_name": "HTMLModel",
            "_view_count": null,
            "_view_module": "@jupyter-widgets/controls",
            "_view_module_version": "1.5.0",
            "_view_name": "HTMLView",
            "description": "",
            "description_tooltip": null,
            "layout": "IPY_MODEL_bf16438866284d538ac3a20f54d3efb0",
            "placeholder": "​",
            "style": "IPY_MODEL_ab43e5dabebb4b07b8e0c84685966be3",
            "value": " 5/5 [01:07&lt;00:00, 13.67s/it]"
          }
        },
        "9a6734a2e1dd4c59bcfe22305e829dbc": {
          "model_module": "@jupyter-widgets/base",
          "model_module_version": "1.2.0",
          "model_name": "LayoutModel",
          "state": {
            "_model_module": "@jupyter-widgets/base",
            "_model_module_version": "1.2.0",
            "_model_name": "LayoutModel",
            "_view_count": null,
            "_view_module": "@jupyter-widgets/base",
            "_view_module_version": "1.2.0",
            "_view_name": "LayoutView",
            "align_content": null,
            "align_items": null,
            "align_self": null,
            "border": null,
            "bottom": null,
            "display": null,
            "flex": null,
            "flex_flow": null,
            "grid_area": null,
            "grid_auto_columns": null,
            "grid_auto_flow": null,
            "grid_auto_rows": null,
            "grid_column": null,
            "grid_gap": null,
            "grid_row": null,
            "grid_template_areas": null,
            "grid_template_columns": null,
            "grid_template_rows": null,
            "height": null,
            "justify_content": null,
            "justify_items": null,
            "left": null,
            "margin": null,
            "max_height": null,
            "max_width": null,
            "min_height": null,
            "min_width": null,
            "object_fit": null,
            "object_position": null,
            "order": null,
            "overflow": null,
            "overflow_x": null,
            "overflow_y": null,
            "padding": null,
            "right": null,
            "top": null,
            "visibility": null,
            "width": "20px"
          }
        },
        "9a801b531b574dad8878eb6ed3554c12": {
          "model_module": "@jupyter-widgets/controls",
          "model_module_version": "1.5.0",
          "model_name": "HTMLModel",
          "state": {
            "_dom_classes": [],
            "_model_module": "@jupyter-widgets/controls",
            "_model_module_version": "1.5.0",
            "_model_name": "HTMLModel",
            "_view_count": null,
            "_view_module": "@jupyter-widgets/controls",
            "_view_module_version": "1.5.0",
            "_view_name": "HTMLView",
            "description": "",
            "description_tooltip": null,
            "layout": "IPY_MODEL_91627a3b9b354bf68fa372ac144d027b",
            "placeholder": "​",
            "style": "IPY_MODEL_53e2d66e96e1478e854bb562bbf0c29f",
            "value": "100%"
          }
        },
        "a00cf19ec9cd4649a9db3fc03d3f6217": {
          "model_module": "@jupyter-widgets/controls",
          "model_module_version": "1.5.0",
          "model_name": "HBoxModel",
          "state": {
            "_dom_classes": [],
            "_model_module": "@jupyter-widgets/controls",
            "_model_module_version": "1.5.0",
            "_model_name": "HBoxModel",
            "_view_count": null,
            "_view_module": "@jupyter-widgets/controls",
            "_view_module_version": "1.5.0",
            "_view_name": "HBoxView",
            "box_style": "",
            "children": [
              "IPY_MODEL_0af114c6397d42c9873e06685c23ca9c",
              "IPY_MODEL_75829711860540bf821b6d310d7fa95e",
              "IPY_MODEL_d18a058c825542bf890fbf24df360494"
            ],
            "layout": "IPY_MODEL_1a3db576165c41fea7aba39393f72188"
          }
        },
        "a9454db465554cc894388fbcaa9951a7": {
          "model_module": "@jupyter-widgets/controls",
          "model_module_version": "1.5.0",
          "model_name": "ProgressStyleModel",
          "state": {
            "_model_module": "@jupyter-widgets/controls",
            "_model_module_version": "1.5.0",
            "_model_name": "ProgressStyleModel",
            "_view_count": null,
            "_view_module": "@jupyter-widgets/base",
            "_view_module_version": "1.2.0",
            "_view_name": "StyleView",
            "bar_color": null,
            "description_width": ""
          }
        },
        "a9be15c42ca5479dbd1340680811ac58": {
          "model_module": "@jupyter-widgets/base",
          "model_module_version": "1.2.0",
          "model_name": "LayoutModel",
          "state": {
            "_model_module": "@jupyter-widgets/base",
            "_model_module_version": "1.2.0",
            "_model_name": "LayoutModel",
            "_view_count": null,
            "_view_module": "@jupyter-widgets/base",
            "_view_module_version": "1.2.0",
            "_view_name": "LayoutView",
            "align_content": null,
            "align_items": null,
            "align_self": null,
            "border": null,
            "bottom": null,
            "display": null,
            "flex": null,
            "flex_flow": null,
            "grid_area": null,
            "grid_auto_columns": null,
            "grid_auto_flow": null,
            "grid_auto_rows": null,
            "grid_column": null,
            "grid_gap": null,
            "grid_row": null,
            "grid_template_areas": null,
            "grid_template_columns": null,
            "grid_template_rows": null,
            "height": null,
            "justify_content": null,
            "justify_items": null,
            "left": null,
            "margin": null,
            "max_height": null,
            "max_width": null,
            "min_height": null,
            "min_width": null,
            "object_fit": null,
            "object_position": null,
            "order": null,
            "overflow": null,
            "overflow_x": null,
            "overflow_y": null,
            "padding": null,
            "right": null,
            "top": null,
            "visibility": null,
            "width": null
          }
        },
        "aaddd228e751445b99f63f71cd90e926": {
          "model_module": "@jupyter-widgets/controls",
          "model_module_version": "1.5.0",
          "model_name": "DescriptionStyleModel",
          "state": {
            "_model_module": "@jupyter-widgets/controls",
            "_model_module_version": "1.5.0",
            "_model_name": "DescriptionStyleModel",
            "_view_count": null,
            "_view_module": "@jupyter-widgets/base",
            "_view_module_version": "1.2.0",
            "_view_name": "StyleView",
            "description_width": ""
          }
        },
        "ab43e5dabebb4b07b8e0c84685966be3": {
          "model_module": "@jupyter-widgets/controls",
          "model_module_version": "1.5.0",
          "model_name": "DescriptionStyleModel",
          "state": {
            "_model_module": "@jupyter-widgets/controls",
            "_model_module_version": "1.5.0",
            "_model_name": "DescriptionStyleModel",
            "_view_count": null,
            "_view_module": "@jupyter-widgets/base",
            "_view_module_version": "1.2.0",
            "_view_name": "StyleView",
            "description_width": ""
          }
        },
        "b9f2a7f7fa1440b79b3103375be7a96a": {
          "model_module": "@jupyter-widgets/controls",
          "model_module_version": "1.5.0",
          "model_name": "ProgressStyleModel",
          "state": {
            "_model_module": "@jupyter-widgets/controls",
            "_model_module_version": "1.5.0",
            "_model_name": "ProgressStyleModel",
            "_view_count": null,
            "_view_module": "@jupyter-widgets/base",
            "_view_module_version": "1.2.0",
            "_view_name": "StyleView",
            "bar_color": null,
            "description_width": ""
          }
        },
        "bbbd5187d0ce48cabf74b82bc0ef50f8": {
          "model_module": "@jupyter-widgets/base",
          "model_module_version": "1.2.0",
          "model_name": "LayoutModel",
          "state": {
            "_model_module": "@jupyter-widgets/base",
            "_model_module_version": "1.2.0",
            "_model_name": "LayoutModel",
            "_view_count": null,
            "_view_module": "@jupyter-widgets/base",
            "_view_module_version": "1.2.0",
            "_view_name": "LayoutView",
            "align_content": null,
            "align_items": null,
            "align_self": null,
            "border": null,
            "bottom": null,
            "display": null,
            "flex": null,
            "flex_flow": null,
            "grid_area": null,
            "grid_auto_columns": null,
            "grid_auto_flow": null,
            "grid_auto_rows": null,
            "grid_column": null,
            "grid_gap": null,
            "grid_row": null,
            "grid_template_areas": null,
            "grid_template_columns": null,
            "grid_template_rows": null,
            "height": null,
            "justify_content": null,
            "justify_items": null,
            "left": null,
            "margin": null,
            "max_height": null,
            "max_width": null,
            "min_height": null,
            "min_width": null,
            "object_fit": null,
            "object_position": null,
            "order": null,
            "overflow": null,
            "overflow_x": null,
            "overflow_y": null,
            "padding": null,
            "right": null,
            "top": null,
            "visibility": null,
            "width": null
          }
        },
        "bea2983c20274c7996f031db041e911a": {
          "model_module": "@jupyter-widgets/controls",
          "model_module_version": "1.5.0",
          "model_name": "HTMLModel",
          "state": {
            "_dom_classes": [],
            "_model_module": "@jupyter-widgets/controls",
            "_model_module_version": "1.5.0",
            "_model_name": "HTMLModel",
            "_view_count": null,
            "_view_module": "@jupyter-widgets/controls",
            "_view_module_version": "1.5.0",
            "_view_name": "HTMLView",
            "description": "",
            "description_tooltip": null,
            "layout": "IPY_MODEL_a9be15c42ca5479dbd1340680811ac58",
            "placeholder": "​",
            "style": "IPY_MODEL_2bb3d2386928447caea2d9aa54937776",
            "value": ""
          }
        },
        "bf16438866284d538ac3a20f54d3efb0": {
          "model_module": "@jupyter-widgets/base",
          "model_module_version": "1.2.0",
          "model_name": "LayoutModel",
          "state": {
            "_model_module": "@jupyter-widgets/base",
            "_model_module_version": "1.2.0",
            "_model_name": "LayoutModel",
            "_view_count": null,
            "_view_module": "@jupyter-widgets/base",
            "_view_module_version": "1.2.0",
            "_view_name": "LayoutView",
            "align_content": null,
            "align_items": null,
            "align_self": null,
            "border": null,
            "bottom": null,
            "display": null,
            "flex": null,
            "flex_flow": null,
            "grid_area": null,
            "grid_auto_columns": null,
            "grid_auto_flow": null,
            "grid_auto_rows": null,
            "grid_column": null,
            "grid_gap": null,
            "grid_row": null,
            "grid_template_areas": null,
            "grid_template_columns": null,
            "grid_template_rows": null,
            "height": null,
            "justify_content": null,
            "justify_items": null,
            "left": null,
            "margin": null,
            "max_height": null,
            "max_width": null,
            "min_height": null,
            "min_width": null,
            "object_fit": null,
            "object_position": null,
            "order": null,
            "overflow": null,
            "overflow_x": null,
            "overflow_y": null,
            "padding": null,
            "right": null,
            "top": null,
            "visibility": null,
            "width": null
          }
        },
        "c999d5890e4a4ef3ad076e733a54d218": {
          "model_module": "@jupyter-widgets/base",
          "model_module_version": "1.2.0",
          "model_name": "LayoutModel",
          "state": {
            "_model_module": "@jupyter-widgets/base",
            "_model_module_version": "1.2.0",
            "_model_name": "LayoutModel",
            "_view_count": null,
            "_view_module": "@jupyter-widgets/base",
            "_view_module_version": "1.2.0",
            "_view_name": "LayoutView",
            "align_content": null,
            "align_items": null,
            "align_self": null,
            "border": null,
            "bottom": null,
            "display": null,
            "flex": null,
            "flex_flow": null,
            "grid_area": null,
            "grid_auto_columns": null,
            "grid_auto_flow": null,
            "grid_auto_rows": null,
            "grid_column": null,
            "grid_gap": null,
            "grid_row": null,
            "grid_template_areas": null,
            "grid_template_columns": null,
            "grid_template_rows": null,
            "height": null,
            "justify_content": null,
            "justify_items": null,
            "left": null,
            "margin": null,
            "max_height": null,
            "max_width": null,
            "min_height": null,
            "min_width": null,
            "object_fit": null,
            "object_position": null,
            "order": null,
            "overflow": null,
            "overflow_x": null,
            "overflow_y": null,
            "padding": null,
            "right": null,
            "top": null,
            "visibility": null,
            "width": null
          }
        },
        "d18a058c825542bf890fbf24df360494": {
          "model_module": "@jupyter-widgets/controls",
          "model_module_version": "1.5.0",
          "model_name": "HTMLModel",
          "state": {
            "_dom_classes": [],
            "_model_module": "@jupyter-widgets/controls",
            "_model_module_version": "1.5.0",
            "_model_name": "HTMLModel",
            "_view_count": null,
            "_view_module": "@jupyter-widgets/controls",
            "_view_module_version": "1.5.0",
            "_view_name": "HTMLView",
            "description": "",
            "description_tooltip": null,
            "layout": "IPY_MODEL_12d9c55a05134da8894c2eaed4d100db",
            "placeholder": "​",
            "style": "IPY_MODEL_44faead6166f4304b517d629b9054478",
            "value": " 5/5 [01:15&lt;00:00, 14.55s/it]"
          }
        },
        "da7b0c5a83ea45d58a6a9a829db5cf6c": {
          "model_module": "@jupyter-widgets/controls",
          "model_module_version": "1.5.0",
          "model_name": "ProgressStyleModel",
          "state": {
            "_model_module": "@jupyter-widgets/controls",
            "_model_module_version": "1.5.0",
            "_model_name": "ProgressStyleModel",
            "_view_count": null,
            "_view_module": "@jupyter-widgets/base",
            "_view_module_version": "1.2.0",
            "_view_name": "StyleView",
            "bar_color": null,
            "description_width": ""
          }
        },
        "e27535d66499494fa087c4b6f377f49c": {
          "model_module": "@jupyter-widgets/controls",
          "model_module_version": "1.5.0",
          "model_name": "HTMLModel",
          "state": {
            "_dom_classes": [],
            "_model_module": "@jupyter-widgets/controls",
            "_model_module_version": "1.5.0",
            "_model_name": "HTMLModel",
            "_view_count": null,
            "_view_module": "@jupyter-widgets/controls",
            "_view_module_version": "1.5.0",
            "_view_name": "HTMLView",
            "description": "",
            "description_tooltip": null,
            "layout": "IPY_MODEL_5cfb3655ac8547c2aee0dc42abcf6098",
            "placeholder": "​",
            "style": "IPY_MODEL_e6fb9a62e7b042d1b54e8d72ff9017d9",
            "value": "100%"
          }
        },
        "e6fb9a62e7b042d1b54e8d72ff9017d9": {
          "model_module": "@jupyter-widgets/controls",
          "model_module_version": "1.5.0",
          "model_name": "DescriptionStyleModel",
          "state": {
            "_model_module": "@jupyter-widgets/controls",
            "_model_module_version": "1.5.0",
            "_model_name": "DescriptionStyleModel",
            "_view_count": null,
            "_view_module": "@jupyter-widgets/base",
            "_view_module_version": "1.2.0",
            "_view_name": "StyleView",
            "description_width": ""
          }
        },
        "ed813370b81c4b2ab90b14ba76104b29": {
          "model_module": "@jupyter-widgets/controls",
          "model_module_version": "1.5.0",
          "model_name": "FloatProgressModel",
          "state": {
            "_dom_classes": [],
            "_model_module": "@jupyter-widgets/controls",
            "_model_module_version": "1.5.0",
            "_model_name": "FloatProgressModel",
            "_view_count": null,
            "_view_module": "@jupyter-widgets/controls",
            "_view_module_version": "1.5.0",
            "_view_name": "ProgressView",
            "bar_style": "success",
            "description": "",
            "description_tooltip": null,
            "layout": "IPY_MODEL_73781ecdd4504b73a93cd39a771345d4",
            "max": 5,
            "min": 0,
            "orientation": "horizontal",
            "style": "IPY_MODEL_f8197cad740b470d990cdd5136ab2257",
            "value": 5
          }
        },
        "f8197cad740b470d990cdd5136ab2257": {
          "model_module": "@jupyter-widgets/controls",
          "model_module_version": "1.5.0",
          "model_name": "ProgressStyleModel",
          "state": {
            "_model_module": "@jupyter-widgets/controls",
            "_model_module_version": "1.5.0",
            "_model_name": "ProgressStyleModel",
            "_view_count": null,
            "_view_module": "@jupyter-widgets/base",
            "_view_module_version": "1.2.0",
            "_view_name": "StyleView",
            "bar_color": null,
            "description_width": ""
          }
        },
        "fbd08fcb31624a92bc4035d4d2940df0": {
          "model_module": "@jupyter-widgets/base",
          "model_module_version": "1.2.0",
          "model_name": "LayoutModel",
          "state": {
            "_model_module": "@jupyter-widgets/base",
            "_model_module_version": "1.2.0",
            "_model_name": "LayoutModel",
            "_view_count": null,
            "_view_module": "@jupyter-widgets/base",
            "_view_module_version": "1.2.0",
            "_view_name": "LayoutView",
            "align_content": null,
            "align_items": null,
            "align_self": null,
            "border": null,
            "bottom": null,
            "display": null,
            "flex": null,
            "flex_flow": null,
            "grid_area": null,
            "grid_auto_columns": null,
            "grid_auto_flow": null,
            "grid_auto_rows": null,
            "grid_column": null,
            "grid_gap": null,
            "grid_row": null,
            "grid_template_areas": null,
            "grid_template_columns": null,
            "grid_template_rows": null,
            "height": null,
            "justify_content": null,
            "justify_items": null,
            "left": null,
            "margin": null,
            "max_height": null,
            "max_width": null,
            "min_height": null,
            "min_width": null,
            "object_fit": null,
            "object_position": null,
            "order": null,
            "overflow": null,
            "overflow_x": null,
            "overflow_y": null,
            "padding": null,
            "right": null,
            "top": null,
            "visibility": null,
            "width": null
          }
        }
      }
    }
  },
  "nbformat": 4,
  "nbformat_minor": 0
}
