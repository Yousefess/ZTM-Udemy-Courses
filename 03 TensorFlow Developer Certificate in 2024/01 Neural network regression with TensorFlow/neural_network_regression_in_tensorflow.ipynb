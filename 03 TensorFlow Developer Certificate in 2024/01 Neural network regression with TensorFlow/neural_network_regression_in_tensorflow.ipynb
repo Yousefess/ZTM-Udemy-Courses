{
  "nbformat": 4,
  "nbformat_minor": 0,
  "metadata": {
    "colab": {
      "provenance": []
    },
    "kernelspec": {
      "name": "python3",
      "display_name": "Python 3"
    }
  },
  "cells": [
    {
      "cell_type": "markdown",
      "metadata": {
        "id": "nKarSre47Ahv"
      },
      "source": [
        "# Introduction to Regression with Neural Networks in TensorFlow\n",
        "\n",
        "There are many definitions for a regression problem but in our case, we're going to simplify it: predicting a numerical variable based on some other combination of variables, even shorter... predicting a number."
      ]
    },
    {
      "cell_type": "code",
      "metadata": {
        "colab": {
          "base_uri": "https://localhost:8080/"
        },
        "id": "3u8MsQmV7hDo",
        "outputId": "5af49f8e-f128-46dc-9717-df52b25c7b9a"
      },
      "source": [
        "# Import TensorFlow\n",
        "import tensorflow as tf\n",
        "print(tf.__version__)"
      ],
      "execution_count": 1,
      "outputs": [
        {
          "output_type": "stream",
          "name": "stdout",
          "text": [
            "2.15.0\n"
          ]
        }
      ]
    },
    {
      "cell_type": "markdown",
      "metadata": {
        "id": "IalXU1QB7spg"
      },
      "source": [
        "## Creating data to view and fit"
      ]
    },
    {
      "cell_type": "code",
      "metadata": {
        "colab": {
          "base_uri": "https://localhost:8080/",
          "height": 435
        },
        "id": "YQZbzH4O70xl",
        "outputId": "eec8410b-bfcc-4209-eccd-72ec97b75e76"
      },
      "source": [
        "import numpy as np\n",
        "import matplotlib.pyplot as plt\n",
        "\n",
        "# Create features\n",
        "X = np.array([-7.0, -4.0, -1.0, 2.0, 5.0, 8.0, 11.0, 14.0])\n",
        "\n",
        "# Create labels\n",
        "y = np.array([3.0, 6.0, 9.0, 12.0, 15.0, 18.0, 21.0, 24.0])\n",
        "\n",
        "# Visualize it\n",
        "plt.scatter(X, y);"
      ],
      "execution_count": 2,
      "outputs": [
        {
          "output_type": "display_data",
          "data": {
            "text/plain": [
              "<Figure size 640x480 with 1 Axes>"
            ],
            "image/png": "[encoded data removed]"
          },
          "metadata": {}
        }
      ]
    },
    {
      "cell_type": "code",
      "metadata": {
        "colab": {
          "base_uri": "https://localhost:8080/"
        },
        "id": "clux4ncl8TJ8",
        "outputId": "634a87d7-d41b-4310-90e9-fa239b992147"
      },
      "source": [
        "y == X + 10"
      ],
      "execution_count": 3,
      "outputs": [
        {
          "output_type": "execute_result",
          "data": {
            "text/plain": [
              "array([ True,  True,  True,  True,  True,  True,  True,  True])"
            ]
          },
          "metadata": {},
          "execution_count": 3
        }
      ]
    },
    {
      "cell_type": "markdown",
      "metadata": {
        "id": "KWmKUOWc8mdz"
      },
      "source": [
        "## Input and output shapes"
      ]
    },
    {
      "cell_type": "code",
      "metadata": {
        "colab": {
          "base_uri": "https://localhost:8080/"
        },
        "id": "zmEIIElh8x1Z",
        "outputId": "e95669c4-8fd8-4af7-d520-a91b5ade0898"
      },
      "source": [
        "# Create a demo tensor for our housing price prediction problem\n",
        "house_info = tf.constant([\"bedroom\", \"bathroom\", \"garage\"])\n",
        "house_price = tf.constant([939700])\n",
        "house_info, house_price"
      ],
      "execution_count": 4,
      "outputs": [
        {
          "output_type": "execute_result",
          "data": {
            "text/plain": [
              "(<tf.Tensor: shape=(3,), dtype=string, numpy=array([b'bedroom', b'bathroom', b'garage'], dtype=object)>,\n",
              " <tf.Tensor: shape=(1,), dtype=int32, numpy=array([939700], dtype=int32)>)"
            ]
          },
          "metadata": {},
          "execution_count": 4
        }
      ]
    },
    {
      "cell_type": "code",
      "metadata": {
        "colab": {
          "base_uri": "https://localhost:8080/"
        },
        "id": "DExhPoos9gZF",
        "outputId": "656ed453-9942-446a-ff71-ee07cdf8e9eb"
      },
      "source": [
        "X[0], y[0]"
      ],
      "execution_count": 5,
      "outputs": [
        {
          "output_type": "execute_result",
          "data": {
            "text/plain": [
              "(-7.0, 3.0)"
            ]
          },
          "metadata": {},
          "execution_count": 5
        }
      ]
    },
    {
      "cell_type": "code",
      "metadata": {
        "colab": {
          "base_uri": "https://localhost:8080/"
        },
        "id": "Nq-Pb-Z69jxp",
        "outputId": "66073506-bec3-49f9-bab4-722e98d6a55b"
      },
      "source": [
        "X[1], y[1]"
      ],
      "execution_count": 6,
      "outputs": [
        {
          "output_type": "execute_result",
          "data": {
            "text/plain": [
              "(-4.0, 6.0)"
            ]
          },
          "metadata": {},
          "execution_count": 6
        }
      ]
    },
    {
      "cell_type": "code",
      "metadata": {
        "colab": {
          "base_uri": "https://localhost:8080/"
        },
        "id": "m-20V_X69OE0",
        "outputId": "17e133eb-de9f-4920-e827-ab715dd7c6e6"
      },
      "source": [
        "input_shape = X[0].shape\n",
        "output_shape = y[0].shape\n",
        "input_shape, output_shape"
      ],
      "execution_count": 7,
      "outputs": [
        {
          "output_type": "execute_result",
          "data": {
            "text/plain": [
              "((), ())"
            ]
          },
          "metadata": {},
          "execution_count": 7
        }
      ]
    },
    {
      "cell_type": "code",
      "metadata": {
        "colab": {
          "base_uri": "https://localhost:8080/"
        },
        "id": "UaOI4HU19bBJ",
        "outputId": "d15edb24-3fe7-45b2-e1fe-44b1ed2e69c6"
      },
      "source": [
        "X[0].ndim"
      ],
      "execution_count": 8,
      "outputs": [
        {
          "output_type": "execute_result",
          "data": {
            "text/plain": [
              "0"
            ]
          },
          "metadata": {},
          "execution_count": 8
        }
      ]
    },
    {
      "cell_type": "code",
      "metadata": {
        "colab": {
          "base_uri": "https://localhost:8080/"
        },
        "id": "iYHpBCXQ93xD",
        "outputId": "0ae88b40-5add-4eb8-9e82-5d9ca2f1f85e"
      },
      "source": [
        "X[0], y[0]"
      ],
      "execution_count": 9,
      "outputs": [
        {
          "output_type": "execute_result",
          "data": {
            "text/plain": [
              "(-7.0, 3.0)"
            ]
          },
          "metadata": {},
          "execution_count": 9
        }
      ]
    },
    {
      "cell_type": "code",
      "metadata": {
        "colab": {
          "base_uri": "https://localhost:8080/"
        },
        "id": "CXXzG3aR97i7",
        "outputId": "f6c248dc-cdbd-4cac-efc9-26e3c7bc846d"
      },
      "source": [
        "# Turn our NumPy arrays into tensors with dtype float32\n",
        "X = tf.cast(tf.constant(X), dtype=tf.float32)\n",
        "y = tf.cast(tf.constant(y), dtype=tf.float32)\n",
        "X, y"
      ],
      "execution_count": 10,
      "outputs": [
        {
          "output_type": "execute_result",
          "data": {
            "text/plain": [
              "(<tf.Tensor: shape=(8,), dtype=float32, numpy=array([-7., -4., -1.,  2.,  5.,  8., 11., 14.], dtype=float32)>,\n",
              " <tf.Tensor: shape=(8,), dtype=float32, numpy=array([ 3.,  6.,  9., 12., 15., 18., 21., 24.], dtype=float32)>)"
            ]
          },
          "metadata": {},
          "execution_count": 10
        }
      ]
    },
    {
      "cell_type": "code",
      "metadata": {
        "colab": {
          "base_uri": "https://localhost:8080/"
        },
        "id": "bTUb3n6d_FrY",
        "outputId": "dfbec798-a2e7-474c-dbb3-28566017e7a5"
      },
      "source": [
        "input_shape = X[0].shape\n",
        "output_shape = y[0].shape\n",
        "input_shape, output_shape"
      ],
      "execution_count": 11,
      "outputs": [
        {
          "output_type": "execute_result",
          "data": {
            "text/plain": [
              "(TensorShape([]), TensorShape([]))"
            ]
          },
          "metadata": {},
          "execution_count": 11
        }
      ]
    },
    {
      "cell_type": "code",
      "metadata": {
        "colab": {
          "base_uri": "https://localhost:8080/",
          "height": 452
        },
        "id": "NUB3rlwu_OZ5",
        "outputId": "54a68fa5-3c28-4ec9-926a-9587f66af028"
      },
      "source": [
        "plt.scatter(X, y)"
      ],
      "execution_count": 12,
      "outputs": [
        {
          "output_type": "execute_result",
          "data": {
            "text/plain": [
              "<matplotlib.collections.PathCollection at 0x79b4fa792890>"
            ]
          },
          "metadata": {},
          "execution_count": 12
        },
        {
          "output_type": "display_data",
          "data": {
            "text/plain": [
              "<Figure size 640x480 with 1 Axes>"
            ],
            "image/png": "[encoded data removed]"
          },
          "metadata": {}
        }
      ]
    },
    {
      "cell_type": "markdown",
      "metadata": {
        "id": "mu0RYMXr_VC-"
      },
      "source": [
        "## Steps in modelling with TensorFlow\n",
        "\n",
        "1. **Creating a model** - define the input and output layers, as well as the hidden layers of a deep learning model.\n",
        "2. **Compiling a model** - define the loss funtion (in other words, the function which tells our model how wrong it is) and the optimizer (tells our model how to improve the patterns its learning) and evaluation metrics (what we can use to interpret the performance of our model).\n",
        "3. Fitting a model - letting the model try to find patterns between X & y (features and labels)."
      ]
    },
    {
      "cell_type": "code",
      "metadata": {
        "colab": {
          "base_uri": "https://localhost:8080/"
        },
        "id": "V9k5wWQe_aU3",
        "outputId": "5ed9fa87-036e-4b81-c026-a9b95307d280"
      },
      "source": [
        "# Set random seed\n",
        "tf.random.set_seed(42)\n",
        "\n",
        "# 1. Create a model using the Sequential API\n",
        "model = tf.keras.Sequential([\n",
        "  tf.keras.layers.Dense(1)\n",
        "])\n",
        "\n",
        "# 2. Compile the model\n",
        "model.compile(loss=tf.keras.losses.mae, # mae is short for mean absolute error\n",
        "              optimizer=tf.keras.optimizers.SGD(), # sgd is short for stochasitc gradient descent\n",
        "              metrics=[\"mae\"])\n",
        "\n",
        "# 3. Fit the model\n",
        "model.fit(tf.reshape(X, shape=(8, 1)), tf.reshape(y, shape=(8, 1)), epochs=5)"
      ],
      "execution_count": 17,
      "outputs": [
        {
          "output_type": "stream",
          "name": "stdout",
          "text": [
            "Epoch 1/5\n",
            "1/1 [==============================] - 1s 1s/step - loss: 10.7479 - mae: 10.7479\n",
            "Epoch 2/5\n",
            "1/1 [==============================] - 0s 19ms/step - loss: 10.6154 - mae: 10.6154\n",
            "Epoch 3/5\n",
            "1/1 [==============================] - 0s 19ms/step - loss: 10.4829 - mae: 10.4829\n",
            "Epoch 4/5\n",
            "1/1 [==============================] - 0s 15ms/step - loss: 10.3504 - mae: 10.3504\n",
            "Epoch 5/5\n",
            "1/1 [==============================] - 0s 18ms/step - loss: 10.2179 - mae: 10.2179\n"
          ]
        },
        {
          "output_type": "execute_result",
          "data": {
            "text/plain": [
              "<keras.src.callbacks.History at 0x79b4f57698d0>"
            ]
          },
          "metadata": {},
          "execution_count": 17
        }
      ]
    },
    {
      "cell_type": "code",
      "metadata": {
        "colab": {
          "base_uri": "https://localhost:8080/"
        },
        "id": "sOkNe41hChw-",
        "outputId": "54d648e2-9446-4a25-f25e-9353e01f52ab"
      },
      "source": [
        "# Check out X and y\n",
        "X, y"
      ],
      "execution_count": 18,
      "outputs": [
        {
          "output_type": "execute_result",
          "data": {
            "text/plain": [
              "(<tf.Tensor: shape=(8,), dtype=float32, numpy=array([-7., -4., -1.,  2.,  5.,  8., 11., 14.], dtype=float32)>,\n",
              " <tf.Tensor: shape=(8,), dtype=float32, numpy=array([ 3.,  6.,  9., 12., 15., 18., 21., 24.], dtype=float32)>)"
            ]
          },
          "metadata": {},
          "execution_count": 18
        }
      ]
    },
    {
      "cell_type": "code",
      "metadata": {
        "colab": {
          "base_uri": "https://localhost:8080/"
        },
        "id": "_JBE5S-4DQFj",
        "outputId": "66435614-d337-4439-a96c-ab0a6b8b6620"
      },
      "source": [
        "# Try and make a prediction using our model\n",
        "y_pred = model.predict([17.0])\n",
        "y_pred"
      ],
      "execution_count": 19,
      "outputs": [
        {
          "output_type": "stream",
          "name": "stdout",
          "text": [
            "1/1 [==============================] - 0s 98ms/step\n"
          ]
        },
        {
          "output_type": "execute_result",
          "data": {
            "text/plain": [
              "array([[16.392155]], dtype=float32)"
            ]
          },
          "metadata": {},
          "execution_count": 19
        }
      ]
    },
    {
      "cell_type": "code",
      "metadata": {
        "colab": {
          "base_uri": "https://localhost:8080/"
        },
        "id": "HZm0x_e0DdvS",
        "outputId": "07fa20df-ca67-418c-a7f8-d4a198eacc36"
      },
      "source": [
        "y_pred + 11"
      ],
      "execution_count": 20,
      "outputs": [
        {
          "output_type": "execute_result",
          "data": {
            "text/plain": [
              "array([[27.392155]], dtype=float32)"
            ]
          },
          "metadata": {},
          "execution_count": 20
        }
      ]
    },
    {
      "cell_type": "markdown",
      "metadata": {
        "id": "8RIo2cOiDrHC"
      },
      "source": [
        "## Improving our model\n",
        "\n",
        "We can improve our model, by altering the steps we took to create a model.\n",
        "\n",
        "1. **Creating a model** - here we might add more layers, increase the number of hidden units (all called neurons) within each of the hideen layers, change the activation function of each layer.\n",
        "2. **Compiling a model** - here we might change the optimization function or perhaps the **learning rate** of the optimization function.\n",
        "3. **Fitting a model** - here we might fit a model for more **epochs** (leave it training for longer) or on more data (give the model more examples to learn from)."
      ]
    },
    {
      "cell_type": "code",
      "metadata": {
        "colab": {
          "base_uri": "https://localhost:8080/"
        },
        "id": "Ki4x75jCDwlu",
        "outputId": "69e7cef2-55f1-4b94-a0d1-572f470dbe29"
      },
      "source": [
        "# Let's rebuild our model\n",
        "\n",
        "# 1. Create the model\n",
        "model = tf.keras.Sequential([\n",
        "  tf.keras.layers.Dense(1)\n",
        "])\n",
        "\n",
        "# 2. Compile the model\n",
        "model.compile(loss=tf.keras.losses.mae,\n",
        "              optimizer=tf.keras.optimizers.SGD(),\n",
        "              metrics=[\"mae\"])\n",
        "\n",
        "# 3. Fit the model (this time we'll train for longer)\n",
        "model.fit(tf.reshape(X, shape=(8, 1)), tf.reshape(y, shape=(8, 1)), epochs=100)"
      ],
      "execution_count": 22,
      "outputs": [
        {
          "output_type": "stream",
          "name": "stdout",
          "text": [
            "Epoch 1/100\n",
            "1/1 [==============================] - 1s 1s/step - loss: 7.8058 - mae: 7.8058\n",
            "Epoch 2/100\n",
            "1/1 [==============================] - 0s 9ms/step - loss: 7.6733 - mae: 7.6733\n",
            "Epoch 3/100\n",
            "1/1 [==============================] - 0s 20ms/step - loss: 7.5408 - mae: 7.5408\n",
            "Epoch 4/100\n",
            "1/1 [==============================] - 0s 17ms/step - loss: 7.4775 - mae: 7.4775\n",
            "Epoch 5/100\n",
            "1/1 [==============================] - 0s 22ms/step - loss: 7.4719 - mae: 7.4719\n",
            "Epoch 6/100\n",
            "1/1 [==============================] - 0s 20ms/step - loss: 7.4662 - mae: 7.4662\n",
            "Epoch 7/100\n",
            "1/1 [==============================] - 0s 26ms/step - loss: 7.4606 - mae: 7.4606\n",
            "Epoch 8/100\n",
            "1/1 [==============================] - 0s 13ms/step - loss: 7.4550 - mae: 7.4550\n",
            "Epoch 9/100\n",
            "1/1 [==============================] - 0s 28ms/step - loss: 7.4494 - mae: 7.4494\n",
            "Epoch 10/100\n",
            "1/1 [==============================] - 0s 18ms/step - loss: 7.4437 - mae: 7.4437\n",
            "Epoch 11/100\n",
            "1/1 [==============================] - 0s 22ms/step - loss: 7.4381 - mae: 7.4381\n",
            "Epoch 12/100\n",
            "1/1 [==============================] - 0s 16ms/step - loss: 7.4325 - mae: 7.4325\n",
            "Epoch 13/100\n",
            "1/1 [==============================] - 0s 12ms/step - loss: 7.4269 - mae: 7.4269\n",
            "Epoch 14/100\n",
            "1/1 [==============================] - 0s 14ms/step - loss: 7.4212 - mae: 7.4212\n",
            "Epoch 15/100\n",
            "1/1 [==============================] - 0s 16ms/step - loss: 7.4156 - mae: 7.4156\n",
            "Epoch 16/100\n",
            "1/1 [==============================] - 0s 18ms/step - loss: 7.4100 - mae: 7.4100\n",
            "Epoch 17/100\n",
            "1/1 [==============================] - 0s 33ms/step - loss: 7.4044 - mae: 7.4044\n",
            "Epoch 18/100\n",
            "1/1 [==============================] - 0s 23ms/step - loss: 7.3987 - mae: 7.3987\n",
            "Epoch 19/100\n",
            "1/1 [==============================] - 0s 18ms/step - loss: 7.3931 - mae: 7.3931\n",
            "Epoch 20/100\n",
            "1/1 [==============================] - 0s 17ms/step - loss: 7.3875 - mae: 7.3875\n",
            "Epoch 21/100\n",
            "1/1 [==============================] - 0s 76ms/step - loss: 7.3819 - mae: 7.3819\n",
            "Epoch 22/100\n",
            "1/1 [==============================] - 0s 61ms/step - loss: 7.3763 - mae: 7.3763\n",
            "Epoch 23/100\n",
            "1/1 [==============================] - 0s 39ms/step - loss: 7.3706 - mae: 7.3706\n",
            "Epoch 24/100\n",
            "1/1 [==============================] - 0s 42ms/step - loss: 7.3650 - mae: 7.3650\n",
            "Epoch 25/100\n",
            "1/1 [==============================] - 0s 62ms/step - loss: 7.3594 - mae: 7.3594\n",
            "Epoch 26/100\n",
            "1/1 [==============================] - 0s 43ms/step - loss: 7.3538 - mae: 7.3538\n",
            "Epoch 27/100\n",
            "1/1 [==============================] - 0s 35ms/step - loss: 7.3481 - mae: 7.3481\n",
            "Epoch 28/100\n",
            "1/1 [==============================] - 0s 37ms/step - loss: 7.3425 - mae: 7.3425\n",
            "Epoch 29/100\n",
            "1/1 [==============================] - 0s 33ms/step - loss: 7.3369 - mae: 7.3369\n",
            "Epoch 30/100\n",
            "1/1 [==============================] - 0s 29ms/step - loss: 7.3312 - mae: 7.3312\n",
            "Epoch 31/100\n",
            "1/1 [==============================] - 0s 35ms/step - loss: 7.3256 - mae: 7.3256\n",
            "Epoch 32/100\n",
            "1/1 [==============================] - 0s 36ms/step - loss: 7.3200 - mae: 7.3200\n",
            "Epoch 33/100\n",
            "1/1 [==============================] - 0s 51ms/step - loss: 7.3144 - mae: 7.3144\n",
            "Epoch 34/100\n",
            "1/1 [==============================] - 0s 39ms/step - loss: 7.3088 - mae: 7.3088\n",
            "Epoch 35/100\n",
            "1/1 [==============================] - 0s 40ms/step - loss: 7.3031 - mae: 7.3031\n",
            "Epoch 36/100\n",
            "1/1 [==============================] - 0s 30ms/step - loss: 7.2975 - mae: 7.2975\n",
            "Epoch 37/100\n",
            "1/1 [==============================] - 0s 41ms/step - loss: 7.2919 - mae: 7.2919\n",
            "Epoch 38/100\n",
            "1/1 [==============================] - 0s 38ms/step - loss: 7.2863 - mae: 7.2863\n",
            "Epoch 39/100\n",
            "1/1 [==============================] - 0s 32ms/step - loss: 7.2806 - mae: 7.2806\n",
            "Epoch 40/100\n",
            "1/1 [==============================] - 0s 26ms/step - loss: 7.2750 - mae: 7.2750\n",
            "Epoch 41/100\n",
            "1/1 [==============================] - 0s 21ms/step - loss: 7.2694 - mae: 7.2694\n",
            "Epoch 42/100\n",
            "1/1 [==============================] - 0s 29ms/step - loss: 7.2638 - mae: 7.2638\n",
            "Epoch 43/100\n",
            "1/1 [==============================] - 0s 28ms/step - loss: 7.2581 - mae: 7.2581\n",
            "Epoch 44/100\n",
            "1/1 [==============================] - 0s 27ms/step - loss: 7.2525 - mae: 7.2525\n",
            "Epoch 45/100\n",
            "1/1 [==============================] - 0s 17ms/step - loss: 7.2469 - mae: 7.2469\n",
            "Epoch 46/100\n",
            "1/1 [==============================] - 0s 19ms/step - loss: 7.2413 - mae: 7.2413\n",
            "Epoch 47/100\n",
            "1/1 [==============================] - 0s 21ms/step - loss: 7.2356 - mae: 7.2356\n",
            "Epoch 48/100\n",
            "1/1 [==============================] - 0s 27ms/step - loss: 7.2300 - mae: 7.2300\n",
            "Epoch 49/100\n",
            "1/1 [==============================] - 0s 17ms/step - loss: 7.2244 - mae: 7.2244\n",
            "Epoch 50/100\n",
            "1/1 [==============================] - 0s 33ms/step - loss: 7.2187 - mae: 7.2187\n",
            "Epoch 51/100\n",
            "1/1 [==============================] - 0s 21ms/step - loss: 7.2131 - mae: 7.2131\n",
            "Epoch 52/100\n",
            "1/1 [==============================] - 0s 16ms/step - loss: 7.2075 - mae: 7.2075\n",
            "Epoch 53/100\n",
            "1/1 [==============================] - 0s 15ms/step - loss: 7.2019 - mae: 7.2019\n",
            "Epoch 54/100\n",
            "1/1 [==============================] - 0s 23ms/step - loss: 7.1962 - mae: 7.1962\n",
            "Epoch 55/100\n",
            "1/1 [==============================] - 0s 19ms/step - loss: 7.1906 - mae: 7.1906\n",
            "Epoch 56/100\n",
            "1/1 [==============================] - 0s 24ms/step - loss: 7.1850 - mae: 7.1850\n",
            "Epoch 57/100\n",
            "1/1 [==============================] - 0s 28ms/step - loss: 7.1794 - mae: 7.1794\n",
            "Epoch 58/100\n",
            "1/1 [==============================] - 0s 15ms/step - loss: 7.1737 - mae: 7.1737\n",
            "Epoch 59/100\n",
            "1/1 [==============================] - 0s 18ms/step - loss: 7.1681 - mae: 7.1681\n",
            "Epoch 60/100\n",
            "1/1 [==============================] - 0s 19ms/step - loss: 7.1625 - mae: 7.1625\n",
            "Epoch 61/100\n",
            "1/1 [==============================] - 0s 15ms/step - loss: 7.1569 - mae: 7.1569\n",
            "Epoch 62/100\n",
            "1/1 [==============================] - 0s 13ms/step - loss: 7.1512 - mae: 7.1512\n",
            "Epoch 63/100\n",
            "1/1 [==============================] - 0s 14ms/step - loss: 7.1456 - mae: 7.1456\n",
            "Epoch 64/100\n",
            "1/1 [==============================] - 0s 17ms/step - loss: 7.1400 - mae: 7.1400\n",
            "Epoch 65/100\n",
            "1/1 [==============================] - 0s 15ms/step - loss: 7.1344 - mae: 7.1344\n",
            "Epoch 66/100\n",
            "1/1 [==============================] - 0s 20ms/step - loss: 7.1287 - mae: 7.1287\n",
            "Epoch 67/100\n",
            "1/1 [==============================] - 0s 14ms/step - loss: 7.1231 - mae: 7.1231\n",
            "Epoch 68/100\n",
            "1/1 [==============================] - 0s 15ms/step - loss: 7.1175 - mae: 7.1175\n",
            "Epoch 69/100\n",
            "1/1 [==============================] - 0s 19ms/step - loss: 7.1119 - mae: 7.1119\n",
            "Epoch 70/100\n",
            "1/1 [==============================] - 0s 21ms/step - loss: 7.1063 - mae: 7.1063\n",
            "Epoch 71/100\n",
            "1/1 [==============================] - 0s 17ms/step - loss: 7.1006 - mae: 7.1006\n",
            "Epoch 72/100\n",
            "1/1 [==============================] - 0s 25ms/step - loss: 7.0950 - mae: 7.0950\n",
            "Epoch 73/100\n",
            "1/1 [==============================] - 0s 18ms/step - loss: 7.0894 - mae: 7.0894\n",
            "Epoch 74/100\n",
            "1/1 [==============================] - 0s 13ms/step - loss: 7.0838 - mae: 7.0838\n",
            "Epoch 75/100\n",
            "1/1 [==============================] - 0s 19ms/step - loss: 7.0781 - mae: 7.0781\n",
            "Epoch 76/100\n",
            "1/1 [==============================] - 0s 19ms/step - loss: 7.0725 - mae: 7.0725\n",
            "Epoch 77/100\n",
            "1/1 [==============================] - 0s 20ms/step - loss: 7.0669 - mae: 7.0669\n",
            "Epoch 78/100\n",
            "1/1 [==============================] - 0s 19ms/step - loss: 7.0613 - mae: 7.0613\n",
            "Epoch 79/100\n",
            "1/1 [==============================] - 0s 19ms/step - loss: 7.0556 - mae: 7.0556\n",
            "Epoch 80/100\n",
            "1/1 [==============================] - 0s 12ms/step - loss: 7.0500 - mae: 7.0500\n",
            "Epoch 81/100\n",
            "1/1 [==============================] - 0s 11ms/step - loss: 7.0444 - mae: 7.0444\n",
            "Epoch 82/100\n",
            "1/1 [==============================] - 0s 17ms/step - loss: 7.0387 - mae: 7.0387\n",
            "Epoch 83/100\n",
            "1/1 [==============================] - 0s 12ms/step - loss: 7.0331 - mae: 7.0331\n",
            "Epoch 84/100\n",
            "1/1 [==============================] - 0s 11ms/step - loss: 7.0275 - mae: 7.0275\n",
            "Epoch 85/100\n",
            "1/1 [==============================] - 0s 17ms/step - loss: 7.0219 - mae: 7.0219\n",
            "Epoch 86/100\n",
            "1/1 [==============================] - 0s 19ms/step - loss: 7.0163 - mae: 7.0163\n",
            "Epoch 87/100\n",
            "1/1 [==============================] - 0s 17ms/step - loss: 7.0106 - mae: 7.0106\n",
            "Epoch 88/100\n",
            "1/1 [==============================] - 0s 14ms/step - loss: 7.0050 - mae: 7.0050\n",
            "Epoch 89/100\n",
            "1/1 [==============================] - 0s 19ms/step - loss: 6.9994 - mae: 6.9994\n",
            "Epoch 90/100\n",
            "1/1 [==============================] - 0s 22ms/step - loss: 6.9938 - mae: 6.9938\n",
            "Epoch 91/100\n",
            "1/1 [==============================] - 0s 18ms/step - loss: 6.9881 - mae: 6.9881\n",
            "Epoch 92/100\n",
            "1/1 [==============================] - 0s 19ms/step - loss: 6.9825 - mae: 6.9825\n",
            "Epoch 93/100\n",
            "1/1 [==============================] - 0s 19ms/step - loss: 6.9769 - mae: 6.9769\n",
            "Epoch 94/100\n",
            "1/1 [==============================] - 0s 16ms/step - loss: 6.9713 - mae: 6.9713\n",
            "Epoch 95/100\n",
            "1/1 [==============================] - 0s 17ms/step - loss: 6.9656 - mae: 6.9656\n",
            "Epoch 96/100\n",
            "1/1 [==============================] - 0s 17ms/step - loss: 6.9600 - mae: 6.9600\n",
            "Epoch 97/100\n",
            "1/1 [==============================] - 0s 18ms/step - loss: 6.9544 - mae: 6.9544\n",
            "Epoch 98/100\n",
            "1/1 [==============================] - 0s 13ms/step - loss: 6.9488 - mae: 6.9488\n",
            "Epoch 99/100\n",
            "1/1 [==============================] - 0s 14ms/step - loss: 6.9431 - mae: 6.9431\n",
            "Epoch 100/100\n",
            "1/1 [==============================] - 0s 15ms/step - loss: 6.9375 - mae: 6.9375\n"
          ]
        },
        {
          "output_type": "execute_result",
          "data": {
            "text/plain": [
              "<keras.src.callbacks.History at 0x79b4f567c520>"
            ]
          },
          "metadata": {},
          "execution_count": 22
        }
      ]
    },
    {
      "cell_type": "code",
      "metadata": {
        "colab": {
          "base_uri": "https://localhost:8080/"
        },
        "id": "UMa-jMl6ccRT",
        "outputId": "6836e9b1-42e6-489a-e328-69a0fe936f57"
      },
      "source": [
        "# Remind ourselves of the data\n",
        "X, y"
      ],
      "execution_count": 23,
      "outputs": [
        {
          "output_type": "execute_result",
          "data": {
            "text/plain": [
              "(<tf.Tensor: shape=(8,), dtype=float32, numpy=array([-7., -4., -1.,  2.,  5.,  8., 11., 14.], dtype=float32)>,\n",
              " <tf.Tensor: shape=(8,), dtype=float32, numpy=array([ 3.,  6.,  9., 12., 15., 18., 21., 24.], dtype=float32)>)"
            ]
          },
          "metadata": {},
          "execution_count": 23
        }
      ]
    },
    {
      "cell_type": "code",
      "metadata": {
        "colab": {
          "base_uri": "https://localhost:8080/"
        },
        "id": "8_w1g_ZKc0K_",
        "outputId": "5f574866-b69a-419a-8c93-c1bf6ab8eeae"
      },
      "source": [
        "# Let's see if our model's prediction has improved...\n",
        "model.predict([17.0])"
      ],
      "execution_count": 24,
      "outputs": [
        {
          "output_type": "stream",
          "name": "stdout",
          "text": [
            "1/1 [==============================] - 0s 65ms/step\n"
          ]
        },
        {
          "output_type": "execute_result",
          "data": {
            "text/plain": [
              "array([[30.200108]], dtype=float32)"
            ]
          },
          "metadata": {},
          "execution_count": 24
        }
      ]
    },
    {
      "cell_type": "code",
      "metadata": {
        "colab": {
          "base_uri": "https://localhost:8080/"
        },
        "id": "y8r7_kLzc932",
        "outputId": "a034b07a-064e-46df-fa7e-0e7358bbd41b"
      },
      "source": [
        "# Let's see if we can make another to improve our model\n",
        "\n",
        "# 1. Create the model (this time with an extra hidden layer with 100 hidden units)\n",
        "model = tf.keras.Sequential([\n",
        "  tf.keras.layers.Dense(50, activation=None),\n",
        "  tf.keras.layers.Dense(1)\n",
        "])\n",
        "\n",
        "# 2. Compile the model\n",
        "model.compile(loss=\"mae\",\n",
        "              optimizer=tf.keras.optimizers.Adam(lr=0.01),\n",
        "              metrics=[\"mae\"])\n",
        "\n",
        "# 3. Fit the model\n",
        "model.fit(tf.reshape(X, shape=(8, 1)), tf.reshape(y, shape=(8, 1)), epochs=100)"
      ],
      "execution_count": 25,
      "outputs": [
        {
          "output_type": "stream",
          "name": "stderr",
          "text": [
            "WARNING:absl:`lr` is deprecated in Keras optimizer, please use `learning_rate` or use the legacy optimizer, e.g.,tf.keras.optimizers.legacy.Adam.\n"
          ]
        },
        {
          "output_type": "stream",
          "name": "stdout",
          "text": [
            "Epoch 1/100\n",
            "1/1 [==============================] - 1s 999ms/step - loss: 12.2398 - mae: 12.2398\n",
            "Epoch 2/100\n",
            "1/1 [==============================] - 0s 22ms/step - loss: 12.1660 - mae: 12.1660\n",
            "Epoch 3/100\n",
            "1/1 [==============================] - 0s 21ms/step - loss: 12.0921 - mae: 12.0921\n",
            "Epoch 4/100\n",
            "1/1 [==============================] - 0s 12ms/step - loss: 12.0182 - mae: 12.0182\n",
            "Epoch 5/100\n",
            "1/1 [==============================] - 0s 11ms/step - loss: 11.9442 - mae: 11.9442\n",
            "Epoch 6/100\n",
            "1/1 [==============================] - 0s 14ms/step - loss: 11.8702 - mae: 11.8702\n",
            "Epoch 7/100\n",
            "1/1 [==============================] - 0s 12ms/step - loss: 11.7962 - mae: 11.7962\n",
            "Epoch 8/100\n",
            "1/1 [==============================] - 0s 11ms/step - loss: 11.7221 - mae: 11.7221\n",
            "Epoch 9/100\n",
            "1/1 [==============================] - 0s 17ms/step - loss: 11.6479 - mae: 11.6479\n",
            "Epoch 10/100\n",
            "1/1 [==============================] - 0s 16ms/step - loss: 11.5736 - mae: 11.5736\n",
            "Epoch 11/100\n",
            "1/1 [==============================] - 0s 13ms/step - loss: 11.4993 - mae: 11.4993\n",
            "Epoch 12/100\n",
            "1/1 [==============================] - 0s 14ms/step - loss: 11.4248 - mae: 11.4248\n",
            "Epoch 13/100\n",
            "1/1 [==============================] - 0s 16ms/step - loss: 11.3503 - mae: 11.3503\n",
            "Epoch 14/100\n",
            "1/1 [==============================] - 0s 15ms/step - loss: 11.2757 - mae: 11.2757\n",
            "Epoch 15/100\n",
            "1/1 [==============================] - 0s 15ms/step - loss: 11.2009 - mae: 11.2009\n",
            "Epoch 16/100\n",
            "1/1 [==============================] - 0s 19ms/step - loss: 11.1261 - mae: 11.1261\n",
            "Epoch 17/100\n",
            "1/1 [==============================] - 0s 16ms/step - loss: 11.0512 - mae: 11.0512\n",
            "Epoch 18/100\n",
            "1/1 [==============================] - 0s 14ms/step - loss: 10.9761 - mae: 10.9761\n",
            "Epoch 19/100\n",
            "1/1 [==============================] - 0s 14ms/step - loss: 10.9009 - mae: 10.9009\n",
            "Epoch 20/100\n",
            "1/1 [==============================] - 0s 14ms/step - loss: 10.8256 - mae: 10.8256\n",
            "Epoch 21/100\n",
            "1/1 [==============================] - 0s 16ms/step - loss: 10.7502 - mae: 10.7502\n",
            "Epoch 22/100\n",
            "1/1 [==============================] - 0s 25ms/step - loss: 10.6746 - mae: 10.6746\n",
            "Epoch 23/100\n",
            "1/1 [==============================] - 0s 24ms/step - loss: 10.5989 - mae: 10.5989\n",
            "Epoch 24/100\n",
            "1/1 [==============================] - 0s 23ms/step - loss: 10.5231 - mae: 10.5231\n",
            "Epoch 25/100\n",
            "1/1 [==============================] - 0s 23ms/step - loss: 10.4470 - mae: 10.4470\n",
            "Epoch 26/100\n",
            "1/1 [==============================] - 0s 25ms/step - loss: 10.3709 - mae: 10.3709\n",
            "Epoch 27/100\n",
            "1/1 [==============================] - 0s 24ms/step - loss: 10.2945 - mae: 10.2945\n",
            "Epoch 28/100\n",
            "1/1 [==============================] - 0s 25ms/step - loss: 10.2180 - mae: 10.2180\n",
            "Epoch 29/100\n",
            "1/1 [==============================] - 0s 27ms/step - loss: 10.1413 - mae: 10.1413\n",
            "Epoch 30/100\n",
            "1/1 [==============================] - 0s 18ms/step - loss: 10.0644 - mae: 10.0644\n",
            "Epoch 31/100\n",
            "1/1 [==============================] - 0s 18ms/step - loss: 9.9873 - mae: 9.9873\n",
            "Epoch 32/100\n",
            "1/1 [==============================] - 0s 18ms/step - loss: 9.9100 - mae: 9.9100\n",
            "Epoch 33/100\n",
            "1/1 [==============================] - 0s 20ms/step - loss: 9.8325 - mae: 9.8325\n",
            "Epoch 34/100\n",
            "1/1 [==============================] - 0s 24ms/step - loss: 9.7547 - mae: 9.7547\n",
            "Epoch 35/100\n",
            "1/1 [==============================] - 0s 17ms/step - loss: 9.6768 - mae: 9.6768\n",
            "Epoch 36/100\n",
            "1/1 [==============================] - 0s 22ms/step - loss: 9.5986 - mae: 9.5986\n",
            "Epoch 37/100\n",
            "1/1 [==============================] - 0s 23ms/step - loss: 9.5201 - mae: 9.5201\n",
            "Epoch 38/100\n",
            "1/1 [==============================] - 0s 21ms/step - loss: 9.4415 - mae: 9.4415\n",
            "Epoch 39/100\n",
            "1/1 [==============================] - 0s 24ms/step - loss: 9.3625 - mae: 9.3625\n",
            "Epoch 40/100\n",
            "1/1 [==============================] - 0s 15ms/step - loss: 9.2834 - mae: 9.2834\n",
            "Epoch 41/100\n",
            "1/1 [==============================] - 0s 21ms/step - loss: 9.2039 - mae: 9.2039\n",
            "Epoch 42/100\n",
            "1/1 [==============================] - 0s 15ms/step - loss: 9.1242 - mae: 9.1242\n",
            "Epoch 43/100\n",
            "1/1 [==============================] - 0s 14ms/step - loss: 9.0441 - mae: 9.0441\n",
            "Epoch 44/100\n",
            "1/1 [==============================] - 0s 14ms/step - loss: 8.9638 - mae: 8.9638\n",
            "Epoch 45/100\n",
            "1/1 [==============================] - 0s 18ms/step - loss: 8.8832 - mae: 8.8832\n",
            "Epoch 46/100\n",
            "1/1 [==============================] - 0s 15ms/step - loss: 8.8023 - mae: 8.8023\n",
            "Epoch 47/100\n",
            "1/1 [==============================] - 0s 25ms/step - loss: 8.7211 - mae: 8.7211\n",
            "Epoch 48/100\n",
            "1/1 [==============================] - 0s 28ms/step - loss: 8.6396 - mae: 8.6396\n",
            "Epoch 49/100\n",
            "1/1 [==============================] - 0s 15ms/step - loss: 8.5577 - mae: 8.5577\n",
            "Epoch 50/100\n",
            "1/1 [==============================] - 0s 13ms/step - loss: 8.4755 - mae: 8.4755\n",
            "Epoch 51/100\n",
            "1/1 [==============================] - 0s 13ms/step - loss: 8.3930 - mae: 8.3930\n",
            "Epoch 52/100\n",
            "1/1 [==============================] - 0s 14ms/step - loss: 8.3101 - mae: 8.3101\n",
            "Epoch 53/100\n",
            "1/1 [==============================] - 0s 16ms/step - loss: 8.2268 - mae: 8.2268\n",
            "Epoch 54/100\n",
            "1/1 [==============================] - 0s 11ms/step - loss: 8.1432 - mae: 8.1432\n",
            "Epoch 55/100\n",
            "1/1 [==============================] - 0s 14ms/step - loss: 8.0592 - mae: 8.0592\n",
            "Epoch 56/100\n",
            "1/1 [==============================] - 0s 14ms/step - loss: 7.9749 - mae: 7.9749\n",
            "Epoch 57/100\n",
            "1/1 [==============================] - 0s 12ms/step - loss: 7.8901 - mae: 7.8901\n",
            "Epoch 58/100\n",
            "1/1 [==============================] - 0s 12ms/step - loss: 7.8050 - mae: 7.8050\n",
            "Epoch 59/100\n",
            "1/1 [==============================] - 0s 16ms/step - loss: 7.7194 - mae: 7.7194\n",
            "Epoch 60/100\n",
            "1/1 [==============================] - 0s 13ms/step - loss: 7.6335 - mae: 7.6335\n",
            "Epoch 61/100\n",
            "1/1 [==============================] - 0s 12ms/step - loss: 7.5471 - mae: 7.5471\n",
            "Epoch 62/100\n",
            "1/1 [==============================] - 0s 11ms/step - loss: 7.4603 - mae: 7.4603\n",
            "Epoch 63/100\n",
            "1/1 [==============================] - 0s 10ms/step - loss: 7.3731 - mae: 7.3731\n",
            "Epoch 64/100\n",
            "1/1 [==============================] - 0s 10ms/step - loss: 7.2855 - mae: 7.2855\n",
            "Epoch 65/100\n",
            "1/1 [==============================] - 0s 10ms/step - loss: 7.1974 - mae: 7.1974\n",
            "Epoch 66/100\n",
            "1/1 [==============================] - 0s 13ms/step - loss: 7.1089 - mae: 7.1089\n",
            "Epoch 67/100\n",
            "1/1 [==============================] - 0s 10ms/step - loss: 7.0199 - mae: 7.0199\n",
            "Epoch 68/100\n",
            "1/1 [==============================] - 0s 11ms/step - loss: 6.9368 - mae: 6.9368\n",
            "Epoch 69/100\n",
            "1/1 [==============================] - 0s 10ms/step - loss: 6.9268 - mae: 6.9268\n",
            "Epoch 70/100\n",
            "1/1 [==============================] - 0s 10ms/step - loss: 6.9171 - mae: 6.9171\n",
            "Epoch 71/100\n",
            "1/1 [==============================] - 0s 13ms/step - loss: 6.9075 - mae: 6.9075\n",
            "Epoch 72/100\n",
            "1/1 [==============================] - 0s 12ms/step - loss: 6.8982 - mae: 6.8982\n",
            "Epoch 73/100\n",
            "1/1 [==============================] - 0s 10ms/step - loss: 6.8889 - mae: 6.8889\n",
            "Epoch 74/100\n",
            "1/1 [==============================] - 0s 11ms/step - loss: 6.8798 - mae: 6.8798\n",
            "Epoch 75/100\n",
            "1/1 [==============================] - 0s 9ms/step - loss: 6.8708 - mae: 6.8708\n",
            "Epoch 76/100\n",
            "1/1 [==============================] - 0s 9ms/step - loss: 6.8619 - mae: 6.8619\n",
            "Epoch 77/100\n",
            "1/1 [==============================] - 0s 9ms/step - loss: 6.8531 - mae: 6.8531\n",
            "Epoch 78/100\n",
            "1/1 [==============================] - 0s 9ms/step - loss: 6.8444 - mae: 6.8444\n",
            "Epoch 79/100\n",
            "1/1 [==============================] - 0s 11ms/step - loss: 6.8358 - mae: 6.8358\n",
            "Epoch 80/100\n",
            "1/1 [==============================] - 0s 11ms/step - loss: 6.8272 - mae: 6.8272\n",
            "Epoch 81/100\n",
            "1/1 [==============================] - 0s 12ms/step - loss: 6.8187 - mae: 6.8187\n",
            "Epoch 82/100\n",
            "1/1 [==============================] - 0s 15ms/step - loss: 6.8102 - mae: 6.8102\n",
            "Epoch 83/100\n",
            "1/1 [==============================] - 0s 11ms/step - loss: 6.8183 - mae: 6.8183\n",
            "Epoch 84/100\n",
            "1/1 [==============================] - 0s 10ms/step - loss: 6.8212 - mae: 6.8212\n",
            "Epoch 85/100\n",
            "1/1 [==============================] - 0s 10ms/step - loss: 6.8179 - mae: 6.8179\n",
            "Epoch 86/100\n",
            "1/1 [==============================] - 0s 10ms/step - loss: 6.8093 - mae: 6.8093\n",
            "Epoch 87/100\n",
            "1/1 [==============================] - 0s 10ms/step - loss: 6.7957 - mae: 6.7957\n",
            "Epoch 88/100\n",
            "1/1 [==============================] - 0s 10ms/step - loss: 6.7778 - mae: 6.7778\n",
            "Epoch 89/100\n",
            "1/1 [==============================] - 0s 10ms/step - loss: 6.7589 - mae: 6.7589\n",
            "Epoch 90/100\n",
            "1/1 [==============================] - 0s 15ms/step - loss: 6.7524 - mae: 6.7524\n",
            "Epoch 91/100\n",
            "1/1 [==============================] - 0s 11ms/step - loss: 6.7457 - mae: 6.7457\n",
            "Epoch 92/100\n",
            "1/1 [==============================] - 0s 14ms/step - loss: 6.7389 - mae: 6.7389\n",
            "Epoch 93/100\n",
            "1/1 [==============================] - 0s 10ms/step - loss: 6.7319 - mae: 6.7319\n",
            "Epoch 94/100\n",
            "1/1 [==============================] - 0s 11ms/step - loss: 6.7248 - mae: 6.7248\n",
            "Epoch 95/100\n",
            "1/1 [==============================] - 0s 16ms/step - loss: 6.7176 - mae: 6.7176\n",
            "Epoch 96/100\n",
            "1/1 [==============================] - 0s 12ms/step - loss: 6.7103 - mae: 6.7103\n",
            "Epoch 97/100\n",
            "1/1 [==============================] - 0s 15ms/step - loss: 6.7029 - mae: 6.7029\n",
            "Epoch 98/100\n",
            "1/1 [==============================] - 0s 12ms/step - loss: 6.6954 - mae: 6.6954\n",
            "Epoch 99/100\n",
            "1/1 [==============================] - 0s 10ms/step - loss: 6.6878 - mae: 6.6878\n",
            "Epoch 100/100\n",
            "1/1 [==============================] - 0s 9ms/step - loss: 6.6802 - mae: 6.6802\n"
          ]
        },
        {
          "output_type": "execute_result",
          "data": {
            "text/plain": [
              "<keras.src.callbacks.History at 0x79b4f4dfd2d0>"
            ]
          },
          "metadata": {},
          "execution_count": 25
        }
      ]
    },
    {
      "cell_type": "code",
      "metadata": {
        "colab": {
          "base_uri": "https://localhost:8080/"
        },
        "id": "SAkq8adjeo2y",
        "outputId": "989a2996-75e6-47c7-8655-95257ef4b93c"
      },
      "source": [
        "# Let's remind ourselves of the data\n",
        "X, y"
      ],
      "execution_count": 26,
      "outputs": [
        {
          "output_type": "execute_result",
          "data": {
            "text/plain": [
              "(<tf.Tensor: shape=(8,), dtype=float32, numpy=array([-7., -4., -1.,  2.,  5.,  8., 11., 14.], dtype=float32)>,\n",
              " <tf.Tensor: shape=(8,), dtype=float32, numpy=array([ 3.,  6.,  9., 12., 15., 18., 21., 24.], dtype=float32)>)"
            ]
          },
          "metadata": {},
          "execution_count": 26
        }
      ]
    },
    {
      "cell_type": "code",
      "metadata": {
        "colab": {
          "base_uri": "https://localhost:8080/"
        },
        "id": "84Wym6W6e45i",
        "outputId": "258c63dc-d17e-41ee-cc90-a073034dbc10"
      },
      "source": [
        "# Let's try to make a prediction\n",
        "model.predict([17.0])"
      ],
      "execution_count": 27,
      "outputs": [
        {
          "output_type": "stream",
          "name": "stdout",
          "text": [
            "1/1 [==============================] - 0s 81ms/step\n"
          ]
        },
        {
          "output_type": "execute_result",
          "data": {
            "text/plain": [
              "array([[31.350208]], dtype=float32)"
            ]
          },
          "metadata": {},
          "execution_count": 27
        }
      ]
    },
    {
      "cell_type": "markdown",
      "metadata": {
        "id": "MYOVI6lMe_KR"
      },
      "source": [
        "## Evaluting a model\n",
        "\n",
        "In practice, a typical workflow you'll go through when building neural networks is:\n",
        "\n",
        "```\n",
        "Build a model  -> fit it -> evaluate it -> tweak a model -> fit it -> evaluate it -> tweak a model -> fit it -> evaluate it...\n",
        "```"
      ]
    },
    {
      "cell_type": "markdown",
      "metadata": {
        "id": "usrqoYOojh5S"
      },
      "source": [
        "When it comes to evaluation... there are 3 words you should memorize:\n",
        "\n",
        "> \"Visualize, visualize, visualize\"\n",
        "\n",
        "It's a good idea to visualize:\n",
        "* The data - what data are we working with? What does it look like?\n",
        "* The model itself - what does our model look like?\n",
        "* The training of a model - how does a model perform while it learns?\n",
        "* The predictions of the model - how do the predictions of a model line up against the ground truth (the original labels)?"
      ]
    },
    {
      "cell_type": "code",
      "metadata": {
        "colab": {
          "base_uri": "https://localhost:8080/"
        },
        "id": "8zcYJzAykVku",
        "outputId": "0d1c393b-3615-4066-d18a-6dd1340443dd"
      },
      "source": [
        "# Make a bigger dataset\n",
        "X = tf.range(-100, 100, 4)\n",
        "X"
      ],
      "execution_count": 28,
      "outputs": [
        {
          "output_type": "execute_result",
          "data": {
            "text/plain": [
              "<tf.Tensor: shape=(50,), dtype=int32, numpy=\n",
              "array([-100,  -96,  -92,  -88,  -84,  -80,  -76,  -72,  -68,  -64,  -60,\n",
              "        -56,  -52,  -48,  -44,  -40,  -36,  -32,  -28,  -24,  -20,  -16,\n",
              "        -12,   -8,   -4,    0,    4,    8,   12,   16,   20,   24,   28,\n",
              "         32,   36,   40,   44,   48,   52,   56,   60,   64,   68,   72,\n",
              "         76,   80,   84,   88,   92,   96], dtype=int32)>"
            ]
          },
          "metadata": {},
          "execution_count": 28
        }
      ]
    },
    {
      "cell_type": "code",
      "metadata": {
        "colab": {
          "base_uri": "https://localhost:8080/"
        },
        "id": "tYmBjJyGkyhf",
        "outputId": "8b510311-b145-467a-b396-2395402d87a7"
      },
      "source": [
        "# Make labels for the dataset\n",
        "y = X + 10\n",
        "y"
      ],
      "execution_count": 29,
      "outputs": [
        {
          "output_type": "execute_result",
          "data": {
            "text/plain": [
              "<tf.Tensor: shape=(50,), dtype=int32, numpy=\n",
              "array([-90, -86, -82, -78, -74, -70, -66, -62, -58, -54, -50, -46, -42,\n",
              "       -38, -34, -30, -26, -22, -18, -14, -10,  -6,  -2,   2,   6,  10,\n",
              "        14,  18,  22,  26,  30,  34,  38,  42,  46,  50,  54,  58,  62,\n",
              "        66,  70,  74,  78,  82,  86,  90,  94,  98, 102, 106], dtype=int32)>"
            ]
          },
          "metadata": {},
          "execution_count": 29
        }
      ]
    },
    {
      "cell_type": "code",
      "metadata": {
        "colab": {
          "base_uri": "https://localhost:8080/",
          "height": 447
        },
        "id": "GsPCWn6Bk7-n",
        "outputId": "8776be19-b0f9-45fd-baaf-88160d9deca7"
      },
      "source": [
        "# Visualize the data\n",
        "import matplotlib.pyplot as plt\n",
        "\n",
        "plt.scatter(X, y)"
      ],
      "execution_count": 30,
      "outputs": [
        {
          "output_type": "execute_result",
          "data": {
            "text/plain": [
              "<matplotlib.collections.PathCollection at 0x79b4f4cdb5e0>"
            ]
          },
          "metadata": {},
          "execution_count": 30
        },
        {
          "output_type": "display_data",
          "data": {
            "text/plain": [
              "<Figure size 640x480 with 1 Axes>"
            ],
            "image/png": "[encoded data removed]"
          },
          "metadata": {}
        }
      ]
    },
    {
      "cell_type": "markdown",
      "metadata": {
        "id": "EYSYiP6mlE-g"
      },
      "source": [
        "### The 3 sets...\n",
        "\n",
        "* **Training set** - the model learns from this data, which is typically 70-80% of the total data you have available.\n",
        "* **Validation set** - the model gets tuned on this data, which is typically 10-15% of the data available.\n",
        "* **Test set** - the model gets evaluated on this data to test what is has learned, this set is typically 10-15% of the total data available.\n",
        "\n"
      ]
    },
    {
      "cell_type": "code",
      "metadata": {
        "colab": {
          "base_uri": "https://localhost:8080/"
        },
        "id": "o6x4ayTkmbsz",
        "outputId": "904d306a-22d2-48aa-d768-38f6f98e3d47"
      },
      "source": [
        "# Check the length of how many samples we have\n",
        "len(X)"
      ],
      "execution_count": 31,
      "outputs": [
        {
          "output_type": "execute_result",
          "data": {
            "text/plain": [
              "50"
            ]
          },
          "metadata": {},
          "execution_count": 31
        }
      ]
    },
    {
      "cell_type": "code",
      "metadata": {
        "colab": {
          "base_uri": "https://localhost:8080/"
        },
        "id": "XSFQQTirmyvV",
        "outputId": "a9aaf327-be40-4c9a-b8c3-550882e5c4c5"
      },
      "source": [
        "# Split the data into train and test sets\n",
        "X_train = X[:40] # first 40 are training samples (80% of the data)\n",
        "y_train = y[:40]\n",
        "\n",
        "X_test = X[40:] # last 10 are testing samples (20% of the data)\n",
        "y_test = y[40:]\n",
        "\n",
        "len(X_train), len(X_test), len(y_train), len(y_test)"
      ],
      "execution_count": 32,
      "outputs": [
        {
          "output_type": "execute_result",
          "data": {
            "text/plain": [
              "(40, 10, 40, 10)"
            ]
          },
          "metadata": {},
          "execution_count": 32
        }
      ]
    },
    {
      "cell_type": "markdown",
      "metadata": {
        "id": "-TppBKDWnbKC"
      },
      "source": [
        "### Visualizing the data\n",
        "\n",
        "Now we've got our data in training and test sets... let's visualize it again!"
      ]
    },
    {
      "cell_type": "code",
      "metadata": {
        "colab": {
          "base_uri": "https://localhost:8080/",
          "height": 599
        },
        "id": "Wx8g6vh9nwLs",
        "outputId": "68a6f302-0927-4e77-ad07-46054d132e70"
      },
      "source": [
        "plt.figure(figsize=(10, 7))\n",
        "# Plot training data in blue\n",
        "plt.scatter(X_train, y_train, c=\"b\", label=\"Training data\") # our model will learn on this\n",
        "# Plot test data in green\n",
        "plt.scatter(X_test, y_test, c=\"g\", label=\"Testing data\") # want our model to be able to predict this (given X, what's y?)\n",
        "# Show a legend\n",
        "plt.legend();"
      ],
      "execution_count": 33,
      "outputs": [
        {
          "output_type": "display_data",
          "data": {
            "text/plain": [
              "<Figure size 1000x700 with 1 Axes>"
            ],
            "image/png": "[encoded data removed]"
          },
          "metadata": {}
        }
      ]
    },
    {
      "cell_type": "code",
      "metadata": {
        "id": "z0U3nhHtpKve"
      },
      "source": [
        "# Let's have a look at how to build a neural network for our data\n",
        "\n",
        "# 1. Create a model\n",
        "model = tf.keras.Sequential([\n",
        "  tf.keras.layers.Dense(1)\n",
        "])\n",
        "\n",
        "# 2. Compile the model\n",
        "model.compile(loss=tf.keras.losses.mae,\n",
        "              optimizer=tf.keras.optimizers.SGD(),\n",
        "              metrics=[\"mae\"])\n",
        "\n",
        "# # 3. Fit the model\n",
        "# model.fit(X_train, y_train, epochs=100)"
      ],
      "execution_count": 34,
      "outputs": []
    },
    {
      "cell_type": "markdown",
      "metadata": {
        "id": "RnscI3h_qP5a"
      },
      "source": [
        "### Visualizing the model"
      ]
    },
    {
      "cell_type": "code",
      "metadata": {
        "colab": {
          "base_uri": "https://localhost:8080/",
          "height": 280
        },
        "id": "gfiOkjp5qSiZ",
        "outputId": "d44794f3-30cf-4ef7-c59d-803edc18901e"
      },
      "source": [
        "model.summary()"
      ],
      "execution_count": 35,
      "outputs": [
        {
          "output_type": "error",
          "ename": "ValueError",
          "evalue": "This model has not yet been built. Build the model first by calling `build()` or by calling the model on a batch of data.",
          "traceback": [
            "\u001b[0;31m---------------------------------------------------------------------------\u001b[0m",
            "\u001b[0;31mValueError\u001b[0m                                Traceback (most recent call last)",
            "\u001b[0;32m<ipython-input-35-5f15418b3570>\u001b[0m in \u001b[0;36m<cell line: 1>\u001b[0;34m()\u001b[0m\n\u001b[0;32m----> 1\u001b[0;31m \u001b[0mmodel\u001b[0m\u001b[0;34m.\u001b[0m\u001b[0msummary\u001b[0m\u001b[0;34m(\u001b[0m\u001b[0;34m)\u001b[0m\u001b[0;34m\u001b[0m\u001b[0;34m\u001b[0m\u001b[0m\n\u001b[0m",
            "\u001b[0;32m/usr/local/lib/python3.10/dist-packages/keras/src/engine/training.py\u001b[0m in \u001b[0;36msummary\u001b[0;34m(self, line_length, positions, print_fn, expand_nested, show_trainable, layer_range)\u001b[0m\n\u001b[1;32m   3504\u001b[0m         \"\"\"\n\u001b[1;32m   3505\u001b[0m         \u001b[0;32mif\u001b[0m \u001b[0;32mnot\u001b[0m \u001b[0mself\u001b[0m\u001b[0;34m.\u001b[0m\u001b[0mbuilt\u001b[0m\u001b[0;34m:\u001b[0m\u001b[0;34m\u001b[0m\u001b[0;34m\u001b[0m\u001b[0m\n\u001b[0;32m-> 3506\u001b[0;31m             raise ValueError(\n\u001b[0m\u001b[1;32m   3507\u001b[0m                 \u001b[0;34m\"This model has not yet been built. \"\u001b[0m\u001b[0;34m\u001b[0m\u001b[0;34m\u001b[0m\u001b[0m\n\u001b[1;32m   3508\u001b[0m                 \u001b[0;34m\"Build the model first by calling `build()` or by calling \"\u001b[0m\u001b[0;34m\u001b[0m\u001b[0;34m\u001b[0m\u001b[0m\n",
            "\u001b[0;31mValueError\u001b[0m: This model has not yet been built. Build the model first by calling `build()` or by calling the model on a batch of data."
          ]
        }
      ]
    },
    {
      "cell_type": "code",
      "metadata": {
        "colab": {
          "base_uri": "https://localhost:8080/"
        },
        "id": "2b2QjQhzq6Ah",
        "outputId": "85d02d83-c740-47a0-c2e1-2639f6c7cf18"
      },
      "source": [
        "X[0], y[0]"
      ],
      "execution_count": 36,
      "outputs": [
        {
          "output_type": "execute_result",
          "data": {
            "text/plain": [
              "(<tf.Tensor: shape=(), dtype=int32, numpy=-100>,\n",
              " <tf.Tensor: shape=(), dtype=int32, numpy=-90>)"
            ]
          },
          "metadata": {},
          "execution_count": 36
        }
      ]
    },
    {
      "cell_type": "code",
      "metadata": {
        "id": "jzPTRyrCqVpT"
      },
      "source": [
        "# Let's create a model which builds automatically by defining the input_shape argument in the first layer\n",
        "tf.random.set_seed(42)\n",
        "\n",
        "# 1. Create a model (same as above)\n",
        "model = tf.keras.Sequential([\n",
        "  tf.keras.layers.Dense(10, input_shape=[1], name=\"input_layer\"),\n",
        "  tf.keras.layers.Dense(1, name=\"output_layer\")\n",
        "], name=\"model_1\")\n",
        "\n",
        "# 2. Compile the model (same as above)\n",
        "model.compile(loss=tf.keras.losses.mae,\n",
        "              optimizer=tf.keras.optimizers.SGD(),\n",
        "              metrics=[\"mae\"])"
      ],
      "execution_count": 37,
      "outputs": []
    },
    {
      "cell_type": "code",
      "metadata": {
        "colab": {
          "base_uri": "https://localhost:8080/"
        },
        "id": "_RDh-9PdrMXo",
        "outputId": "c0fa54b0-deac-4673-d9de-10df4d85bc4b"
      },
      "source": [
        "model.summary()"
      ],
      "execution_count": 38,
      "outputs": [
        {
          "output_type": "stream",
          "name": "stdout",
          "text": [
            "Model: \"model_1\"\n",
            "_________________________________________________________________\n",
            " Layer (type)                Output Shape              Param #   \n",
            "=================================================================\n",
            " input_layer (Dense)         (None, 10)                20        \n",
            "                                                                 \n",
            " output_layer (Dense)        (None, 1)                 11        \n",
            "                                                                 \n",
            "=================================================================\n",
            "Total params: 31 (124.00 Byte)\n",
            "Trainable params: 31 (124.00 Byte)\n",
            "Non-trainable params: 0 (0.00 Byte)\n",
            "_________________________________________________________________\n"
          ]
        }
      ]
    },
    {
      "cell_type": "markdown",
      "metadata": {
        "id": "n8BlRom8rhQx"
      },
      "source": [
        "* Total params - total number of parameters in the model.\n",
        "* Trainable parameters - these are the parameters (patterns) the model can update as it trains.\n",
        "* Non-trainable params - these parameters aren't updated during training (this is typical when you bring in already learn patterns or parameters from other models during **transfer learning**).\n",
        "\n",
        "📖 **Resource:** For a more in-depth overview of the trainable parameters within a layer, check out [MIT's introduction to deep learning video](https://youtu.be/njKP3FqW3Sk).\n",
        "\n",
        "🛠 **Exercise:** Try playing around with the number of hidden units in the dense layer, see how that effects the number of parameters (total and trainable) by calling `model.summary()`."
      ]
    },
    {
      "cell_type": "code",
      "metadata": {
        "colab": {
          "base_uri": "https://localhost:8080/"
        },
        "id": "ZP91lGTgrPno",
        "outputId": "9ddfa430-ae8b-4c17-bcfa-d14d5c258047"
      },
      "source": [
        "# Let's fit our model to the training data\n",
        "model.fit(X_train, y_train, epochs=100, verbose=0)"
      ],
      "execution_count": 39,
      "outputs": [
        {
          "output_type": "execute_result",
          "data": {
            "text/plain": [
              "<keras.src.callbacks.History at 0x79b4f424f190>"
            ]
          },
          "metadata": {},
          "execution_count": 39
        }
      ]
    },
    {
      "cell_type": "code",
      "metadata": {
        "colab": {
          "base_uri": "https://localhost:8080/"
        },
        "id": "SS4oIHfktlex",
        "outputId": "72923064-e742-4943-fe25-d7609b52df9e"
      },
      "source": [
        "# Get a summary of our model\n",
        "model.summary()"
      ],
      "execution_count": 40,
      "outputs": [
        {
          "output_type": "stream",
          "name": "stdout",
          "text": [
            "Model: \"model_1\"\n",
            "_________________________________________________________________\n",
            " Layer (type)                Output Shape              Param #   \n",
            "=================================================================\n",
            " input_layer (Dense)         (None, 10)                20        \n",
            "                                                                 \n",
            " output_layer (Dense)        (None, 1)                 11        \n",
            "                                                                 \n",
            "=================================================================\n",
            "Total params: 31 (124.00 Byte)\n",
            "Trainable params: 31 (124.00 Byte)\n",
            "Non-trainable params: 0 (0.00 Byte)\n",
            "_________________________________________________________________\n"
          ]
        }
      ]
    },
    {
      "cell_type": "code",
      "metadata": {
        "colab": {
          "base_uri": "https://localhost:8080/",
          "height": 312
        },
        "id": "--yP4uW8ugKH",
        "outputId": "50ac74f1-524a-4f70-de22-581d3e9bcbbc"
      },
      "source": [
        "from tensorflow.keras.utils import plot_model\n",
        "\n",
        "plot_model(model=model, show_shapes=True)"
      ],
      "execution_count": 41,
      "outputs": [
        {
          "output_type": "execute_result",
          "data": {
            "image/png": "[encoded data removed]",
            "text/plain": [
              "<IPython.core.display.Image object>"
            ]
          },
          "metadata": {},
          "execution_count": 41
        }
      ]
    },
    {
      "cell_type": "markdown",
      "metadata": {
        "id": "ORwPibL8u7Yk"
      },
      "source": [
        "### Visualizing our model's predictions\n",
        "\n",
        "To visualize predictions, it's a good idea to plot them against the ground truth labels.\n",
        "\n",
        "Often you'll see this in the form of `y_test` or `y_true` versus `y_pred` (ground truth versus your model's predictions)."
      ]
    },
    {
      "cell_type": "code",
      "metadata": {
        "colab": {
          "base_uri": "https://localhost:8080/"
        },
        "id": "85dQbIrHsggD",
        "outputId": "ca7c87f5-018a-4136-8729-3f7f7b7f26ba"
      },
      "source": [
        "# Make some predictions\n",
        "y_pred = model.predict(X_test)\n",
        "y_pred"
      ],
      "execution_count": 42,
      "outputs": [
        {
          "output_type": "stream",
          "name": "stdout",
          "text": [
            "1/1 [==============================] - 0s 138ms/step\n"
          ]
        },
        {
          "output_type": "execute_result",
          "data": {
            "text/plain": [
              "array([[34.844185],\n",
              "       [37.071438],\n",
              "       [39.298683],\n",
              "       [41.525936],\n",
              "       [43.75319 ],\n",
              "       [45.980442],\n",
              "       [48.2077  ],\n",
              "       [50.434944],\n",
              "       [52.6622  ],\n",
              "       [54.889454]], dtype=float32)"
            ]
          },
          "metadata": {},
          "execution_count": 42
        }
      ]
    },
    {
      "cell_type": "code",
      "metadata": {
        "colab": {
          "base_uri": "https://localhost:8080/"
        },
        "id": "Iw7TyglVtUZL",
        "outputId": "69b85eb2-c437-4a22-f25e-64e923d7bee1"
      },
      "source": [
        "y_test"
      ],
      "execution_count": 43,
      "outputs": [
        {
          "output_type": "execute_result",
          "data": {
            "text/plain": [
              "<tf.Tensor: shape=(10,), dtype=int32, numpy=array([ 70,  74,  78,  82,  86,  90,  94,  98, 102, 106], dtype=int32)>"
            ]
          },
          "metadata": {},
          "execution_count": 43
        }
      ]
    },
    {
      "cell_type": "markdown",
      "metadata": {
        "id": "rZvNFJGVtjov"
      },
      "source": [
        "🔑 **Note:** If you feel like you're going to reuse some kind of functionality in the future, it's a good idea to turn it into a function."
      ]
    },
    {
      "cell_type": "code",
      "metadata": {
        "id": "sJsnIciYtWfn"
      },
      "source": [
        "# Let's create a plotting function\n",
        "def plot_predictions(train_data=X_train,\n",
        "                     train_labels=y_train,\n",
        "                     test_data=X_test,\n",
        "                     test_labels=y_test,\n",
        "                     predictions=y_pred):\n",
        "  \"\"\"\n",
        "  Plots training data, test data and compares predictions to ground truth labels.\n",
        "  \"\"\"\n",
        "  plt.figure(figsize=(10, 7))\n",
        "  # Plot training data in blue\n",
        "  plt.scatter(train_data, train_labels, c=\"b\", label=\"Training data\")\n",
        "  # Plot testing data in green\n",
        "  plt.scatter(test_data, test_labels, c=\"g\", label=\"Testing data\")\n",
        "  # Plot model's predictions in red\n",
        "  plt.scatter(test_data, predictions, c=\"r\", label=\"Predictions\")\n",
        "  # Show the legend\n",
        "  plt.legend();"
      ],
      "execution_count": 44,
      "outputs": []
    },
    {
      "cell_type": "code",
      "metadata": {
        "colab": {
          "base_uri": "https://localhost:8080/",
          "height": 599
        },
        "id": "6VeRueShuhfN",
        "outputId": "87327465-eb14-4fdc-fe02-b2dfec44baee"
      },
      "source": [
        "plot_predictions(train_data=X_train,\n",
        "                 train_labels=y_train,\n",
        "                 test_data=X_test,\n",
        "                 test_labels=y_test,\n",
        "                 predictions=y_pred)"
      ],
      "execution_count": 45,
      "outputs": [
        {
          "output_type": "display_data",
          "data": {
            "text/plain": [
              "<Figure size 1000x700 with 1 Axes>"
            ],
            "image/png": "[encoded data removed]"
          },
          "metadata": {}
        }
      ]
    },
    {
      "cell_type": "markdown",
      "metadata": {
        "id": "poOuTGosukJU"
      },
      "source": [
        "### Evaluting our model's predictions with regression evaluation metrics\n",
        "\n",
        "Depending on the problem you're working on, there will be different evaluation metrics to evaluate your model's performance.\n",
        "\n",
        "Since we're working on a regression, two of the main metrics:\n",
        "* MAE - mean absolute error, \"on average, how wrong is each of my model's predictions\"\n",
        "* MSE - mean square error, \"square the average errors\""
      ]
    },
    {
      "cell_type": "code",
      "metadata": {
        "colab": {
          "base_uri": "https://localhost:8080/"
        },
        "id": "FmeohFOJu_C_",
        "outputId": "283b7a05-78df-4e74-c38b-f4e53839d6d4"
      },
      "source": [
        "# Evaluate the model on the test\n",
        "model.evaluate(X_test, y_test)"
      ],
      "execution_count": 46,
      "outputs": [
        {
          "output_type": "stream",
          "name": "stdout",
          "text": [
            "1/1 [==============================] - 0s 170ms/step - loss: 43.1332 - mae: 43.1332\n"
          ]
        },
        {
          "output_type": "execute_result",
          "data": {
            "text/plain": [
              "[43.13318634033203, 43.13318634033203]"
            ]
          },
          "metadata": {},
          "execution_count": 46
        }
      ]
    },
    {
      "cell_type": "code",
      "metadata": {
        "colab": {
          "base_uri": "https://localhost:8080/"
        },
        "id": "eWAP6TCJyUeL",
        "outputId": "95759339-2833-4e15-8be5-742f1e6ed165"
      },
      "source": [
        "# Calculate the mean absolute error\n",
        "mae = tf.metrics.mean_absolute_error(y_true=y_test,\n",
        "                                     y_pred=tf.constant(y_pred))\n",
        "mae"
      ],
      "execution_count": 47,
      "outputs": [
        {
          "output_type": "execute_result",
          "data": {
            "text/plain": [
              "<tf.Tensor: shape=(10,), dtype=float32, numpy=\n",
              "array([53.155815, 50.928562, 48.701317, 46.474064, 44.24681 , 42.019558,\n",
              "       39.7923  , 37.565056, 35.3378  , 33.110546], dtype=float32)>"
            ]
          },
          "metadata": {},
          "execution_count": 47
        }
      ]
    },
    {
      "cell_type": "code",
      "metadata": {
        "colab": {
          "base_uri": "https://localhost:8080/"
        },
        "id": "znxoDzBCyGEd",
        "outputId": "0cea931f-5a9f-4687-d1ce-543869762cfc"
      },
      "source": [
        "tf.constant(y_pred)"
      ],
      "execution_count": 48,
      "outputs": [
        {
          "output_type": "execute_result",
          "data": {
            "text/plain": [
              "<tf.Tensor: shape=(10, 1), dtype=float32, numpy=\n",
              "array([[34.844185],\n",
              "       [37.071438],\n",
              "       [39.298683],\n",
              "       [41.525936],\n",
              "       [43.75319 ],\n",
              "       [45.980442],\n",
              "       [48.2077  ],\n",
              "       [50.434944],\n",
              "       [52.6622  ],\n",
              "       [54.889454]], dtype=float32)>"
            ]
          },
          "metadata": {},
          "execution_count": 48
        }
      ]
    },
    {
      "cell_type": "code",
      "metadata": {
        "colab": {
          "base_uri": "https://localhost:8080/"
        },
        "id": "NB5OwjD2ySv4",
        "outputId": "bd41ca19-0dda-4936-e959-ec2f50e101d9"
      },
      "source": [
        "y_test"
      ],
      "execution_count": 49,
      "outputs": [
        {
          "output_type": "execute_result",
          "data": {
            "text/plain": [
              "<tf.Tensor: shape=(10,), dtype=int32, numpy=array([ 70,  74,  78,  82,  86,  90,  94,  98, 102, 106], dtype=int32)>"
            ]
          },
          "metadata": {},
          "execution_count": 49
        }
      ]
    },
    {
      "cell_type": "code",
      "metadata": {
        "colab": {
          "base_uri": "https://localhost:8080/"
        },
        "id": "fit8MiNSyTZu",
        "outputId": "f2a3f3bc-6b0f-4841-b9a0-181f8319ba27"
      },
      "source": [
        "tf.squeeze(y_pred)"
      ],
      "execution_count": 50,
      "outputs": [
        {
          "output_type": "execute_result",
          "data": {
            "text/plain": [
              "<tf.Tensor: shape=(10,), dtype=float32, numpy=\n",
              "array([34.844185, 37.071438, 39.298683, 41.525936, 43.75319 , 45.980442,\n",
              "       48.2077  , 50.434944, 52.6622  , 54.889454], dtype=float32)>"
            ]
          },
          "metadata": {},
          "execution_count": 50
        }
      ]
    },
    {
      "cell_type": "code",
      "metadata": {
        "colab": {
          "base_uri": "https://localhost:8080/"
        },
        "id": "nFhtsK8J1j2M",
        "outputId": "f4be6f06-279e-43cd-9600-8c9a9b12a39e"
      },
      "source": [
        "# Calculate the mean absolute error\n",
        "mae = tf.metrics.mean_absolute_error(y_true=y_test,\n",
        "                                     y_pred=tf.squeeze(y_pred))\n",
        "mae"
      ],
      "execution_count": 51,
      "outputs": [
        {
          "output_type": "execute_result",
          "data": {
            "text/plain": [
              "<tf.Tensor: shape=(), dtype=float32, numpy=43.133186>"
            ]
          },
          "metadata": {},
          "execution_count": 51
        }
      ]
    },
    {
      "cell_type": "code",
      "metadata": {
        "colab": {
          "base_uri": "https://localhost:8080/"
        },
        "id": "BK4bRMgi4LcR",
        "outputId": "2791e61c-1999-4a39-c691-bb9872b5d8ca"
      },
      "source": [
        "# Calculate the mean square error\n",
        "mse = tf.metrics.mean_squared_error(y_true=y_test,\n",
        "                                    y_pred=tf.squeeze(y_pred))\n",
        "mse"
      ],
      "execution_count": 52,
      "outputs": [
        {
          "output_type": "execute_result",
          "data": {
            "text/plain": [
              "<tf.Tensor: shape=(), dtype=float32, numpy=1886.3982>"
            ]
          },
          "metadata": {},
          "execution_count": 52
        }
      ]
    },
    {
      "cell_type": "code",
      "metadata": {
        "id": "h46VZYQ28tFP"
      },
      "source": [
        "# Make some functions to reuse MAE and MSE\n",
        "def mae(y_true, y_pred):\n",
        "  return tf.metrics.mean_absolute_error(y_true=y_true,\n",
        "                                        y_pred=tf.squeeze(y_pred))\n",
        "\n",
        "def mse(y_true, y_pred):\n",
        "  return tf.metrics.mean_squared_error(y_true=y_true,\n",
        "                                       y_pred=tf.squeeze(y_pred))"
      ],
      "execution_count": 53,
      "outputs": []
    },
    {
      "cell_type": "markdown",
      "metadata": {
        "id": "E4mlm41z9w6S"
      },
      "source": [
        "## Running experiments to improve our model\n",
        "\n",
        "```\n",
        "Build a model -> fit it -> evaluate it -> tweak it -> fit it -> evaluate it -> tweak it -> fit it -> evaluate it ...\n",
        "```\n",
        "\n",
        "1. Get more data - get more examples for your model to train on (more opportunities to learn patterns or relationships between features and labels).\n",
        "2. Make your model larger (using a more complex model) - this might come in the form of more layers or more hidden units in each layer.\n",
        "3. Train for longer - give your model more of a chance to find patterns in the data.\n",
        "\n",
        "Let's do 3 modelling experiments:\n",
        "\n",
        "1. `model_1` - same as the original model, 1 layer, trained for 100 epochs\n",
        "2. `model_2` - 2 layers, trained for 100 epochs\n",
        "3. `model_3` - 2 layers, trained for 500 epochs\n",
        "\n",
        "**Build `model_1`**"
      ]
    },
    {
      "cell_type": "code",
      "metadata": {
        "colab": {
          "base_uri": "https://localhost:8080/"
        },
        "id": "0cLyuLdP-SIw",
        "outputId": "bf4a2313-0192-44ab-b7e7-21561c3a5691"
      },
      "source": [
        "# Set random seed\n",
        "tf.random.set_seed(42)\n",
        "\n",
        "# 1. Create the model\n",
        "model_1 = tf.keras.Sequential([\n",
        "  tf.keras.layers.Dense(1)\n",
        "])\n",
        "\n",
        "# 2. Compile the model\n",
        "model_1.compile(loss=tf.keras.losses.mae,\n",
        "                optimizer=tf.keras.optimizers.SGD(),\n",
        "                metrics=[\"mae\"])\n",
        "\n",
        "# 3. Fit the model\n",
        "model_1.fit(tf.reshape(X_train, shape=(40, 1)), tf.reshape(y_train, shape=(40, 1)), epochs=100)"
      ],
      "execution_count": 57,
      "outputs": [
        {
          "output_type": "stream",
          "name": "stdout",
          "text": [
            "Epoch 1/100\n",
            "2/2 [==============================] - 2s 41ms/step - loss: 27.9913 - mae: 27.9913\n",
            "Epoch 2/100\n",
            "2/2 [==============================] - 0s 19ms/step - loss: 8.8441 - mae: 8.8441\n",
            "Epoch 3/100\n",
            "2/2 [==============================] - 0s 21ms/step - loss: 9.7081 - mae: 9.7081\n",
            "Epoch 4/100\n",
            "2/2 [==============================] - 0s 17ms/step - loss: 11.8563 - mae: 11.8563\n",
            "Epoch 5/100\n",
            "2/2 [==============================] - 0s 19ms/step - loss: 10.9229 - mae: 10.9229\n",
            "Epoch 6/100\n",
            "2/2 [==============================] - 0s 25ms/step - loss: 10.0937 - mae: 10.0937\n",
            "Epoch 7/100\n",
            "2/2 [==============================] - 0s 25ms/step - loss: 9.1240 - mae: 9.1240\n",
            "Epoch 8/100\n",
            "2/2 [==============================] - 0s 24ms/step - loss: 9.0977 - mae: 9.0977\n",
            "Epoch 9/100\n",
            "2/2 [==============================] - 0s 16ms/step - loss: 15.1081 - mae: 15.1081\n",
            "Epoch 10/100\n",
            "2/2 [==============================] - 0s 11ms/step - loss: 7.5627 - mae: 7.5627\n",
            "Epoch 11/100\n",
            "2/2 [==============================] - 0s 18ms/step - loss: 11.4377 - mae: 11.4377\n",
            "Epoch 12/100\n",
            "2/2 [==============================] - 0s 16ms/step - loss: 16.8579 - mae: 16.8579\n",
            "Epoch 13/100\n",
            "2/2 [==============================] - 0s 13ms/step - loss: 11.9824 - mae: 11.9824\n",
            "Epoch 14/100\n",
            "2/2 [==============================] - 0s 14ms/step - loss: 13.9275 - mae: 13.9275\n",
            "Epoch 15/100\n",
            "2/2 [==============================] - 0s 32ms/step - loss: 11.3174 - mae: 11.3174\n",
            "Epoch 16/100\n",
            "2/2 [==============================] - 0s 31ms/step - loss: 8.5591 - mae: 8.5591\n",
            "Epoch 17/100\n",
            "2/2 [==============================] - 0s 20ms/step - loss: 13.6869 - mae: 13.6869\n",
            "Epoch 18/100\n",
            "2/2 [==============================] - 0s 32ms/step - loss: 11.5296 - mae: 11.5296\n",
            "Epoch 19/100\n",
            "2/2 [==============================] - 0s 11ms/step - loss: 17.8227 - mae: 17.8227\n",
            "Epoch 20/100\n",
            "2/2 [==============================] - 0s 27ms/step - loss: 14.9581 - mae: 14.9581\n",
            "Epoch 21/100\n",
            "2/2 [==============================] - 0s 23ms/step - loss: 10.8380 - mae: 10.8380\n",
            "Epoch 22/100\n",
            "2/2 [==============================] - 0s 22ms/step - loss: 8.5884 - mae: 8.5884\n",
            "Epoch 23/100\n",
            "2/2 [==============================] - 0s 18ms/step - loss: 9.7042 - mae: 9.7042\n",
            "Epoch 24/100\n",
            "2/2 [==============================] - 0s 33ms/step - loss: 10.9511 - mae: 10.9511\n",
            "Epoch 25/100\n",
            "2/2 [==============================] - 0s 23ms/step - loss: 9.1535 - mae: 9.1535\n",
            "Epoch 26/100\n",
            "2/2 [==============================] - 0s 22ms/step - loss: 13.1894 - mae: 13.1894\n",
            "Epoch 27/100\n",
            "2/2 [==============================] - 0s 18ms/step - loss: 10.6593 - mae: 10.6593\n",
            "Epoch 28/100\n",
            "2/2 [==============================] - 0s 24ms/step - loss: 12.8804 - mae: 12.8804\n",
            "Epoch 29/100\n",
            "2/2 [==============================] - 0s 15ms/step - loss: 9.5027 - mae: 9.5027\n",
            "Epoch 30/100\n",
            "2/2 [==============================] - 0s 22ms/step - loss: 16.4072 - mae: 16.4072\n",
            "Epoch 31/100\n",
            "2/2 [==============================] - 0s 12ms/step - loss: 23.5769 - mae: 23.5769\n",
            "Epoch 32/100\n",
            "2/2 [==============================] - 0s 19ms/step - loss: 7.6020 - mae: 7.6020\n",
            "Epoch 33/100\n",
            "2/2 [==============================] - 0s 16ms/step - loss: 9.2994 - mae: 9.2994\n",
            "Epoch 34/100\n",
            "2/2 [==============================] - 0s 12ms/step - loss: 13.6759 - mae: 13.6759\n",
            "Epoch 35/100\n",
            "2/2 [==============================] - 0s 12ms/step - loss: 11.1473 - mae: 11.1473\n",
            "Epoch 36/100\n",
            "2/2 [==============================] - 0s 12ms/step - loss: 13.3715 - mae: 13.3715\n",
            "Epoch 37/100\n",
            "2/2 [==============================] - 0s 12ms/step - loss: 9.4459 - mae: 9.4459\n",
            "Epoch 38/100\n",
            "2/2 [==============================] - 0s 16ms/step - loss: 10.0978 - mae: 10.0978\n",
            "Epoch 39/100\n",
            "2/2 [==============================] - 0s 12ms/step - loss: 10.1993 - mae: 10.1993\n",
            "Epoch 40/100\n",
            "2/2 [==============================] - 0s 12ms/step - loss: 10.9450 - mae: 10.9450\n",
            "Epoch 41/100\n",
            "2/2 [==============================] - 0s 11ms/step - loss: 7.9198 - mae: 7.9198\n",
            "Epoch 42/100\n",
            "2/2 [==============================] - 0s 13ms/step - loss: 10.5758 - mae: 10.5758\n",
            "Epoch 43/100\n",
            "2/2 [==============================] - 0s 12ms/step - loss: 7.2024 - mae: 7.2024\n",
            "Epoch 44/100\n",
            "2/2 [==============================] - 0s 23ms/step - loss: 7.9900 - mae: 7.9900\n",
            "Epoch 45/100\n",
            "2/2 [==============================] - 0s 14ms/step - loss: 9.7827 - mae: 9.7827\n",
            "Epoch 46/100\n",
            "2/2 [==============================] - 0s 14ms/step - loss: 8.8590 - mae: 8.8590\n",
            "Epoch 47/100\n",
            "2/2 [==============================] - 0s 10ms/step - loss: 7.5650 - mae: 7.5650\n",
            "Epoch 48/100\n",
            "2/2 [==============================] - 0s 11ms/step - loss: 8.5672 - mae: 8.5672\n",
            "Epoch 49/100\n",
            "2/2 [==============================] - 0s 14ms/step - loss: 9.9878 - mae: 9.9878\n",
            "Epoch 50/100\n",
            "2/2 [==============================] - 0s 14ms/step - loss: 9.0193 - mae: 9.0193\n",
            "Epoch 51/100\n",
            "2/2 [==============================] - 0s 12ms/step - loss: 10.6572 - mae: 10.6572\n",
            "Epoch 52/100\n",
            "2/2 [==============================] - 0s 11ms/step - loss: 15.2918 - mae: 15.2918\n",
            "Epoch 53/100\n",
            "2/2 [==============================] - 0s 10ms/step - loss: 14.3130 - mae: 14.3130\n",
            "Epoch 54/100\n",
            "2/2 [==============================] - 0s 15ms/step - loss: 21.6123 - mae: 21.6123\n",
            "Epoch 55/100\n",
            "2/2 [==============================] - 0s 11ms/step - loss: 15.9839 - mae: 15.9839\n",
            "Epoch 56/100\n",
            "2/2 [==============================] - 0s 11ms/step - loss: 10.2848 - mae: 10.2848\n",
            "Epoch 57/100\n",
            "2/2 [==============================] - 0s 10ms/step - loss: 9.7578 - mae: 9.7578\n",
            "Epoch 58/100\n",
            "2/2 [==============================] - 0s 13ms/step - loss: 9.0435 - mae: 9.0435\n",
            "Epoch 59/100\n",
            "2/2 [==============================] - 0s 13ms/step - loss: 8.2493 - mae: 8.2493\n",
            "Epoch 60/100\n",
            "2/2 [==============================] - 0s 15ms/step - loss: 9.3457 - mae: 9.3457\n",
            "Epoch 61/100\n",
            "2/2 [==============================] - 0s 11ms/step - loss: 11.1534 - mae: 11.1534\n",
            "Epoch 62/100\n",
            "2/2 [==============================] - 0s 11ms/step - loss: 12.0735 - mae: 12.0735\n",
            "Epoch 63/100\n",
            "2/2 [==============================] - 0s 12ms/step - loss: 7.2612 - mae: 7.2612\n",
            "Epoch 64/100\n",
            "2/2 [==============================] - 0s 13ms/step - loss: 12.4221 - mae: 12.4221\n",
            "Epoch 65/100\n",
            "2/2 [==============================] - 0s 14ms/step - loss: 10.4892 - mae: 10.4892\n",
            "Epoch 66/100\n",
            "2/2 [==============================] - 0s 12ms/step - loss: 15.6068 - mae: 15.6068\n",
            "Epoch 67/100\n",
            "2/2 [==============================] - 0s 14ms/step - loss: 10.0063 - mae: 10.0063\n",
            "Epoch 68/100\n",
            "2/2 [==============================] - 0s 19ms/step - loss: 8.7145 - mae: 8.7145\n",
            "Epoch 69/100\n",
            "2/2 [==============================] - 0s 15ms/step - loss: 13.4830 - mae: 13.4830\n",
            "Epoch 70/100\n",
            "2/2 [==============================] - 0s 15ms/step - loss: 7.4601 - mae: 7.4601\n",
            "Epoch 71/100\n",
            "2/2 [==============================] - 0s 17ms/step - loss: 12.2161 - mae: 12.2161\n",
            "Epoch 72/100\n",
            "2/2 [==============================] - 0s 16ms/step - loss: 8.5261 - mae: 8.5261\n",
            "Epoch 73/100\n",
            "2/2 [==============================] - 0s 14ms/step - loss: 7.0309 - mae: 7.0309\n",
            "Epoch 74/100\n",
            "2/2 [==============================] - 0s 14ms/step - loss: 9.9255 - mae: 9.9255\n",
            "Epoch 75/100\n",
            "2/2 [==============================] - 0s 17ms/step - loss: 9.9271 - mae: 9.9271\n",
            "Epoch 76/100\n",
            "2/2 [==============================] - 0s 18ms/step - loss: 10.0940 - mae: 10.0940\n",
            "Epoch 77/100\n",
            "2/2 [==============================] - 0s 16ms/step - loss: 12.9430 - mae: 12.9430\n",
            "Epoch 78/100\n",
            "2/2 [==============================] - 0s 17ms/step - loss: 11.1425 - mae: 11.1425\n",
            "Epoch 79/100\n",
            "2/2 [==============================] - 0s 15ms/step - loss: 14.6978 - mae: 14.6978\n",
            "Epoch 80/100\n",
            "2/2 [==============================] - 0s 14ms/step - loss: 8.9157 - mae: 8.9157\n",
            "Epoch 81/100\n",
            "2/2 [==============================] - 0s 13ms/step - loss: 10.7577 - mae: 10.7577\n",
            "Epoch 82/100\n",
            "2/2 [==============================] - 0s 13ms/step - loss: 8.3829 - mae: 8.3829\n",
            "Epoch 83/100\n",
            "2/2 [==============================] - 0s 16ms/step - loss: 9.2149 - mae: 9.2149\n",
            "Epoch 84/100\n",
            "2/2 [==============================] - 0s 14ms/step - loss: 8.9333 - mae: 8.9333\n",
            "Epoch 85/100\n",
            "2/2 [==============================] - 0s 19ms/step - loss: 13.1916 - mae: 13.1916\n",
            "Epoch 86/100\n",
            "2/2 [==============================] - 0s 14ms/step - loss: 13.7005 - mae: 13.7005\n",
            "Epoch 87/100\n",
            "2/2 [==============================] - 0s 13ms/step - loss: 13.1847 - mae: 13.1847\n",
            "Epoch 88/100\n",
            "2/2 [==============================] - 0s 15ms/step - loss: 11.5099 - mae: 11.5099\n",
            "Epoch 89/100\n",
            "2/2 [==============================] - 0s 16ms/step - loss: 7.7961 - mae: 7.7961\n",
            "Epoch 90/100\n",
            "2/2 [==============================] - 0s 16ms/step - loss: 10.9235 - mae: 10.9235\n",
            "Epoch 91/100\n",
            "2/2 [==============================] - 0s 14ms/step - loss: 6.7407 - mae: 6.7407\n",
            "Epoch 92/100\n",
            "2/2 [==============================] - 0s 11ms/step - loss: 10.1161 - mae: 10.1161\n",
            "Epoch 93/100\n",
            "2/2 [==============================] - 0s 16ms/step - loss: 7.5988 - mae: 7.5988\n",
            "Epoch 94/100\n",
            "2/2 [==============================] - 0s 12ms/step - loss: 9.2307 - mae: 9.2307\n",
            "Epoch 95/100\n",
            "2/2 [==============================] - 0s 20ms/step - loss: 10.8192 - mae: 10.8192\n",
            "Epoch 96/100\n",
            "2/2 [==============================] - 0s 15ms/step - loss: 10.2900 - mae: 10.2900\n",
            "Epoch 97/100\n",
            "2/2 [==============================] - 0s 15ms/step - loss: 7.6704 - mae: 7.6704\n",
            "Epoch 98/100\n",
            "2/2 [==============================] - 0s 12ms/step - loss: 8.6055 - mae: 8.6055\n",
            "Epoch 99/100\n",
            "2/2 [==============================] - 0s 11ms/step - loss: 9.3836 - mae: 9.3836\n",
            "Epoch 100/100\n",
            "2/2 [==============================] - 0s 11ms/step - loss: 8.8302 - mae: 8.8302\n"
          ]
        },
        {
          "output_type": "execute_result",
          "data": {
            "text/plain": [
              "<keras.src.callbacks.History at 0x79b4f460d6f0>"
            ]
          },
          "metadata": {},
          "execution_count": 57
        }
      ]
    },
    {
      "cell_type": "code",
      "metadata": {
        "colab": {
          "base_uri": "https://localhost:8080/",
          "height": 654
        },
        "id": "9Wfj4dqK-z6H",
        "outputId": "9cebef75-f731-417d-da9d-0584aa2950cf"
      },
      "source": [
        "# Make and plot predictions for model_1\n",
        "y_preds_1 = model_1.predict(X_test)\n",
        "plot_predictions(predictions=y_preds_1)"
      ],
      "execution_count": 58,
      "outputs": [
        {
          "output_type": "stream",
          "name": "stderr",
          "text": [
            "WARNING:tensorflow:5 out of the last 5 calls to <function Model.make_predict_function.<locals>.predict_function at 0x79b4f44c51b0> triggered tf.function retracing. Tracing is expensive and the excessive number of tracings could be due to (1) creating @tf.function repeatedly in a loop, (2) passing tensors with different shapes, (3) passing Python objects instead of tensors. For (1), please define your @tf.function outside of the loop. For (2), @tf.function has reduce_retracing=True option that can avoid unnecessary retracing. For (3), please refer to https://www.tensorflow.org/guide/function#controlling_retracing and https://www.tensorflow.org/api_docs/python/tf/function for  more details.\n"
          ]
        },
        {
          "output_type": "stream",
          "name": "stdout",
          "text": [
            "1/1 [==============================] - 0s 48ms/step\n"
          ]
        },
        {
          "output_type": "display_data",
          "data": {
            "text/plain": [
              "<Figure size 1000x700 with 1 Axes>"
            ],
            "image/png": "[encoded data removed]"
          },
          "metadata": {}
        }
      ]
    },
    {
      "cell_type": "code",
      "metadata": {
        "colab": {
          "base_uri": "https://localhost:8080/"
        },
        "id": "7B2ujgQeALRb",
        "outputId": "77bb058e-982f-47f3-f017-83fe70c34bf0"
      },
      "source": [
        "# Calculate model_1 evaluation metrics\n",
        "mae_1 = mae(y_test, y_preds_1)\n",
        "mse_1 = mse(y_test, y_preds_1)\n",
        "mae_1, mse_1"
      ],
      "execution_count": 59,
      "outputs": [
        {
          "output_type": "execute_result",
          "data": {
            "text/plain": [
              "(<tf.Tensor: shape=(), dtype=float32, numpy=8.645444>,\n",
              " <tf.Tensor: shape=(), dtype=float32, numpy=81.26146>)"
            ]
          },
          "metadata": {},
          "execution_count": 59
        }
      ]
    },
    {
      "cell_type": "markdown",
      "metadata": {
        "id": "lMKAg48cAcAX"
      },
      "source": [
        "**Build `model_2`**\n",
        "\n",
        "* 2 dense layers, trained for 100 epochs"
      ]
    },
    {
      "cell_type": "code",
      "metadata": {
        "colab": {
          "base_uri": "https://localhost:8080/"
        },
        "id": "KfNxa4oOBK55",
        "outputId": "86564032-b35d-4eda-e59b-0bd59e13926c"
      },
      "source": [
        "# Set the random seed\n",
        "tf.random.set_seed(42)\n",
        "\n",
        "# 1. Create the model\n",
        "model_2 = tf.keras.Sequential([\n",
        "  tf.keras.layers.Dense(10),\n",
        "  tf.keras.layers.Dense(1)\n",
        "])\n",
        "\n",
        "# 2. Compile the model\n",
        "model_2.compile(loss=tf.keras.losses.mae,\n",
        "                optimizer=tf.keras.optimizers.SGD(),\n",
        "                metrics=[\"mse\"])\n",
        "\n",
        "# 3. Fit the model\n",
        "model_2.fit(tf.reshape(X_train, shape=(40, 1)), tf.reshape(y_train, shape=(40, 1)), epochs=100)"
      ],
      "execution_count": 61,
      "outputs": [
        {
          "output_type": "stream",
          "name": "stdout",
          "text": [
            "Epoch 1/100\n",
            "2/2 [==============================] - 1s 13ms/step - loss: 64.3776 - mse: 6135.2886\n",
            "Epoch 2/100\n",
            "2/2 [==============================] - 0s 7ms/step - loss: 15.5908 - mse: 374.4973\n",
            "Epoch 3/100\n",
            "2/2 [==============================] - 0s 8ms/step - loss: 18.4710 - mse: 494.5439\n",
            "Epoch 4/100\n",
            "2/2 [==============================] - 0s 9ms/step - loss: 13.4665 - mse: 235.6745\n",
            "Epoch 5/100\n",
            "2/2 [==============================] - 0s 9ms/step - loss: 14.8576 - mse: 276.3953\n",
            "Epoch 6/100\n",
            "2/2 [==============================] - 0s 14ms/step - loss: 11.8211 - mse: 165.5861\n",
            "Epoch 7/100\n",
            "2/2 [==============================] - 0s 22ms/step - loss: 11.1534 - mse: 150.3669\n",
            "Epoch 8/100\n",
            "2/2 [==============================] - 0s 20ms/step - loss: 11.0862 - mse: 158.3416\n",
            "Epoch 9/100\n",
            "2/2 [==============================] - 0s 14ms/step - loss: 40.3728 - mse: 2569.8269\n",
            "Epoch 10/100\n",
            "2/2 [==============================] - 0s 14ms/step - loss: 27.7787 - mse: 1087.1018\n",
            "Epoch 11/100\n",
            "2/2 [==============================] - 0s 19ms/step - loss: 10.2470 - mse: 147.5777\n",
            "Epoch 12/100\n",
            "2/2 [==============================] - 0s 10ms/step - loss: 25.3192 - mse: 892.9718\n",
            "Epoch 13/100\n",
            "2/2 [==============================] - 0s 9ms/step - loss: 16.9497 - mse: 397.6408\n",
            "Epoch 14/100\n",
            "2/2 [==============================] - 0s 13ms/step - loss: 25.8505 - mse: 1043.1182\n",
            "Epoch 15/100\n",
            "2/2 [==============================] - 0s 11ms/step - loss: 17.6780 - mse: 432.9520\n",
            "Epoch 16/100\n",
            "2/2 [==============================] - 0s 10ms/step - loss: 10.0784 - mse: 124.1296\n",
            "Epoch 17/100\n",
            "2/2 [==============================] - 0s 12ms/step - loss: 18.6801 - mse: 467.0471\n",
            "Epoch 18/100\n",
            "2/2 [==============================] - 0s 12ms/step - loss: 11.7978 - mse: 214.1514\n",
            "Epoch 19/100\n",
            "2/2 [==============================] - 0s 12ms/step - loss: 16.5231 - mse: 437.8496\n",
            "Epoch 20/100\n",
            "2/2 [==============================] - 0s 14ms/step - loss: 8.2357 - mse: 93.2469\n",
            "Epoch 21/100\n",
            "2/2 [==============================] - 0s 11ms/step - loss: 14.4044 - mse: 288.0378\n",
            "Epoch 22/100\n",
            "2/2 [==============================] - 0s 13ms/step - loss: 12.8174 - mse: 245.2684\n",
            "Epoch 23/100\n",
            "2/2 [==============================] - 0s 9ms/step - loss: 15.4553 - mse: 314.4814\n",
            "Epoch 24/100\n",
            "2/2 [==============================] - 0s 10ms/step - loss: 15.2443 - mse: 315.1980\n",
            "Epoch 25/100\n",
            "2/2 [==============================] - 0s 10ms/step - loss: 14.3244 - mse: 272.4401\n",
            "Epoch 26/100\n",
            "2/2 [==============================] - 0s 10ms/step - loss: 19.3170 - mse: 566.3781\n",
            "Epoch 27/100\n",
            "2/2 [==============================] - 0s 11ms/step - loss: 11.4648 - mse: 170.2299\n",
            "Epoch 28/100\n",
            "2/2 [==============================] - 0s 11ms/step - loss: 29.1885 - mse: 1385.2405\n",
            "Epoch 29/100\n",
            "2/2 [==============================] - 0s 10ms/step - loss: 9.2500 - mse: 94.2132\n",
            "Epoch 30/100\n",
            "2/2 [==============================] - 0s 14ms/step - loss: 29.9049 - mse: 1621.9214\n",
            "Epoch 31/100\n",
            "2/2 [==============================] - 0s 11ms/step - loss: 54.2738 - mse: 5278.0479\n",
            "Epoch 32/100\n",
            "2/2 [==============================] - 0s 11ms/step - loss: 9.5846 - mse: 101.3049\n",
            "Epoch 33/100\n",
            "2/2 [==============================] - 0s 10ms/step - loss: 12.1790 - mse: 182.3448\n",
            "Epoch 34/100\n",
            "2/2 [==============================] - 0s 10ms/step - loss: 23.9776 - mse: 871.3698\n",
            "Epoch 35/100\n",
            "2/2 [==============================] - 0s 11ms/step - loss: 12.6105 - mse: 243.1650\n",
            "Epoch 36/100\n",
            "2/2 [==============================] - 0s 10ms/step - loss: 21.5076 - mse: 659.8128\n",
            "Epoch 37/100\n",
            "2/2 [==============================] - 0s 12ms/step - loss: 11.3954 - mse: 150.4686\n",
            "Epoch 38/100\n",
            "2/2 [==============================] - 0s 10ms/step - loss: 13.4928 - mse: 270.6809\n",
            "Epoch 39/100\n",
            "2/2 [==============================] - 0s 9ms/step - loss: 10.8034 - mse: 139.9702\n",
            "Epoch 40/100\n",
            "2/2 [==============================] - 0s 11ms/step - loss: 16.6431 - mse: 401.7758\n",
            "Epoch 41/100\n",
            "2/2 [==============================] - 0s 19ms/step - loss: 10.9940 - mse: 179.8067\n",
            "Epoch 42/100\n",
            "2/2 [==============================] - 0s 12ms/step - loss: 9.3162 - mse: 114.8714\n",
            "Epoch 43/100\n",
            "2/2 [==============================] - 0s 14ms/step - loss: 9.5967 - mse: 110.6339\n",
            "Epoch 44/100\n",
            "2/2 [==============================] - 0s 13ms/step - loss: 28.0701 - mse: 1264.1892\n",
            "Epoch 45/100\n",
            "2/2 [==============================] - 0s 9ms/step - loss: 11.3033 - mse: 147.5763\n",
            "Epoch 46/100\n",
            "2/2 [==============================] - 0s 16ms/step - loss: 14.1178 - mse: 291.2475\n",
            "Epoch 47/100\n",
            "2/2 [==============================] - 0s 13ms/step - loss: 13.4836 - mse: 256.1420\n",
            "Epoch 48/100\n",
            "2/2 [==============================] - 0s 14ms/step - loss: 17.3112 - mse: 406.5529\n",
            "Epoch 49/100\n",
            "2/2 [==============================] - 0s 15ms/step - loss: 9.5319 - mse: 98.9367\n",
            "Epoch 50/100\n",
            "2/2 [==============================] - 0s 12ms/step - loss: 13.7366 - mse: 255.3633\n",
            "Epoch 51/100\n",
            "2/2 [==============================] - 0s 14ms/step - loss: 11.5704 - mse: 153.5046\n",
            "Epoch 52/100\n",
            "2/2 [==============================] - 0s 13ms/step - loss: 30.3101 - mse: 1585.1979\n",
            "Epoch 53/100\n",
            "2/2 [==============================] - 0s 10ms/step - loss: 14.2519 - mse: 297.6252\n",
            "Epoch 54/100\n",
            "2/2 [==============================] - 0s 10ms/step - loss: 23.5618 - mse: 835.5039\n",
            "Epoch 55/100\n",
            "2/2 [==============================] - 0s 16ms/step - loss: 24.4787 - mse: 904.1961\n",
            "Epoch 56/100\n",
            "2/2 [==============================] - 0s 8ms/step - loss: 11.3066 - mse: 171.6400\n",
            "Epoch 57/100\n",
            "2/2 [==============================] - 0s 20ms/step - loss: 13.3123 - mse: 222.9460\n",
            "Epoch 58/100\n",
            "2/2 [==============================] - 0s 10ms/step - loss: 9.9219 - mse: 108.7973\n",
            "Epoch 59/100\n",
            "2/2 [==============================] - 0s 10ms/step - loss: 13.8522 - mse: 272.3318\n",
            "Epoch 60/100\n",
            "2/2 [==============================] - 0s 10ms/step - loss: 9.9648 - mse: 118.6134\n",
            "Epoch 61/100\n",
            "2/2 [==============================] - 0s 11ms/step - loss: 14.9081 - mse: 305.0478\n",
            "Epoch 62/100\n",
            "2/2 [==============================] - 0s 12ms/step - loss: 11.8862 - mse: 194.2038\n",
            "Epoch 63/100\n",
            "2/2 [==============================] - 0s 12ms/step - loss: 10.2658 - mse: 133.1207\n",
            "Epoch 64/100\n",
            "2/2 [==============================] - 0s 13ms/step - loss: 23.7777 - mse: 830.5197\n",
            "Epoch 65/100\n",
            "2/2 [==============================] - 0s 12ms/step - loss: 10.4412 - mse: 128.9532\n",
            "Epoch 66/100\n",
            "2/2 [==============================] - 0s 17ms/step - loss: 20.8363 - mse: 637.8757\n",
            "Epoch 67/100\n",
            "2/2 [==============================] - 0s 18ms/step - loss: 10.4129 - mse: 125.3743\n",
            "Epoch 68/100\n",
            "2/2 [==============================] - 0s 19ms/step - loss: 14.1083 - mse: 299.5500\n",
            "Epoch 69/100\n",
            "2/2 [==============================] - 0s 12ms/step - loss: 10.4774 - mse: 124.8891\n",
            "Epoch 70/100\n",
            "2/2 [==============================] - 0s 20ms/step - loss: 12.5441 - mse: 199.4759\n",
            "Epoch 71/100\n",
            "2/2 [==============================] - 0s 28ms/step - loss: 12.9743 - mse: 223.8407\n",
            "Epoch 72/100\n",
            "2/2 [==============================] - 0s 14ms/step - loss: 19.2665 - mse: 526.5951\n",
            "Epoch 73/100\n",
            "2/2 [==============================] - 0s 14ms/step - loss: 11.1055 - mse: 193.9963\n",
            "Epoch 74/100\n",
            "2/2 [==============================] - 0s 14ms/step - loss: 21.3429 - mse: 710.4694\n",
            "Epoch 75/100\n",
            "2/2 [==============================] - 0s 15ms/step - loss: 9.4301 - mse: 152.1142\n",
            "Epoch 76/100\n",
            "2/2 [==============================] - 0s 30ms/step - loss: 12.2478 - mse: 181.8135\n",
            "Epoch 77/100\n",
            "2/2 [==============================] - 0s 16ms/step - loss: 16.2454 - mse: 406.0205\n",
            "Epoch 78/100\n",
            "2/2 [==============================] - 0s 11ms/step - loss: 8.9975 - mse: 91.3257\n",
            "Epoch 79/100\n",
            "2/2 [==============================] - 0s 22ms/step - loss: 23.4767 - mse: 824.5828\n",
            "Epoch 80/100\n",
            "2/2 [==============================] - 0s 13ms/step - loss: 26.1542 - mse: 1051.3031\n",
            "Epoch 81/100\n",
            "2/2 [==============================] - 0s 12ms/step - loss: 11.3901 - mse: 158.8481\n",
            "Epoch 82/100\n",
            "2/2 [==============================] - 0s 11ms/step - loss: 12.4722 - mse: 227.0696\n",
            "Epoch 83/100\n",
            "2/2 [==============================] - 0s 16ms/step - loss: 17.1485 - mse: 382.6394\n",
            "Epoch 84/100\n",
            "2/2 [==============================] - 0s 13ms/step - loss: 6.5644 - mse: 63.8450\n",
            "Epoch 85/100\n",
            "2/2 [==============================] - 0s 15ms/step - loss: 20.3562 - mse: 579.6622\n",
            "Epoch 86/100\n",
            "2/2 [==============================] - 0s 14ms/step - loss: 10.1591 - mse: 116.1364\n",
            "Epoch 87/100\n",
            "2/2 [==============================] - 0s 14ms/step - loss: 24.4177 - mse: 834.5213\n",
            "Epoch 88/100\n",
            "2/2 [==============================] - 0s 14ms/step - loss: 19.0808 - mse: 516.8386\n",
            "Epoch 89/100\n",
            "2/2 [==============================] - 0s 13ms/step - loss: 7.1452 - mse: 69.6451\n",
            "Epoch 90/100\n",
            "2/2 [==============================] - 0s 14ms/step - loss: 18.2198 - mse: 492.3181\n",
            "Epoch 91/100\n",
            "2/2 [==============================] - 0s 15ms/step - loss: 13.2675 - mse: 254.6724\n",
            "Epoch 92/100\n",
            "2/2 [==============================] - 0s 11ms/step - loss: 14.8038 - mse: 309.0999\n",
            "Epoch 93/100\n",
            "2/2 [==============================] - 0s 15ms/step - loss: 11.6049 - mse: 250.9923\n",
            "Epoch 94/100\n",
            "2/2 [==============================] - 0s 13ms/step - loss: 16.1604 - mse: 368.8302\n",
            "Epoch 95/100\n",
            "2/2 [==============================] - 0s 13ms/step - loss: 15.5012 - mse: 319.8858\n",
            "Epoch 96/100\n",
            "2/2 [==============================] - 0s 22ms/step - loss: 15.0280 - mse: 322.1797\n",
            "Epoch 97/100\n",
            "2/2 [==============================] - 0s 13ms/step - loss: 10.8589 - mse: 188.0626\n",
            "Epoch 98/100\n",
            "2/2 [==============================] - 0s 11ms/step - loss: 14.3162 - mse: 284.7573\n",
            "Epoch 99/100\n",
            "2/2 [==============================] - 0s 13ms/step - loss: 13.3463 - mse: 250.6850\n",
            "Epoch 100/100\n",
            "2/2 [==============================] - 0s 17ms/step - loss: 19.9346 - mse: 581.4133\n"
          ]
        },
        {
          "output_type": "execute_result",
          "data": {
            "text/plain": [
              "<keras.src.callbacks.History at 0x79b4f566af80>"
            ]
          },
          "metadata": {},
          "execution_count": 61
        }
      ]
    },
    {
      "cell_type": "code",
      "metadata": {
        "colab": {
          "base_uri": "https://localhost:8080/",
          "height": 654
        },
        "id": "RW1hakVSCOUg",
        "outputId": "2e48ffdd-900f-4f4c-f128-1e03d1a92f0b"
      },
      "source": [
        "# Make and plot predictions of model_2\n",
        "y_preds_2 = model_2.predict(X_test)\n",
        "plot_predictions(predictions=y_preds_2)"
      ],
      "execution_count": 62,
      "outputs": [
        {
          "output_type": "stream",
          "name": "stderr",
          "text": [
            "WARNING:tensorflow:6 out of the last 6 calls to <function Model.make_predict_function.<locals>.predict_function at 0x79b4f573f910> triggered tf.function retracing. Tracing is expensive and the excessive number of tracings could be due to (1) creating @tf.function repeatedly in a loop, (2) passing tensors with different shapes, (3) passing Python objects instead of tensors. For (1), please define your @tf.function outside of the loop. For (2), @tf.function has reduce_retracing=True option that can avoid unnecessary retracing. For (3), please refer to https://www.tensorflow.org/guide/function#controlling_retracing and https://www.tensorflow.org/api_docs/python/tf/function for  more details.\n"
          ]
        },
        {
          "output_type": "stream",
          "name": "stdout",
          "text": [
            "1/1 [==============================] - 0s 54ms/step\n"
          ]
        },
        {
          "output_type": "display_data",
          "data": {
            "text/plain": [
              "<Figure size 1000x700 with 1 Axes>"
            ],
            "image/png": "[encoded data removed]"
          },
          "metadata": {}
        }
      ]
    },
    {
      "cell_type": "code",
      "metadata": {
        "colab": {
          "base_uri": "https://localhost:8080/"
        },
        "id": "bgQMdpCICc9Q",
        "outputId": "46f809aa-7bd4-4b4b-aa74-605e96ead232"
      },
      "source": [
        "# Calculate model_2 evaluation metrics\n",
        "mae_2 = mae(y_test, y_preds_2)\n",
        "mse_2 = mse(y_test, y_preds_2)\n",
        "mae_2, mse_2"
      ],
      "execution_count": 63,
      "outputs": [
        {
          "output_type": "execute_result",
          "data": {
            "text/plain": [
              "(<tf.Tensor: shape=(), dtype=float32, numpy=30.084219>,\n",
              " <tf.Tensor: shape=(), dtype=float32, numpy=936.7381>)"
            ]
          },
          "metadata": {},
          "execution_count": 63
        }
      ]
    },
    {
      "cell_type": "markdown",
      "metadata": {
        "id": "frsg7iYgCvo8"
      },
      "source": [
        "**Build `model_3`**\n",
        "\n",
        "* 2 layers, trained for 500 epochs"
      ]
    },
    {
      "cell_type": "code",
      "metadata": {
        "colab": {
          "base_uri": "https://localhost:8080/"
        },
        "id": "4sfbKhNdDCXn",
        "outputId": "f70b5cae-0890-4095-96f3-c4a659d8db1e"
      },
      "source": [
        "# Set random seed\n",
        "tf.random.set_seed(42)\n",
        "\n",
        "# 1. Create a model\n",
        "model_3 = tf.keras.Sequential([\n",
        "  tf.keras.layers.Dense(10),\n",
        "  tf.keras.layers.Dense(1)\n",
        "])\n",
        "\n",
        "# 2. Compile the model\n",
        "model_3.compile(loss=tf.keras.losses.mae,\n",
        "                optimizer=tf.keras.optimizers.SGD(),\n",
        "                metrics=[\"mae\"])\n",
        "\n",
        "# 3. Fit the model\n",
        "model_3.fit(tf.reshape(X_train, shape=(40, 1)), tf.reshape(y_train, shape=(40, 1)), epochs=500)"
      ],
      "execution_count": 64,
      "outputs": [
        {
          "output_type": "stream",
          "name": "stdout",
          "text": [
            "Epoch 1/500\n",
            "2/2 [==============================] - 1s 17ms/step - loss: 47.1987 - mae: 47.1987\n",
            "Epoch 2/500\n",
            "2/2 [==============================] - 0s 13ms/step - loss: 30.9182 - mae: 30.9182\n",
            "Epoch 3/500\n",
            "2/2 [==============================] - 0s 16ms/step - loss: 36.2029 - mae: 36.2029\n",
            "Epoch 4/500\n",
            "2/2 [==============================] - 0s 12ms/step - loss: 26.3689 - mae: 26.3689\n",
            "Epoch 5/500\n",
            "2/2 [==============================] - 0s 23ms/step - loss: 14.4639 - mae: 14.4639\n",
            "Epoch 6/500\n",
            "2/2 [==============================] - 0s 12ms/step - loss: 11.5594 - mae: 11.5594\n",
            "Epoch 7/500\n",
            "2/2 [==============================] - 0s 12ms/step - loss: 12.6217 - mae: 12.6217\n",
            "Epoch 8/500\n",
            "2/2 [==============================] - 0s 16ms/step - loss: 11.0415 - mae: 11.0415\n",
            "Epoch 9/500\n",
            "2/2 [==============================] - 0s 13ms/step - loss: 39.6760 - mae: 39.6760\n",
            "Epoch 10/500\n",
            "2/2 [==============================] - 0s 13ms/step - loss: 27.1718 - mae: 27.1718\n",
            "Epoch 11/500\n",
            "2/2 [==============================] - 0s 13ms/step - loss: 11.0344 - mae: 11.0344\n",
            "Epoch 12/500\n",
            "2/2 [==============================] - 0s 13ms/step - loss: 24.4399 - mae: 24.4399\n",
            "Epoch 13/500\n",
            "2/2 [==============================] - 0s 12ms/step - loss: 19.2799 - mae: 19.2799\n",
            "Epoch 14/500\n",
            "2/2 [==============================] - 0s 13ms/step - loss: 23.5094 - mae: 23.5094\n",
            "Epoch 15/500\n",
            "2/2 [==============================] - 0s 13ms/step - loss: 15.2864 - mae: 15.2864\n",
            "Epoch 16/500\n",
            "2/2 [==============================] - 0s 12ms/step - loss: 11.3694 - mae: 11.3694\n",
            "Epoch 17/500\n",
            "2/2 [==============================] - 0s 12ms/step - loss: 23.2361 - mae: 23.2361\n",
            "Epoch 18/500\n",
            "2/2 [==============================] - 0s 12ms/step - loss: 11.7992 - mae: 11.7992\n",
            "Epoch 19/500\n",
            "2/2 [==============================] - 0s 12ms/step - loss: 16.5216 - mae: 16.5216\n",
            "Epoch 20/500\n",
            "2/2 [==============================] - 0s 13ms/step - loss: 8.2386 - mae: 8.2386\n",
            "Epoch 21/500\n",
            "2/2 [==============================] - 0s 13ms/step - loss: 14.4071 - mae: 14.4071\n",
            "Epoch 22/500\n",
            "2/2 [==============================] - 0s 15ms/step - loss: 12.8198 - mae: 12.8198\n",
            "Epoch 23/500\n",
            "2/2 [==============================] - 0s 12ms/step - loss: 15.4586 - mae: 15.4586\n",
            "Epoch 24/500\n",
            "2/2 [==============================] - 0s 12ms/step - loss: 15.2475 - mae: 15.2475\n",
            "Epoch 25/500\n",
            "2/2 [==============================] - 0s 13ms/step - loss: 14.3277 - mae: 14.3277\n",
            "Epoch 26/500\n",
            "2/2 [==============================] - 0s 13ms/step - loss: 19.3212 - mae: 19.3212\n",
            "Epoch 27/500\n",
            "2/2 [==============================] - 0s 20ms/step - loss: 11.4655 - mae: 11.4655\n",
            "Epoch 28/500\n",
            "2/2 [==============================] - 0s 13ms/step - loss: 29.1750 - mae: 29.1750\n",
            "Epoch 29/500\n",
            "2/2 [==============================] - 0s 13ms/step - loss: 9.2525 - mae: 9.2525\n",
            "Epoch 30/500\n",
            "2/2 [==============================] - 0s 11ms/step - loss: 29.8931 - mae: 29.8931\n",
            "Epoch 31/500\n",
            "2/2 [==============================] - 0s 9ms/step - loss: 54.2511 - mae: 54.2511\n",
            "Epoch 32/500\n",
            "2/2 [==============================] - 0s 9ms/step - loss: 9.5845 - mae: 9.5845\n",
            "Epoch 33/500\n",
            "2/2 [==============================] - 0s 20ms/step - loss: 12.1783 - mae: 12.1783\n",
            "Epoch 34/500\n",
            "2/2 [==============================] - 0s 11ms/step - loss: 23.9621 - mae: 23.9621\n",
            "Epoch 35/500\n",
            "2/2 [==============================] - 0s 8ms/step - loss: 12.6149 - mae: 12.6149\n",
            "Epoch 36/500\n",
            "2/2 [==============================] - 0s 10ms/step - loss: 21.5143 - mae: 21.5143\n",
            "Epoch 37/500\n",
            "2/2 [==============================] - 0s 19ms/step - loss: 11.3926 - mae: 11.3926\n",
            "Epoch 38/500\n",
            "2/2 [==============================] - 0s 10ms/step - loss: 13.4852 - mae: 13.4852\n",
            "Epoch 39/500\n",
            "2/2 [==============================] - 0s 23ms/step - loss: 10.8012 - mae: 10.8012\n",
            "Epoch 40/500\n",
            "2/2 [==============================] - 0s 15ms/step - loss: 16.6289 - mae: 16.6289\n",
            "Epoch 41/500\n",
            "2/2 [==============================] - 0s 10ms/step - loss: 10.9889 - mae: 10.9889\n",
            "Epoch 42/500\n",
            "2/2 [==============================] - 0s 14ms/step - loss: 9.3125 - mae: 9.3125\n",
            "Epoch 43/500\n",
            "2/2 [==============================] - 0s 15ms/step - loss: 9.5971 - mae: 9.5971\n",
            "Epoch 44/500\n",
            "2/2 [==============================] - 0s 18ms/step - loss: 28.0417 - mae: 28.0417\n",
            "Epoch 45/500\n",
            "2/2 [==============================] - 0s 12ms/step - loss: 11.2982 - mae: 11.2982\n",
            "Epoch 46/500\n",
            "2/2 [==============================] - 0s 11ms/step - loss: 14.1004 - mae: 14.1004\n",
            "Epoch 47/500\n",
            "2/2 [==============================] - 0s 13ms/step - loss: 13.4914 - mae: 13.4914\n",
            "Epoch 48/500\n",
            "2/2 [==============================] - 0s 13ms/step - loss: 17.3229 - mae: 17.3229\n",
            "Epoch 49/500\n",
            "2/2 [==============================] - 0s 13ms/step - loss: 9.5271 - mae: 9.5271\n",
            "Epoch 50/500\n",
            "2/2 [==============================] - 0s 13ms/step - loss: 13.7259 - mae: 13.7259\n",
            "Epoch 51/500\n",
            "2/2 [==============================] - 0s 13ms/step - loss: 11.5679 - mae: 11.5679\n",
            "Epoch 52/500\n",
            "2/2 [==============================] - 0s 15ms/step - loss: 30.2730 - mae: 30.2730\n",
            "Epoch 53/500\n",
            "2/2 [==============================] - 0s 16ms/step - loss: 14.2369 - mae: 14.2369\n",
            "Epoch 54/500\n",
            "2/2 [==============================] - 0s 14ms/step - loss: 23.5348 - mae: 23.5348\n",
            "Epoch 55/500\n",
            "2/2 [==============================] - 0s 13ms/step - loss: 24.4472 - mae: 24.4472\n",
            "Epoch 56/500\n",
            "2/2 [==============================] - 0s 11ms/step - loss: 11.2990 - mae: 11.2990\n",
            "Epoch 57/500\n",
            "2/2 [==============================] - 0s 17ms/step - loss: 13.3005 - mae: 13.3005\n",
            "Epoch 58/500\n",
            "2/2 [==============================] - 0s 15ms/step - loss: 9.9160 - mae: 9.9160\n",
            "Epoch 59/500\n",
            "2/2 [==============================] - 0s 14ms/step - loss: 13.8343 - mae: 13.8343\n",
            "Epoch 60/500\n",
            "2/2 [==============================] - 0s 16ms/step - loss: 9.9585 - mae: 9.9585\n",
            "Epoch 61/500\n",
            "2/2 [==============================] - 0s 14ms/step - loss: 14.8888 - mae: 14.8888\n",
            "Epoch 62/500\n",
            "2/2 [==============================] - 0s 20ms/step - loss: 11.8752 - mae: 11.8752\n",
            "Epoch 63/500\n",
            "2/2 [==============================] - 0s 15ms/step - loss: 10.2606 - mae: 10.2606\n",
            "Epoch 64/500\n",
            "2/2 [==============================] - 0s 16ms/step - loss: 23.7395 - mae: 23.7395\n",
            "Epoch 65/500\n",
            "2/2 [==============================] - 0s 18ms/step - loss: 10.4354 - mae: 10.4354\n",
            "Epoch 66/500\n",
            "2/2 [==============================] - 0s 15ms/step - loss: 20.8018 - mae: 20.8018\n",
            "Epoch 67/500\n",
            "2/2 [==============================] - 0s 13ms/step - loss: 10.4042 - mae: 10.4042\n",
            "Epoch 68/500\n",
            "2/2 [==============================] - 0s 22ms/step - loss: 14.0835 - mae: 14.0835\n",
            "Epoch 69/500\n",
            "2/2 [==============================] - 0s 18ms/step - loss: 10.4656 - mae: 10.4656\n",
            "Epoch 70/500\n",
            "2/2 [==============================] - 0s 20ms/step - loss: 12.5304 - mae: 12.5304\n",
            "Epoch 71/500\n",
            "2/2 [==============================] - 0s 19ms/step - loss: 12.9601 - mae: 12.9601\n",
            "Epoch 72/500\n",
            "2/2 [==============================] - 0s 10ms/step - loss: 19.2283 - mae: 19.2283\n",
            "Epoch 73/500\n",
            "2/2 [==============================] - 0s 15ms/step - loss: 11.0976 - mae: 11.0976\n",
            "Epoch 74/500\n",
            "2/2 [==============================] - 0s 22ms/step - loss: 21.2976 - mae: 21.2976\n",
            "Epoch 75/500\n",
            "2/2 [==============================] - 0s 9ms/step - loss: 9.4188 - mae: 9.4188\n",
            "Epoch 76/500\n",
            "2/2 [==============================] - 0s 11ms/step - loss: 12.2338 - mae: 12.2338\n",
            "Epoch 77/500\n",
            "2/2 [==============================] - 0s 11ms/step - loss: 16.2103 - mae: 16.2103\n",
            "Epoch 78/500\n",
            "2/2 [==============================] - 0s 11ms/step - loss: 8.9942 - mae: 8.9942\n",
            "Epoch 79/500\n",
            "2/2 [==============================] - 0s 10ms/step - loss: 23.4316 - mae: 23.4316\n",
            "Epoch 80/500\n",
            "2/2 [==============================] - 0s 9ms/step - loss: 26.0999 - mae: 26.0999\n",
            "Epoch 81/500\n",
            "2/2 [==============================] - 0s 11ms/step - loss: 11.3664 - mae: 11.3664\n",
            "Epoch 82/500\n",
            "2/2 [==============================] - 0s 11ms/step - loss: 12.4884 - mae: 12.4884\n",
            "Epoch 83/500\n",
            "2/2 [==============================] - 0s 19ms/step - loss: 17.1707 - mae: 17.1707\n",
            "Epoch 84/500\n",
            "2/2 [==============================] - 0s 10ms/step - loss: 6.5730 - mae: 6.5730\n",
            "Epoch 85/500\n",
            "2/2 [==============================] - 0s 11ms/step - loss: 20.3088 - mae: 20.3088\n",
            "Epoch 86/500\n",
            "2/2 [==============================] - 0s 10ms/step - loss: 10.1519 - mae: 10.1519\n",
            "Epoch 87/500\n",
            "2/2 [==============================] - 0s 9ms/step - loss: 24.3654 - mae: 24.3654\n",
            "Epoch 88/500\n",
            "2/2 [==============================] - 0s 10ms/step - loss: 19.0303 - mae: 19.0303\n",
            "Epoch 89/500\n",
            "2/2 [==============================] - 0s 11ms/step - loss: 7.1464 - mae: 7.1464\n",
            "Epoch 90/500\n",
            "2/2 [==============================] - 0s 10ms/step - loss: 18.2370 - mae: 18.2370\n",
            "Epoch 91/500\n",
            "2/2 [==============================] - 0s 7ms/step - loss: 13.2848 - mae: 13.2848\n",
            "Epoch 92/500\n",
            "2/2 [==============================] - 0s 11ms/step - loss: 14.8263 - mae: 14.8263\n",
            "Epoch 93/500\n",
            "2/2 [==============================] - 0s 10ms/step - loss: 11.6216 - mae: 11.6216\n",
            "Epoch 94/500\n",
            "2/2 [==============================] - 0s 11ms/step - loss: 16.1783 - mae: 16.1783\n",
            "Epoch 95/500\n",
            "2/2 [==============================] - 0s 12ms/step - loss: 15.5192 - mae: 15.5192\n",
            "Epoch 96/500\n",
            "2/2 [==============================] - 0s 13ms/step - loss: 15.0493 - mae: 15.0493\n",
            "Epoch 97/500\n",
            "2/2 [==============================] - 0s 11ms/step - loss: 10.8779 - mae: 10.8779\n",
            "Epoch 98/500\n",
            "2/2 [==============================] - 0s 13ms/step - loss: 14.3369 - mae: 14.3369\n",
            "Epoch 99/500\n",
            "2/2 [==============================] - 0s 17ms/step - loss: 13.3603 - mae: 13.3603\n",
            "Epoch 100/500\n",
            "2/2 [==============================] - 0s 12ms/step - loss: 19.9638 - mae: 19.9638\n",
            "Epoch 101/500\n",
            "2/2 [==============================] - 0s 15ms/step - loss: 22.5876 - mae: 22.5876\n",
            "Epoch 102/500\n",
            "2/2 [==============================] - 0s 11ms/step - loss: 11.2898 - mae: 11.2898\n",
            "Epoch 103/500\n",
            "2/2 [==============================] - 0s 10ms/step - loss: 9.3549 - mae: 9.3549\n",
            "Epoch 104/500\n",
            "2/2 [==============================] - 0s 11ms/step - loss: 25.2372 - mae: 25.2372\n",
            "Epoch 105/500\n",
            "2/2 [==============================] - 0s 14ms/step - loss: 12.4506 - mae: 12.4506\n",
            "Epoch 106/500\n",
            "2/2 [==============================] - 0s 20ms/step - loss: 9.3952 - mae: 9.3952\n",
            "Epoch 107/500\n",
            "2/2 [==============================] - 0s 13ms/step - loss: 23.2672 - mae: 23.2672\n",
            "Epoch 108/500\n",
            "2/2 [==============================] - 0s 16ms/step - loss: 8.2768 - mae: 8.2768\n",
            "Epoch 109/500\n",
            "2/2 [==============================] - 0s 10ms/step - loss: 14.0699 - mae: 14.0699\n",
            "Epoch 110/500\n",
            "2/2 [==============================] - 0s 18ms/step - loss: 10.6080 - mae: 10.6080\n",
            "Epoch 111/500\n",
            "2/2 [==============================] - 0s 14ms/step - loss: 16.9163 - mae: 16.9163\n",
            "Epoch 112/500\n",
            "2/2 [==============================] - 0s 10ms/step - loss: 8.2675 - mae: 8.2675\n",
            "Epoch 113/500\n",
            "2/2 [==============================] - 0s 13ms/step - loss: 19.7426 - mae: 19.7426\n",
            "Epoch 114/500\n",
            "2/2 [==============================] - 0s 13ms/step - loss: 17.4409 - mae: 17.4409\n",
            "Epoch 115/500\n",
            "2/2 [==============================] - 0s 19ms/step - loss: 11.2368 - mae: 11.2368\n",
            "Epoch 116/500\n",
            "2/2 [==============================] - 0s 13ms/step - loss: 23.6340 - mae: 23.6340\n",
            "Epoch 117/500\n",
            "2/2 [==============================] - 0s 18ms/step - loss: 9.7428 - mae: 9.7428\n",
            "Epoch 118/500\n",
            "2/2 [==============================] - 0s 12ms/step - loss: 10.8291 - mae: 10.8291\n",
            "Epoch 119/500\n",
            "2/2 [==============================] - 0s 11ms/step - loss: 8.0831 - mae: 8.0831\n",
            "Epoch 120/500\n",
            "2/2 [==============================] - 0s 14ms/step - loss: 30.0193 - mae: 30.0193\n",
            "Epoch 121/500\n",
            "2/2 [==============================] - 0s 15ms/step - loss: 8.1129 - mae: 8.1129\n",
            "Epoch 122/500\n",
            "2/2 [==============================] - 0s 16ms/step - loss: 28.5672 - mae: 28.5672\n",
            "Epoch 123/500\n",
            "2/2 [==============================] - 0s 7ms/step - loss: 33.2186 - mae: 33.2186\n",
            "Epoch 124/500\n",
            "2/2 [==============================] - 0s 10ms/step - loss: 19.8760 - mae: 19.8760\n",
            "Epoch 125/500\n",
            "2/2 [==============================] - 0s 10ms/step - loss: 7.6855 - mae: 7.6855\n",
            "Epoch 126/500\n",
            "2/2 [==============================] - 0s 12ms/step - loss: 17.1338 - mae: 17.1338\n",
            "Epoch 127/500\n",
            "2/2 [==============================] - 0s 13ms/step - loss: 7.5175 - mae: 7.5175\n",
            "Epoch 128/500\n",
            "2/2 [==============================] - 0s 11ms/step - loss: 18.1225 - mae: 18.1225\n",
            "Epoch 129/500\n",
            "2/2 [==============================] - 0s 17ms/step - loss: 8.7858 - mae: 8.7858\n",
            "Epoch 130/500\n",
            "2/2 [==============================] - 0s 14ms/step - loss: 22.5249 - mae: 22.5249\n",
            "Epoch 131/500\n",
            "2/2 [==============================] - 0s 13ms/step - loss: 9.8153 - mae: 9.8153\n",
            "Epoch 132/500\n",
            "2/2 [==============================] - 0s 12ms/step - loss: 18.4383 - mae: 18.4383\n",
            "Epoch 133/500\n",
            "2/2 [==============================] - 0s 13ms/step - loss: 7.6241 - mae: 7.6241\n",
            "Epoch 134/500\n",
            "2/2 [==============================] - 0s 12ms/step - loss: 18.6957 - mae: 18.6957\n",
            "Epoch 135/500\n",
            "2/2 [==============================] - 0s 12ms/step - loss: 10.5959 - mae: 10.5959\n",
            "Epoch 136/500\n",
            "2/2 [==============================] - 0s 22ms/step - loss: 18.3613 - mae: 18.3613\n",
            "Epoch 137/500\n",
            "2/2 [==============================] - 0s 10ms/step - loss: 23.2886 - mae: 23.2886\n",
            "Epoch 138/500\n",
            "2/2 [==============================] - 0s 9ms/step - loss: 9.1994 - mae: 9.1994\n",
            "Epoch 139/500\n",
            "2/2 [==============================] - 0s 10ms/step - loss: 8.9626 - mae: 8.9626\n",
            "Epoch 140/500\n",
            "2/2 [==============================] - 0s 9ms/step - loss: 16.5461 - mae: 16.5461\n",
            "Epoch 141/500\n",
            "2/2 [==============================] - 0s 12ms/step - loss: 8.4485 - mae: 8.4485\n",
            "Epoch 142/500\n",
            "2/2 [==============================] - 0s 15ms/step - loss: 37.0446 - mae: 37.0446\n",
            "Epoch 143/500\n",
            "2/2 [==============================] - 0s 18ms/step - loss: 25.6719 - mae: 25.6719\n",
            "Epoch 144/500\n",
            "2/2 [==============================] - 0s 15ms/step - loss: 9.5552 - mae: 9.5552\n",
            "Epoch 145/500\n",
            "2/2 [==============================] - 0s 20ms/step - loss: 26.5908 - mae: 26.5908\n",
            "Epoch 146/500\n",
            "2/2 [==============================] - 0s 12ms/step - loss: 8.7745 - mae: 8.7745\n",
            "Epoch 147/500\n",
            "2/2 [==============================] - 0s 11ms/step - loss: 15.6190 - mae: 15.6190\n",
            "Epoch 148/500\n",
            "2/2 [==============================] - 0s 12ms/step - loss: 18.3014 - mae: 18.3014\n",
            "Epoch 149/500\n",
            "2/2 [==============================] - 0s 17ms/step - loss: 8.2293 - mae: 8.2293\n",
            "Epoch 150/500\n",
            "2/2 [==============================] - 0s 14ms/step - loss: 7.5213 - mae: 7.5213\n",
            "Epoch 151/500\n",
            "2/2 [==============================] - 0s 20ms/step - loss: 18.3521 - mae: 18.3521\n",
            "Epoch 152/500\n",
            "2/2 [==============================] - 0s 14ms/step - loss: 10.3134 - mae: 10.3134\n",
            "Epoch 153/500\n",
            "2/2 [==============================] - 0s 17ms/step - loss: 29.6452 - mae: 29.6452\n",
            "Epoch 154/500\n",
            "2/2 [==============================] - 0s 14ms/step - loss: 10.5688 - mae: 10.5688\n",
            "Epoch 155/500\n",
            "2/2 [==============================] - 0s 12ms/step - loss: 15.4649 - mae: 15.4649\n",
            "Epoch 156/500\n",
            "2/2 [==============================] - 0s 14ms/step - loss: 17.0332 - mae: 17.0332\n",
            "Epoch 157/500\n",
            "2/2 [==============================] - 0s 14ms/step - loss: 32.7883 - mae: 32.7883\n",
            "Epoch 158/500\n",
            "2/2 [==============================] - 0s 16ms/step - loss: 10.7182 - mae: 10.7182\n",
            "Epoch 159/500\n",
            "2/2 [==============================] - 0s 21ms/step - loss: 8.9212 - mae: 8.9212\n",
            "Epoch 160/500\n",
            "2/2 [==============================] - 0s 17ms/step - loss: 22.0962 - mae: 22.0962\n",
            "Epoch 161/500\n",
            "2/2 [==============================] - 0s 14ms/step - loss: 11.7127 - mae: 11.7127\n",
            "Epoch 162/500\n",
            "2/2 [==============================] - 0s 16ms/step - loss: 21.5326 - mae: 21.5326\n",
            "Epoch 163/500\n",
            "2/2 [==============================] - 0s 15ms/step - loss: 19.2127 - mae: 19.2127\n",
            "Epoch 164/500\n",
            "2/2 [==============================] - 0s 15ms/step - loss: 11.0073 - mae: 11.0073\n",
            "Epoch 165/500\n",
            "2/2 [==============================] - 0s 15ms/step - loss: 9.6369 - mae: 9.6369\n",
            "Epoch 166/500\n",
            "2/2 [==============================] - 0s 15ms/step - loss: 21.6226 - mae: 21.6226\n",
            "Epoch 167/500\n",
            "2/2 [==============================] - 0s 16ms/step - loss: 26.2103 - mae: 26.2103\n",
            "Epoch 168/500\n",
            "2/2 [==============================] - 0s 17ms/step - loss: 9.8601 - mae: 9.8601\n",
            "Epoch 169/500\n",
            "2/2 [==============================] - 0s 15ms/step - loss: 22.4737 - mae: 22.4737\n",
            "Epoch 170/500\n",
            "2/2 [==============================] - 0s 19ms/step - loss: 10.1758 - mae: 10.1758\n",
            "Epoch 171/500\n",
            "2/2 [==============================] - 0s 11ms/step - loss: 18.0906 - mae: 18.0906\n",
            "Epoch 172/500\n",
            "2/2 [==============================] - 0s 15ms/step - loss: 28.7336 - mae: 28.7336\n",
            "Epoch 173/500\n",
            "2/2 [==============================] - 0s 15ms/step - loss: 16.4525 - mae: 16.4525\n",
            "Epoch 174/500\n",
            "2/2 [==============================] - 0s 19ms/step - loss: 11.2310 - mae: 11.2310\n",
            "Epoch 175/500\n",
            "2/2 [==============================] - 0s 17ms/step - loss: 27.6124 - mae: 27.6124\n",
            "Epoch 176/500\n",
            "2/2 [==============================] - 0s 14ms/step - loss: 8.2577 - mae: 8.2577\n",
            "Epoch 177/500\n",
            "2/2 [==============================] - 0s 8ms/step - loss: 9.2558 - mae: 9.2558\n",
            "Epoch 178/500\n",
            "2/2 [==============================] - 0s 9ms/step - loss: 18.0475 - mae: 18.0475\n",
            "Epoch 179/500\n",
            "2/2 [==============================] - 0s 9ms/step - loss: 10.6493 - mae: 10.6493\n",
            "Epoch 180/500\n",
            "2/2 [==============================] - 0s 10ms/step - loss: 7.9017 - mae: 7.9017\n",
            "Epoch 181/500\n",
            "2/2 [==============================] - 0s 8ms/step - loss: 17.3105 - mae: 17.3105\n",
            "Epoch 182/500\n",
            "2/2 [==============================] - 0s 14ms/step - loss: 10.9869 - mae: 10.9869\n",
            "Epoch 183/500\n",
            "2/2 [==============================] - 0s 14ms/step - loss: 11.6630 - mae: 11.6630\n",
            "Epoch 184/500\n",
            "2/2 [==============================] - 0s 15ms/step - loss: 30.2397 - mae: 30.2397\n",
            "Epoch 185/500\n",
            "2/2 [==============================] - 0s 12ms/step - loss: 8.1962 - mae: 8.1962\n",
            "Epoch 186/500\n",
            "2/2 [==============================] - 0s 11ms/step - loss: 18.6961 - mae: 18.6961\n",
            "Epoch 187/500\n",
            "2/2 [==============================] - 0s 12ms/step - loss: 8.7821 - mae: 8.7821\n",
            "Epoch 188/500\n",
            "2/2 [==============================] - 0s 12ms/step - loss: 23.6781 - mae: 23.6781\n",
            "Epoch 189/500\n",
            "2/2 [==============================] - 0s 18ms/step - loss: 9.4009 - mae: 9.4009\n",
            "Epoch 190/500\n",
            "2/2 [==============================] - 0s 20ms/step - loss: 17.1467 - mae: 17.1467\n",
            "Epoch 191/500\n",
            "2/2 [==============================] - 0s 11ms/step - loss: 8.5789 - mae: 8.5789\n",
            "Epoch 192/500\n",
            "2/2 [==============================] - 0s 12ms/step - loss: 15.1691 - mae: 15.1691\n",
            "Epoch 193/500\n",
            "2/2 [==============================] - 0s 15ms/step - loss: 30.0054 - mae: 30.0054\n",
            "Epoch 194/500\n",
            "2/2 [==============================] - 0s 8ms/step - loss: 9.6170 - mae: 9.6170\n",
            "Epoch 195/500\n",
            "2/2 [==============================] - 0s 8ms/step - loss: 12.0035 - mae: 12.0035\n",
            "Epoch 196/500\n",
            "2/2 [==============================] - 0s 9ms/step - loss: 23.3540 - mae: 23.3540\n",
            "Epoch 197/500\n",
            "2/2 [==============================] - 0s 9ms/step - loss: 18.1364 - mae: 18.1364\n",
            "Epoch 198/500\n",
            "2/2 [==============================] - 0s 8ms/step - loss: 10.8239 - mae: 10.8239\n",
            "Epoch 199/500\n",
            "2/2 [==============================] - 0s 8ms/step - loss: 22.4228 - mae: 22.4228\n",
            "Epoch 200/500\n",
            "2/2 [==============================] - 0s 12ms/step - loss: 17.0718 - mae: 17.0718\n",
            "Epoch 201/500\n",
            "2/2 [==============================] - 0s 14ms/step - loss: 7.3919 - mae: 7.3919\n",
            "Epoch 202/500\n",
            "2/2 [==============================] - 0s 8ms/step - loss: 26.1017 - mae: 26.1017\n",
            "Epoch 203/500\n",
            "2/2 [==============================] - 0s 10ms/step - loss: 13.3744 - mae: 13.3744\n",
            "Epoch 204/500\n",
            "2/2 [==============================] - 0s 12ms/step - loss: 18.4236 - mae: 18.4236\n",
            "Epoch 205/500\n",
            "2/2 [==============================] - 0s 9ms/step - loss: 9.2341 - mae: 9.2341\n",
            "Epoch 206/500\n",
            "2/2 [==============================] - 0s 8ms/step - loss: 10.3257 - mae: 10.3257\n",
            "Epoch 207/500\n",
            "2/2 [==============================] - 0s 13ms/step - loss: 20.6613 - mae: 20.6613\n",
            "Epoch 208/500\n",
            "2/2 [==============================] - 0s 17ms/step - loss: 16.1615 - mae: 16.1615\n",
            "Epoch 209/500\n",
            "2/2 [==============================] - 0s 12ms/step - loss: 14.0675 - mae: 14.0675\n",
            "Epoch 210/500\n",
            "2/2 [==============================] - 0s 12ms/step - loss: 18.9465 - mae: 18.9465\n",
            "Epoch 211/500\n",
            "2/2 [==============================] - 0s 11ms/step - loss: 10.2080 - mae: 10.2080\n",
            "Epoch 212/500\n",
            "2/2 [==============================] - 0s 13ms/step - loss: 19.5439 - mae: 19.5439\n",
            "Epoch 213/500\n",
            "2/2 [==============================] - 0s 19ms/step - loss: 14.7307 - mae: 14.7307\n",
            "Epoch 214/500\n",
            "2/2 [==============================] - 0s 13ms/step - loss: 14.3930 - mae: 14.3930\n",
            "Epoch 215/500\n",
            "2/2 [==============================] - 0s 17ms/step - loss: 22.8908 - mae: 22.8908\n",
            "Epoch 216/500\n",
            "2/2 [==============================] - 0s 14ms/step - loss: 14.3572 - mae: 14.3572\n",
            "Epoch 217/500\n",
            "2/2 [==============================] - 0s 18ms/step - loss: 9.1389 - mae: 9.1389\n",
            "Epoch 218/500\n",
            "2/2 [==============================] - 0s 17ms/step - loss: 11.9413 - mae: 11.9413\n",
            "Epoch 219/500\n",
            "2/2 [==============================] - 0s 12ms/step - loss: 6.7682 - mae: 6.7682\n",
            "Epoch 220/500\n",
            "2/2 [==============================] - 0s 15ms/step - loss: 7.1304 - mae: 7.1304\n",
            "Epoch 221/500\n",
            "2/2 [==============================] - 0s 13ms/step - loss: 38.3605 - mae: 38.3605\n",
            "Epoch 222/500\n",
            "2/2 [==============================] - 0s 14ms/step - loss: 38.3585 - mae: 38.3585\n",
            "Epoch 223/500\n",
            "2/2 [==============================] - 0s 20ms/step - loss: 5.5126 - mae: 5.5126\n",
            "Epoch 224/500\n",
            "2/2 [==============================] - 0s 11ms/step - loss: 15.0359 - mae: 15.0359\n",
            "Epoch 225/500\n",
            "2/2 [==============================] - 0s 13ms/step - loss: 17.0998 - mae: 17.0998\n",
            "Epoch 226/500\n",
            "2/2 [==============================] - 0s 13ms/step - loss: 16.2821 - mae: 16.2821\n",
            "Epoch 227/500\n",
            "2/2 [==============================] - 0s 10ms/step - loss: 16.6303 - mae: 16.6303\n",
            "Epoch 228/500\n",
            "2/2 [==============================] - 0s 10ms/step - loss: 10.0335 - mae: 10.0335\n",
            "Epoch 229/500\n",
            "2/2 [==============================] - 0s 10ms/step - loss: 17.9549 - mae: 17.9549\n",
            "Epoch 230/500\n",
            "2/2 [==============================] - 0s 23ms/step - loss: 15.5571 - mae: 15.5571\n",
            "Epoch 231/500\n",
            "2/2 [==============================] - 0s 12ms/step - loss: 21.0546 - mae: 21.0546\n",
            "Epoch 232/500\n",
            "2/2 [==============================] - 0s 13ms/step - loss: 25.6272 - mae: 25.6272\n",
            "Epoch 233/500\n",
            "2/2 [==============================] - 0s 15ms/step - loss: 16.6021 - mae: 16.6021\n",
            "Epoch 234/500\n",
            "2/2 [==============================] - 0s 10ms/step - loss: 7.3902 - mae: 7.3902\n",
            "Epoch 235/500\n",
            "2/2 [==============================] - 0s 16ms/step - loss: 17.2402 - mae: 17.2402\n",
            "Epoch 236/500\n",
            "2/2 [==============================] - 0s 20ms/step - loss: 7.2588 - mae: 7.2588\n",
            "Epoch 237/500\n",
            "2/2 [==============================] - 0s 17ms/step - loss: 9.3684 - mae: 9.3684\n",
            "Epoch 238/500\n",
            "2/2 [==============================] - 0s 15ms/step - loss: 8.2065 - mae: 8.2065\n",
            "Epoch 239/500\n",
            "2/2 [==============================] - 0s 33ms/step - loss: 17.2492 - mae: 17.2492\n",
            "Epoch 240/500\n",
            "2/2 [==============================] - 0s 16ms/step - loss: 8.9874 - mae: 8.9874\n",
            "Epoch 241/500\n",
            "2/2 [==============================] - 0s 16ms/step - loss: 13.3230 - mae: 13.3230\n",
            "Epoch 242/500\n",
            "2/2 [==============================] - 0s 11ms/step - loss: 8.8888 - mae: 8.8888\n",
            "Epoch 243/500\n",
            "2/2 [==============================] - 0s 17ms/step - loss: 18.9868 - mae: 18.9868\n",
            "Epoch 244/500\n",
            "2/2 [==============================] - 0s 22ms/step - loss: 14.0296 - mae: 14.0296\n",
            "Epoch 245/500\n",
            "2/2 [==============================] - 0s 14ms/step - loss: 14.6602 - mae: 14.6602\n",
            "Epoch 246/500\n",
            "2/2 [==============================] - 0s 13ms/step - loss: 15.7966 - mae: 15.7966\n",
            "Epoch 247/500\n",
            "2/2 [==============================] - 0s 21ms/step - loss: 17.6695 - mae: 17.6695\n",
            "Epoch 248/500\n",
            "2/2 [==============================] - 0s 17ms/step - loss: 13.2278 - mae: 13.2278\n",
            "Epoch 249/500\n",
            "2/2 [==============================] - 0s 23ms/step - loss: 14.5130 - mae: 14.5130\n",
            "Epoch 250/500\n",
            "2/2 [==============================] - 0s 8ms/step - loss: 23.2233 - mae: 23.2233\n",
            "Epoch 251/500\n",
            "2/2 [==============================] - 0s 13ms/step - loss: 9.3534 - mae: 9.3534\n",
            "Epoch 252/500\n",
            "2/2 [==============================] - 0s 12ms/step - loss: 36.6924 - mae: 36.6924\n",
            "Epoch 253/500\n",
            "2/2 [==============================] - 0s 18ms/step - loss: 21.8618 - mae: 21.8618\n",
            "Epoch 254/500\n",
            "2/2 [==============================] - 0s 19ms/step - loss: 7.3316 - mae: 7.3316\n",
            "Epoch 255/500\n",
            "2/2 [==============================] - 0s 17ms/step - loss: 24.7246 - mae: 24.7246\n",
            "Epoch 256/500\n",
            "2/2 [==============================] - 0s 13ms/step - loss: 12.4629 - mae: 12.4629\n",
            "Epoch 257/500\n",
            "2/2 [==============================] - 0s 22ms/step - loss: 10.6193 - mae: 10.6193\n",
            "Epoch 258/500\n",
            "2/2 [==============================] - 0s 16ms/step - loss: 14.2351 - mae: 14.2351\n",
            "Epoch 259/500\n",
            "2/2 [==============================] - 0s 14ms/step - loss: 11.2878 - mae: 11.2878\n",
            "Epoch 260/500\n",
            "2/2 [==============================] - 0s 14ms/step - loss: 31.6446 - mae: 31.6446\n",
            "Epoch 261/500\n",
            "2/2 [==============================] - 0s 14ms/step - loss: 11.2188 - mae: 11.2188\n",
            "Epoch 262/500\n",
            "2/2 [==============================] - 0s 14ms/step - loss: 10.0696 - mae: 10.0696\n",
            "Epoch 263/500\n",
            "2/2 [==============================] - 0s 16ms/step - loss: 8.9753 - mae: 8.9753\n",
            "Epoch 264/500\n",
            "2/2 [==============================] - 0s 18ms/step - loss: 21.5160 - mae: 21.5160\n",
            "Epoch 265/500\n",
            "2/2 [==============================] - 0s 13ms/step - loss: 11.4501 - mae: 11.4501\n",
            "Epoch 266/500\n",
            "2/2 [==============================] - 0s 15ms/step - loss: 13.2896 - mae: 13.2896\n",
            "Epoch 267/500\n",
            "2/2 [==============================] - 0s 21ms/step - loss: 11.0869 - mae: 11.0869\n",
            "Epoch 268/500\n",
            "2/2 [==============================] - 0s 28ms/step - loss: 19.1541 - mae: 19.1541\n",
            "Epoch 269/500\n",
            "2/2 [==============================] - 0s 15ms/step - loss: 40.7163 - mae: 40.7163\n",
            "Epoch 270/500\n",
            "2/2 [==============================] - 0s 15ms/step - loss: 12.9430 - mae: 12.9430\n",
            "Epoch 271/500\n",
            "2/2 [==============================] - 0s 16ms/step - loss: 14.7671 - mae: 14.7671\n",
            "Epoch 272/500\n",
            "2/2 [==============================] - 0s 17ms/step - loss: 28.5095 - mae: 28.5095\n",
            "Epoch 273/500\n",
            "2/2 [==============================] - 0s 20ms/step - loss: 7.3867 - mae: 7.3867\n",
            "Epoch 274/500\n",
            "2/2 [==============================] - 0s 16ms/step - loss: 6.3699 - mae: 6.3699\n",
            "Epoch 275/500\n",
            "2/2 [==============================] - 0s 17ms/step - loss: 36.9049 - mae: 36.9049\n",
            "Epoch 276/500\n",
            "2/2 [==============================] - 0s 9ms/step - loss: 8.3052 - mae: 8.3052\n",
            "Epoch 277/500\n",
            "2/2 [==============================] - 0s 9ms/step - loss: 27.7233 - mae: 27.7233\n",
            "Epoch 278/500\n",
            "2/2 [==============================] - 0s 10ms/step - loss: 10.6846 - mae: 10.6846\n",
            "Epoch 279/500\n",
            "2/2 [==============================] - 0s 10ms/step - loss: 16.1131 - mae: 16.1131\n",
            "Epoch 280/500\n",
            "2/2 [==============================] - 0s 12ms/step - loss: 21.2368 - mae: 21.2368\n",
            "Epoch 281/500\n",
            "2/2 [==============================] - 0s 8ms/step - loss: 23.7897 - mae: 23.7897\n",
            "Epoch 282/500\n",
            "2/2 [==============================] - 0s 12ms/step - loss: 8.2765 - mae: 8.2765\n",
            "Epoch 283/500\n",
            "2/2 [==============================] - 0s 11ms/step - loss: 8.4565 - mae: 8.4565\n",
            "Epoch 284/500\n",
            "2/2 [==============================] - 0s 10ms/step - loss: 26.6227 - mae: 26.6227\n",
            "Epoch 285/500\n",
            "2/2 [==============================] - 0s 10ms/step - loss: 14.2288 - mae: 14.2288\n",
            "Epoch 286/500\n",
            "2/2 [==============================] - 0s 16ms/step - loss: 5.2731 - mae: 5.2731\n",
            "Epoch 287/500\n",
            "2/2 [==============================] - 0s 15ms/step - loss: 20.8216 - mae: 20.8216\n",
            "Epoch 288/500\n",
            "2/2 [==============================] - 0s 15ms/step - loss: 27.6075 - mae: 27.6075\n",
            "Epoch 289/500\n",
            "2/2 [==============================] - 0s 12ms/step - loss: 10.4392 - mae: 10.4392\n",
            "Epoch 290/500\n",
            "2/2 [==============================] - 0s 11ms/step - loss: 16.3113 - mae: 16.3113\n",
            "Epoch 291/500\n",
            "2/2 [==============================] - 0s 15ms/step - loss: 16.4997 - mae: 16.4997\n",
            "Epoch 292/500\n",
            "2/2 [==============================] - 0s 16ms/step - loss: 7.4386 - mae: 7.4386\n",
            "Epoch 293/500\n",
            "2/2 [==============================] - 0s 13ms/step - loss: 16.5507 - mae: 16.5507\n",
            "Epoch 294/500\n",
            "2/2 [==============================] - 0s 17ms/step - loss: 25.3360 - mae: 25.3360\n",
            "Epoch 295/500\n",
            "2/2 [==============================] - 0s 10ms/step - loss: 14.5781 - mae: 14.5781\n",
            "Epoch 296/500\n",
            "2/2 [==============================] - 0s 9ms/step - loss: 4.6798 - mae: 4.6798\n",
            "Epoch 297/500\n",
            "2/2 [==============================] - 0s 12ms/step - loss: 7.2909 - mae: 7.2909\n",
            "Epoch 298/500\n",
            "2/2 [==============================] - 0s 8ms/step - loss: 19.6099 - mae: 19.6099\n",
            "Epoch 299/500\n",
            "2/2 [==============================] - 0s 7ms/step - loss: 6.6261 - mae: 6.6261\n",
            "Epoch 300/500\n",
            "2/2 [==============================] - 0s 8ms/step - loss: 22.0566 - mae: 22.0566\n",
            "Epoch 301/500\n",
            "2/2 [==============================] - 0s 12ms/step - loss: 9.1433 - mae: 9.1433\n",
            "Epoch 302/500\n",
            "2/2 [==============================] - 0s 14ms/step - loss: 11.1964 - mae: 11.1964\n",
            "Epoch 303/500\n",
            "2/2 [==============================] - 0s 8ms/step - loss: 9.3456 - mae: 9.3456\n",
            "Epoch 304/500\n",
            "2/2 [==============================] - 0s 13ms/step - loss: 23.7091 - mae: 23.7091\n",
            "Epoch 305/500\n",
            "2/2 [==============================] - 0s 9ms/step - loss: 7.9292 - mae: 7.9292\n",
            "Epoch 306/500\n",
            "2/2 [==============================] - 0s 12ms/step - loss: 23.7591 - mae: 23.7591\n",
            "Epoch 307/500\n",
            "2/2 [==============================] - 0s 19ms/step - loss: 5.8892 - mae: 5.8892\n",
            "Epoch 308/500\n",
            "2/2 [==============================] - 0s 14ms/step - loss: 21.3240 - mae: 21.3240\n",
            "Epoch 309/500\n",
            "2/2 [==============================] - 0s 14ms/step - loss: 18.4112 - mae: 18.4112\n",
            "Epoch 310/500\n",
            "2/2 [==============================] - 0s 40ms/step - loss: 4.5035 - mae: 4.5035\n",
            "Epoch 311/500\n",
            "2/2 [==============================] - 0s 36ms/step - loss: 6.5140 - mae: 6.5140\n",
            "Epoch 312/500\n",
            "2/2 [==============================] - 0s 38ms/step - loss: 35.4495 - mae: 35.4495\n",
            "Epoch 313/500\n",
            "2/2 [==============================] - 0s 32ms/step - loss: 28.9271 - mae: 28.9271\n",
            "Epoch 314/500\n",
            "2/2 [==============================] - 0s 36ms/step - loss: 11.1948 - mae: 11.1948\n",
            "Epoch 315/500\n",
            "2/2 [==============================] - 0s 34ms/step - loss: 23.5525 - mae: 23.5525\n",
            "Epoch 316/500\n",
            "2/2 [==============================] - 0s 35ms/step - loss: 14.4256 - mae: 14.4256\n",
            "Epoch 317/500\n",
            "2/2 [==============================] - 0s 33ms/step - loss: 19.9737 - mae: 19.9737\n",
            "Epoch 318/500\n",
            "2/2 [==============================] - 0s 28ms/step - loss: 8.0017 - mae: 8.0017\n",
            "Epoch 319/500\n",
            "2/2 [==============================] - 0s 35ms/step - loss: 18.1087 - mae: 18.1087\n",
            "Epoch 320/500\n",
            "2/2 [==============================] - 0s 21ms/step - loss: 10.6408 - mae: 10.6408\n",
            "Epoch 321/500\n",
            "2/2 [==============================] - 0s 36ms/step - loss: 7.0277 - mae: 7.0277\n",
            "Epoch 322/500\n",
            "2/2 [==============================] - 0s 28ms/step - loss: 8.6746 - mae: 8.6746\n",
            "Epoch 323/500\n",
            "2/2 [==============================] - 0s 29ms/step - loss: 18.3393 - mae: 18.3393\n",
            "Epoch 324/500\n",
            "2/2 [==============================] - 0s 23ms/step - loss: 6.3082 - mae: 6.3082\n",
            "Epoch 325/500\n",
            "2/2 [==============================] - 0s 39ms/step - loss: 14.6111 - mae: 14.6111\n",
            "Epoch 326/500\n",
            "2/2 [==============================] - 0s 19ms/step - loss: 6.9906 - mae: 6.9906\n",
            "Epoch 327/500\n",
            "2/2 [==============================] - 0s 22ms/step - loss: 17.6224 - mae: 17.6224\n",
            "Epoch 328/500\n",
            "2/2 [==============================] - 0s 21ms/step - loss: 14.3745 - mae: 14.3745\n",
            "Epoch 329/500\n",
            "2/2 [==============================] - 0s 27ms/step - loss: 17.6870 - mae: 17.6870\n",
            "Epoch 330/500\n",
            "2/2 [==============================] - 0s 17ms/step - loss: 6.7827 - mae: 6.7827\n",
            "Epoch 331/500\n",
            "2/2 [==============================] - 0s 39ms/step - loss: 19.7401 - mae: 19.7401\n",
            "Epoch 332/500\n",
            "2/2 [==============================] - 0s 53ms/step - loss: 10.5504 - mae: 10.5504\n",
            "Epoch 333/500\n",
            "2/2 [==============================] - 0s 17ms/step - loss: 16.3395 - mae: 16.3395\n",
            "Epoch 334/500\n",
            "2/2 [==============================] - 0s 24ms/step - loss: 9.7185 - mae: 9.7185\n",
            "Epoch 335/500\n",
            "2/2 [==============================] - 0s 11ms/step - loss: 13.0567 - mae: 13.0567\n",
            "Epoch 336/500\n",
            "2/2 [==============================] - 0s 15ms/step - loss: 32.4931 - mae: 32.4931\n",
            "Epoch 337/500\n",
            "2/2 [==============================] - 0s 19ms/step - loss: 11.0378 - mae: 11.0378\n",
            "Epoch 338/500\n",
            "2/2 [==============================] - 0s 21ms/step - loss: 19.9517 - mae: 19.9517\n",
            "Epoch 339/500\n",
            "2/2 [==============================] - 0s 24ms/step - loss: 34.3216 - mae: 34.3216\n",
            "Epoch 340/500\n",
            "2/2 [==============================] - 0s 19ms/step - loss: 8.7225 - mae: 8.7225\n",
            "Epoch 341/500\n",
            "2/2 [==============================] - 0s 32ms/step - loss: 21.9661 - mae: 21.9661\n",
            "Epoch 342/500\n",
            "2/2 [==============================] - 0s 29ms/step - loss: 13.8421 - mae: 13.8421\n",
            "Epoch 343/500\n",
            "2/2 [==============================] - 0s 22ms/step - loss: 11.6871 - mae: 11.6871\n",
            "Epoch 344/500\n",
            "2/2 [==============================] - 0s 27ms/step - loss: 10.6910 - mae: 10.6910\n",
            "Epoch 345/500\n",
            "2/2 [==============================] - 0s 39ms/step - loss: 30.9031 - mae: 30.9031\n",
            "Epoch 346/500\n",
            "2/2 [==============================] - 0s 16ms/step - loss: 10.6393 - mae: 10.6393\n",
            "Epoch 347/500\n",
            "2/2 [==============================] - 0s 29ms/step - loss: 25.5609 - mae: 25.5609\n",
            "Epoch 348/500\n",
            "2/2 [==============================] - 0s 18ms/step - loss: 13.2925 - mae: 13.2925\n",
            "Epoch 349/500\n",
            "2/2 [==============================] - 0s 15ms/step - loss: 13.0326 - mae: 13.0326\n",
            "Epoch 350/500\n",
            "2/2 [==============================] - 0s 17ms/step - loss: 15.3994 - mae: 15.3994\n",
            "Epoch 351/500\n",
            "2/2 [==============================] - 0s 14ms/step - loss: 32.8726 - mae: 32.8726\n",
            "Epoch 352/500\n",
            "2/2 [==============================] - 0s 16ms/step - loss: 14.0813 - mae: 14.0813\n",
            "Epoch 353/500\n",
            "2/2 [==============================] - 0s 16ms/step - loss: 17.7750 - mae: 17.7750\n",
            "Epoch 354/500\n",
            "2/2 [==============================] - 0s 17ms/step - loss: 11.3410 - mae: 11.3410\n",
            "Epoch 355/500\n",
            "2/2 [==============================] - 0s 15ms/step - loss: 26.7663 - mae: 26.7663\n",
            "Epoch 356/500\n",
            "2/2 [==============================] - 0s 19ms/step - loss: 10.1557 - mae: 10.1557\n",
            "Epoch 357/500\n",
            "2/2 [==============================] - 0s 23ms/step - loss: 14.7179 - mae: 14.7179\n",
            "Epoch 358/500\n",
            "2/2 [==============================] - 0s 19ms/step - loss: 14.5933 - mae: 14.5933\n",
            "Epoch 359/500\n",
            "2/2 [==============================] - 0s 19ms/step - loss: 12.3480 - mae: 12.3480\n",
            "Epoch 360/500\n",
            "2/2 [==============================] - 0s 17ms/step - loss: 20.3598 - mae: 20.3598\n",
            "Epoch 361/500\n",
            "2/2 [==============================] - 0s 18ms/step - loss: 10.8841 - mae: 10.8841\n",
            "Epoch 362/500\n",
            "2/2 [==============================] - 0s 25ms/step - loss: 6.8183 - mae: 6.8183\n",
            "Epoch 363/500\n",
            "2/2 [==============================] - 0s 18ms/step - loss: 23.7934 - mae: 23.7934\n",
            "Epoch 364/500\n",
            "2/2 [==============================] - 0s 16ms/step - loss: 29.4876 - mae: 29.4876\n",
            "Epoch 365/500\n",
            "2/2 [==============================] - 0s 34ms/step - loss: 8.2783 - mae: 8.2783\n",
            "Epoch 366/500\n",
            "2/2 [==============================] - 0s 16ms/step - loss: 6.1088 - mae: 6.1088\n",
            "Epoch 367/500\n",
            "2/2 [==============================] - 0s 18ms/step - loss: 34.5729 - mae: 34.5729\n",
            "Epoch 368/500\n",
            "2/2 [==============================] - 0s 13ms/step - loss: 7.3537 - mae: 7.3537\n",
            "Epoch 369/500\n",
            "2/2 [==============================] - 0s 17ms/step - loss: 8.7031 - mae: 8.7031\n",
            "Epoch 370/500\n",
            "2/2 [==============================] - 0s 22ms/step - loss: 14.2581 - mae: 14.2581\n",
            "Epoch 371/500\n",
            "2/2 [==============================] - 0s 12ms/step - loss: 6.8555 - mae: 6.8555\n",
            "Epoch 372/500\n",
            "2/2 [==============================] - 0s 15ms/step - loss: 6.5599 - mae: 6.5599\n",
            "Epoch 373/500\n",
            "2/2 [==============================] - 0s 11ms/step - loss: 24.2106 - mae: 24.2106\n",
            "Epoch 374/500\n",
            "2/2 [==============================] - 0s 14ms/step - loss: 10.2173 - mae: 10.2173\n",
            "Epoch 375/500\n",
            "2/2 [==============================] - 0s 11ms/step - loss: 12.8425 - mae: 12.8425\n",
            "Epoch 376/500\n",
            "2/2 [==============================] - 0s 16ms/step - loss: 14.7147 - mae: 14.7147\n",
            "Epoch 377/500\n",
            "2/2 [==============================] - 0s 11ms/step - loss: 14.6462 - mae: 14.6462\n",
            "Epoch 378/500\n",
            "2/2 [==============================] - 0s 15ms/step - loss: 16.1728 - mae: 16.1728\n",
            "Epoch 379/500\n",
            "2/2 [==============================] - 0s 21ms/step - loss: 20.5950 - mae: 20.5950\n",
            "Epoch 380/500\n",
            "2/2 [==============================] - 0s 21ms/step - loss: 34.2317 - mae: 34.2317\n",
            "Epoch 381/500\n",
            "2/2 [==============================] - 0s 18ms/step - loss: 8.8665 - mae: 8.8665\n",
            "Epoch 382/500\n",
            "2/2 [==============================] - 0s 10ms/step - loss: 9.6287 - mae: 9.6287\n",
            "Epoch 383/500\n",
            "2/2 [==============================] - 0s 20ms/step - loss: 5.7733 - mae: 5.7733\n",
            "Epoch 384/500\n",
            "2/2 [==============================] - 0s 20ms/step - loss: 8.7042 - mae: 8.7042\n",
            "Epoch 385/500\n",
            "2/2 [==============================] - 0s 11ms/step - loss: 4.9648 - mae: 4.9648\n",
            "Epoch 386/500\n",
            "2/2 [==============================] - 0s 11ms/step - loss: 25.1133 - mae: 25.1133\n",
            "Epoch 387/500\n",
            "2/2 [==============================] - 0s 8ms/step - loss: 15.1438 - mae: 15.1438\n",
            "Epoch 388/500\n",
            "2/2 [==============================] - 0s 12ms/step - loss: 6.6441 - mae: 6.6441\n",
            "Epoch 389/500\n",
            "2/2 [==============================] - 0s 16ms/step - loss: 17.5594 - mae: 17.5594\n",
            "Epoch 390/500\n",
            "2/2 [==============================] - 0s 13ms/step - loss: 23.8433 - mae: 23.8433\n",
            "Epoch 391/500\n",
            "2/2 [==============================] - 0s 16ms/step - loss: 16.5547 - mae: 16.5547\n",
            "Epoch 392/500\n",
            "2/2 [==============================] - 0s 15ms/step - loss: 8.3652 - mae: 8.3652\n",
            "Epoch 393/500\n",
            "2/2 [==============================] - 0s 11ms/step - loss: 18.1325 - mae: 18.1325\n",
            "Epoch 394/500\n",
            "2/2 [==============================] - 0s 20ms/step - loss: 14.1953 - mae: 14.1953\n",
            "Epoch 395/500\n",
            "2/2 [==============================] - 0s 13ms/step - loss: 28.6603 - mae: 28.6603\n",
            "Epoch 396/500\n",
            "2/2 [==============================] - 0s 23ms/step - loss: 8.2353 - mae: 8.2353\n",
            "Epoch 397/500\n",
            "2/2 [==============================] - 0s 17ms/step - loss: 10.5359 - mae: 10.5359\n",
            "Epoch 398/500\n",
            "2/2 [==============================] - 0s 21ms/step - loss: 7.4051 - mae: 7.4051\n",
            "Epoch 399/500\n",
            "2/2 [==============================] - 0s 19ms/step - loss: 15.6203 - mae: 15.6203\n",
            "Epoch 400/500\n",
            "2/2 [==============================] - 0s 22ms/step - loss: 6.7522 - mae: 6.7522\n",
            "Epoch 401/500\n",
            "2/2 [==============================] - 0s 14ms/step - loss: 8.0212 - mae: 8.0212\n",
            "Epoch 402/500\n",
            "2/2 [==============================] - 0s 14ms/step - loss: 16.4680 - mae: 16.4680\n",
            "Epoch 403/500\n",
            "2/2 [==============================] - 0s 18ms/step - loss: 12.3621 - mae: 12.3621\n",
            "Epoch 404/500\n",
            "2/2 [==============================] - 0s 12ms/step - loss: 22.9362 - mae: 22.9362\n",
            "Epoch 405/500\n",
            "2/2 [==============================] - 0s 14ms/step - loss: 18.0947 - mae: 18.0947\n",
            "Epoch 406/500\n",
            "2/2 [==============================] - 0s 19ms/step - loss: 7.0703 - mae: 7.0703\n",
            "Epoch 407/500\n",
            "2/2 [==============================] - 0s 16ms/step - loss: 12.6459 - mae: 12.6459\n",
            "Epoch 408/500\n",
            "2/2 [==============================] - 0s 19ms/step - loss: 5.6813 - mae: 5.6813\n",
            "Epoch 409/500\n",
            "2/2 [==============================] - 0s 17ms/step - loss: 31.1951 - mae: 31.1951\n",
            "Epoch 410/500\n",
            "2/2 [==============================] - 0s 13ms/step - loss: 9.2686 - mae: 9.2686\n",
            "Epoch 411/500\n",
            "2/2 [==============================] - 0s 11ms/step - loss: 14.8822 - mae: 14.8822\n",
            "Epoch 412/500\n",
            "2/2 [==============================] - 0s 16ms/step - loss: 21.7631 - mae: 21.7631\n",
            "Epoch 413/500\n",
            "2/2 [==============================] - 0s 20ms/step - loss: 12.5825 - mae: 12.5825\n",
            "Epoch 414/500\n",
            "2/2 [==============================] - 0s 19ms/step - loss: 6.0759 - mae: 6.0759\n",
            "Epoch 415/500\n",
            "2/2 [==============================] - 0s 21ms/step - loss: 13.2370 - mae: 13.2370\n",
            "Epoch 416/500\n",
            "2/2 [==============================] - 0s 18ms/step - loss: 27.4575 - mae: 27.4575\n",
            "Epoch 417/500\n",
            "2/2 [==============================] - 0s 12ms/step - loss: 10.5648 - mae: 10.5648\n",
            "Epoch 418/500\n",
            "2/2 [==============================] - 0s 14ms/step - loss: 12.8467 - mae: 12.8467\n",
            "Epoch 419/500\n",
            "2/2 [==============================] - 0s 11ms/step - loss: 15.8953 - mae: 15.8953\n",
            "Epoch 420/500\n",
            "2/2 [==============================] - 0s 15ms/step - loss: 24.7838 - mae: 24.7838\n",
            "Epoch 421/500\n",
            "2/2 [==============================] - 0s 12ms/step - loss: 17.2956 - mae: 17.2956\n",
            "Epoch 422/500\n",
            "2/2 [==============================] - 0s 15ms/step - loss: 7.8174 - mae: 7.8174\n",
            "Epoch 423/500\n",
            "2/2 [==============================] - 0s 15ms/step - loss: 25.4079 - mae: 25.4079\n",
            "Epoch 424/500\n",
            "2/2 [==============================] - 0s 12ms/step - loss: 15.0400 - mae: 15.0400\n",
            "Epoch 425/500\n",
            "2/2 [==============================] - 0s 10ms/step - loss: 7.1317 - mae: 7.1317\n",
            "Epoch 426/500\n",
            "2/2 [==============================] - 0s 14ms/step - loss: 20.2561 - mae: 20.2561\n",
            "Epoch 427/500\n",
            "2/2 [==============================] - 0s 12ms/step - loss: 6.2956 - mae: 6.2956\n",
            "Epoch 428/500\n",
            "2/2 [==============================] - 0s 12ms/step - loss: 12.9476 - mae: 12.9476\n",
            "Epoch 429/500\n",
            "2/2 [==============================] - 0s 14ms/step - loss: 10.7444 - mae: 10.7444\n",
            "Epoch 430/500\n",
            "2/2 [==============================] - 0s 16ms/step - loss: 11.3557 - mae: 11.3557\n",
            "Epoch 431/500\n",
            "2/2 [==============================] - 0s 13ms/step - loss: 10.5724 - mae: 10.5724\n",
            "Epoch 432/500\n",
            "2/2 [==============================] - 0s 13ms/step - loss: 11.4050 - mae: 11.4050\n",
            "Epoch 433/500\n",
            "2/2 [==============================] - 0s 18ms/step - loss: 11.3830 - mae: 11.3830\n",
            "Epoch 434/500\n",
            "2/2 [==============================] - 0s 10ms/step - loss: 30.4149 - mae: 30.4149\n",
            "Epoch 435/500\n",
            "2/2 [==============================] - 0s 13ms/step - loss: 10.5013 - mae: 10.5013\n",
            "Epoch 436/500\n",
            "2/2 [==============================] - 0s 25ms/step - loss: 28.8981 - mae: 28.8981\n",
            "Epoch 437/500\n",
            "2/2 [==============================] - 0s 21ms/step - loss: 8.6023 - mae: 8.6023\n",
            "Epoch 438/500\n",
            "2/2 [==============================] - 0s 26ms/step - loss: 12.7359 - mae: 12.7359\n",
            "Epoch 439/500\n",
            "2/2 [==============================] - 0s 23ms/step - loss: 33.6863 - mae: 33.6863\n",
            "Epoch 440/500\n",
            "2/2 [==============================] - 0s 27ms/step - loss: 15.1038 - mae: 15.1038\n",
            "Epoch 441/500\n",
            "2/2 [==============================] - 0s 26ms/step - loss: 17.4864 - mae: 17.4864\n",
            "Epoch 442/500\n",
            "2/2 [==============================] - 0s 13ms/step - loss: 22.3236 - mae: 22.3236\n",
            "Epoch 443/500\n",
            "2/2 [==============================] - 0s 21ms/step - loss: 23.5396 - mae: 23.5396\n",
            "Epoch 444/500\n",
            "2/2 [==============================] - 0s 16ms/step - loss: 10.9599 - mae: 10.9599\n",
            "Epoch 445/500\n",
            "2/2 [==============================] - 0s 16ms/step - loss: 14.9247 - mae: 14.9247\n",
            "Epoch 446/500\n",
            "2/2 [==============================] - 0s 15ms/step - loss: 18.0092 - mae: 18.0092\n",
            "Epoch 447/500\n",
            "2/2 [==============================] - 0s 20ms/step - loss: 5.4209 - mae: 5.4209\n",
            "Epoch 448/500\n",
            "2/2 [==============================] - 0s 17ms/step - loss: 10.0599 - mae: 10.0599\n",
            "Epoch 449/500\n",
            "2/2 [==============================] - 0s 15ms/step - loss: 14.0112 - mae: 14.0112\n",
            "Epoch 450/500\n",
            "2/2 [==============================] - 0s 18ms/step - loss: 16.7828 - mae: 16.7828\n",
            "Epoch 451/500\n",
            "2/2 [==============================] - 0s 12ms/step - loss: 14.2923 - mae: 14.2923\n",
            "Epoch 452/500\n",
            "2/2 [==============================] - 0s 11ms/step - loss: 30.6273 - mae: 30.6273\n",
            "Epoch 453/500\n",
            "2/2 [==============================] - 0s 12ms/step - loss: 7.6462 - mae: 7.6462\n",
            "Epoch 454/500\n",
            "2/2 [==============================] - 0s 12ms/step - loss: 28.1502 - mae: 28.1502\n",
            "Epoch 455/500\n",
            "2/2 [==============================] - 0s 13ms/step - loss: 7.9791 - mae: 7.9791\n",
            "Epoch 456/500\n",
            "2/2 [==============================] - 0s 16ms/step - loss: 10.3924 - mae: 10.3924\n",
            "Epoch 457/500\n",
            "2/2 [==============================] - 0s 11ms/step - loss: 15.0289 - mae: 15.0289\n",
            "Epoch 458/500\n",
            "2/2 [==============================] - 0s 12ms/step - loss: 16.5631 - mae: 16.5631\n",
            "Epoch 459/500\n",
            "2/2 [==============================] - 0s 12ms/step - loss: 26.8624 - mae: 26.8624\n",
            "Epoch 460/500\n",
            "2/2 [==============================] - 0s 10ms/step - loss: 12.4722 - mae: 12.4722\n",
            "Epoch 461/500\n",
            "2/2 [==============================] - 0s 12ms/step - loss: 12.4784 - mae: 12.4784\n",
            "Epoch 462/500\n",
            "2/2 [==============================] - 0s 10ms/step - loss: 13.3192 - mae: 13.3192\n",
            "Epoch 463/500\n",
            "2/2 [==============================] - 0s 10ms/step - loss: 29.5569 - mae: 29.5569\n",
            "Epoch 464/500\n",
            "2/2 [==============================] - 0s 10ms/step - loss: 3.4551 - mae: 3.4551\n",
            "Epoch 465/500\n",
            "2/2 [==============================] - 0s 10ms/step - loss: 15.2167 - mae: 15.2167\n",
            "Epoch 466/500\n",
            "2/2 [==============================] - 0s 8ms/step - loss: 20.8362 - mae: 20.8362\n",
            "Epoch 467/500\n",
            "2/2 [==============================] - 0s 14ms/step - loss: 30.5037 - mae: 30.5037\n",
            "Epoch 468/500\n",
            "2/2 [==============================] - 0s 8ms/step - loss: 11.0497 - mae: 11.0497\n",
            "Epoch 469/500\n",
            "2/2 [==============================] - 0s 17ms/step - loss: 12.8297 - mae: 12.8297\n",
            "Epoch 470/500\n",
            "2/2 [==============================] - 0s 9ms/step - loss: 3.2247 - mae: 3.2247\n",
            "Epoch 471/500\n",
            "2/2 [==============================] - 0s 9ms/step - loss: 16.6939 - mae: 16.6939\n",
            "Epoch 472/500\n",
            "2/2 [==============================] - 0s 13ms/step - loss: 13.3877 - mae: 13.3877\n",
            "Epoch 473/500\n",
            "2/2 [==============================] - 0s 12ms/step - loss: 15.2734 - mae: 15.2734\n",
            "Epoch 474/500\n",
            "2/2 [==============================] - 0s 14ms/step - loss: 11.7407 - mae: 11.7407\n",
            "Epoch 475/500\n",
            "2/2 [==============================] - 0s 11ms/step - loss: 16.4115 - mae: 16.4115\n",
            "Epoch 476/500\n",
            "2/2 [==============================] - 0s 18ms/step - loss: 13.8756 - mae: 13.8756\n",
            "Epoch 477/500\n",
            "2/2 [==============================] - 0s 14ms/step - loss: 30.6712 - mae: 30.6712\n",
            "Epoch 478/500\n",
            "2/2 [==============================] - 0s 12ms/step - loss: 8.5861 - mae: 8.5861\n",
            "Epoch 479/500\n",
            "2/2 [==============================] - 0s 12ms/step - loss: 10.7323 - mae: 10.7323\n",
            "Epoch 480/500\n",
            "2/2 [==============================] - 0s 9ms/step - loss: 17.9003 - mae: 17.9003\n",
            "Epoch 481/500\n",
            "2/2 [==============================] - 0s 11ms/step - loss: 15.8049 - mae: 15.8049\n",
            "Epoch 482/500\n",
            "2/2 [==============================] - 0s 9ms/step - loss: 21.3018 - mae: 21.3018\n",
            "Epoch 483/500\n",
            "2/2 [==============================] - 0s 14ms/step - loss: 25.3950 - mae: 25.3950\n",
            "Epoch 484/500\n",
            "2/2 [==============================] - 0s 17ms/step - loss: 23.9864 - mae: 23.9864\n",
            "Epoch 485/500\n",
            "2/2 [==============================] - 0s 18ms/step - loss: 5.7616 - mae: 5.7616\n",
            "Epoch 486/500\n",
            "2/2 [==============================] - 0s 13ms/step - loss: 20.0122 - mae: 20.0122\n",
            "Epoch 487/500\n",
            "2/2 [==============================] - 0s 11ms/step - loss: 14.0393 - mae: 14.0393\n",
            "Epoch 488/500\n",
            "2/2 [==============================] - 0s 12ms/step - loss: 30.6072 - mae: 30.6072\n",
            "Epoch 489/500\n",
            "2/2 [==============================] - 0s 12ms/step - loss: 11.9348 - mae: 11.9348\n",
            "Epoch 490/500\n",
            "2/2 [==============================] - 0s 16ms/step - loss: 12.7310 - mae: 12.7310\n",
            "Epoch 491/500\n",
            "2/2 [==============================] - 0s 14ms/step - loss: 23.6089 - mae: 23.6089\n",
            "Epoch 492/500\n",
            "2/2 [==============================] - 0s 11ms/step - loss: 20.5511 - mae: 20.5511\n",
            "Epoch 493/500\n",
            "2/2 [==============================] - 0s 14ms/step - loss: 4.9842 - mae: 4.9842\n",
            "Epoch 494/500\n",
            "2/2 [==============================] - 0s 11ms/step - loss: 12.8067 - mae: 12.8067\n",
            "Epoch 495/500\n",
            "2/2 [==============================] - 0s 11ms/step - loss: 13.3699 - mae: 13.3699\n",
            "Epoch 496/500\n",
            "2/2 [==============================] - 0s 15ms/step - loss: 12.6671 - mae: 12.6671\n",
            "Epoch 497/500\n",
            "2/2 [==============================] - 0s 14ms/step - loss: 17.6074 - mae: 17.6074\n",
            "Epoch 498/500\n",
            "2/2 [==============================] - 0s 12ms/step - loss: 23.5843 - mae: 23.5843\n",
            "Epoch 499/500\n",
            "2/2 [==============================] - 0s 13ms/step - loss: 9.3928 - mae: 9.3928\n",
            "Epoch 500/500\n",
            "2/2 [==============================] - 0s 12ms/step - loss: 14.6251 - mae: 14.6251\n"
          ]
        },
        {
          "output_type": "execute_result",
          "data": {
            "text/plain": [
              "<keras.src.callbacks.History at 0x79b4f7357a30>"
            ]
          },
          "metadata": {},
          "execution_count": 64
        }
      ]
    },
    {
      "cell_type": "code",
      "metadata": {
        "colab": {
          "base_uri": "https://localhost:8080/",
          "height": 616
        },
        "id": "Fem6mBsnDUdS",
        "outputId": "4df03d76-12c5-4853-97e5-2a7ca85993b9"
      },
      "source": [
        "# Make and plot some predictions\n",
        "y_preds_3 = model_3.predict(X_test)\n",
        "plot_predictions(predictions=y_preds_3)"
      ],
      "execution_count": 65,
      "outputs": [
        {
          "output_type": "stream",
          "name": "stdout",
          "text": [
            "1/1 [==============================] - 0s 72ms/step\n"
          ]
        },
        {
          "output_type": "display_data",
          "data": {
            "text/plain": [
              "<Figure size 1000x700 with 1 Axes>"
            ],
            "image/png": "[encoded data removed]"
          },
          "metadata": {}
        }
      ]
    },
    {
      "cell_type": "code",
      "metadata": {
        "colab": {
          "base_uri": "https://localhost:8080/"
        },
        "id": "TbSmrikFDpE8",
        "outputId": "b904bdf6-ddc5-4610-c766-b1c783fc0778"
      },
      "source": [
        "# Calculate model_3 evalaution metrics\n",
        "mae_3 = mae(y_test, y_preds_3)\n",
        "mse_3 = mse(y_test, y_preds_3)\n",
        "mae_3, mse_3"
      ],
      "execution_count": 66,
      "outputs": [
        {
          "output_type": "execute_result",
          "data": {
            "text/plain": [
              "(<tf.Tensor: shape=(), dtype=float32, numpy=68.686424>,\n",
              " <tf.Tensor: shape=(), dtype=float32, numpy=4804.2656>)"
            ]
          },
          "metadata": {},
          "execution_count": 66
        }
      ]
    },
    {
      "cell_type": "markdown",
      "metadata": {
        "id": "lMwtZ03YGSdv"
      },
      "source": [
        "🔑 **Note:** You want to start with small experiments (small models) and make sure they work and then increase their scale when necessary."
      ]
    },
    {
      "cell_type": "markdown",
      "metadata": {
        "id": "D_5UdQMOEA5y"
      },
      "source": [
        "### Comparing the results of our experiments\n",
        "\n",
        "We've run a few experiments, let's compare the results."
      ]
    },
    {
      "cell_type": "code",
      "metadata": {
        "colab": {
          "base_uri": "https://localhost:8080/",
          "height": 143
        },
        "id": "OZe_HWXzESJ8",
        "outputId": "56f27b29-eb39-451f-c3b0-0dd0b2287462"
      },
      "source": [
        "# Let's compare our model's results using a pandas DataFrame\n",
        "import pandas as pd\n",
        "\n",
        "model_results = [[\"model_1\", mae_1.numpy(), mse_1.numpy()],\n",
        "                 [\"model_2\", mae_2.numpy(), mse_2.numpy()],\n",
        "                 [\"model_3\", mae_3.numpy(), mse_3.numpy()]]\n",
        "\n",
        "all_results = pd.DataFrame(model_results, columns=[\"model\", \"mae\", \"mse\"])\n",
        "all_results"
      ],
      "execution_count": 67,
      "outputs": [
        {
          "output_type": "execute_result",
          "data": {
            "text/plain": [
              "     model        mae          mse\n",
              "0  model_1   8.645444    81.261459\n",
              "1  model_2  30.084219   936.738098\n",
              "2  model_3  68.686424  4804.265625"
            ],
            "text/html": [
              "\n",
              "  <div id=\"df-d6df8154-2dff-4fa2-b9aa-b520af89ebf2\" class=\"colab-df-container\">\n",
              "    <div>\n",
              "<style scoped>\n",
              "    .dataframe tbody tr th:only-of-type {\n",
              "        vertical-align: middle;\n",
              "    }\n",
              "\n",
              "    .dataframe tbody tr th {\n",
              "        vertical-align: top;\n",
              "    }\n",
              "\n",
              "    .dataframe thead th {\n",
              "        text-align: right;\n",
              "    }\n",
              "</style>\n",
              "<table border=\"1\" class=\"dataframe\">\n",
              "  <thead>\n",
              "    <tr style=\"text-align: right;\">\n",
              "      <th></th>\n",
              "      <th>model</th>\n",
              "      <th>mae</th>\n",
              "      <th>mse</th>\n",
              "    </tr>\n",
              "  </thead>\n",
              "  <tbody>\n",
              "    <tr>\n",
              "      <th>0</th>\n",
              "      <td>model_1</td>\n",
              "      <td>8.645444</td>\n",
              "      <td>81.261459</td>\n",
              "    </tr>\n",
              "    <tr>\n",
              "      <th>1</th>\n",
              "      <td>model_2</td>\n",
              "      <td>30.084219</td>\n",
              "      <td>936.738098</td>\n",
              "    </tr>\n",
              "    <tr>\n",
              "      <th>2</th>\n",
              "      <td>model_3</td>\n",
              "      <td>68.686424</td>\n",
              "      <td>4804.265625</td>\n",
              "    </tr>\n",
              "  </tbody>\n",
              "</table>\n",
              "</div>\n",
              "    <div class=\"colab-df-buttons\">\n",
              "\n",
              "  <div class=\"colab-df-container\">\n",
              "    <button class=\"colab-df-convert\" onclick=\"convertToInteractive('df-d6df8154-2dff-4fa2-b9aa-b520af89ebf2')\"\n",
              "            title=\"Convert this dataframe to an interactive table.\"\n",
              "            style=\"display:none;\">\n",
              "\n",
              "  <svg xmlns=\"http://www.w3.org/2000/svg\" height=\"24px\" viewBox=\"0 -960 960 960\">\n",
              "    <path d=\"M120-120v-720h720v720H120Zm60-500h600v-160H180v160Zm220 220h160v-160H400v160Zm0 220h160v-160H400v160ZM180-400h160v-160H180v160Zm440 0h160v-160H620v160ZM180-180h160v-160H180v160Zm440 0h160v-160H620v160Z\"/>\n",
              "  </svg>\n",
              "    </button>\n",
              "\n",
              "  <style>\n",
              "    .colab-df-container {\n",
              "      display:flex;\n",
              "      gap: 12px;\n",
              "    }\n",
              "\n",
              "    .colab-df-convert {\n",
              "      background-color: #E8F0FE;\n",
              "      border: none;\n",
              "      border-radius: 50%;\n",
              "      cursor: pointer;\n",
              "      display: none;\n",
              "      fill: #1967D2;\n",
              "      height: 32px;\n",
              "      padding: 0 0 0 0;\n",
              "      width: 32px;\n",
              "    }\n",
              "\n",
              "    .colab-df-convert:hover {\n",
              "      background-color: #E2EBFA;\n",
              "      box-shadow: 0px 1px 2px rgba(60, 64, 67, 0.3), 0px 1px 3px 1px rgba(60, 64, 67, 0.15);\n",
              "      fill: #174EA6;\n",
              "    }\n",
              "\n",
              "    .colab-df-buttons div {\n",
              "      margin-bottom: 4px;\n",
              "    }\n",
              "\n",
              "    [theme=dark] .colab-df-convert {\n",
              "      background-color: #3B4455;\n",
              "      fill: #D2E3FC;\n",
              "    }\n",
              "\n",
              "    [theme=dark] .colab-df-convert:hover {\n",
              "      background-color: #434B5C;\n",
              "      box-shadow: 0px 1px 3px 1px rgba(0, 0, 0, 0.15);\n",
              "      filter: drop-shadow(0px 1px 2px rgba(0, 0, 0, 0.3));\n",
              "      fill: #FFFFFF;\n",
              "    }\n",
              "  </style>\n",
              "\n",
              "    <script>\n",
              "      const buttonEl =\n",
              "        document.querySelector('#df-d6df8154-2dff-4fa2-b9aa-b520af89ebf2 button.colab-df-convert');\n",
              "      buttonEl.style.display =\n",
              "        google.colab.kernel.accessAllowed ? 'block' : 'none';\n",
              "\n",
              "      async function convertToInteractive(key) {\n",
              "        const element = document.querySelector('#df-d6df8154-2dff-4fa2-b9aa-b520af89ebf2');\n",
              "        const dataTable =\n",
              "          await google.colab.kernel.invokeFunction('convertToInteractive',\n",
              "                                                    [key], {});\n",
              "        if (!dataTable) return;\n",
              "\n",
              "        const docLinkHtml = 'Like what you see? Visit the ' +\n",
              "          '<a target=\"_blank\" href=https://colab.research.google.com/notebooks/data_table.ipynb>data table notebook</a>'\n",
              "          + ' to learn more about interactive tables.';\n",
              "        element.innerHTML = '';\n",
              "        dataTable['output_type'] = 'display_data';\n",
              "        await google.colab.output.renderOutput(dataTable, element);\n",
              "        const docLink = document.createElement('div');\n",
              "        docLink.innerHTML = docLinkHtml;\n",
              "        element.appendChild(docLink);\n",
              "      }\n",
              "    </script>\n",
              "  </div>\n",
              "\n",
              "\n",
              "<div id=\"df-1f70e668-e191-4d74-8242-66ff254ff780\">\n",
              "  <button class=\"colab-df-quickchart\" onclick=\"quickchart('df-1f70e668-e191-4d74-8242-66ff254ff780')\"\n",
              "            title=\"Suggest charts\"\n",
              "            style=\"display:none;\">\n",
              "\n",
              "<svg xmlns=\"http://www.w3.org/2000/svg\" height=\"24px\"viewBox=\"0 0 24 24\"\n",
              "     width=\"24px\">\n",
              "    <g>\n",
              "        <path d=\"M19 3H5c-1.1 0-2 .9-2 2v14c0 1.1.9 2 2 2h14c1.1 0 2-.9 2-2V5c0-1.1-.9-2-2-2zM9 17H7v-7h2v7zm4 0h-2V7h2v10zm4 0h-2v-4h2v4z\"/>\n",
              "    </g>\n",
              "</svg>\n",
              "  </button>\n",
              "\n",
              "<style>\n",
              "  .colab-df-quickchart {\n",
              "      --bg-color: #E8F0FE;\n",
              "      --fill-color: #1967D2;\n",
              "      --hover-bg-color: #E2EBFA;\n",
              "      --hover-fill-color: #174EA6;\n",
              "      --disabled-fill-color: #AAA;\n",
              "      --disabled-bg-color: #DDD;\n",
              "  }\n",
              "\n",
              "  [theme=dark] .colab-df-quickchart {\n",
              "      --bg-color: #3B4455;\n",
              "      --fill-color: #D2E3FC;\n",
              "      --hover-bg-color: #434B5C;\n",
              "      --hover-fill-color: #FFFFFF;\n",
              "      --disabled-bg-color: #3B4455;\n",
              "      --disabled-fill-color: #666;\n",
              "  }\n",
              "\n",
              "  .colab-df-quickchart {\n",
              "    background-color: var(--bg-color);\n",
              "    border: none;\n",
              "    border-radius: 50%;\n",
              "    cursor: pointer;\n",
              "    display: none;\n",
              "    fill: var(--fill-color);\n",
              "    height: 32px;\n",
              "    padding: 0;\n",
              "    width: 32px;\n",
              "  }\n",
              "\n",
              "  .colab-df-quickchart:hover {\n",
              "    background-color: var(--hover-bg-color);\n",
              "    box-shadow: 0 1px 2px rgba(60, 64, 67, 0.3), 0 1px 3px 1px rgba(60, 64, 67, 0.15);\n",
              "    fill: var(--button-hover-fill-color);\n",
              "  }\n",
              "\n",
              "  .colab-df-quickchart-complete:disabled,\n",
              "  .colab-df-quickchart-complete:disabled:hover {\n",
              "    background-color: var(--disabled-bg-color);\n",
              "    fill: var(--disabled-fill-color);\n",
              "    box-shadow: none;\n",
              "  }\n",
              "\n",
              "  .colab-df-spinner {\n",
              "    border: 2px solid var(--fill-color);\n",
              "    border-color: transparent;\n",
              "    border-bottom-color: var(--fill-color);\n",
              "    animation:\n",
              "      spin 1s steps(1) infinite;\n",
              "  }\n",
              "\n",
              "  @keyframes spin {\n",
              "    0% {\n",
              "      border-color: transparent;\n",
              "      border-bottom-color: var(--fill-color);\n",
              "      border-left-color: var(--fill-color);\n",
              "    }\n",
              "    20% {\n",
              "      border-color: transparent;\n",
              "      border-left-color: var(--fill-color);\n",
              "      border-top-color: var(--fill-color);\n",
              "    }\n",
              "    30% {\n",
              "      border-color: transparent;\n",
              "      border-left-color: var(--fill-color);\n",
              "      border-top-color: var(--fill-color);\n",
              "      border-right-color: var(--fill-color);\n",
              "    }\n",
              "    40% {\n",
              "      border-color: transparent;\n",
              "      border-right-color: var(--fill-color);\n",
              "      border-top-color: var(--fill-color);\n",
              "    }\n",
              "    60% {\n",
              "      border-color: transparent;\n",
              "      border-right-color: var(--fill-color);\n",
              "    }\n",
              "    80% {\n",
              "      border-color: transparent;\n",
              "      border-right-color: var(--fill-color);\n",
              "      border-bottom-color: var(--fill-color);\n",
              "    }\n",
              "    90% {\n",
              "      border-color: transparent;\n",
              "      border-bottom-color: var(--fill-color);\n",
              "    }\n",
              "  }\n",
              "</style>\n",
              "\n",
              "  <script>\n",
              "    async function quickchart(key) {\n",
              "      const quickchartButtonEl =\n",
              "        document.querySelector('#' + key + ' button');\n",
              "      quickchartButtonEl.disabled = true;  // To prevent multiple clicks.\n",
              "      quickchartButtonEl.classList.add('colab-df-spinner');\n",
              "      try {\n",
              "        const charts = await google.colab.kernel.invokeFunction(\n",
              "            'suggestCharts', [key], {});\n",
              "      } catch (error) {\n",
              "        console.error('Error during call to suggestCharts:', error);\n",
              "      }\n",
              "      quickchartButtonEl.classList.remove('colab-df-spinner');\n",
              "      quickchartButtonEl.classList.add('colab-df-quickchart-complete');\n",
              "    }\n",
              "    (() => {\n",
              "      let quickchartButtonEl =\n",
              "        document.querySelector('#df-1f70e668-e191-4d74-8242-66ff254ff780 button');\n",
              "      quickchartButtonEl.style.display =\n",
              "        google.colab.kernel.accessAllowed ? 'block' : 'none';\n",
              "    })();\n",
              "  </script>\n",
              "</div>\n",
              "    </div>\n",
              "  </div>\n"
            ],
            "application/vnd.google.colaboratory.intrinsic+json": {
              "type": "dataframe",
              "variable_name": "all_results",
              "summary": "{\n  \"name\": \"all_results\",\n  \"rows\": 3,\n  \"fields\": [\n    {\n      \"column\": \"model\",\n      \"properties\": {\n        \"dtype\": \"string\",\n        \"num_unique_values\": 3,\n        \"samples\": [\n          \"model_1\",\n          \"model_2\",\n          \"model_3\"\n        ],\n        \"semantic_type\": \"\",\n        \"description\": \"\"\n      }\n    },\n    {\n      \"column\": \"mae\",\n      \"properties\": {\n        \"dtype\": \"float32\",\n        \"num_unique_values\": 3,\n        \"samples\": [\n          8.6454439163208,\n          30.084218978881836,\n          68.6864242553711\n        ],\n        \"semantic_type\": \"\",\n        \"description\": \"\"\n      }\n    },\n    {\n      \"column\": \"mse\",\n      \"properties\": {\n        \"dtype\": \"float32\",\n        \"num_unique_values\": 3,\n        \"samples\": [\n          81.26145935058594,\n          936.7380981445312,\n          4804.265625\n        ],\n        \"semantic_type\": \"\",\n        \"description\": \"\"\n      }\n    }\n  ]\n}"
            }
          },
          "metadata": {},
          "execution_count": 67
        }
      ]
    },
    {
      "cell_type": "markdown",
      "metadata": {
        "id": "8OTx1UNfHVKZ"
      },
      "source": [
        "Looks like `model_2` performed the best..."
      ]
    },
    {
      "cell_type": "code",
      "metadata": {
        "colab": {
          "base_uri": "https://localhost:8080/"
        },
        "id": "XhFEXF1iG665",
        "outputId": "b1dfae98-ad1d-41a8-c20e-c4ef1c9536d6"
      },
      "source": [
        "model_2.summary()"
      ],
      "execution_count": 68,
      "outputs": [
        {
          "output_type": "stream",
          "name": "stdout",
          "text": [
            "Model: \"sequential_9\"\n",
            "_________________________________________________________________\n",
            " Layer (type)                Output Shape              Param #   \n",
            "=================================================================\n",
            " dense_11 (Dense)            (None, 10)                20        \n",
            "                                                                 \n",
            " dense_12 (Dense)            (None, 1)                 11        \n",
            "                                                                 \n",
            "=================================================================\n",
            "Total params: 31 (124.00 Byte)\n",
            "Trainable params: 31 (124.00 Byte)\n",
            "Non-trainable params: 0 (0.00 Byte)\n",
            "_________________________________________________________________\n"
          ]
        }
      ]
    },
    {
      "cell_type": "markdown",
      "metadata": {
        "id": "Oaa6e-HMHILL"
      },
      "source": [
        "> 🔑 **Note:** One of your main goals should be to minimize the time between your experiments. The more experiments you do, the more things you'll figure out which don't work and in turn, get closer to figuring out what does work. Remember the machine learning practioner's motto: \"experiment, experiment, experiment\".\n",
        "\n"
      ]
    },
    {
      "cell_type": "markdown",
      "metadata": {
        "id": "3DI9I7j3H1-r"
      },
      "source": [
        "## Tracking your experiments\n",
        "\n",
        "One really good habit in machine learning modelling is to track the results of your experiments.\n",
        "\n",
        "And when doing so, it can be tedious if you're running lots of experiments.\n",
        "\n",
        "Luckily, there are tools to help us!\n",
        "\n",
        "📖 **Resource:** As you build more models, you'll want to look into using:\n",
        "\n",
        "* [TensorBoard](https://www.tensorflow.org/tensorboard) - a component of the TensorFlow library to help track modelling experiments (we'll see this one later).\n",
        "* [Weights & Biases](https://www.wandb.com/) - a tool for tracking all of kinds of machine learning experiments (plugs straight into TensorBoard)."
      ]
    },
    {
      "cell_type": "markdown",
      "metadata": {
        "id": "E3fF957RIrwz"
      },
      "source": [
        "## Saving our models\n",
        "\n",
        "Saving our models allows us to use them outside of Google Colab (or wherever they were trained) such as in a web application or a mobile app.\n",
        "\n",
        "There are two main formats we can save our model's too:\n",
        "\n",
        "1. The SavedModel format\n",
        "2. The HDF5 format"
      ]
    },
    {
      "cell_type": "code",
      "metadata": {
        "id": "VFPevKYiIxRl"
      },
      "source": [
        "# Save model using the SavedModel format\n",
        "model_2.save(\"best_model_SavedModel_format\")"
      ],
      "execution_count": 69,
      "outputs": []
    },
    {
      "cell_type": "code",
      "metadata": {
        "id": "7Xg2mFS9s4eA",
        "colab": {
          "base_uri": "https://localhost:8080/"
        },
        "outputId": "19c68714-ce32-44aa-9198-009e91b725cb"
      },
      "source": [
        "# Save model using the HDF5 format\n",
        "model_2.save(\"best_model_HDF5_format.h5\")"
      ],
      "execution_count": 70,
      "outputs": [
        {
          "output_type": "stream",
          "name": "stderr",
          "text": [
            "/usr/local/lib/python3.10/dist-packages/keras/src/engine/training.py:3103: UserWarning: You are saving your model as an HDF5 file via `model.save()`. This file format is considered legacy. We recommend using instead the native Keras format, e.g. `model.save('my_model.keras')`.\n",
            "  saving_api.save_model(\n"
          ]
        }
      ]
    },
    {
      "cell_type": "markdown",
      "metadata": {
        "id": "wMTu6_fStqIQ"
      },
      "source": [
        "## Loading in a saved model"
      ]
    },
    {
      "cell_type": "code",
      "metadata": {
        "colab": {
          "base_uri": "https://localhost:8080/"
        },
        "id": "r-mCdNXLuUbV",
        "outputId": "e5ee82e3-06d6-4082-9219-c16e78e1157f"
      },
      "source": [
        "# Load in the SavedModel format model\n",
        "loaded_SavedModel_format = tf.keras.models.load_model(\"best_model_SavedModel_format\")\n",
        "loaded_SavedModel_format.summary()"
      ],
      "execution_count": 71,
      "outputs": [
        {
          "output_type": "stream",
          "name": "stdout",
          "text": [
            "Model: \"sequential_9\"\n",
            "_________________________________________________________________\n",
            " Layer (type)                Output Shape              Param #   \n",
            "=================================================================\n",
            " dense_11 (Dense)            (None, 10)                20        \n",
            "                                                                 \n",
            " dense_12 (Dense)            (None, 1)                 11        \n",
            "                                                                 \n",
            "=================================================================\n",
            "Total params: 31 (124.00 Byte)\n",
            "Trainable params: 31 (124.00 Byte)\n",
            "Non-trainable params: 0 (0.00 Byte)\n",
            "_________________________________________________________________\n"
          ]
        }
      ]
    },
    {
      "cell_type": "code",
      "metadata": {
        "colab": {
          "base_uri": "https://localhost:8080/"
        },
        "id": "13H-0FV5utDN",
        "outputId": "10099b64-8d35-4e67-bb4e-6f595dbc04e1"
      },
      "source": [
        "# Compare model_2 predictions with SavedModel format model predictions\n",
        "model_2_preds = model_2.predict(X_test)\n",
        "loaded_SavedModel_format_preds = loaded_SavedModel_format.predict(X_test)\n",
        "model_2_preds == loaded_SavedModel_format_preds"
      ],
      "execution_count": 72,
      "outputs": [
        {
          "output_type": "stream",
          "name": "stdout",
          "text": [
            "1/1 [==============================] - 0s 39ms/step\n",
            "1/1 [==============================] - 0s 63ms/step\n"
          ]
        },
        {
          "output_type": "execute_result",
          "data": {
            "text/plain": [
              "array([[ True],\n",
              "       [ True],\n",
              "       [ True],\n",
              "       [ True],\n",
              "       [ True],\n",
              "       [ True],\n",
              "       [ True],\n",
              "       [ True],\n",
              "       [ True],\n",
              "       [ True]])"
            ]
          },
          "metadata": {},
          "execution_count": 72
        }
      ]
    },
    {
      "cell_type": "code",
      "metadata": {
        "colab": {
          "base_uri": "https://localhost:8080/"
        },
        "id": "XyATYIrLuxrM",
        "outputId": "6a40d55b-a2f0-445c-deb7-7e0d62706d68"
      },
      "source": [
        "# Compare the MAE of model_2 preds and loaded_SavedModel_preds\n",
        "mae(y_true=y_test, y_pred=model_2_preds) == mae(y_true=y_test, y_pred=loaded_SavedModel_format_preds)"
      ],
      "execution_count": 73,
      "outputs": [
        {
          "output_type": "execute_result",
          "data": {
            "text/plain": [
              "<tf.Tensor: shape=(), dtype=bool, numpy=True>"
            ]
          },
          "metadata": {},
          "execution_count": 73
        }
      ]
    },
    {
      "cell_type": "code",
      "metadata": {
        "colab": {
          "base_uri": "https://localhost:8080/"
        },
        "id": "KYRN_QQ1v36P",
        "outputId": "ea82547d-cc67-49e2-d481-9617f4c4483f"
      },
      "source": [
        "# Load in a model using the .h5 format\n",
        "loaded_h5_model = tf.keras.models.load_model(\"/content/best_model_HDF5_format.h5\")\n",
        "loaded_h5_model.summary()"
      ],
      "execution_count": 74,
      "outputs": [
        {
          "output_type": "stream",
          "name": "stdout",
          "text": [
            "Model: \"sequential_9\"\n",
            "_________________________________________________________________\n",
            " Layer (type)                Output Shape              Param #   \n",
            "=================================================================\n",
            " dense_11 (Dense)            (None, 10)                20        \n",
            "                                                                 \n",
            " dense_12 (Dense)            (None, 1)                 11        \n",
            "                                                                 \n",
            "=================================================================\n",
            "Total params: 31 (124.00 Byte)\n",
            "Trainable params: 31 (124.00 Byte)\n",
            "Non-trainable params: 0 (0.00 Byte)\n",
            "_________________________________________________________________\n"
          ]
        }
      ]
    },
    {
      "cell_type": "code",
      "metadata": {
        "colab": {
          "base_uri": "https://localhost:8080/"
        },
        "id": "9tAE0IE7wHWz",
        "outputId": "d8ed308f-7360-46f9-e9d9-323df33b912d"
      },
      "source": [
        "# Check to see if loaded .h5 model predictions match model_2\n",
        "model_2_preds = model_2.predict(X_test)\n",
        "loaded_h5_model_preds = loaded_h5_model.predict(X_test)\n",
        "model_2_preds == loaded_h5_model_preds"
      ],
      "execution_count": 75,
      "outputs": [
        {
          "output_type": "stream",
          "name": "stdout",
          "text": [
            "1/1 [==============================] - 0s 22ms/step\n",
            "1/1 [==============================] - 0s 59ms/step\n"
          ]
        },
        {
          "output_type": "execute_result",
          "data": {
            "text/plain": [
              "array([[ True],\n",
              "       [ True],\n",
              "       [ True],\n",
              "       [ True],\n",
              "       [ True],\n",
              "       [ True],\n",
              "       [ True],\n",
              "       [ True],\n",
              "       [ True],\n",
              "       [ True]])"
            ]
          },
          "metadata": {},
          "execution_count": 75
        }
      ]
    },
    {
      "cell_type": "markdown",
      "metadata": {
        "id": "YUFnorbpwon_"
      },
      "source": [
        "## Download a model (or any other file) from Google Colab\n",
        "\n",
        "If you want to download your files from Google Colab:\n",
        "\n",
        "1. You can go to the \"files\" tab and right click on the file you're after and click \"download\".\n",
        "2. Use code (see the cell below).\n",
        "3. Save it to Google Drive by connecting Google Drive and copying it there (see 2nd code cell below)."
      ]
    },
    {
      "cell_type": "code",
      "metadata": {
        "colab": {
          "base_uri": "https://localhost:8080/",
          "height": 17
        },
        "id": "MrfvCrjgxSg2",
        "outputId": "1329caf6-df31-4a62-fff5-709c5b0c08bc"
      },
      "source": [
        "# Download a file from Google Colab\n",
        "from google.colab import files\n",
        "files.download(\"/content/best_model_HDF5_format.h5\")"
      ],
      "execution_count": 76,
      "outputs": [
        {
          "output_type": "display_data",
          "data": {
            "text/plain": [
              "<IPython.core.display.Javascript object>"
            ],
            "application/javascript": [
              "\n",
              "    async function download(id, filename, size) {\n",
              "      if (!google.colab.kernel.accessAllowed) {\n",
              "        return;\n",
              "      }\n",
              "      const div = document.createElement('div');\n",
              "      const label = document.createElement('label');\n",
              "      label.textContent = `Downloading \"${filename}\": `;\n",
              "      div.appendChild(label);\n",
              "      const progress = document.createElement('progress');\n",
              "      progress.max = size;\n",
              "      div.appendChild(progress);\n",
              "      document.body.appendChild(div);\n",
              "\n",
              "      const buffers = [];\n",
              "      let downloaded = 0;\n",
              "\n",
              "      const channel = await google.colab.kernel.comms.open(id);\n",
              "      // Send a message to notify the kernel that we're ready.\n",
              "      channel.send({})\n",
              "\n",
              "      for await (const message of channel.messages) {\n",
              "        // Send a message to notify the kernel that we're ready.\n",
              "        channel.send({})\n",
              "        if (message.buffers) {\n",
              "          for (const buffer of message.buffers) {\n",
              "            buffers.push(buffer);\n",
              "            downloaded += buffer.byteLength;\n",
              "            progress.value = downloaded;\n",
              "          }\n",
              "        }\n",
              "      }\n",
              "      const blob = new Blob(buffers, {type: 'application/binary'});\n",
              "      const a = document.createElement('a');\n",
              "      a.href = window.URL.createObjectURL(blob);\n",
              "      a.download = filename;\n",
              "      div.appendChild(a);\n",
              "      a.click();\n",
              "      div.remove();\n",
              "    }\n",
              "  "
            ]
          },
          "metadata": {}
        },
        {
          "output_type": "display_data",
          "data": {
            "text/plain": [
              "<IPython.core.display.Javascript object>"
            ],
            "application/javascript": [
              "download(\"download_36e700b7-c920-4749-9564-5c07edf6eb97\", \"best_model_HDF5_format.h5\", 21952)"
            ]
          },
          "metadata": {}
        }
      ]
    },
    {
      "cell_type": "code",
      "metadata": {
        "id": "9eQEQSJ8xypc"
      },
      "source": [
        "# Save a file from Google Colab to Google Drive (requires mounting Google Drive)\n",
        "!cp /content/best_model_HDF5_format.h5 /content/drive/MyDrive/tensorflow_course"
      ],
      "execution_count": null,
      "outputs": []
    },
    {
      "cell_type": "code",
      "metadata": {
        "id": "0ODwgyDRyaBh"
      },
      "source": [
        "!ls /content/drive/MyDrive/tensorflow_course"
      ],
      "execution_count": null,
      "outputs": []
    },
    {
      "cell_type": "markdown",
      "metadata": {
        "id": "e-Yv-2Bhymy6"
      },
      "source": [
        "## A larger example"
      ]
    },
    {
      "cell_type": "code",
      "metadata": {
        "id": "6vZ8AIbD1XpM"
      },
      "source": [
        "# Import required libraries\n",
        "import tensorflow as tf\n",
        "import pandas as pd\n",
        "import matplotlib.pyplot as plt"
      ],
      "execution_count": 77,
      "outputs": []
    },
    {
      "cell_type": "code",
      "metadata": {
        "colab": {
          "base_uri": "https://localhost:8080/",
          "height": 423
        },
        "id": "uPQmsO6Y2Exv",
        "outputId": "8d00139f-eeeb-4159-e7e5-cf82cb819f56"
      },
      "source": [
        "# Read in the insurance dataset\n",
        "insurance = pd.read_csv(\"https://raw.githubusercontent.com/stedy/Machine-Learning-with-R-datasets/master/insurance.csv\")\n",
        "insurance"
      ],
      "execution_count": 78,
      "outputs": [
        {
          "output_type": "execute_result",
          "data": {
            "text/plain": [
              "      age     sex     bmi  children smoker     region      charges\n",
              "0      19  female  27.900         0    yes  southwest  16884.92400\n",
              "1      18    male  33.770         1     no  southeast   1725.55230\n",
              "2      28    male  33.000         3     no  southeast   4449.46200\n",
              "3      33    male  22.705         0     no  northwest  21984.47061\n",
              "4      32    male  28.880         0     no  northwest   3866.85520\n",
              "...   ...     ...     ...       ...    ...        ...          ...\n",
              "1333   50    male  30.970         3     no  northwest  10600.54830\n",
              "1334   18  female  31.920         0     no  northeast   2205.98080\n",
              "1335   18  female  36.850         0     no  southeast   1629.83350\n",
              "1336   21  female  25.800         0     no  southwest   2007.94500\n",
              "1337   61  female  29.070         0    yes  northwest  29141.36030\n",
              "\n",
              "[1338 rows x 7 columns]"
            ],
            "text/html": [
              "\n",
              "  <div id=\"df-bf107a81-6291-4dea-b7ff-754311ac8507\" class=\"colab-df-container\">\n",
              "    <div>\n",
              "<style scoped>\n",
              "    .dataframe tbody tr th:only-of-type {\n",
              "        vertical-align: middle;\n",
              "    }\n",
              "\n",
              "    .dataframe tbody tr th {\n",
              "        vertical-align: top;\n",
              "    }\n",
              "\n",
              "    .dataframe thead th {\n",
              "        text-align: right;\n",
              "    }\n",
              "</style>\n",
              "<table border=\"1\" class=\"dataframe\">\n",
              "  <thead>\n",
              "    <tr style=\"text-align: right;\">\n",
              "      <th></th>\n",
              "      <th>age</th>\n",
              "      <th>sex</th>\n",
              "      <th>bmi</th>\n",
              "      <th>children</th>\n",
              "      <th>smoker</th>\n",
              "      <th>region</th>\n",
              "      <th>charges</th>\n",
              "    </tr>\n",
              "  </thead>\n",
              "  <tbody>\n",
              "    <tr>\n",
              "      <th>0</th>\n",
              "      <td>19</td>\n",
              "      <td>female</td>\n",
              "      <td>27.900</td>\n",
              "      <td>0</td>\n",
              "      <td>yes</td>\n",
              "      <td>southwest</td>\n",
              "      <td>16884.92400</td>\n",
              "    </tr>\n",
              "    <tr>\n",
              "      <th>1</th>\n",
              "      <td>18</td>\n",
              "      <td>male</td>\n",
              "      <td>33.770</td>\n",
              "      <td>1</td>\n",
              "      <td>no</td>\n",
              "      <td>southeast</td>\n",
              "      <td>1725.55230</td>\n",
              "    </tr>\n",
              "    <tr>\n",
              "      <th>2</th>\n",
              "      <td>28</td>\n",
              "      <td>male</td>\n",
              "      <td>33.000</td>\n",
              "      <td>3</td>\n",
              "      <td>no</td>\n",
              "      <td>southeast</td>\n",
              "      <td>4449.46200</td>\n",
              "    </tr>\n",
              "    <tr>\n",
              "      <th>3</th>\n",
              "      <td>33</td>\n",
              "      <td>male</td>\n",
              "      <td>22.705</td>\n",
              "      <td>0</td>\n",
              "      <td>no</td>\n",
              "      <td>northwest</td>\n",
              "      <td>21984.47061</td>\n",
              "    </tr>\n",
              "    <tr>\n",
              "      <th>4</th>\n",
              "      <td>32</td>\n",
              "      <td>male</td>\n",
              "      <td>28.880</td>\n",
              "      <td>0</td>\n",
              "      <td>no</td>\n",
              "      <td>northwest</td>\n",
              "      <td>3866.85520</td>\n",
              "    </tr>\n",
              "    <tr>\n",
              "      <th>...</th>\n",
              "      <td>...</td>\n",
              "      <td>...</td>\n",
              "      <td>...</td>\n",
              "      <td>...</td>\n",
              "      <td>...</td>\n",
              "      <td>...</td>\n",
              "      <td>...</td>\n",
              "    </tr>\n",
              "    <tr>\n",
              "      <th>1333</th>\n",
              "      <td>50</td>\n",
              "      <td>male</td>\n",
              "      <td>30.970</td>\n",
              "      <td>3</td>\n",
              "      <td>no</td>\n",
              "      <td>northwest</td>\n",
              "      <td>10600.54830</td>\n",
              "    </tr>\n",
              "    <tr>\n",
              "      <th>1334</th>\n",
              "      <td>18</td>\n",
              "      <td>female</td>\n",
              "      <td>31.920</td>\n",
              "      <td>0</td>\n",
              "      <td>no</td>\n",
              "      <td>northeast</td>\n",
              "      <td>2205.98080</td>\n",
              "    </tr>\n",
              "    <tr>\n",
              "      <th>1335</th>\n",
              "      <td>18</td>\n",
              "      <td>female</td>\n",
              "      <td>36.850</td>\n",
              "      <td>0</td>\n",
              "      <td>no</td>\n",
              "      <td>southeast</td>\n",
              "      <td>1629.83350</td>\n",
              "    </tr>\n",
              "    <tr>\n",
              "      <th>1336</th>\n",
              "      <td>21</td>\n",
              "      <td>female</td>\n",
              "      <td>25.800</td>\n",
              "      <td>0</td>\n",
              "      <td>no</td>\n",
              "      <td>southwest</td>\n",
              "      <td>2007.94500</td>\n",
              "    </tr>\n",
              "    <tr>\n",
              "      <th>1337</th>\n",
              "      <td>61</td>\n",
              "      <td>female</td>\n",
              "      <td>29.070</td>\n",
              "      <td>0</td>\n",
              "      <td>yes</td>\n",
              "      <td>northwest</td>\n",
              "      <td>29141.36030</td>\n",
              "    </tr>\n",
              "  </tbody>\n",
              "</table>\n",
              "<p>1338 rows × 7 columns</p>\n",
              "</div>\n",
              "    <div class=\"colab-df-buttons\">\n",
              "\n",
              "  <div class=\"colab-df-container\">\n",
              "    <button class=\"colab-df-convert\" onclick=\"convertToInteractive('df-bf107a81-6291-4dea-b7ff-754311ac8507')\"\n",
              "            title=\"Convert this dataframe to an interactive table.\"\n",
              "            style=\"display:none;\">\n",
              "\n",
              "  <svg xmlns=\"http://www.w3.org/2000/svg\" height=\"24px\" viewBox=\"0 -960 960 960\">\n",
              "    <path d=\"M120-120v-720h720v720H120Zm60-500h600v-160H180v160Zm220 220h160v-160H400v160Zm0 220h160v-160H400v160ZM180-400h160v-160H180v160Zm440 0h160v-160H620v160ZM180-180h160v-160H180v160Zm440 0h160v-160H620v160Z\"/>\n",
              "  </svg>\n",
              "    </button>\n",
              "\n",
              "  <style>\n",
              "    .colab-df-container {\n",
              "      display:flex;\n",
              "      gap: 12px;\n",
              "    }\n",
              "\n",
              "    .colab-df-convert {\n",
              "      background-color: #E8F0FE;\n",
              "      border: none;\n",
              "      border-radius: 50%;\n",
              "      cursor: pointer;\n",
              "      display: none;\n",
              "      fill: #1967D2;\n",
              "      height: 32px;\n",
              "      padding: 0 0 0 0;\n",
              "      width: 32px;\n",
              "    }\n",
              "\n",
              "    .colab-df-convert:hover {\n",
              "      background-color: #E2EBFA;\n",
              "      box-shadow: 0px 1px 2px rgba(60, 64, 67, 0.3), 0px 1px 3px 1px rgba(60, 64, 67, 0.15);\n",
              "      fill: #174EA6;\n",
              "    }\n",
              "\n",
              "    .colab-df-buttons div {\n",
              "      margin-bottom: 4px;\n",
              "    }\n",
              "\n",
              "    [theme=dark] .colab-df-convert {\n",
              "      background-color: #3B4455;\n",
              "      fill: #D2E3FC;\n",
              "    }\n",
              "\n",
              "    [theme=dark] .colab-df-convert:hover {\n",
              "      background-color: #434B5C;\n",
              "      box-shadow: 0px 1px 3px 1px rgba(0, 0, 0, 0.15);\n",
              "      filter: drop-shadow(0px 1px 2px rgba(0, 0, 0, 0.3));\n",
              "      fill: #FFFFFF;\n",
              "    }\n",
              "  </style>\n",
              "\n",
              "    <script>\n",
              "      const buttonEl =\n",
              "        document.querySelector('#df-bf107a81-6291-4dea-b7ff-754311ac8507 button.colab-df-convert');\n",
              "      buttonEl.style.display =\n",
              "        google.colab.kernel.accessAllowed ? 'block' : 'none';\n",
              "\n",
              "      async function convertToInteractive(key) {\n",
              "        const element = document.querySelector('#df-bf107a81-6291-4dea-b7ff-754311ac8507');\n",
              "        const dataTable =\n",
              "          await google.colab.kernel.invokeFunction('convertToInteractive',\n",
              "                                                    [key], {});\n",
              "        if (!dataTable) return;\n",
              "\n",
              "        const docLinkHtml = 'Like what you see? Visit the ' +\n",
              "          '<a target=\"_blank\" href=https://colab.research.google.com/notebooks/data_table.ipynb>data table notebook</a>'\n",
              "          + ' to learn more about interactive tables.';\n",
              "        element.innerHTML = '';\n",
              "        dataTable['output_type'] = 'display_data';\n",
              "        await google.colab.output.renderOutput(dataTable, element);\n",
              "        const docLink = document.createElement('div');\n",
              "        docLink.innerHTML = docLinkHtml;\n",
              "        element.appendChild(docLink);\n",
              "      }\n",
              "    </script>\n",
              "  </div>\n",
              "\n",
              "\n",
              "<div id=\"df-37c23422-9821-4b8e-978c-da2ef348ff9a\">\n",
              "  <button class=\"colab-df-quickchart\" onclick=\"quickchart('df-37c23422-9821-4b8e-978c-da2ef348ff9a')\"\n",
              "            title=\"Suggest charts\"\n",
              "            style=\"display:none;\">\n",
              "\n",
              "<svg xmlns=\"http://www.w3.org/2000/svg\" height=\"24px\"viewBox=\"0 0 24 24\"\n",
              "     width=\"24px\">\n",
              "    <g>\n",
              "        <path d=\"M19 3H5c-1.1 0-2 .9-2 2v14c0 1.1.9 2 2 2h14c1.1 0 2-.9 2-2V5c0-1.1-.9-2-2-2zM9 17H7v-7h2v7zm4 0h-2V7h2v10zm4 0h-2v-4h2v4z\"/>\n",
              "    </g>\n",
              "</svg>\n",
              "  </button>\n",
              "\n",
              "<style>\n",
              "  .colab-df-quickchart {\n",
              "      --bg-color: #E8F0FE;\n",
              "      --fill-color: #1967D2;\n",
              "      --hover-bg-color: #E2EBFA;\n",
              "      --hover-fill-color: #174EA6;\n",
              "      --disabled-fill-color: #AAA;\n",
              "      --disabled-bg-color: #DDD;\n",
              "  }\n",
              "\n",
              "  [theme=dark] .colab-df-quickchart {\n",
              "      --bg-color: #3B4455;\n",
              "      --fill-color: #D2E3FC;\n",
              "      --hover-bg-color: #434B5C;\n",
              "      --hover-fill-color: #FFFFFF;\n",
              "      --disabled-bg-color: #3B4455;\n",
              "      --disabled-fill-color: #666;\n",
              "  }\n",
              "\n",
              "  .colab-df-quickchart {\n",
              "    background-color: var(--bg-color);\n",
              "    border: none;\n",
              "    border-radius: 50%;\n",
              "    cursor: pointer;\n",
              "    display: none;\n",
              "    fill: var(--fill-color);\n",
              "    height: 32px;\n",
              "    padding: 0;\n",
              "    width: 32px;\n",
              "  }\n",
              "\n",
              "  .colab-df-quickchart:hover {\n",
              "    background-color: var(--hover-bg-color);\n",
              "    box-shadow: 0 1px 2px rgba(60, 64, 67, 0.3), 0 1px 3px 1px rgba(60, 64, 67, 0.15);\n",
              "    fill: var(--button-hover-fill-color);\n",
              "  }\n",
              "\n",
              "  .colab-df-quickchart-complete:disabled,\n",
              "  .colab-df-quickchart-complete:disabled:hover {\n",
              "    background-color: var(--disabled-bg-color);\n",
              "    fill: var(--disabled-fill-color);\n",
              "    box-shadow: none;\n",
              "  }\n",
              "\n",
              "  .colab-df-spinner {\n",
              "    border: 2px solid var(--fill-color);\n",
              "    border-color: transparent;\n",
              "    border-bottom-color: var(--fill-color);\n",
              "    animation:\n",
              "      spin 1s steps(1) infinite;\n",
              "  }\n",
              "\n",
              "  @keyframes spin {\n",
              "    0% {\n",
              "      border-color: transparent;\n",
              "      border-bottom-color: var(--fill-color);\n",
              "      border-left-color: var(--fill-color);\n",
              "    }\n",
              "    20% {\n",
              "      border-color: transparent;\n",
              "      border-left-color: var(--fill-color);\n",
              "      border-top-color: var(--fill-color);\n",
              "    }\n",
              "    30% {\n",
              "      border-color: transparent;\n",
              "      border-left-color: var(--fill-color);\n",
              "      border-top-color: var(--fill-color);\n",
              "      border-right-color: var(--fill-color);\n",
              "    }\n",
              "    40% {\n",
              "      border-color: transparent;\n",
              "      border-right-color: var(--fill-color);\n",
              "      border-top-color: var(--fill-color);\n",
              "    }\n",
              "    60% {\n",
              "      border-color: transparent;\n",
              "      border-right-color: var(--fill-color);\n",
              "    }\n",
              "    80% {\n",
              "      border-color: transparent;\n",
              "      border-right-color: var(--fill-color);\n",
              "      border-bottom-color: var(--fill-color);\n",
              "    }\n",
              "    90% {\n",
              "      border-color: transparent;\n",
              "      border-bottom-color: var(--fill-color);\n",
              "    }\n",
              "  }\n",
              "</style>\n",
              "\n",
              "  <script>\n",
              "    async function quickchart(key) {\n",
              "      const quickchartButtonEl =\n",
              "        document.querySelector('#' + key + ' button');\n",
              "      quickchartButtonEl.disabled = true;  // To prevent multiple clicks.\n",
              "      quickchartButtonEl.classList.add('colab-df-spinner');\n",
              "      try {\n",
              "        const charts = await google.colab.kernel.invokeFunction(\n",
              "            'suggestCharts', [key], {});\n",
              "      } catch (error) {\n",
              "        console.error('Error during call to suggestCharts:', error);\n",
              "      }\n",
              "      quickchartButtonEl.classList.remove('colab-df-spinner');\n",
              "      quickchartButtonEl.classList.add('colab-df-quickchart-complete');\n",
              "    }\n",
              "    (() => {\n",
              "      let quickchartButtonEl =\n",
              "        document.querySelector('#df-37c23422-9821-4b8e-978c-da2ef348ff9a button');\n",
              "      quickchartButtonEl.style.display =\n",
              "        google.colab.kernel.accessAllowed ? 'block' : 'none';\n",
              "    })();\n",
              "  </script>\n",
              "</div>\n",
              "    </div>\n",
              "  </div>\n"
            ],
            "application/vnd.google.colaboratory.intrinsic+json": {
              "type": "dataframe",
              "variable_name": "insurance",
              "summary": "{\n  \"name\": \"insurance\",\n  \"rows\": 1338,\n  \"fields\": [\n    {\n      \"column\": \"age\",\n      \"properties\": {\n        \"dtype\": \"number\",\n        \"std\": 14,\n        \"min\": 18,\n        \"max\": 64,\n        \"num_unique_values\": 47,\n        \"samples\": [\n          21,\n          45,\n          36\n        ],\n        \"semantic_type\": \"\",\n        \"description\": \"\"\n      }\n    },\n    {\n      \"column\": \"sex\",\n      \"properties\": {\n        \"dtype\": \"category\",\n        \"num_unique_values\": 2,\n        \"samples\": [\n          \"male\",\n          \"female\"\n        ],\n        \"semantic_type\": \"\",\n        \"description\": \"\"\n      }\n    },\n    {\n      \"column\": \"bmi\",\n      \"properties\": {\n        \"dtype\": \"number\",\n        \"std\": 6.098186911679014,\n        \"min\": 15.96,\n        \"max\": 53.13,\n        \"num_unique_values\": 548,\n        \"samples\": [\n          23.18,\n          26.885\n        ],\n        \"semantic_type\": \"\",\n        \"description\": \"\"\n      }\n    },\n    {\n      \"column\": \"children\",\n      \"properties\": {\n        \"dtype\": \"number\",\n        \"std\": 1,\n        \"min\": 0,\n        \"max\": 5,\n        \"num_unique_values\": 6,\n        \"samples\": [\n          0,\n          1\n        ],\n        \"semantic_type\": \"\",\n        \"description\": \"\"\n      }\n    },\n    {\n      \"column\": \"smoker\",\n      \"properties\": {\n        \"dtype\": \"category\",\n        \"num_unique_values\": 2,\n        \"samples\": [\n          \"no\",\n          \"yes\"\n        ],\n        \"semantic_type\": \"\",\n        \"description\": \"\"\n      }\n    },\n    {\n      \"column\": \"region\",\n      \"properties\": {\n        \"dtype\": \"category\",\n        \"num_unique_values\": 4,\n        \"samples\": [\n          \"southeast\",\n          \"northeast\"\n        ],\n        \"semantic_type\": \"\",\n        \"description\": \"\"\n      }\n    },\n    {\n      \"column\": \"charges\",\n      \"properties\": {\n        \"dtype\": \"number\",\n        \"std\": 12110.011236694001,\n        \"min\": 1121.8739,\n        \"max\": 63770.42801,\n        \"num_unique_values\": 1337,\n        \"samples\": [\n          8688.85885,\n          5708.867\n        ],\n        \"semantic_type\": \"\",\n        \"description\": \"\"\n      }\n    }\n  ]\n}"
            }
          },
          "metadata": {},
          "execution_count": 78
        }
      ]
    },
    {
      "cell_type": "code",
      "metadata": {
        "colab": {
          "base_uri": "https://localhost:8080/",
          "height": 226
        },
        "id": "robZtd8l2y19",
        "outputId": "d8fc0b16-8661-4cf6-e3d4-fc141bf342ce"
      },
      "source": [
        "# Let's try one-hot encode our DataFrame so it's all numbers\n",
        "insurance_one_hot = pd.get_dummies(insurance)\n",
        "insurance_one_hot.head()"
      ],
      "execution_count": 79,
      "outputs": [
        {
          "output_type": "execute_result",
          "data": {
            "text/plain": [
              "   age     bmi  children      charges  sex_female  sex_male  smoker_no  \\\n",
              "0   19  27.900         0  16884.92400           1         0          0   \n",
              "1   18  33.770         1   1725.55230           0         1          1   \n",
              "2   28  33.000         3   4449.46200           0         1          1   \n",
              "3   33  22.705         0  21984.47061           0         1          1   \n",
              "4   32  28.880         0   3866.85520           0         1          1   \n",
              "\n",
              "   smoker_yes  region_northeast  region_northwest  region_southeast  \\\n",
              "0           1                 0                 0                 0   \n",
              "1           0                 0                 0                 1   \n",
              "2           0                 0                 0                 1   \n",
              "3           0                 0                 1                 0   \n",
              "4           0                 0                 1                 0   \n",
              "\n",
              "   region_southwest  \n",
              "0                 1  \n",
              "1                 0  \n",
              "2                 0  \n",
              "3                 0  \n",
              "4                 0  "
            ],
            "text/html": [
              "\n",
              "  <div id=\"df-2de34962-7a05-4f67-af9b-faed8d646009\" class=\"colab-df-container\">\n",
              "    <div>\n",
              "<style scoped>\n",
              "    .dataframe tbody tr th:only-of-type {\n",
              "        vertical-align: middle;\n",
              "    }\n",
              "\n",
              "    .dataframe tbody tr th {\n",
              "        vertical-align: top;\n",
              "    }\n",
              "\n",
              "    .dataframe thead th {\n",
              "        text-align: right;\n",
              "    }\n",
              "</style>\n",
              "<table border=\"1\" class=\"dataframe\">\n",
              "  <thead>\n",
              "    <tr style=\"text-align: right;\">\n",
              "      <th></th>\n",
              "      <th>age</th>\n",
              "      <th>bmi</th>\n",
              "      <th>children</th>\n",
              "      <th>charges</th>\n",
              "      <th>sex_female</th>\n",
              "      <th>sex_male</th>\n",
              "      <th>smoker_no</th>\n",
              "      <th>smoker_yes</th>\n",
              "      <th>region_northeast</th>\n",
              "      <th>region_northwest</th>\n",
              "      <th>region_southeast</th>\n",
              "      <th>region_southwest</th>\n",
              "    </tr>\n",
              "  </thead>\n",
              "  <tbody>\n",
              "    <tr>\n",
              "      <th>0</th>\n",
              "      <td>19</td>\n",
              "      <td>27.900</td>\n",
              "      <td>0</td>\n",
              "      <td>16884.92400</td>\n",
              "      <td>1</td>\n",
              "      <td>0</td>\n",
              "      <td>0</td>\n",
              "      <td>1</td>\n",
              "      <td>0</td>\n",
              "      <td>0</td>\n",
              "      <td>0</td>\n",
              "      <td>1</td>\n",
              "    </tr>\n",
              "    <tr>\n",
              "      <th>1</th>\n",
              "      <td>18</td>\n",
              "      <td>33.770</td>\n",
              "      <td>1</td>\n",
              "      <td>1725.55230</td>\n",
              "      <td>0</td>\n",
              "      <td>1</td>\n",
              "      <td>1</td>\n",
              "      <td>0</td>\n",
              "      <td>0</td>\n",
              "      <td>0</td>\n",
              "      <td>1</td>\n",
              "      <td>0</td>\n",
              "    </tr>\n",
              "    <tr>\n",
              "      <th>2</th>\n",
              "      <td>28</td>\n",
              "      <td>33.000</td>\n",
              "      <td>3</td>\n",
              "      <td>4449.46200</td>\n",
              "      <td>0</td>\n",
              "      <td>1</td>\n",
              "      <td>1</td>\n",
              "      <td>0</td>\n",
              "      <td>0</td>\n",
              "      <td>0</td>\n",
              "      <td>1</td>\n",
              "      <td>0</td>\n",
              "    </tr>\n",
              "    <tr>\n",
              "      <th>3</th>\n",
              "      <td>33</td>\n",
              "      <td>22.705</td>\n",
              "      <td>0</td>\n",
              "      <td>21984.47061</td>\n",
              "      <td>0</td>\n",
              "      <td>1</td>\n",
              "      <td>1</td>\n",
              "      <td>0</td>\n",
              "      <td>0</td>\n",
              "      <td>1</td>\n",
              "      <td>0</td>\n",
              "      <td>0</td>\n",
              "    </tr>\n",
              "    <tr>\n",
              "      <th>4</th>\n",
              "      <td>32</td>\n",
              "      <td>28.880</td>\n",
              "      <td>0</td>\n",
              "      <td>3866.85520</td>\n",
              "      <td>0</td>\n",
              "      <td>1</td>\n",
              "      <td>1</td>\n",
              "      <td>0</td>\n",
              "      <td>0</td>\n",
              "      <td>1</td>\n",
              "      <td>0</td>\n",
              "      <td>0</td>\n",
              "    </tr>\n",
              "  </tbody>\n",
              "</table>\n",
              "</div>\n",
              "    <div class=\"colab-df-buttons\">\n",
              "\n",
              "  <div class=\"colab-df-container\">\n",
              "    <button class=\"colab-df-convert\" onclick=\"convertToInteractive('df-2de34962-7a05-4f67-af9b-faed8d646009')\"\n",
              "            title=\"Convert this dataframe to an interactive table.\"\n",
              "            style=\"display:none;\">\n",
              "\n",
              "  <svg xmlns=\"http://www.w3.org/2000/svg\" height=\"24px\" viewBox=\"0 -960 960 960\">\n",
              "    <path d=\"M120-120v-720h720v720H120Zm60-500h600v-160H180v160Zm220 220h160v-160H400v160Zm0 220h160v-160H400v160ZM180-400h160v-160H180v160Zm440 0h160v-160H620v160ZM180-180h160v-160H180v160Zm440 0h160v-160H620v160Z\"/>\n",
              "  </svg>\n",
              "    </button>\n",
              "\n",
              "  <style>\n",
              "    .colab-df-container {\n",
              "      display:flex;\n",
              "      gap: 12px;\n",
              "    }\n",
              "\n",
              "    .colab-df-convert {\n",
              "      background-color: #E8F0FE;\n",
              "      border: none;\n",
              "      border-radius: 50%;\n",
              "      cursor: pointer;\n",
              "      display: none;\n",
              "      fill: #1967D2;\n",
              "      height: 32px;\n",
              "      padding: 0 0 0 0;\n",
              "      width: 32px;\n",
              "    }\n",
              "\n",
              "    .colab-df-convert:hover {\n",
              "      background-color: #E2EBFA;\n",
              "      box-shadow: 0px 1px 2px rgba(60, 64, 67, 0.3), 0px 1px 3px 1px rgba(60, 64, 67, 0.15);\n",
              "      fill: #174EA6;\n",
              "    }\n",
              "\n",
              "    .colab-df-buttons div {\n",
              "      margin-bottom: 4px;\n",
              "    }\n",
              "\n",
              "    [theme=dark] .colab-df-convert {\n",
              "      background-color: #3B4455;\n",
              "      fill: #D2E3FC;\n",
              "    }\n",
              "\n",
              "    [theme=dark] .colab-df-convert:hover {\n",
              "      background-color: #434B5C;\n",
              "      box-shadow: 0px 1px 3px 1px rgba(0, 0, 0, 0.15);\n",
              "      filter: drop-shadow(0px 1px 2px rgba(0, 0, 0, 0.3));\n",
              "      fill: #FFFFFF;\n",
              "    }\n",
              "  </style>\n",
              "\n",
              "    <script>\n",
              "      const buttonEl =\n",
              "        document.querySelector('#df-2de34962-7a05-4f67-af9b-faed8d646009 button.colab-df-convert');\n",
              "      buttonEl.style.display =\n",
              "        google.colab.kernel.accessAllowed ? 'block' : 'none';\n",
              "\n",
              "      async function convertToInteractive(key) {\n",
              "        const element = document.querySelector('#df-2de34962-7a05-4f67-af9b-faed8d646009');\n",
              "        const dataTable =\n",
              "          await google.colab.kernel.invokeFunction('convertToInteractive',\n",
              "                                                    [key], {});\n",
              "        if (!dataTable) return;\n",
              "\n",
              "        const docLinkHtml = 'Like what you see? Visit the ' +\n",
              "          '<a target=\"_blank\" href=https://colab.research.google.com/notebooks/data_table.ipynb>data table notebook</a>'\n",
              "          + ' to learn more about interactive tables.';\n",
              "        element.innerHTML = '';\n",
              "        dataTable['output_type'] = 'display_data';\n",
              "        await google.colab.output.renderOutput(dataTable, element);\n",
              "        const docLink = document.createElement('div');\n",
              "        docLink.innerHTML = docLinkHtml;\n",
              "        element.appendChild(docLink);\n",
              "      }\n",
              "    </script>\n",
              "  </div>\n",
              "\n",
              "\n",
              "<div id=\"df-2bc33673-830f-4139-9d34-faf7eaa43540\">\n",
              "  <button class=\"colab-df-quickchart\" onclick=\"quickchart('df-2bc33673-830f-4139-9d34-faf7eaa43540')\"\n",
              "            title=\"Suggest charts\"\n",
              "            style=\"display:none;\">\n",
              "\n",
              "<svg xmlns=\"http://www.w3.org/2000/svg\" height=\"24px\"viewBox=\"0 0 24 24\"\n",
              "     width=\"24px\">\n",
              "    <g>\n",
              "        <path d=\"M19 3H5c-1.1 0-2 .9-2 2v14c0 1.1.9 2 2 2h14c1.1 0 2-.9 2-2V5c0-1.1-.9-2-2-2zM9 17H7v-7h2v7zm4 0h-2V7h2v10zm4 0h-2v-4h2v4z\"/>\n",
              "    </g>\n",
              "</svg>\n",
              "  </button>\n",
              "\n",
              "<style>\n",
              "  .colab-df-quickchart {\n",
              "      --bg-color: #E8F0FE;\n",
              "      --fill-color: #1967D2;\n",
              "      --hover-bg-color: #E2EBFA;\n",
              "      --hover-fill-color: #174EA6;\n",
              "      --disabled-fill-color: #AAA;\n",
              "      --disabled-bg-color: #DDD;\n",
              "  }\n",
              "\n",
              "  [theme=dark] .colab-df-quickchart {\n",
              "      --bg-color: #3B4455;\n",
              "      --fill-color: #D2E3FC;\n",
              "      --hover-bg-color: #434B5C;\n",
              "      --hover-fill-color: #FFFFFF;\n",
              "      --disabled-bg-color: #3B4455;\n",
              "      --disabled-fill-color: #666;\n",
              "  }\n",
              "\n",
              "  .colab-df-quickchart {\n",
              "    background-color: var(--bg-color);\n",
              "    border: none;\n",
              "    border-radius: 50%;\n",
              "    cursor: pointer;\n",
              "    display: none;\n",
              "    fill: var(--fill-color);\n",
              "    height: 32px;\n",
              "    padding: 0;\n",
              "    width: 32px;\n",
              "  }\n",
              "\n",
              "  .colab-df-quickchart:hover {\n",
              "    background-color: var(--hover-bg-color);\n",
              "    box-shadow: 0 1px 2px rgba(60, 64, 67, 0.3), 0 1px 3px 1px rgba(60, 64, 67, 0.15);\n",
              "    fill: var(--button-hover-fill-color);\n",
              "  }\n",
              "\n",
              "  .colab-df-quickchart-complete:disabled,\n",
              "  .colab-df-quickchart-complete:disabled:hover {\n",
              "    background-color: var(--disabled-bg-color);\n",
              "    fill: var(--disabled-fill-color);\n",
              "    box-shadow: none;\n",
              "  }\n",
              "\n",
              "  .colab-df-spinner {\n",
              "    border: 2px solid var(--fill-color);\n",
              "    border-color: transparent;\n",
              "    border-bottom-color: var(--fill-color);\n",
              "    animation:\n",
              "      spin 1s steps(1) infinite;\n",
              "  }\n",
              "\n",
              "  @keyframes spin {\n",
              "    0% {\n",
              "      border-color: transparent;\n",
              "      border-bottom-color: var(--fill-color);\n",
              "      border-left-color: var(--fill-color);\n",
              "    }\n",
              "    20% {\n",
              "      border-color: transparent;\n",
              "      border-left-color: var(--fill-color);\n",
              "      border-top-color: var(--fill-color);\n",
              "    }\n",
              "    30% {\n",
              "      border-color: transparent;\n",
              "      border-left-color: var(--fill-color);\n",
              "      border-top-color: var(--fill-color);\n",
              "      border-right-color: var(--fill-color);\n",
              "    }\n",
              "    40% {\n",
              "      border-color: transparent;\n",
              "      border-right-color: var(--fill-color);\n",
              "      border-top-color: var(--fill-color);\n",
              "    }\n",
              "    60% {\n",
              "      border-color: transparent;\n",
              "      border-right-color: var(--fill-color);\n",
              "    }\n",
              "    80% {\n",
              "      border-color: transparent;\n",
              "      border-right-color: var(--fill-color);\n",
              "      border-bottom-color: var(--fill-color);\n",
              "    }\n",
              "    90% {\n",
              "      border-color: transparent;\n",
              "      border-bottom-color: var(--fill-color);\n",
              "    }\n",
              "  }\n",
              "</style>\n",
              "\n",
              "  <script>\n",
              "    async function quickchart(key) {\n",
              "      const quickchartButtonEl =\n",
              "        document.querySelector('#' + key + ' button');\n",
              "      quickchartButtonEl.disabled = true;  // To prevent multiple clicks.\n",
              "      quickchartButtonEl.classList.add('colab-df-spinner');\n",
              "      try {\n",
              "        const charts = await google.colab.kernel.invokeFunction(\n",
              "            'suggestCharts', [key], {});\n",
              "      } catch (error) {\n",
              "        console.error('Error during call to suggestCharts:', error);\n",
              "      }\n",
              "      quickchartButtonEl.classList.remove('colab-df-spinner');\n",
              "      quickchartButtonEl.classList.add('colab-df-quickchart-complete');\n",
              "    }\n",
              "    (() => {\n",
              "      let quickchartButtonEl =\n",
              "        document.querySelector('#df-2bc33673-830f-4139-9d34-faf7eaa43540 button');\n",
              "      quickchartButtonEl.style.display =\n",
              "        google.colab.kernel.accessAllowed ? 'block' : 'none';\n",
              "    })();\n",
              "  </script>\n",
              "</div>\n",
              "    </div>\n",
              "  </div>\n"
            ],
            "application/vnd.google.colaboratory.intrinsic+json": {
              "type": "dataframe",
              "variable_name": "insurance_one_hot",
              "summary": "{\n  \"name\": \"insurance_one_hot\",\n  \"rows\": 1338,\n  \"fields\": [\n    {\n      \"column\": \"age\",\n      \"properties\": {\n        \"dtype\": \"number\",\n        \"std\": 14,\n        \"min\": 18,\n        \"max\": 64,\n        \"num_unique_values\": 47,\n        \"samples\": [\n          21,\n          45,\n          36\n        ],\n        \"semantic_type\": \"\",\n        \"description\": \"\"\n      }\n    },\n    {\n      \"column\": \"bmi\",\n      \"properties\": {\n        \"dtype\": \"number\",\n        \"std\": 6.098186911679014,\n        \"min\": 15.96,\n        \"max\": 53.13,\n        \"num_unique_values\": 548,\n        \"samples\": [\n          23.18,\n          26.885,\n          29.26\n        ],\n        \"semantic_type\": \"\",\n        \"description\": \"\"\n      }\n    },\n    {\n      \"column\": \"children\",\n      \"properties\": {\n        \"dtype\": \"number\",\n        \"std\": 1,\n        \"min\": 0,\n        \"max\": 5,\n        \"num_unique_values\": 6,\n        \"samples\": [\n          0,\n          1,\n          4\n        ],\n        \"semantic_type\": \"\",\n        \"description\": \"\"\n      }\n    },\n    {\n      \"column\": \"charges\",\n      \"properties\": {\n        \"dtype\": \"number\",\n        \"std\": 12110.011236694001,\n        \"min\": 1121.8739,\n        \"max\": 63770.42801,\n        \"num_unique_values\": 1337,\n        \"samples\": [\n          8688.85885,\n          5708.867,\n          11436.73815\n        ],\n        \"semantic_type\": \"\",\n        \"description\": \"\"\n      }\n    },\n    {\n      \"column\": \"sex_female\",\n      \"properties\": {\n        \"dtype\": \"uint8\",\n        \"num_unique_values\": 2,\n        \"samples\": [\n          0,\n          1\n        ],\n        \"semantic_type\": \"\",\n        \"description\": \"\"\n      }\n    },\n    {\n      \"column\": \"sex_male\",\n      \"properties\": {\n        \"dtype\": \"uint8\",\n        \"num_unique_values\": 2,\n        \"samples\": [\n          1,\n          0\n        ],\n        \"semantic_type\": \"\",\n        \"description\": \"\"\n      }\n    },\n    {\n      \"column\": \"smoker_no\",\n      \"properties\": {\n        \"dtype\": \"uint8\",\n        \"num_unique_values\": 2,\n        \"samples\": [\n          1,\n          0\n        ],\n        \"semantic_type\": \"\",\n        \"description\": \"\"\n      }\n    },\n    {\n      \"column\": \"smoker_yes\",\n      \"properties\": {\n        \"dtype\": \"uint8\",\n        \"num_unique_values\": 2,\n        \"samples\": [\n          0,\n          1\n        ],\n        \"semantic_type\": \"\",\n        \"description\": \"\"\n      }\n    },\n    {\n      \"column\": \"region_northeast\",\n      \"properties\": {\n        \"dtype\": \"uint8\",\n        \"num_unique_values\": 2,\n        \"samples\": [\n          1,\n          0\n        ],\n        \"semantic_type\": \"\",\n        \"description\": \"\"\n      }\n    },\n    {\n      \"column\": \"region_northwest\",\n      \"properties\": {\n        \"dtype\": \"uint8\",\n        \"num_unique_values\": 2,\n        \"samples\": [\n          1,\n          0\n        ],\n        \"semantic_type\": \"\",\n        \"description\": \"\"\n      }\n    },\n    {\n      \"column\": \"region_southeast\",\n      \"properties\": {\n        \"dtype\": \"uint8\",\n        \"num_unique_values\": 2,\n        \"samples\": [\n          1,\n          0\n        ],\n        \"semantic_type\": \"\",\n        \"description\": \"\"\n      }\n    },\n    {\n      \"column\": \"region_southwest\",\n      \"properties\": {\n        \"dtype\": \"uint8\",\n        \"num_unique_values\": 2,\n        \"samples\": [\n          0,\n          1\n        ],\n        \"semantic_type\": \"\",\n        \"description\": \"\"\n      }\n    }\n  ]\n}"
            }
          },
          "metadata": {},
          "execution_count": 79
        }
      ]
    },
    {
      "cell_type": "code",
      "metadata": {
        "id": "jGU53qHw3yTQ"
      },
      "source": [
        "# Create X & y values (features and labels)\n",
        "X = insurance_one_hot.drop(\"charges\", axis=1)\n",
        "y = insurance_one_hot[\"charges\"]"
      ],
      "execution_count": 80,
      "outputs": []
    },
    {
      "cell_type": "code",
      "metadata": {
        "colab": {
          "base_uri": "https://localhost:8080/",
          "height": 206
        },
        "id": "879Oxm4Z5I9H",
        "outputId": "48acad8d-10a2-4aae-f965-b2ef5794ba11"
      },
      "source": [
        "# View X\n",
        "X.head()"
      ],
      "execution_count": 81,
      "outputs": [
        {
          "output_type": "execute_result",
          "data": {
            "text/plain": [
              "   age     bmi  children  sex_female  sex_male  smoker_no  smoker_yes  \\\n",
              "0   19  27.900         0           1         0          0           1   \n",
              "1   18  33.770         1           0         1          1           0   \n",
              "2   28  33.000         3           0         1          1           0   \n",
              "3   33  22.705         0           0         1          1           0   \n",
              "4   32  28.880         0           0         1          1           0   \n",
              "\n",
              "   region_northeast  region_northwest  region_southeast  region_southwest  \n",
              "0                 0                 0                 0                 1  \n",
              "1                 0                 0                 1                 0  \n",
              "2                 0                 0                 1                 0  \n",
              "3                 0                 1                 0                 0  \n",
              "4                 0                 1                 0                 0  "
            ],
            "text/html": [
              "\n",
              "  <div id=\"df-5b588893-c2d9-4ba2-a95a-b98854392990\" class=\"colab-df-container\">\n",
              "    <div>\n",
              "<style scoped>\n",
              "    .dataframe tbody tr th:only-of-type {\n",
              "        vertical-align: middle;\n",
              "    }\n",
              "\n",
              "    .dataframe tbody tr th {\n",
              "        vertical-align: top;\n",
              "    }\n",
              "\n",
              "    .dataframe thead th {\n",
              "        text-align: right;\n",
              "    }\n",
              "</style>\n",
              "<table border=\"1\" class=\"dataframe\">\n",
              "  <thead>\n",
              "    <tr style=\"text-align: right;\">\n",
              "      <th></th>\n",
              "      <th>age</th>\n",
              "      <th>bmi</th>\n",
              "      <th>children</th>\n",
              "      <th>sex_female</th>\n",
              "      <th>sex_male</th>\n",
              "      <th>smoker_no</th>\n",
              "      <th>smoker_yes</th>\n",
              "      <th>region_northeast</th>\n",
              "      <th>region_northwest</th>\n",
              "      <th>region_southeast</th>\n",
              "      <th>region_southwest</th>\n",
              "    </tr>\n",
              "  </thead>\n",
              "  <tbody>\n",
              "    <tr>\n",
              "      <th>0</th>\n",
              "      <td>19</td>\n",
              "      <td>27.900</td>\n",
              "      <td>0</td>\n",
              "      <td>1</td>\n",
              "      <td>0</td>\n",
              "      <td>0</td>\n",
              "      <td>1</td>\n",
              "      <td>0</td>\n",
              "      <td>0</td>\n",
              "      <td>0</td>\n",
              "      <td>1</td>\n",
              "    </tr>\n",
              "    <tr>\n",
              "      <th>1</th>\n",
              "      <td>18</td>\n",
              "      <td>33.770</td>\n",
              "      <td>1</td>\n",
              "      <td>0</td>\n",
              "      <td>1</td>\n",
              "      <td>1</td>\n",
              "      <td>0</td>\n",
              "      <td>0</td>\n",
              "      <td>0</td>\n",
              "      <td>1</td>\n",
              "      <td>0</td>\n",
              "    </tr>\n",
              "    <tr>\n",
              "      <th>2</th>\n",
              "      <td>28</td>\n",
              "      <td>33.000</td>\n",
              "      <td>3</td>\n",
              "      <td>0</td>\n",
              "      <td>1</td>\n",
              "      <td>1</td>\n",
              "      <td>0</td>\n",
              "      <td>0</td>\n",
              "      <td>0</td>\n",
              "      <td>1</td>\n",
              "      <td>0</td>\n",
              "    </tr>\n",
              "    <tr>\n",
              "      <th>3</th>\n",
              "      <td>33</td>\n",
              "      <td>22.705</td>\n",
              "      <td>0</td>\n",
              "      <td>0</td>\n",
              "      <td>1</td>\n",
              "      <td>1</td>\n",
              "      <td>0</td>\n",
              "      <td>0</td>\n",
              "      <td>1</td>\n",
              "      <td>0</td>\n",
              "      <td>0</td>\n",
              "    </tr>\n",
              "    <tr>\n",
              "      <th>4</th>\n",
              "      <td>32</td>\n",
              "      <td>28.880</td>\n",
              "      <td>0</td>\n",
              "      <td>0</td>\n",
              "      <td>1</td>\n",
              "      <td>1</td>\n",
              "      <td>0</td>\n",
              "      <td>0</td>\n",
              "      <td>1</td>\n",
              "      <td>0</td>\n",
              "      <td>0</td>\n",
              "    </tr>\n",
              "  </tbody>\n",
              "</table>\n",
              "</div>\n",
              "    <div class=\"colab-df-buttons\">\n",
              "\n",
              "  <div class=\"colab-df-container\">\n",
              "    <button class=\"colab-df-convert\" onclick=\"convertToInteractive('df-5b588893-c2d9-4ba2-a95a-b98854392990')\"\n",
              "            title=\"Convert this dataframe to an interactive table.\"\n",
              "            style=\"display:none;\">\n",
              "\n",
              "  <svg xmlns=\"http://www.w3.org/2000/svg\" height=\"24px\" viewBox=\"0 -960 960 960\">\n",
              "    <path d=\"M120-120v-720h720v720H120Zm60-500h600v-160H180v160Zm220 220h160v-160H400v160Zm0 220h160v-160H400v160ZM180-400h160v-160H180v160Zm440 0h160v-160H620v160ZM180-180h160v-160H180v160Zm440 0h160v-160H620v160Z\"/>\n",
              "  </svg>\n",
              "    </button>\n",
              "\n",
              "  <style>\n",
              "    .colab-df-container {\n",
              "      display:flex;\n",
              "      gap: 12px;\n",
              "    }\n",
              "\n",
              "    .colab-df-convert {\n",
              "      background-color: #E8F0FE;\n",
              "      border: none;\n",
              "      border-radius: 50%;\n",
              "      cursor: pointer;\n",
              "      display: none;\n",
              "      fill: #1967D2;\n",
              "      height: 32px;\n",
              "      padding: 0 0 0 0;\n",
              "      width: 32px;\n",
              "    }\n",
              "\n",
              "    .colab-df-convert:hover {\n",
              "      background-color: #E2EBFA;\n",
              "      box-shadow: 0px 1px 2px rgba(60, 64, 67, 0.3), 0px 1px 3px 1px rgba(60, 64, 67, 0.15);\n",
              "      fill: #174EA6;\n",
              "    }\n",
              "\n",
              "    .colab-df-buttons div {\n",
              "      margin-bottom: 4px;\n",
              "    }\n",
              "\n",
              "    [theme=dark] .colab-df-convert {\n",
              "      background-color: #3B4455;\n",
              "      fill: #D2E3FC;\n",
              "    }\n",
              "\n",
              "    [theme=dark] .colab-df-convert:hover {\n",
              "      background-color: #434B5C;\n",
              "      box-shadow: 0px 1px 3px 1px rgba(0, 0, 0, 0.15);\n",
              "      filter: drop-shadow(0px 1px 2px rgba(0, 0, 0, 0.3));\n",
              "      fill: #FFFFFF;\n",
              "    }\n",
              "  </style>\n",
              "\n",
              "    <script>\n",
              "      const buttonEl =\n",
              "        document.querySelector('#df-5b588893-c2d9-4ba2-a95a-b98854392990 button.colab-df-convert');\n",
              "      buttonEl.style.display =\n",
              "        google.colab.kernel.accessAllowed ? 'block' : 'none';\n",
              "\n",
              "      async function convertToInteractive(key) {\n",
              "        const element = document.querySelector('#df-5b588893-c2d9-4ba2-a95a-b98854392990');\n",
              "        const dataTable =\n",
              "          await google.colab.kernel.invokeFunction('convertToInteractive',\n",
              "                                                    [key], {});\n",
              "        if (!dataTable) return;\n",
              "\n",
              "        const docLinkHtml = 'Like what you see? Visit the ' +\n",
              "          '<a target=\"_blank\" href=https://colab.research.google.com/notebooks/data_table.ipynb>data table notebook</a>'\n",
              "          + ' to learn more about interactive tables.';\n",
              "        element.innerHTML = '';\n",
              "        dataTable['output_type'] = 'display_data';\n",
              "        await google.colab.output.renderOutput(dataTable, element);\n",
              "        const docLink = document.createElement('div');\n",
              "        docLink.innerHTML = docLinkHtml;\n",
              "        element.appendChild(docLink);\n",
              "      }\n",
              "    </script>\n",
              "  </div>\n",
              "\n",
              "\n",
              "<div id=\"df-dc8ad6ca-cd65-4c40-959e-09abc6d36178\">\n",
              "  <button class=\"colab-df-quickchart\" onclick=\"quickchart('df-dc8ad6ca-cd65-4c40-959e-09abc6d36178')\"\n",
              "            title=\"Suggest charts\"\n",
              "            style=\"display:none;\">\n",
              "\n",
              "<svg xmlns=\"http://www.w3.org/2000/svg\" height=\"24px\"viewBox=\"0 0 24 24\"\n",
              "     width=\"24px\">\n",
              "    <g>\n",
              "        <path d=\"M19 3H5c-1.1 0-2 .9-2 2v14c0 1.1.9 2 2 2h14c1.1 0 2-.9 2-2V5c0-1.1-.9-2-2-2zM9 17H7v-7h2v7zm4 0h-2V7h2v10zm4 0h-2v-4h2v4z\"/>\n",
              "    </g>\n",
              "</svg>\n",
              "  </button>\n",
              "\n",
              "<style>\n",
              "  .colab-df-quickchart {\n",
              "      --bg-color: #E8F0FE;\n",
              "      --fill-color: #1967D2;\n",
              "      --hover-bg-color: #E2EBFA;\n",
              "      --hover-fill-color: #174EA6;\n",
              "      --disabled-fill-color: #AAA;\n",
              "      --disabled-bg-color: #DDD;\n",
              "  }\n",
              "\n",
              "  [theme=dark] .colab-df-quickchart {\n",
              "      --bg-color: #3B4455;\n",
              "      --fill-color: #D2E3FC;\n",
              "      --hover-bg-color: #434B5C;\n",
              "      --hover-fill-color: #FFFFFF;\n",
              "      --disabled-bg-color: #3B4455;\n",
              "      --disabled-fill-color: #666;\n",
              "  }\n",
              "\n",
              "  .colab-df-quickchart {\n",
              "    background-color: var(--bg-color);\n",
              "    border: none;\n",
              "    border-radius: 50%;\n",
              "    cursor: pointer;\n",
              "    display: none;\n",
              "    fill: var(--fill-color);\n",
              "    height: 32px;\n",
              "    padding: 0;\n",
              "    width: 32px;\n",
              "  }\n",
              "\n",
              "  .colab-df-quickchart:hover {\n",
              "    background-color: var(--hover-bg-color);\n",
              "    box-shadow: 0 1px 2px rgba(60, 64, 67, 0.3), 0 1px 3px 1px rgba(60, 64, 67, 0.15);\n",
              "    fill: var(--button-hover-fill-color);\n",
              "  }\n",
              "\n",
              "  .colab-df-quickchart-complete:disabled,\n",
              "  .colab-df-quickchart-complete:disabled:hover {\n",
              "    background-color: var(--disabled-bg-color);\n",
              "    fill: var(--disabled-fill-color);\n",
              "    box-shadow: none;\n",
              "  }\n",
              "\n",
              "  .colab-df-spinner {\n",
              "    border: 2px solid var(--fill-color);\n",
              "    border-color: transparent;\n",
              "    border-bottom-color: var(--fill-color);\n",
              "    animation:\n",
              "      spin 1s steps(1) infinite;\n",
              "  }\n",
              "\n",
              "  @keyframes spin {\n",
              "    0% {\n",
              "      border-color: transparent;\n",
              "      border-bottom-color: var(--fill-color);\n",
              "      border-left-color: var(--fill-color);\n",
              "    }\n",
              "    20% {\n",
              "      border-color: transparent;\n",
              "      border-left-color: var(--fill-color);\n",
              "      border-top-color: var(--fill-color);\n",
              "    }\n",
              "    30% {\n",
              "      border-color: transparent;\n",
              "      border-left-color: var(--fill-color);\n",
              "      border-top-color: var(--fill-color);\n",
              "      border-right-color: var(--fill-color);\n",
              "    }\n",
              "    40% {\n",
              "      border-color: transparent;\n",
              "      border-right-color: var(--fill-color);\n",
              "      border-top-color: var(--fill-color);\n",
              "    }\n",
              "    60% {\n",
              "      border-color: transparent;\n",
              "      border-right-color: var(--fill-color);\n",
              "    }\n",
              "    80% {\n",
              "      border-color: transparent;\n",
              "      border-right-color: var(--fill-color);\n",
              "      border-bottom-color: var(--fill-color);\n",
              "    }\n",
              "    90% {\n",
              "      border-color: transparent;\n",
              "      border-bottom-color: var(--fill-color);\n",
              "    }\n",
              "  }\n",
              "</style>\n",
              "\n",
              "  <script>\n",
              "    async function quickchart(key) {\n",
              "      const quickchartButtonEl =\n",
              "        document.querySelector('#' + key + ' button');\n",
              "      quickchartButtonEl.disabled = true;  // To prevent multiple clicks.\n",
              "      quickchartButtonEl.classList.add('colab-df-spinner');\n",
              "      try {\n",
              "        const charts = await google.colab.kernel.invokeFunction(\n",
              "            'suggestCharts', [key], {});\n",
              "      } catch (error) {\n",
              "        console.error('Error during call to suggestCharts:', error);\n",
              "      }\n",
              "      quickchartButtonEl.classList.remove('colab-df-spinner');\n",
              "      quickchartButtonEl.classList.add('colab-df-quickchart-complete');\n",
              "    }\n",
              "    (() => {\n",
              "      let quickchartButtonEl =\n",
              "        document.querySelector('#df-dc8ad6ca-cd65-4c40-959e-09abc6d36178 button');\n",
              "      quickchartButtonEl.style.display =\n",
              "        google.colab.kernel.accessAllowed ? 'block' : 'none';\n",
              "    })();\n",
              "  </script>\n",
              "</div>\n",
              "    </div>\n",
              "  </div>\n"
            ],
            "application/vnd.google.colaboratory.intrinsic+json": {
              "type": "dataframe",
              "variable_name": "X",
              "summary": "{\n  \"name\": \"X\",\n  \"rows\": 1338,\n  \"fields\": [\n    {\n      \"column\": \"age\",\n      \"properties\": {\n        \"dtype\": \"number\",\n        \"std\": 14,\n        \"min\": 18,\n        \"max\": 64,\n        \"num_unique_values\": 47,\n        \"samples\": [\n          21,\n          45,\n          36\n        ],\n        \"semantic_type\": \"\",\n        \"description\": \"\"\n      }\n    },\n    {\n      \"column\": \"bmi\",\n      \"properties\": {\n        \"dtype\": \"number\",\n        \"std\": 6.098186911679014,\n        \"min\": 15.96,\n        \"max\": 53.13,\n        \"num_unique_values\": 548,\n        \"samples\": [\n          23.18,\n          26.885,\n          29.26\n        ],\n        \"semantic_type\": \"\",\n        \"description\": \"\"\n      }\n    },\n    {\n      \"column\": \"children\",\n      \"properties\": {\n        \"dtype\": \"number\",\n        \"std\": 1,\n        \"min\": 0,\n        \"max\": 5,\n        \"num_unique_values\": 6,\n        \"samples\": [\n          0,\n          1,\n          4\n        ],\n        \"semantic_type\": \"\",\n        \"description\": \"\"\n      }\n    },\n    {\n      \"column\": \"sex_female\",\n      \"properties\": {\n        \"dtype\": \"uint8\",\n        \"num_unique_values\": 2,\n        \"samples\": [\n          0,\n          1\n        ],\n        \"semantic_type\": \"\",\n        \"description\": \"\"\n      }\n    },\n    {\n      \"column\": \"sex_male\",\n      \"properties\": {\n        \"dtype\": \"uint8\",\n        \"num_unique_values\": 2,\n        \"samples\": [\n          1,\n          0\n        ],\n        \"semantic_type\": \"\",\n        \"description\": \"\"\n      }\n    },\n    {\n      \"column\": \"smoker_no\",\n      \"properties\": {\n        \"dtype\": \"uint8\",\n        \"num_unique_values\": 2,\n        \"samples\": [\n          1,\n          0\n        ],\n        \"semantic_type\": \"\",\n        \"description\": \"\"\n      }\n    },\n    {\n      \"column\": \"smoker_yes\",\n      \"properties\": {\n        \"dtype\": \"uint8\",\n        \"num_unique_values\": 2,\n        \"samples\": [\n          0,\n          1\n        ],\n        \"semantic_type\": \"\",\n        \"description\": \"\"\n      }\n    },\n    {\n      \"column\": \"region_northeast\",\n      \"properties\": {\n        \"dtype\": \"uint8\",\n        \"num_unique_values\": 2,\n        \"samples\": [\n          1,\n          0\n        ],\n        \"semantic_type\": \"\",\n        \"description\": \"\"\n      }\n    },\n    {\n      \"column\": \"region_northwest\",\n      \"properties\": {\n        \"dtype\": \"uint8\",\n        \"num_unique_values\": 2,\n        \"samples\": [\n          1,\n          0\n        ],\n        \"semantic_type\": \"\",\n        \"description\": \"\"\n      }\n    },\n    {\n      \"column\": \"region_southeast\",\n      \"properties\": {\n        \"dtype\": \"uint8\",\n        \"num_unique_values\": 2,\n        \"samples\": [\n          1,\n          0\n        ],\n        \"semantic_type\": \"\",\n        \"description\": \"\"\n      }\n    },\n    {\n      \"column\": \"region_southwest\",\n      \"properties\": {\n        \"dtype\": \"uint8\",\n        \"num_unique_values\": 2,\n        \"samples\": [\n          0,\n          1\n        ],\n        \"semantic_type\": \"\",\n        \"description\": \"\"\n      }\n    }\n  ]\n}"
            }
          },
          "metadata": {},
          "execution_count": 81
        }
      ]
    },
    {
      "cell_type": "code",
      "metadata": {
        "colab": {
          "base_uri": "https://localhost:8080/"
        },
        "id": "tkDW7YGa5MNu",
        "outputId": "defb7660-ac51-4a24-aff8-121c027751e8"
      },
      "source": [
        "# View y\n",
        "y.head()"
      ],
      "execution_count": 82,
      "outputs": [
        {
          "output_type": "execute_result",
          "data": {
            "text/plain": [
              "0    16884.92400\n",
              "1     1725.55230\n",
              "2     4449.46200\n",
              "3    21984.47061\n",
              "4     3866.85520\n",
              "Name: charges, dtype: float64"
            ]
          },
          "metadata": {},
          "execution_count": 82
        }
      ]
    },
    {
      "cell_type": "code",
      "metadata": {
        "colab": {
          "base_uri": "https://localhost:8080/"
        },
        "id": "5a1cIygD46Ng",
        "outputId": "5d59e190-7408-406e-e69a-19227dfd87c6"
      },
      "source": [
        "# Create training and test sets\n",
        "from sklearn.model_selection import train_test_split\n",
        "X_train, X_test, y_train, y_test = train_test_split(X, y, test_size=0.2, random_state=42)\n",
        "len(X), len(X_train), len(X_test)"
      ],
      "execution_count": 83,
      "outputs": [
        {
          "output_type": "execute_result",
          "data": {
            "text/plain": [
              "(1338, 1070, 268)"
            ]
          },
          "metadata": {},
          "execution_count": 83
        }
      ]
    },
    {
      "cell_type": "code",
      "metadata": {
        "colab": {
          "base_uri": "https://localhost:8080/"
        },
        "id": "E6A8y4WT47s4",
        "outputId": "07753dfb-3f32-4979-e880-2e627af88c4f"
      },
      "source": [
        "# Build a neural network (sort of like model_2 above)\n",
        "tf.random.set_seed(42)\n",
        "\n",
        "# 1. Create a model\n",
        "insurance_model = tf.keras.Sequential([\n",
        "  tf.keras.layers.Dense(10),\n",
        "  tf.keras.layers.Dense(1)\n",
        "])\n",
        "\n",
        "# 2. Compile the model\n",
        "insurance_model.compile(loss=tf.keras.losses.mae,\n",
        "                        optimizer=tf.keras.optimizers.SGD(),\n",
        "                        metrics=[\"mae\"])\n",
        "\n",
        "# 3. Fit the model\n",
        "insurance_model.fit(X_train, y_train, epochs=100)"
      ],
      "execution_count": 84,
      "outputs": [
        {
          "output_type": "stream",
          "name": "stdout",
          "text": [
            "Epoch 1/100\n",
            "34/34 [==============================] - 1s 3ms/step - loss: 8646.2236 - mae: 8646.2236\n",
            "Epoch 2/100\n",
            "34/34 [==============================] - 0s 3ms/step - loss: 7885.0684 - mae: 7885.0684\n",
            "Epoch 3/100\n",
            "34/34 [==============================] - 0s 4ms/step - loss: 7574.6309 - mae: 7574.6309\n",
            "Epoch 4/100\n",
            "34/34 [==============================] - 0s 4ms/step - loss: 7671.2349 - mae: 7671.2349\n",
            "Epoch 5/100\n",
            "34/34 [==============================] - 0s 3ms/step - loss: 7683.3857 - mae: 7683.3857\n",
            "Epoch 6/100\n",
            "34/34 [==============================] - 0s 2ms/step - loss: 7641.9434 - mae: 7641.9434\n",
            "Epoch 7/100\n",
            "34/34 [==============================] - 0s 3ms/step - loss: 7557.4009 - mae: 7557.4009\n",
            "Epoch 8/100\n",
            "34/34 [==============================] - 0s 3ms/step - loss: 7690.9282 - mae: 7690.9282\n",
            "Epoch 9/100\n",
            "34/34 [==============================] - 0s 3ms/step - loss: 7489.5532 - mae: 7489.5532\n",
            "Epoch 10/100\n",
            "34/34 [==============================] - 0s 3ms/step - loss: 7713.5029 - mae: 7713.5029\n",
            "Epoch 11/100\n",
            "34/34 [==============================] - 0s 4ms/step - loss: 7632.6792 - mae: 7632.6792\n",
            "Epoch 12/100\n",
            "34/34 [==============================] - 0s 9ms/step - loss: 7561.8530 - mae: 7561.8530\n",
            "Epoch 13/100\n",
            "34/34 [==============================] - 0s 6ms/step - loss: 7689.8564 - mae: 7689.8564\n",
            "Epoch 14/100\n",
            "34/34 [==============================] - 0s 6ms/step - loss: 7737.3589 - mae: 7737.3589\n",
            "Epoch 15/100\n",
            "34/34 [==============================] - 0s 3ms/step - loss: 7581.2114 - mae: 7581.2114\n",
            "Epoch 16/100\n",
            "34/34 [==============================] - 0s 4ms/step - loss: 7686.7690 - mae: 7686.7690\n",
            "Epoch 17/100\n",
            "34/34 [==============================] - 0s 4ms/step - loss: 7565.4512 - mae: 7565.4512\n",
            "Epoch 18/100\n",
            "34/34 [==============================] - 0s 3ms/step - loss: 7805.9946 - mae: 7805.9946\n",
            "Epoch 19/100\n",
            "34/34 [==============================] - 0s 4ms/step - loss: 7732.2290 - mae: 7732.2290\n",
            "Epoch 20/100\n",
            "34/34 [==============================] - 0s 4ms/step - loss: 7948.2886 - mae: 7948.2886\n",
            "Epoch 21/100\n",
            "34/34 [==============================] - 0s 3ms/step - loss: 7520.3296 - mae: 7520.3296\n",
            "Epoch 22/100\n",
            "34/34 [==============================] - 0s 4ms/step - loss: 7958.9951 - mae: 7958.9951\n",
            "Epoch 23/100\n",
            "34/34 [==============================] - 0s 3ms/step - loss: 7603.1729 - mae: 7603.1729\n",
            "Epoch 24/100\n",
            "34/34 [==============================] - 0s 4ms/step - loss: 7549.2451 - mae: 7549.2451\n",
            "Epoch 25/100\n",
            "34/34 [==============================] - 0s 4ms/step - loss: 7620.1572 - mae: 7620.1572\n",
            "Epoch 26/100\n",
            "34/34 [==============================] - 0s 3ms/step - loss: 7645.4243 - mae: 7645.4243\n",
            "Epoch 27/100\n",
            "34/34 [==============================] - 0s 4ms/step - loss: 7690.5171 - mae: 7690.5171\n",
            "Epoch 28/100\n",
            "34/34 [==============================] - 0s 4ms/step - loss: 7364.6309 - mae: 7364.6309\n",
            "Epoch 29/100\n",
            "34/34 [==============================] - 0s 4ms/step - loss: 7626.2178 - mae: 7626.2178\n",
            "Epoch 30/100\n",
            "34/34 [==============================] - 0s 4ms/step - loss: 7635.7632 - mae: 7635.7632\n",
            "Epoch 31/100\n",
            "34/34 [==============================] - 0s 5ms/step - loss: 7493.7095 - mae: 7493.7095\n",
            "Epoch 32/100\n",
            "34/34 [==============================] - 0s 4ms/step - loss: 7490.8716 - mae: 7490.8716\n",
            "Epoch 33/100\n",
            "34/34 [==============================] - 0s 4ms/step - loss: 7499.7368 - mae: 7499.7368\n",
            "Epoch 34/100\n",
            "34/34 [==============================] - 0s 4ms/step - loss: 7386.0874 - mae: 7386.0874\n",
            "Epoch 35/100\n",
            "34/34 [==============================] - 0s 6ms/step - loss: 7415.6147 - mae: 7415.6147\n",
            "Epoch 36/100\n",
            "34/34 [==============================] - 0s 3ms/step - loss: 7435.7241 - mae: 7435.7241\n",
            "Epoch 37/100\n",
            "34/34 [==============================] - 0s 2ms/step - loss: 7572.4727 - mae: 7572.4727\n",
            "Epoch 38/100\n",
            "34/34 [==============================] - 0s 1ms/step - loss: 7580.7578 - mae: 7580.7578\n",
            "Epoch 39/100\n",
            "34/34 [==============================] - 0s 2ms/step - loss: 7534.2793 - mae: 7534.2793\n",
            "Epoch 40/100\n",
            "34/34 [==============================] - 0s 2ms/step - loss: 7304.5405 - mae: 7304.5405\n",
            "Epoch 41/100\n",
            "34/34 [==============================] - 0s 2ms/step - loss: 7720.8994 - mae: 7720.8994\n",
            "Epoch 42/100\n",
            "34/34 [==============================] - 0s 2ms/step - loss: 7725.9180 - mae: 7725.9180\n",
            "Epoch 43/100\n",
            "34/34 [==============================] - 0s 2ms/step - loss: 7625.0098 - mae: 7625.0098\n",
            "Epoch 44/100\n",
            "34/34 [==============================] - 0s 2ms/step - loss: 7439.3057 - mae: 7439.3057\n",
            "Epoch 45/100\n",
            "34/34 [==============================] - 0s 2ms/step - loss: 7542.3794 - mae: 7542.3794\n",
            "Epoch 46/100\n",
            "34/34 [==============================] - 0s 2ms/step - loss: 7393.9058 - mae: 7393.9058\n",
            "Epoch 47/100\n",
            "34/34 [==============================] - 0s 2ms/step - loss: 7394.1577 - mae: 7394.1577\n",
            "Epoch 48/100\n",
            "34/34 [==============================] - 0s 2ms/step - loss: 7518.8027 - mae: 7518.8027\n",
            "Epoch 49/100\n",
            "34/34 [==============================] - 0s 2ms/step - loss: 7540.8999 - mae: 7540.8999\n",
            "Epoch 50/100\n",
            "34/34 [==============================] - 0s 2ms/step - loss: 7487.7109 - mae: 7487.7109\n",
            "Epoch 51/100\n",
            "34/34 [==============================] - 0s 2ms/step - loss: 7381.7925 - mae: 7381.7925\n",
            "Epoch 52/100\n",
            "34/34 [==============================] - 0s 2ms/step - loss: 7526.4746 - mae: 7526.4746\n",
            "Epoch 53/100\n",
            "34/34 [==============================] - 0s 2ms/step - loss: 7433.6284 - mae: 7433.6284\n",
            "Epoch 54/100\n",
            "34/34 [==============================] - 0s 2ms/step - loss: 7215.7061 - mae: 7215.7061\n",
            "Epoch 55/100\n",
            "34/34 [==============================] - 0s 2ms/step - loss: 7240.2817 - mae: 7240.2817\n",
            "Epoch 56/100\n",
            "34/34 [==============================] - 0s 2ms/step - loss: 7265.9438 - mae: 7265.9438\n",
            "Epoch 57/100\n",
            "34/34 [==============================] - 0s 2ms/step - loss: 7338.2935 - mae: 7338.2935\n",
            "Epoch 58/100\n",
            "34/34 [==============================] - 0s 1ms/step - loss: 7513.2422 - mae: 7513.2422\n",
            "Epoch 59/100\n",
            "34/34 [==============================] - 0s 2ms/step - loss: 7657.7393 - mae: 7657.7393\n",
            "Epoch 60/100\n",
            "34/34 [==============================] - 0s 2ms/step - loss: 7390.9570 - mae: 7390.9570\n",
            "Epoch 61/100\n",
            "34/34 [==============================] - 0s 2ms/step - loss: 7581.0303 - mae: 7581.0303\n",
            "Epoch 62/100\n",
            "34/34 [==============================] - 0s 2ms/step - loss: 7412.9893 - mae: 7412.9893\n",
            "Epoch 63/100\n",
            "34/34 [==============================] - 0s 2ms/step - loss: 7391.4077 - mae: 7391.4077\n",
            "Epoch 64/100\n",
            "34/34 [==============================] - 0s 2ms/step - loss: 7359.5459 - mae: 7359.5459\n",
            "Epoch 65/100\n",
            "34/34 [==============================] - 0s 2ms/step - loss: 7459.5479 - mae: 7459.5479\n",
            "Epoch 66/100\n",
            "34/34 [==============================] - 0s 1ms/step - loss: 7230.1455 - mae: 7230.1455\n",
            "Epoch 67/100\n",
            "34/34 [==============================] - 0s 2ms/step - loss: 7432.7305 - mae: 7432.7305\n",
            "Epoch 68/100\n",
            "34/34 [==============================] - 0s 2ms/step - loss: 7518.6025 - mae: 7518.6025\n",
            "Epoch 69/100\n",
            "34/34 [==============================] - 0s 2ms/step - loss: 7623.9697 - mae: 7623.9697\n",
            "Epoch 70/100\n",
            "34/34 [==============================] - 0s 2ms/step - loss: 7712.3604 - mae: 7712.3604\n",
            "Epoch 71/100\n",
            "34/34 [==============================] - 0s 2ms/step - loss: 7321.2368 - mae: 7321.2368\n",
            "Epoch 72/100\n",
            "34/34 [==============================] - 0s 2ms/step - loss: 7417.2559 - mae: 7417.2559\n",
            "Epoch 73/100\n",
            "34/34 [==============================] - 0s 2ms/step - loss: 7443.3599 - mae: 7443.3599\n",
            "Epoch 74/100\n",
            "34/34 [==============================] - 0s 2ms/step - loss: 7394.8765 - mae: 7394.8765\n",
            "Epoch 75/100\n",
            "34/34 [==============================] - 0s 2ms/step - loss: 7295.9580 - mae: 7295.9580\n",
            "Epoch 76/100\n",
            "34/34 [==============================] - 0s 2ms/step - loss: 7244.5566 - mae: 7244.5566\n",
            "Epoch 77/100\n",
            "34/34 [==============================] - 0s 2ms/step - loss: 7285.6812 - mae: 7285.6812\n",
            "Epoch 78/100\n",
            "34/34 [==============================] - 0s 2ms/step - loss: 7357.6362 - mae: 7357.6362\n",
            "Epoch 79/100\n",
            "34/34 [==============================] - 0s 2ms/step - loss: 7482.3423 - mae: 7482.3423\n",
            "Epoch 80/100\n",
            "34/34 [==============================] - 0s 2ms/step - loss: 7402.6143 - mae: 7402.6143\n",
            "Epoch 81/100\n",
            "34/34 [==============================] - 0s 2ms/step - loss: 7188.9961 - mae: 7188.9961\n",
            "Epoch 82/100\n",
            "34/34 [==============================] - 0s 1ms/step - loss: 7277.5601 - mae: 7277.5601\n",
            "Epoch 83/100\n",
            "34/34 [==============================] - 0s 2ms/step - loss: 7458.6743 - mae: 7458.6743\n",
            "Epoch 84/100\n",
            "34/34 [==============================] - 0s 2ms/step - loss: 7274.9077 - mae: 7274.9077\n",
            "Epoch 85/100\n",
            "34/34 [==============================] - 0s 2ms/step - loss: 7342.7339 - mae: 7342.7339\n",
            "Epoch 86/100\n",
            "34/34 [==============================] - 0s 2ms/step - loss: 7204.8350 - mae: 7204.8350\n",
            "Epoch 87/100\n",
            "34/34 [==============================] - 0s 2ms/step - loss: 7284.9038 - mae: 7284.9038\n",
            "Epoch 88/100\n",
            "34/34 [==============================] - 0s 2ms/step - loss: 7392.2300 - mae: 7392.2300\n",
            "Epoch 89/100\n",
            "34/34 [==============================] - 0s 2ms/step - loss: 7335.8525 - mae: 7335.8525\n",
            "Epoch 90/100\n",
            "34/34 [==============================] - 0s 2ms/step - loss: 7168.0864 - mae: 7168.0864\n",
            "Epoch 91/100\n",
            "34/34 [==============================] - 0s 2ms/step - loss: 7243.8730 - mae: 7243.8730\n",
            "Epoch 92/100\n",
            "34/34 [==============================] - 0s 2ms/step - loss: 7332.3716 - mae: 7332.3716\n",
            "Epoch 93/100\n",
            "34/34 [==============================] - 0s 1ms/step - loss: 7411.1646 - mae: 7411.1646\n",
            "Epoch 94/100\n",
            "34/34 [==============================] - 0s 1ms/step - loss: 7144.0381 - mae: 7144.0381\n",
            "Epoch 95/100\n",
            "34/34 [==============================] - 0s 1ms/step - loss: 7439.8335 - mae: 7439.8335\n",
            "Epoch 96/100\n",
            "34/34 [==============================] - 0s 2ms/step - loss: 7325.3403 - mae: 7325.3403\n",
            "Epoch 97/100\n",
            "34/34 [==============================] - 0s 2ms/step - loss: 7156.6470 - mae: 7156.6470\n",
            "Epoch 98/100\n",
            "34/34 [==============================] - 0s 2ms/step - loss: 7457.2666 - mae: 7457.2666\n",
            "Epoch 99/100\n",
            "34/34 [==============================] - 0s 2ms/step - loss: 7387.9541 - mae: 7387.9541\n",
            "Epoch 100/100\n",
            "34/34 [==============================] - 0s 2ms/step - loss: 7240.4229 - mae: 7240.4229\n"
          ]
        },
        {
          "output_type": "execute_result",
          "data": {
            "text/plain": [
              "<keras.src.callbacks.History at 0x79b4e4c874f0>"
            ]
          },
          "metadata": {},
          "execution_count": 84
        }
      ]
    },
    {
      "cell_type": "code",
      "metadata": {
        "colab": {
          "base_uri": "https://localhost:8080/"
        },
        "id": "PmRjvYMu6Yeu",
        "outputId": "8186e268-04b2-4e58-b6ab-827009936061"
      },
      "source": [
        "# Check the results of the insurance model on the test data\n",
        "insurance_model.evaluate(X_test, y_test)"
      ],
      "execution_count": 85,
      "outputs": [
        {
          "output_type": "stream",
          "name": "stdout",
          "text": [
            "9/9 [==============================] - 0s 2ms/step - loss: 5960.1450 - mae: 5960.1450\n"
          ]
        },
        {
          "output_type": "execute_result",
          "data": {
            "text/plain": [
              "[5960.14501953125, 5960.14501953125]"
            ]
          },
          "metadata": {},
          "execution_count": 85
        }
      ]
    },
    {
      "cell_type": "code",
      "metadata": {
        "colab": {
          "base_uri": "https://localhost:8080/"
        },
        "id": "0u1tPVZu7bx9",
        "outputId": "052c58a4-742d-4273-f1a6-9d4ce46448af"
      },
      "source": [
        "y_train.median(), y_train.mean()"
      ],
      "execution_count": 86,
      "outputs": [
        {
          "output_type": "execute_result",
          "data": {
            "text/plain": [
              "(9575.4421, 13346.089736364485)"
            ]
          },
          "metadata": {},
          "execution_count": 86
        }
      ]
    },
    {
      "cell_type": "markdown",
      "metadata": {
        "id": "OEMaHr1m7j9n"
      },
      "source": [
        "Right now it looks like our model isn't performing too well... let's try and improve it!\n",
        "\n",
        "To (try) improve our model, we'll run 2 experiments:\n",
        "1. Add an extra layer with more hidden units and use the Adam optimizer\n",
        "2. Same as above but train for longer (200 epochs)\n",
        "3. (insert your own experiment here)"
      ]
    },
    {
      "cell_type": "code",
      "metadata": {
        "colab": {
          "base_uri": "https://localhost:8080/"
        },
        "id": "2PV6yAHm9dR0",
        "outputId": "8b188ac8-1282-434c-e85a-a9d57b64426f"
      },
      "source": [
        "X_train, y_train"
      ],
      "execution_count": 87,
      "outputs": [
        {
          "output_type": "execute_result",
          "data": {
            "text/plain": [
              "(      age     bmi  children  sex_female  sex_male  smoker_no  smoker_yes  \\\n",
              " 560    46  19.950         2           1         0          1           0   \n",
              " 1285   47  24.320         0           1         0          1           0   \n",
              " 1142   52  24.860         0           1         0          1           0   \n",
              " 969    39  34.320         5           1         0          1           0   \n",
              " 486    54  21.470         3           1         0          1           0   \n",
              " ...   ...     ...       ...         ...       ...        ...         ...   \n",
              " 1095   18  31.350         4           1         0          1           0   \n",
              " 1130   39  23.870         5           1         0          1           0   \n",
              " 1294   58  25.175         0           0         1          1           0   \n",
              " 860    37  47.600         2           1         0          0           1   \n",
              " 1126   55  29.900         0           0         1          1           0   \n",
              " \n",
              "       region_northeast  region_northwest  region_southeast  region_southwest  \n",
              " 560                  0                 1                 0                 0  \n",
              " 1285                 1                 0                 0                 0  \n",
              " 1142                 0                 0                 1                 0  \n",
              " 969                  0                 0                 1                 0  \n",
              " 486                  0                 1                 0                 0  \n",
              " ...                ...               ...               ...               ...  \n",
              " 1095                 1                 0                 0                 0  \n",
              " 1130                 0                 0                 1                 0  \n",
              " 1294                 1                 0                 0                 0  \n",
              " 860                  0                 0                 0                 1  \n",
              " 1126                 0                 0                 0                 1  \n",
              " \n",
              " [1070 rows x 11 columns],\n",
              " 560      9193.83850\n",
              " 1285     8534.67180\n",
              " 1142    27117.99378\n",
              " 969      8596.82780\n",
              " 486     12475.35130\n",
              "            ...     \n",
              " 1095     4561.18850\n",
              " 1130     8582.30230\n",
              " 1294    11931.12525\n",
              " 860     46113.51100\n",
              " 1126    10214.63600\n",
              " Name: charges, Length: 1070, dtype: float64)"
            ]
          },
          "metadata": {},
          "execution_count": 87
        }
      ]
    },
    {
      "cell_type": "code",
      "metadata": {
        "colab": {
          "base_uri": "https://localhost:8080/"
        },
        "id": "2437V9zH758n",
        "outputId": "b066fc00-7f04-4c25-8272-86d2f9ebeac3"
      },
      "source": [
        "# Set random seed\n",
        "tf.random.set_seed(42)\n",
        "\n",
        "# 1. Create the model\n",
        "insurance_model_2 = tf.keras.Sequential([\n",
        "  tf.keras.layers.Dense(100),\n",
        "  tf.keras.layers.Dense(10),\n",
        "  tf.keras.layers.Dense(1)\n",
        "])\n",
        "\n",
        "# 2. Compile the model\n",
        "insurance_model_2.compile(loss=tf.keras.losses.mae,\n",
        "                          optimizer=tf.keras.optimizers.Adam(),\n",
        "                          metrics=[\"mae\"])\n",
        "\n",
        "# 3. Fit the model\n",
        "insurance_model_2.fit(X_train, y_train, epochs=100, verbose=1)"
      ],
      "execution_count": 88,
      "outputs": [
        {
          "output_type": "stream",
          "name": "stdout",
          "text": [
            "Epoch 1/100\n",
            "34/34 [==============================] - 1s 2ms/step - loss: 13314.6475 - mae: 13314.6475\n",
            "Epoch 2/100\n",
            "34/34 [==============================] - 0s 2ms/step - loss: 13181.7803 - mae: 13181.7803\n",
            "Epoch 3/100\n",
            "34/34 [==============================] - 0s 4ms/step - loss: 12895.8887 - mae: 12895.8887\n",
            "Epoch 4/100\n",
            "34/34 [==============================] - 0s 4ms/step - loss: 12318.7773 - mae: 12318.7773\n",
            "Epoch 5/100\n",
            "34/34 [==============================] - 0s 2ms/step - loss: 11305.9756 - mae: 11305.9756\n",
            "Epoch 6/100\n",
            "34/34 [==============================] - 0s 3ms/step - loss: 9900.7578 - mae: 9900.7578\n",
            "Epoch 7/100\n",
            "34/34 [==============================] - 0s 2ms/step - loss: 8480.6338 - mae: 8480.6338\n",
            "Epoch 8/100\n",
            "34/34 [==============================] - 0s 2ms/step - loss: 7639.4443 - mae: 7639.4443\n",
            "Epoch 9/100\n",
            "34/34 [==============================] - 0s 4ms/step - loss: 7458.1230 - mae: 7458.1230\n",
            "Epoch 10/100\n",
            "34/34 [==============================] - 0s 6ms/step - loss: 7433.6177 - mae: 7433.6177\n",
            "Epoch 11/100\n",
            "34/34 [==============================] - 0s 4ms/step - loss: 7415.1538 - mae: 7415.1538\n",
            "Epoch 12/100\n",
            "34/34 [==============================] - 0s 4ms/step - loss: 7393.7642 - mae: 7393.7642\n",
            "Epoch 13/100\n",
            "34/34 [==============================] - 0s 6ms/step - loss: 7373.7510 - mae: 7373.7510\n",
            "Epoch 14/100\n",
            "34/34 [==============================] - 0s 5ms/step - loss: 7352.1021 - mae: 7352.1021\n",
            "Epoch 15/100\n",
            "34/34 [==============================] - 0s 8ms/step - loss: 7333.3232 - mae: 7333.3232\n",
            "Epoch 16/100\n",
            "34/34 [==============================] - 0s 9ms/step - loss: 7311.5615 - mae: 7311.5615\n",
            "Epoch 17/100\n",
            "34/34 [==============================] - 0s 10ms/step - loss: 7291.8579 - mae: 7291.8579\n",
            "Epoch 18/100\n",
            "34/34 [==============================] - 0s 8ms/step - loss: 7269.0488 - mae: 7269.0488\n",
            "Epoch 19/100\n",
            "34/34 [==============================] - 0s 6ms/step - loss: 7247.2739 - mae: 7247.2739\n",
            "Epoch 20/100\n",
            "34/34 [==============================] - 0s 10ms/step - loss: 7224.9565 - mae: 7224.9565\n",
            "Epoch 21/100\n",
            "34/34 [==============================] - 1s 15ms/step - loss: 7203.6201 - mae: 7203.6201\n",
            "Epoch 22/100\n",
            "34/34 [==============================] - 0s 8ms/step - loss: 7180.8979 - mae: 7180.8979\n",
            "Epoch 23/100\n",
            "34/34 [==============================] - 0s 12ms/step - loss: 7156.2065 - mae: 7156.2065\n",
            "Epoch 24/100\n",
            "34/34 [==============================] - 0s 6ms/step - loss: 7132.3970 - mae: 7132.3970\n",
            "Epoch 25/100\n",
            "34/34 [==============================] - 1s 16ms/step - loss: 7115.5615 - mae: 7115.5615\n",
            "Epoch 26/100\n",
            "34/34 [==============================] - 0s 10ms/step - loss: 7084.4248 - mae: 7084.4248\n",
            "Epoch 27/100\n",
            "34/34 [==============================] - 0s 6ms/step - loss: 7056.5693 - mae: 7056.5693\n",
            "Epoch 28/100\n",
            "34/34 [==============================] - 0s 5ms/step - loss: 7029.2671 - mae: 7029.2671\n",
            "Epoch 29/100\n",
            "34/34 [==============================] - 0s 5ms/step - loss: 7002.3823 - mae: 7002.3823\n",
            "Epoch 30/100\n",
            "34/34 [==============================] - 0s 5ms/step - loss: 6975.7017 - mae: 6975.7017\n",
            "Epoch 31/100\n",
            "34/34 [==============================] - 0s 9ms/step - loss: 6945.8774 - mae: 6945.8774\n",
            "Epoch 32/100\n",
            "34/34 [==============================] - 0s 9ms/step - loss: 6918.6689 - mae: 6918.6689\n",
            "Epoch 33/100\n",
            "34/34 [==============================] - 0s 7ms/step - loss: 6887.5718 - mae: 6887.5718\n",
            "Epoch 34/100\n",
            "34/34 [==============================] - 0s 2ms/step - loss: 6855.7842 - mae: 6855.7842\n",
            "Epoch 35/100\n",
            "34/34 [==============================] - 0s 2ms/step - loss: 6824.2783 - mae: 6824.2783\n",
            "Epoch 36/100\n",
            "34/34 [==============================] - 0s 2ms/step - loss: 6790.9941 - mae: 6790.9941\n",
            "Epoch 37/100\n",
            "34/34 [==============================] - 0s 2ms/step - loss: 6755.9131 - mae: 6755.9131\n",
            "Epoch 38/100\n",
            "34/34 [==============================] - 0s 2ms/step - loss: 6723.7993 - mae: 6723.7993\n",
            "Epoch 39/100\n",
            "34/34 [==============================] - 0s 2ms/step - loss: 6684.7944 - mae: 6684.7944\n",
            "Epoch 40/100\n",
            "34/34 [==============================] - 0s 4ms/step - loss: 6648.7441 - mae: 6648.7441\n",
            "Epoch 41/100\n",
            "34/34 [==============================] - 0s 6ms/step - loss: 6613.8257 - mae: 6613.8257\n",
            "Epoch 42/100\n",
            "34/34 [==============================] - 0s 11ms/step - loss: 6582.4727 - mae: 6582.4727\n",
            "Epoch 43/100\n",
            "34/34 [==============================] - 0s 4ms/step - loss: 6548.7119 - mae: 6548.7119\n",
            "Epoch 44/100\n",
            "34/34 [==============================] - 0s 6ms/step - loss: 6520.4927 - mae: 6520.4927\n",
            "Epoch 45/100\n",
            "34/34 [==============================] - 0s 5ms/step - loss: 6500.3750 - mae: 6500.3750\n",
            "Epoch 46/100\n",
            "34/34 [==============================] - 0s 5ms/step - loss: 6479.3306 - mae: 6479.3306\n",
            "Epoch 47/100\n",
            "34/34 [==============================] - 0s 7ms/step - loss: 6462.5249 - mae: 6462.5249\n",
            "Epoch 48/100\n",
            "34/34 [==============================] - 0s 6ms/step - loss: 6445.4585 - mae: 6445.4585\n",
            "Epoch 49/100\n",
            "34/34 [==============================] - 0s 4ms/step - loss: 6431.5952 - mae: 6431.5952\n",
            "Epoch 50/100\n",
            "34/34 [==============================] - 0s 5ms/step - loss: 6417.5063 - mae: 6417.5063\n",
            "Epoch 51/100\n",
            "34/34 [==============================] - 0s 6ms/step - loss: 6403.3774 - mae: 6403.3774\n",
            "Epoch 52/100\n",
            "34/34 [==============================] - 0s 7ms/step - loss: 6392.6987 - mae: 6392.6987\n",
            "Epoch 53/100\n",
            "34/34 [==============================] - 0s 3ms/step - loss: 6377.8511 - mae: 6377.8511\n",
            "Epoch 54/100\n",
            "34/34 [==============================] - 0s 3ms/step - loss: 6364.0161 - mae: 6364.0161\n",
            "Epoch 55/100\n",
            "34/34 [==============================] - 0s 2ms/step - loss: 6350.7173 - mae: 6350.7173\n",
            "Epoch 56/100\n",
            "34/34 [==============================] - 0s 2ms/step - loss: 6336.4727 - mae: 6336.4727\n",
            "Epoch 57/100\n",
            "34/34 [==============================] - 0s 2ms/step - loss: 6324.1270 - mae: 6324.1270\n",
            "Epoch 58/100\n",
            "34/34 [==============================] - 0s 2ms/step - loss: 6309.7056 - mae: 6309.7056\n",
            "Epoch 59/100\n",
            "34/34 [==============================] - 0s 2ms/step - loss: 6294.9424 - mae: 6294.9424\n",
            "Epoch 60/100\n",
            "34/34 [==============================] - 0s 3ms/step - loss: 6284.3716 - mae: 6284.3716\n",
            "Epoch 61/100\n",
            "34/34 [==============================] - 0s 2ms/step - loss: 6265.3994 - mae: 6265.3994\n",
            "Epoch 62/100\n",
            "34/34 [==============================] - 0s 3ms/step - loss: 6252.3252 - mae: 6252.3252\n",
            "Epoch 63/100\n",
            "34/34 [==============================] - 0s 2ms/step - loss: 6234.2549 - mae: 6234.2549\n",
            "Epoch 64/100\n",
            "34/34 [==============================] - 0s 2ms/step - loss: 6218.4727 - mae: 6218.4727\n",
            "Epoch 65/100\n",
            "34/34 [==============================] - 0s 2ms/step - loss: 6201.2847 - mae: 6201.2847\n",
            "Epoch 66/100\n",
            "34/34 [==============================] - 0s 3ms/step - loss: 6184.2729 - mae: 6184.2729\n",
            "Epoch 67/100\n",
            "34/34 [==============================] - 0s 2ms/step - loss: 6171.9722 - mae: 6171.9722\n",
            "Epoch 68/100\n",
            "34/34 [==============================] - 0s 2ms/step - loss: 6149.5728 - mae: 6149.5728\n",
            "Epoch 69/100\n",
            "34/34 [==============================] - 0s 2ms/step - loss: 6133.4966 - mae: 6133.4966\n",
            "Epoch 70/100\n",
            "34/34 [==============================] - 0s 2ms/step - loss: 6113.6152 - mae: 6113.6152\n",
            "Epoch 71/100\n",
            "34/34 [==============================] - 0s 2ms/step - loss: 6094.2480 - mae: 6094.2480\n",
            "Epoch 72/100\n",
            "34/34 [==============================] - 0s 2ms/step - loss: 6075.7563 - mae: 6075.7563\n",
            "Epoch 73/100\n",
            "34/34 [==============================] - 0s 2ms/step - loss: 6061.2207 - mae: 6061.2207\n",
            "Epoch 74/100\n",
            "34/34 [==============================] - 0s 3ms/step - loss: 6034.0947 - mae: 6034.0947\n",
            "Epoch 75/100\n",
            "34/34 [==============================] - 0s 2ms/step - loss: 6013.2397 - mae: 6013.2397\n",
            "Epoch 76/100\n",
            "34/34 [==============================] - 0s 2ms/step - loss: 5998.3027 - mae: 5998.3027\n",
            "Epoch 77/100\n",
            "34/34 [==============================] - 0s 3ms/step - loss: 5967.0864 - mae: 5967.0864\n",
            "Epoch 78/100\n",
            "34/34 [==============================] - 0s 2ms/step - loss: 5944.4277 - mae: 5944.4277\n",
            "Epoch 79/100\n",
            "34/34 [==============================] - 0s 2ms/step - loss: 5920.6860 - mae: 5920.6860\n",
            "Epoch 80/100\n",
            "34/34 [==============================] - 0s 3ms/step - loss: 5894.2168 - mae: 5894.2168\n",
            "Epoch 81/100\n",
            "34/34 [==============================] - 0s 3ms/step - loss: 5869.3022 - mae: 5869.3022\n",
            "Epoch 82/100\n",
            "34/34 [==============================] - 0s 2ms/step - loss: 5841.1787 - mae: 5841.1787\n",
            "Epoch 83/100\n",
            "34/34 [==============================] - 0s 2ms/step - loss: 5813.6128 - mae: 5813.6128\n",
            "Epoch 84/100\n",
            "34/34 [==============================] - 0s 3ms/step - loss: 5780.8477 - mae: 5780.8477\n",
            "Epoch 85/100\n",
            "34/34 [==============================] - 0s 2ms/step - loss: 5754.9775 - mae: 5754.9775\n",
            "Epoch 86/100\n",
            "34/34 [==============================] - 0s 2ms/step - loss: 5721.4233 - mae: 5721.4233\n",
            "Epoch 87/100\n",
            "34/34 [==============================] - 0s 2ms/step - loss: 5686.4766 - mae: 5686.4766\n",
            "Epoch 88/100\n",
            "34/34 [==============================] - 0s 2ms/step - loss: 5652.8008 - mae: 5652.8008\n",
            "Epoch 89/100\n",
            "34/34 [==============================] - 0s 2ms/step - loss: 5614.7964 - mae: 5614.7964\n",
            "Epoch 90/100\n",
            "34/34 [==============================] - 0s 2ms/step - loss: 5575.2070 - mae: 5575.2070\n",
            "Epoch 91/100\n",
            "34/34 [==============================] - 0s 2ms/step - loss: 5540.8291 - mae: 5540.8291\n",
            "Epoch 92/100\n",
            "34/34 [==============================] - 0s 2ms/step - loss: 5492.7163 - mae: 5492.7163\n",
            "Epoch 93/100\n",
            "34/34 [==============================] - 0s 2ms/step - loss: 5452.3853 - mae: 5452.3853\n",
            "Epoch 94/100\n",
            "34/34 [==============================] - 0s 2ms/step - loss: 5410.4170 - mae: 5410.4170\n",
            "Epoch 95/100\n",
            "34/34 [==============================] - 0s 2ms/step - loss: 5358.1411 - mae: 5358.1411\n",
            "Epoch 96/100\n",
            "34/34 [==============================] - 0s 2ms/step - loss: 5315.2734 - mae: 5315.2734\n",
            "Epoch 97/100\n",
            "34/34 [==============================] - 0s 2ms/step - loss: 5262.9541 - mae: 5262.9541\n",
            "Epoch 98/100\n",
            "34/34 [==============================] - 0s 2ms/step - loss: 5202.5332 - mae: 5202.5332\n",
            "Epoch 99/100\n",
            "34/34 [==============================] - 0s 2ms/step - loss: 5146.0854 - mae: 5146.0854\n",
            "Epoch 100/100\n",
            "34/34 [==============================] - 0s 2ms/step - loss: 5094.8276 - mae: 5094.8276\n"
          ]
        },
        {
          "output_type": "execute_result",
          "data": {
            "text/plain": [
              "<keras.src.callbacks.History at 0x79b4efe07a30>"
            ]
          },
          "metadata": {},
          "execution_count": 88
        }
      ]
    },
    {
      "cell_type": "code",
      "metadata": {
        "colab": {
          "base_uri": "https://localhost:8080/"
        },
        "id": "TRqPnfiW9KDy",
        "outputId": "f3969d1a-687f-4898-d334-ff4fe4b27141"
      },
      "source": [
        "# Evaluate the larger model\n",
        "insurance_model_2.evaluate(X_test, y_test)"
      ],
      "execution_count": 89,
      "outputs": [
        {
          "output_type": "stream",
          "name": "stdout",
          "text": [
            "9/9 [==============================] - 0s 2ms/step - loss: 4960.7241 - mae: 4960.7241\n"
          ]
        },
        {
          "output_type": "execute_result",
          "data": {
            "text/plain": [
              "[4960.72412109375, 4960.72412109375]"
            ]
          },
          "metadata": {},
          "execution_count": 89
        }
      ]
    },
    {
      "cell_type": "code",
      "metadata": {
        "colab": {
          "base_uri": "https://localhost:8080/"
        },
        "id": "WnV2Vsn79Wj1",
        "outputId": "2944ab08-ecf7-46b2-92cd-791e84b6eeda"
      },
      "source": [
        "insurance_model.evaluate(X_test, y_test)"
      ],
      "execution_count": 90,
      "outputs": [
        {
          "output_type": "stream",
          "name": "stdout",
          "text": [
            "9/9 [==============================] - 0s 2ms/step - loss: 5960.1450 - mae: 5960.1450\n"
          ]
        },
        {
          "output_type": "execute_result",
          "data": {
            "text/plain": [
              "[5960.14501953125, 5960.14501953125]"
            ]
          },
          "metadata": {},
          "execution_count": 90
        }
      ]
    },
    {
      "cell_type": "code",
      "metadata": {
        "colab": {
          "base_uri": "https://localhost:8080/"
        },
        "id": "cKl1-Eir98Si",
        "outputId": "7bc16751-6ce3-4d4b-f2f1-51948054f6da"
      },
      "source": [
        "# Set random set\n",
        "tf.random.set_seed(42)\n",
        "\n",
        "# 1. Create the model (same as above)\n",
        "insurance_model_3 = tf.keras.Sequential([\n",
        "  tf.keras.layers.Dense(100),\n",
        "  tf.keras.layers.Dense(10),\n",
        "  tf.keras.layers.Dense(1)\n",
        "])\n",
        "\n",
        "# 2. Compile the model\n",
        "insurance_model_3.compile(loss=tf.keras.losses.mae,\n",
        "                          optimizer=tf.keras.optimizers.Adam(),\n",
        "                          metrics=[\"mae\"])\n",
        "\n",
        "# 3. Fit the model\n",
        "history = insurance_model_3.fit(X_train, y_train, epochs=200)"
      ],
      "execution_count": 91,
      "outputs": [
        {
          "output_type": "stream",
          "name": "stdout",
          "text": [
            "Epoch 1/200\n",
            "34/34 [==============================] - 1s 3ms/step - loss: 13286.0332 - mae: 13286.0332\n",
            "Epoch 2/200\n",
            "34/34 [==============================] - 0s 2ms/step - loss: 13105.1611 - mae: 13105.1611\n",
            "Epoch 3/200\n",
            "34/34 [==============================] - 0s 2ms/step - loss: 12724.6504 - mae: 12724.6504\n",
            "Epoch 4/200\n",
            "34/34 [==============================] - 0s 3ms/step - loss: 11990.4756 - mae: 11990.4756\n",
            "Epoch 5/200\n",
            "34/34 [==============================] - 0s 2ms/step - loss: 10797.5527 - mae: 10797.5527\n",
            "Epoch 6/200\n",
            "34/34 [==============================] - 0s 2ms/step - loss: 9331.6426 - mae: 9331.6426\n",
            "Epoch 7/200\n",
            "34/34 [==============================] - 0s 2ms/step - loss: 8049.6157 - mae: 8049.6157\n",
            "Epoch 8/200\n",
            "34/34 [==============================] - 0s 2ms/step - loss: 7498.2861 - mae: 7498.2861\n",
            "Epoch 9/200\n",
            "34/34 [==============================] - 0s 3ms/step - loss: 7414.7871 - mae: 7414.7871\n",
            "Epoch 10/200\n",
            "34/34 [==============================] - 0s 2ms/step - loss: 7395.1235 - mae: 7395.1235\n",
            "Epoch 11/200\n",
            "34/34 [==============================] - 0s 4ms/step - loss: 7376.5078 - mae: 7376.5078\n",
            "Epoch 12/200\n",
            "34/34 [==============================] - 0s 4ms/step - loss: 7354.6772 - mae: 7354.6772\n",
            "Epoch 13/200\n",
            "34/34 [==============================] - 0s 4ms/step - loss: 7334.3745 - mae: 7334.3745\n",
            "Epoch 14/200\n",
            "34/34 [==============================] - 0s 3ms/step - loss: 7311.9639 - mae: 7311.9639\n",
            "Epoch 15/200\n",
            "34/34 [==============================] - 0s 4ms/step - loss: 7293.0850 - mae: 7293.0850\n",
            "Epoch 16/200\n",
            "34/34 [==============================] - 0s 4ms/step - loss: 7271.0376 - mae: 7271.0376\n",
            "Epoch 17/200\n",
            "34/34 [==============================] - 0s 4ms/step - loss: 7250.2954 - mae: 7250.2954\n",
            "Epoch 18/200\n",
            "34/34 [==============================] - 0s 3ms/step - loss: 7226.9932 - mae: 7226.9932\n",
            "Epoch 19/200\n",
            "34/34 [==============================] - 0s 4ms/step - loss: 7204.4663 - mae: 7204.4663\n",
            "Epoch 20/200\n",
            "34/34 [==============================] - 0s 3ms/step - loss: 7180.5405 - mae: 7180.5405\n",
            "Epoch 21/200\n",
            "34/34 [==============================] - 0s 4ms/step - loss: 7161.6792 - mae: 7161.6792\n",
            "Epoch 22/200\n",
            "34/34 [==============================] - 0s 3ms/step - loss: 7132.9888 - mae: 7132.9888\n",
            "Epoch 23/200\n",
            "34/34 [==============================] - 0s 3ms/step - loss: 7107.5024 - mae: 7107.5024\n",
            "Epoch 24/200\n",
            "34/34 [==============================] - 0s 4ms/step - loss: 7081.5156 - mae: 7081.5156\n",
            "Epoch 25/200\n",
            "34/34 [==============================] - 0s 3ms/step - loss: 7061.9492 - mae: 7061.9492\n",
            "Epoch 26/200\n",
            "34/34 [==============================] - 0s 4ms/step - loss: 7030.4526 - mae: 7030.4526\n",
            "Epoch 27/200\n",
            "34/34 [==============================] - 0s 4ms/step - loss: 7001.2920 - mae: 7001.2920\n",
            "Epoch 28/200\n",
            "34/34 [==============================] - 0s 4ms/step - loss: 6972.2563 - mae: 6972.2563\n",
            "Epoch 29/200\n",
            "34/34 [==============================] - 0s 4ms/step - loss: 6943.3115 - mae: 6943.3115\n",
            "Epoch 30/200\n",
            "34/34 [==============================] - 0s 4ms/step - loss: 6915.1187 - mae: 6915.1187\n",
            "Epoch 31/200\n",
            "34/34 [==============================] - 0s 3ms/step - loss: 6883.7271 - mae: 6883.7271\n",
            "Epoch 32/200\n",
            "34/34 [==============================] - 0s 3ms/step - loss: 6853.8755 - mae: 6853.8755\n",
            "Epoch 33/200\n",
            "34/34 [==============================] - 0s 3ms/step - loss: 6821.7012 - mae: 6821.7012\n",
            "Epoch 34/200\n",
            "34/34 [==============================] - 0s 4ms/step - loss: 6790.2954 - mae: 6790.2954\n",
            "Epoch 35/200\n",
            "34/34 [==============================] - 0s 3ms/step - loss: 6754.2568 - mae: 6754.2568\n",
            "Epoch 36/200\n",
            "34/34 [==============================] - 0s 2ms/step - loss: 6719.8120 - mae: 6719.8120\n",
            "Epoch 37/200\n",
            "34/34 [==============================] - 0s 2ms/step - loss: 6682.4971 - mae: 6682.4971\n",
            "Epoch 38/200\n",
            "34/34 [==============================] - 0s 2ms/step - loss: 6652.8252 - mae: 6652.8252\n",
            "Epoch 39/200\n",
            "34/34 [==============================] - 0s 2ms/step - loss: 6614.3267 - mae: 6614.3267\n",
            "Epoch 40/200\n",
            "34/34 [==============================] - 0s 2ms/step - loss: 6581.5142 - mae: 6581.5142\n",
            "Epoch 41/200\n",
            "34/34 [==============================] - 0s 2ms/step - loss: 6554.0703 - mae: 6554.0703\n",
            "Epoch 42/200\n",
            "34/34 [==============================] - 0s 2ms/step - loss: 6531.5654 - mae: 6531.5654\n",
            "Epoch 43/200\n",
            "34/34 [==============================] - 0s 2ms/step - loss: 6508.1670 - mae: 6508.1670\n",
            "Epoch 44/200\n",
            "34/34 [==============================] - 0s 2ms/step - loss: 6486.8726 - mae: 6486.8726\n",
            "Epoch 45/200\n",
            "34/34 [==============================] - 0s 2ms/step - loss: 6479.1094 - mae: 6479.1094\n",
            "Epoch 46/200\n",
            "34/34 [==============================] - 0s 2ms/step - loss: 6460.9844 - mae: 6460.9844\n",
            "Epoch 47/200\n",
            "34/34 [==============================] - 0s 2ms/step - loss: 6445.5054 - mae: 6445.5054\n",
            "Epoch 48/200\n",
            "34/34 [==============================] - 0s 2ms/step - loss: 6431.6924 - mae: 6431.6924\n",
            "Epoch 49/200\n",
            "34/34 [==============================] - 0s 2ms/step - loss: 6420.0146 - mae: 6420.0146\n",
            "Epoch 50/200\n",
            "34/34 [==============================] - 0s 2ms/step - loss: 6405.6387 - mae: 6405.6387\n",
            "Epoch 51/200\n",
            "34/34 [==============================] - 0s 2ms/step - loss: 6392.6050 - mae: 6392.6050\n",
            "Epoch 52/200\n",
            "34/34 [==============================] - 0s 2ms/step - loss: 6380.4536 - mae: 6380.4536\n",
            "Epoch 53/200\n",
            "34/34 [==============================] - 0s 2ms/step - loss: 6366.5542 - mae: 6366.5542\n",
            "Epoch 54/200\n",
            "34/34 [==============================] - 0s 2ms/step - loss: 6352.5186 - mae: 6352.5186\n",
            "Epoch 55/200\n",
            "34/34 [==============================] - 0s 2ms/step - loss: 6338.7373 - mae: 6338.7373\n",
            "Epoch 56/200\n",
            "34/34 [==============================] - 0s 2ms/step - loss: 6324.8145 - mae: 6324.8145\n",
            "Epoch 57/200\n",
            "34/34 [==============================] - 0s 2ms/step - loss: 6311.6611 - mae: 6311.6611\n",
            "Epoch 58/200\n",
            "34/34 [==============================] - 0s 2ms/step - loss: 6297.9355 - mae: 6297.9355\n",
            "Epoch 59/200\n",
            "34/34 [==============================] - 0s 2ms/step - loss: 6282.2119 - mae: 6282.2119\n",
            "Epoch 60/200\n",
            "34/34 [==============================] - 0s 2ms/step - loss: 6271.8877 - mae: 6271.8877\n",
            "Epoch 61/200\n",
            "34/34 [==============================] - 0s 2ms/step - loss: 6251.6758 - mae: 6251.6758\n",
            "Epoch 62/200\n",
            "34/34 [==============================] - 0s 2ms/step - loss: 6238.8706 - mae: 6238.8706\n",
            "Epoch 63/200\n",
            "34/34 [==============================] - 0s 2ms/step - loss: 6221.6021 - mae: 6221.6021\n",
            "Epoch 64/200\n",
            "34/34 [==============================] - 0s 2ms/step - loss: 6203.6572 - mae: 6203.6572\n",
            "Epoch 65/200\n",
            "34/34 [==============================] - 0s 2ms/step - loss: 6186.3823 - mae: 6186.3823\n",
            "Epoch 66/200\n",
            "34/34 [==============================] - 0s 2ms/step - loss: 6169.0337 - mae: 6169.0337\n",
            "Epoch 67/200\n",
            "34/34 [==============================] - 0s 2ms/step - loss: 6156.0557 - mae: 6156.0557\n",
            "Epoch 68/200\n",
            "34/34 [==============================] - 0s 2ms/step - loss: 6133.7646 - mae: 6133.7646\n",
            "Epoch 69/200\n",
            "34/34 [==============================] - 0s 2ms/step - loss: 6116.9409 - mae: 6116.9409\n",
            "Epoch 70/200\n",
            "34/34 [==============================] - 0s 2ms/step - loss: 6096.5430 - mae: 6096.5430\n",
            "Epoch 71/200\n",
            "34/34 [==============================] - 0s 2ms/step - loss: 6076.6553 - mae: 6076.6553\n",
            "Epoch 72/200\n",
            "34/34 [==============================] - 0s 2ms/step - loss: 6057.0503 - mae: 6057.0503\n",
            "Epoch 73/200\n",
            "34/34 [==============================] - 0s 2ms/step - loss: 6042.5840 - mae: 6042.5840\n",
            "Epoch 74/200\n",
            "34/34 [==============================] - 0s 2ms/step - loss: 6013.7852 - mae: 6013.7852\n",
            "Epoch 75/200\n",
            "34/34 [==============================] - 0s 2ms/step - loss: 5991.3721 - mae: 5991.3721\n",
            "Epoch 76/200\n",
            "34/34 [==============================] - 0s 2ms/step - loss: 5978.5527 - mae: 5978.5527\n",
            "Epoch 77/200\n",
            "34/34 [==============================] - 0s 2ms/step - loss: 5944.4512 - mae: 5944.4512\n",
            "Epoch 78/200\n",
            "34/34 [==============================] - 0s 2ms/step - loss: 5920.7266 - mae: 5920.7266\n",
            "Epoch 79/200\n",
            "34/34 [==============================] - 0s 2ms/step - loss: 5895.9155 - mae: 5895.9155\n",
            "Epoch 80/200\n",
            "34/34 [==============================] - 0s 2ms/step - loss: 5867.5913 - mae: 5867.5913\n",
            "Epoch 81/200\n",
            "34/34 [==============================] - 0s 2ms/step - loss: 5841.6367 - mae: 5841.6367\n",
            "Epoch 82/200\n",
            "34/34 [==============================] - 0s 2ms/step - loss: 5812.6079 - mae: 5812.6079\n",
            "Epoch 83/200\n",
            "34/34 [==============================] - 0s 2ms/step - loss: 5783.9775 - mae: 5783.9775\n",
            "Epoch 84/200\n",
            "34/34 [==============================] - 0s 2ms/step - loss: 5750.1704 - mae: 5750.1704\n",
            "Epoch 85/200\n",
            "34/34 [==============================] - 0s 2ms/step - loss: 5724.1982 - mae: 5724.1982\n",
            "Epoch 86/200\n",
            "34/34 [==============================] - 0s 2ms/step - loss: 5689.0000 - mae: 5689.0000\n",
            "Epoch 87/200\n",
            "34/34 [==============================] - 0s 2ms/step - loss: 5650.6255 - mae: 5650.6255\n",
            "Epoch 88/200\n",
            "34/34 [==============================] - 0s 2ms/step - loss: 5615.1309 - mae: 5615.1309\n",
            "Epoch 89/200\n",
            "34/34 [==============================] - 0s 3ms/step - loss: 5576.6909 - mae: 5576.6909\n",
            "Epoch 90/200\n",
            "34/34 [==============================] - 0s 2ms/step - loss: 5534.1416 - mae: 5534.1416\n",
            "Epoch 91/200\n",
            "34/34 [==============================] - 0s 2ms/step - loss: 5495.7144 - mae: 5495.7144\n",
            "Epoch 92/200\n",
            "34/34 [==============================] - 0s 2ms/step - loss: 5446.7383 - mae: 5446.7383\n",
            "Epoch 93/200\n",
            "34/34 [==============================] - 0s 2ms/step - loss: 5404.6655 - mae: 5404.6655\n",
            "Epoch 94/200\n",
            "34/34 [==============================] - 0s 2ms/step - loss: 5357.2993 - mae: 5357.2993\n",
            "Epoch 95/200\n",
            "34/34 [==============================] - 0s 3ms/step - loss: 5305.3745 - mae: 5305.3745\n",
            "Epoch 96/200\n",
            "34/34 [==============================] - 0s 2ms/step - loss: 5259.1377 - mae: 5259.1377\n",
            "Epoch 97/200\n",
            "34/34 [==============================] - 0s 2ms/step - loss: 5204.0532 - mae: 5204.0532\n",
            "Epoch 98/200\n",
            "34/34 [==============================] - 0s 2ms/step - loss: 5140.7437 - mae: 5140.7437\n",
            "Epoch 99/200\n",
            "34/34 [==============================] - 0s 2ms/step - loss: 5081.9653 - mae: 5081.9653\n",
            "Epoch 100/200\n",
            "34/34 [==============================] - 0s 2ms/step - loss: 5027.5078 - mae: 5027.5078\n",
            "Epoch 101/200\n",
            "34/34 [==============================] - 0s 2ms/step - loss: 4955.3022 - mae: 4955.3022\n",
            "Epoch 102/200\n",
            "34/34 [==============================] - 0s 2ms/step - loss: 4881.6235 - mae: 4881.6235\n",
            "Epoch 103/200\n",
            "34/34 [==============================] - 0s 2ms/step - loss: 4817.0688 - mae: 4817.0688\n",
            "Epoch 104/200\n",
            "34/34 [==============================] - 0s 2ms/step - loss: 4736.1528 - mae: 4736.1528\n",
            "Epoch 105/200\n",
            "34/34 [==============================] - 0s 2ms/step - loss: 4650.3931 - mae: 4650.3931\n",
            "Epoch 106/200\n",
            "34/34 [==============================] - 0s 2ms/step - loss: 4566.7246 - mae: 4566.7246\n",
            "Epoch 107/200\n",
            "34/34 [==============================] - 0s 2ms/step - loss: 4480.6523 - mae: 4480.6523\n",
            "Epoch 108/200\n",
            "34/34 [==============================] - 0s 2ms/step - loss: 4394.4702 - mae: 4394.4702\n",
            "Epoch 109/200\n",
            "34/34 [==============================] - 0s 2ms/step - loss: 4312.3311 - mae: 4312.3311\n",
            "Epoch 110/200\n",
            "34/34 [==============================] - 0s 2ms/step - loss: 4231.0132 - mae: 4231.0132\n",
            "Epoch 111/200\n",
            "34/34 [==============================] - 0s 2ms/step - loss: 4152.5645 - mae: 4152.5645\n",
            "Epoch 112/200\n",
            "34/34 [==============================] - 0s 2ms/step - loss: 4082.7041 - mae: 4082.7041\n",
            "Epoch 113/200\n",
            "34/34 [==============================] - 0s 2ms/step - loss: 4019.1125 - mae: 4019.1125\n",
            "Epoch 114/200\n",
            "34/34 [==============================] - 0s 2ms/step - loss: 3979.3313 - mae: 3979.3313\n",
            "Epoch 115/200\n",
            "34/34 [==============================] - 0s 2ms/step - loss: 3938.8645 - mae: 3938.8645\n",
            "Epoch 116/200\n",
            "34/34 [==============================] - 0s 2ms/step - loss: 3917.8992 - mae: 3917.8992\n",
            "Epoch 117/200\n",
            "34/34 [==============================] - 0s 2ms/step - loss: 3896.3137 - mae: 3896.3137\n",
            "Epoch 118/200\n",
            "34/34 [==============================] - 0s 2ms/step - loss: 3868.8821 - mae: 3868.8821\n",
            "Epoch 119/200\n",
            "34/34 [==============================] - 0s 2ms/step - loss: 3852.3408 - mae: 3852.3408\n",
            "Epoch 120/200\n",
            "34/34 [==============================] - 0s 2ms/step - loss: 3834.7593 - mae: 3834.7593\n",
            "Epoch 121/200\n",
            "34/34 [==============================] - 0s 2ms/step - loss: 3830.1929 - mae: 3830.1929\n",
            "Epoch 122/200\n",
            "34/34 [==============================] - 0s 2ms/step - loss: 3823.2444 - mae: 3823.2444\n",
            "Epoch 123/200\n",
            "34/34 [==============================] - 0s 2ms/step - loss: 3814.1990 - mae: 3814.1990\n",
            "Epoch 124/200\n",
            "34/34 [==============================] - 0s 2ms/step - loss: 3807.5137 - mae: 3807.5137\n",
            "Epoch 125/200\n",
            "34/34 [==============================] - 0s 2ms/step - loss: 3796.5835 - mae: 3796.5835\n",
            "Epoch 126/200\n",
            "34/34 [==============================] - 0s 2ms/step - loss: 3804.9150 - mae: 3804.9150\n",
            "Epoch 127/200\n",
            "34/34 [==============================] - 0s 2ms/step - loss: 3797.8667 - mae: 3797.8667\n",
            "Epoch 128/200\n",
            "34/34 [==============================] - 0s 2ms/step - loss: 3792.2583 - mae: 3792.2583\n",
            "Epoch 129/200\n",
            "34/34 [==============================] - 0s 3ms/step - loss: 3800.3962 - mae: 3800.3962\n",
            "Epoch 130/200\n",
            "34/34 [==============================] - 0s 2ms/step - loss: 3793.6223 - mae: 3793.6223\n",
            "Epoch 131/200\n",
            "34/34 [==============================] - 0s 2ms/step - loss: 3782.3733 - mae: 3782.3733\n",
            "Epoch 132/200\n",
            "34/34 [==============================] - 0s 2ms/step - loss: 3775.7217 - mae: 3775.7217\n",
            "Epoch 133/200\n",
            "34/34 [==============================] - 0s 2ms/step - loss: 3771.5261 - mae: 3771.5261\n",
            "Epoch 134/200\n",
            "34/34 [==============================] - 0s 2ms/step - loss: 3772.8999 - mae: 3772.8999\n",
            "Epoch 135/200\n",
            "34/34 [==============================] - 0s 2ms/step - loss: 3768.4280 - mae: 3768.4280\n",
            "Epoch 136/200\n",
            "34/34 [==============================] - 0s 2ms/step - loss: 3767.1230 - mae: 3767.1230\n",
            "Epoch 137/200\n",
            "34/34 [==============================] - 0s 2ms/step - loss: 3776.5388 - mae: 3776.5388\n",
            "Epoch 138/200\n",
            "34/34 [==============================] - 0s 2ms/step - loss: 3783.6157 - mae: 3783.6157\n",
            "Epoch 139/200\n",
            "34/34 [==============================] - 0s 2ms/step - loss: 3762.8398 - mae: 3762.8398\n",
            "Epoch 140/200\n",
            "34/34 [==============================] - 0s 2ms/step - loss: 3763.5432 - mae: 3763.5432\n",
            "Epoch 141/200\n",
            "34/34 [==============================] - 0s 2ms/step - loss: 3764.1025 - mae: 3764.1025\n",
            "Epoch 142/200\n",
            "34/34 [==============================] - 0s 2ms/step - loss: 3765.8235 - mae: 3765.8235\n",
            "Epoch 143/200\n",
            "34/34 [==============================] - 0s 2ms/step - loss: 3756.8142 - mae: 3756.8142\n",
            "Epoch 144/200\n",
            "34/34 [==============================] - 0s 2ms/step - loss: 3751.8577 - mae: 3751.8577\n",
            "Epoch 145/200\n",
            "34/34 [==============================] - 0s 2ms/step - loss: 3751.7610 - mae: 3751.7610\n",
            "Epoch 146/200\n",
            "34/34 [==============================] - 0s 2ms/step - loss: 3756.7097 - mae: 3756.7097\n",
            "Epoch 147/200\n",
            "34/34 [==============================] - 0s 2ms/step - loss: 3752.6648 - mae: 3752.6648\n",
            "Epoch 148/200\n",
            "34/34 [==============================] - 0s 2ms/step - loss: 3757.8071 - mae: 3757.8071\n",
            "Epoch 149/200\n",
            "34/34 [==============================] - 0s 2ms/step - loss: 3745.2683 - mae: 3745.2683\n",
            "Epoch 150/200\n",
            "34/34 [==============================] - 0s 2ms/step - loss: 3738.9465 - mae: 3738.9465\n",
            "Epoch 151/200\n",
            "34/34 [==============================] - 0s 2ms/step - loss: 3742.2888 - mae: 3742.2888\n",
            "Epoch 152/200\n",
            "34/34 [==============================] - 0s 2ms/step - loss: 3743.0515 - mae: 3743.0515\n",
            "Epoch 153/200\n",
            "34/34 [==============================] - 0s 2ms/step - loss: 3743.8577 - mae: 3743.8577\n",
            "Epoch 154/200\n",
            "34/34 [==============================] - 0s 2ms/step - loss: 3737.8115 - mae: 3737.8115\n",
            "Epoch 155/200\n",
            "34/34 [==============================] - 0s 2ms/step - loss: 3740.4502 - mae: 3740.4502\n",
            "Epoch 156/200\n",
            "34/34 [==============================] - 0s 2ms/step - loss: 3736.1685 - mae: 3736.1685\n",
            "Epoch 157/200\n",
            "34/34 [==============================] - 0s 2ms/step - loss: 3733.8455 - mae: 3733.8455\n",
            "Epoch 158/200\n",
            "34/34 [==============================] - 0s 2ms/step - loss: 3730.1245 - mae: 3730.1245\n",
            "Epoch 159/200\n",
            "34/34 [==============================] - 0s 2ms/step - loss: 3728.4883 - mae: 3728.4883\n",
            "Epoch 160/200\n",
            "34/34 [==============================] - 0s 2ms/step - loss: 3734.3198 - mae: 3734.3198\n",
            "Epoch 161/200\n",
            "34/34 [==============================] - 0s 2ms/step - loss: 3730.5200 - mae: 3730.5200\n",
            "Epoch 162/200\n",
            "34/34 [==============================] - 0s 2ms/step - loss: 3726.4595 - mae: 3726.4595\n",
            "Epoch 163/200\n",
            "34/34 [==============================] - 0s 2ms/step - loss: 3725.6785 - mae: 3725.6785\n",
            "Epoch 164/200\n",
            "34/34 [==============================] - 0s 2ms/step - loss: 3728.8362 - mae: 3728.8362\n",
            "Epoch 165/200\n",
            "34/34 [==============================] - 0s 2ms/step - loss: 3717.5002 - mae: 3717.5002\n",
            "Epoch 166/200\n",
            "34/34 [==============================] - 0s 2ms/step - loss: 3721.0137 - mae: 3721.0137\n",
            "Epoch 167/200\n",
            "34/34 [==============================] - 0s 2ms/step - loss: 3722.3364 - mae: 3722.3364\n",
            "Epoch 168/200\n",
            "34/34 [==============================] - 0s 3ms/step - loss: 3716.3777 - mae: 3716.3777\n",
            "Epoch 169/200\n",
            "34/34 [==============================] - 0s 3ms/step - loss: 3716.0798 - mae: 3716.0798\n",
            "Epoch 170/200\n",
            "34/34 [==============================] - 0s 2ms/step - loss: 3709.0066 - mae: 3709.0066\n",
            "Epoch 171/200\n",
            "34/34 [==============================] - 0s 3ms/step - loss: 3709.7915 - mae: 3709.7915\n",
            "Epoch 172/200\n",
            "34/34 [==============================] - 0s 3ms/step - loss: 3710.1985 - mae: 3710.1985\n",
            "Epoch 173/200\n",
            "34/34 [==============================] - 0s 3ms/step - loss: 3706.8264 - mae: 3706.8264\n",
            "Epoch 174/200\n",
            "34/34 [==============================] - 0s 3ms/step - loss: 3710.7429 - mae: 3710.7429\n",
            "Epoch 175/200\n",
            "34/34 [==============================] - 0s 2ms/step - loss: 3711.3831 - mae: 3711.3831\n",
            "Epoch 176/200\n",
            "34/34 [==============================] - 0s 3ms/step - loss: 3708.2280 - mae: 3708.2280\n",
            "Epoch 177/200\n",
            "34/34 [==============================] - 0s 3ms/step - loss: 3700.7754 - mae: 3700.7754\n",
            "Epoch 178/200\n",
            "34/34 [==============================] - 0s 3ms/step - loss: 3700.8528 - mae: 3700.8528\n",
            "Epoch 179/200\n",
            "34/34 [==============================] - 0s 3ms/step - loss: 3709.0969 - mae: 3709.0969\n",
            "Epoch 180/200\n",
            "34/34 [==============================] - 0s 3ms/step - loss: 3708.7715 - mae: 3708.7715\n",
            "Epoch 181/200\n",
            "34/34 [==============================] - 0s 2ms/step - loss: 3697.8103 - mae: 3697.8103\n",
            "Epoch 182/200\n",
            "34/34 [==============================] - 0s 2ms/step - loss: 3694.6055 - mae: 3694.6055\n",
            "Epoch 183/200\n",
            "34/34 [==============================] - 0s 2ms/step - loss: 3692.8135 - mae: 3692.8135\n",
            "Epoch 184/200\n",
            "34/34 [==============================] - 0s 2ms/step - loss: 3699.3015 - mae: 3699.3015\n",
            "Epoch 185/200\n",
            "34/34 [==============================] - 0s 2ms/step - loss: 3695.2439 - mae: 3695.2439\n",
            "Epoch 186/200\n",
            "34/34 [==============================] - 0s 2ms/step - loss: 3699.4529 - mae: 3699.4529\n",
            "Epoch 187/200\n",
            "34/34 [==============================] - 0s 3ms/step - loss: 3690.5103 - mae: 3690.5103\n",
            "Epoch 188/200\n",
            "34/34 [==============================] - 0s 4ms/step - loss: 3695.6265 - mae: 3695.6265\n",
            "Epoch 189/200\n",
            "34/34 [==============================] - 0s 3ms/step - loss: 3685.9475 - mae: 3685.9475\n",
            "Epoch 190/200\n",
            "34/34 [==============================] - 0s 4ms/step - loss: 3683.8203 - mae: 3683.8203\n",
            "Epoch 191/200\n",
            "34/34 [==============================] - 0s 4ms/step - loss: 3700.8525 - mae: 3700.8525\n",
            "Epoch 192/200\n",
            "34/34 [==============================] - 0s 4ms/step - loss: 3686.6082 - mae: 3686.6082\n",
            "Epoch 193/200\n",
            "34/34 [==============================] - 0s 3ms/step - loss: 3676.6028 - mae: 3676.6028\n",
            "Epoch 194/200\n",
            "34/34 [==============================] - 0s 4ms/step - loss: 3677.2820 - mae: 3677.2820\n",
            "Epoch 195/200\n",
            "34/34 [==============================] - 0s 5ms/step - loss: 3674.6677 - mae: 3674.6677\n",
            "Epoch 196/200\n",
            "34/34 [==============================] - 0s 4ms/step - loss: 3682.7437 - mae: 3682.7437\n",
            "Epoch 197/200\n",
            "34/34 [==============================] - 0s 4ms/step - loss: 3667.5303 - mae: 3667.5303\n",
            "Epoch 198/200\n",
            "34/34 [==============================] - 0s 4ms/step - loss: 3672.9282 - mae: 3672.9282\n",
            "Epoch 199/200\n",
            "34/34 [==============================] - 0s 4ms/step - loss: 3681.7126 - mae: 3681.7126\n",
            "Epoch 200/200\n",
            "34/34 [==============================] - 0s 3ms/step - loss: 3668.2271 - mae: 3668.2271\n"
          ]
        }
      ]
    },
    {
      "cell_type": "code",
      "metadata": {
        "colab": {
          "base_uri": "https://localhost:8080/"
        },
        "id": "DX918PcL-n8s",
        "outputId": "e59fa3cc-3d22-4e89-df57-80e973aca6aa"
      },
      "source": [
        "# Evaluate our third model\n",
        "insurance_model_3.evaluate(X_test, y_test)"
      ],
      "execution_count": 92,
      "outputs": [
        {
          "output_type": "stream",
          "name": "stdout",
          "text": [
            "9/9 [==============================] - 0s 3ms/step - loss: 3493.7520 - mae: 3493.7520\n"
          ]
        },
        {
          "output_type": "execute_result",
          "data": {
            "text/plain": [
              "[3493.751953125, 3493.751953125]"
            ]
          },
          "metadata": {},
          "execution_count": 92
        }
      ]
    },
    {
      "cell_type": "code",
      "metadata": {
        "colab": {
          "base_uri": "https://localhost:8080/"
        },
        "id": "ImGrhOUu-w8J",
        "outputId": "4f7a7489-a699-46ee-9bca-16e16afc3488"
      },
      "source": [
        "insurance_model.evaluate(X_test, y_test)"
      ],
      "execution_count": 93,
      "outputs": [
        {
          "output_type": "stream",
          "name": "stdout",
          "text": [
            "9/9 [==============================] - 0s 2ms/step - loss: 5960.1450 - mae: 5960.1450\n"
          ]
        },
        {
          "output_type": "execute_result",
          "data": {
            "text/plain": [
              "[5960.14501953125, 5960.14501953125]"
            ]
          },
          "metadata": {},
          "execution_count": 93
        }
      ]
    },
    {
      "cell_type": "code",
      "metadata": {
        "colab": {
          "base_uri": "https://localhost:8080/",
          "height": 466
        },
        "id": "5obI_2qh-3Yl",
        "outputId": "a5c6ff3c-4fe2-4318-ea8d-6869fbc79eb6"
      },
      "source": [
        "# Plot history (also known as a loss curve or a training curve)\n",
        "pd.DataFrame(history.history).plot()\n",
        "plt.ylabel(\"loss\")\n",
        "plt.xlabel(\"epochs\")"
      ],
      "execution_count": 94,
      "outputs": [
        {
          "output_type": "execute_result",
          "data": {
            "text/plain": [
              "Text(0.5, 0, 'epochs')"
            ]
          },
          "metadata": {},
          "execution_count": 94
        },
        {
          "output_type": "display_data",
          "data": {
            "text/plain": [
              "<Figure size 640x480 with 1 Axes>"
            ],
            "image/png": "[encoded data removed]"
          },
          "metadata": {}
        }
      ]
    },
    {
      "cell_type": "markdown",
      "metadata": {
        "id": "ifIrgZbp_JBA"
      },
      "source": [
        "> 🤔 **Question:** How long should you train for?\n",
        "\n",
        "It depends. Really... it depends on the problem you're working on. However, many people have asked this question before... so TensorFlow has a solution! It's called the [EarlyStopping Callback](https://www.tensorflow.org/api_docs/python/tf/keras/callbacks/EarlyStopping), which is a TensorFlow component you can add to your model to stop training once it stops improving a certain metric."
      ]
    },
    {
      "cell_type": "markdown",
      "metadata": {
        "id": "19mmj6JTACaR"
      },
      "source": [
        "## Preprocessing data (normalization and standardization)\n",
        "\n",
        "In terms of scaling values, neural networks tend to prefer normalization.\n",
        "\n",
        "If you're not sure on which to use, you could try both and see which performs better."
      ]
    },
    {
      "cell_type": "code",
      "metadata": {
        "colab": {
          "base_uri": "https://localhost:8080/",
          "height": 423
        },
        "id": "A9EZSNF_3MaY",
        "outputId": "55305e60-7cd9-432c-a545-0de6d2089cad"
      },
      "source": [
        "import pandas as pd\n",
        "import matplotlib.pyplot as plt\n",
        "import tensorflow as tf\n",
        "\n",
        "# Read in the insurance dataframe\n",
        "insurance = pd.read_csv(\"https://raw.githubusercontent.com/stedy/Machine-Learning-with-R-datasets/master/insurance.csv\")\n",
        "insurance"
      ],
      "execution_count": 95,
      "outputs": [
        {
          "output_type": "execute_result",
          "data": {
            "text/plain": [
              "      age     sex     bmi  children smoker     region      charges\n",
              "0      19  female  27.900         0    yes  southwest  16884.92400\n",
              "1      18    male  33.770         1     no  southeast   1725.55230\n",
              "2      28    male  33.000         3     no  southeast   4449.46200\n",
              "3      33    male  22.705         0     no  northwest  21984.47061\n",
              "4      32    male  28.880         0     no  northwest   3866.85520\n",
              "...   ...     ...     ...       ...    ...        ...          ...\n",
              "1333   50    male  30.970         3     no  northwest  10600.54830\n",
              "1334   18  female  31.920         0     no  northeast   2205.98080\n",
              "1335   18  female  36.850         0     no  southeast   1629.83350\n",
              "1336   21  female  25.800         0     no  southwest   2007.94500\n",
              "1337   61  female  29.070         0    yes  northwest  29141.36030\n",
              "\n",
              "[1338 rows x 7 columns]"
            ],
            "text/html": [
              "\n",
              "  <div id=\"df-cc35a520-fc2f-41b0-9568-1735fc986c6d\" class=\"colab-df-container\">\n",
              "    <div>\n",
              "<style scoped>\n",
              "    .dataframe tbody tr th:only-of-type {\n",
              "        vertical-align: middle;\n",
              "    }\n",
              "\n",
              "    .dataframe tbody tr th {\n",
              "        vertical-align: top;\n",
              "    }\n",
              "\n",
              "    .dataframe thead th {\n",
              "        text-align: right;\n",
              "    }\n",
              "</style>\n",
              "<table border=\"1\" class=\"dataframe\">\n",
              "  <thead>\n",
              "    <tr style=\"text-align: right;\">\n",
              "      <th></th>\n",
              "      <th>age</th>\n",
              "      <th>sex</th>\n",
              "      <th>bmi</th>\n",
              "      <th>children</th>\n",
              "      <th>smoker</th>\n",
              "      <th>region</th>\n",
              "      <th>charges</th>\n",
              "    </tr>\n",
              "  </thead>\n",
              "  <tbody>\n",
              "    <tr>\n",
              "      <th>0</th>\n",
              "      <td>19</td>\n",
              "      <td>female</td>\n",
              "      <td>27.900</td>\n",
              "      <td>0</td>\n",
              "      <td>yes</td>\n",
              "      <td>southwest</td>\n",
              "      <td>16884.92400</td>\n",
              "    </tr>\n",
              "    <tr>\n",
              "      <th>1</th>\n",
              "      <td>18</td>\n",
              "      <td>male</td>\n",
              "      <td>33.770</td>\n",
              "      <td>1</td>\n",
              "      <td>no</td>\n",
              "      <td>southeast</td>\n",
              "      <td>1725.55230</td>\n",
              "    </tr>\n",
              "    <tr>\n",
              "      <th>2</th>\n",
              "      <td>28</td>\n",
              "      <td>male</td>\n",
              "      <td>33.000</td>\n",
              "      <td>3</td>\n",
              "      <td>no</td>\n",
              "      <td>southeast</td>\n",
              "      <td>4449.46200</td>\n",
              "    </tr>\n",
              "    <tr>\n",
              "      <th>3</th>\n",
              "      <td>33</td>\n",
              "      <td>male</td>\n",
              "      <td>22.705</td>\n",
              "      <td>0</td>\n",
              "      <td>no</td>\n",
              "      <td>northwest</td>\n",
              "      <td>21984.47061</td>\n",
              "    </tr>\n",
              "    <tr>\n",
              "      <th>4</th>\n",
              "      <td>32</td>\n",
              "      <td>male</td>\n",
              "      <td>28.880</td>\n",
              "      <td>0</td>\n",
              "      <td>no</td>\n",
              "      <td>northwest</td>\n",
              "      <td>3866.85520</td>\n",
              "    </tr>\n",
              "    <tr>\n",
              "      <th>...</th>\n",
              "      <td>...</td>\n",
              "      <td>...</td>\n",
              "      <td>...</td>\n",
              "      <td>...</td>\n",
              "      <td>...</td>\n",
              "      <td>...</td>\n",
              "      <td>...</td>\n",
              "    </tr>\n",
              "    <tr>\n",
              "      <th>1333</th>\n",
              "      <td>50</td>\n",
              "      <td>male</td>\n",
              "      <td>30.970</td>\n",
              "      <td>3</td>\n",
              "      <td>no</td>\n",
              "      <td>northwest</td>\n",
              "      <td>10600.54830</td>\n",
              "    </tr>\n",
              "    <tr>\n",
              "      <th>1334</th>\n",
              "      <td>18</td>\n",
              "      <td>female</td>\n",
              "      <td>31.920</td>\n",
              "      <td>0</td>\n",
              "      <td>no</td>\n",
              "      <td>northeast</td>\n",
              "      <td>2205.98080</td>\n",
              "    </tr>\n",
              "    <tr>\n",
              "      <th>1335</th>\n",
              "      <td>18</td>\n",
              "      <td>female</td>\n",
              "      <td>36.850</td>\n",
              "      <td>0</td>\n",
              "      <td>no</td>\n",
              "      <td>southeast</td>\n",
              "      <td>1629.83350</td>\n",
              "    </tr>\n",
              "    <tr>\n",
              "      <th>1336</th>\n",
              "      <td>21</td>\n",
              "      <td>female</td>\n",
              "      <td>25.800</td>\n",
              "      <td>0</td>\n",
              "      <td>no</td>\n",
              "      <td>southwest</td>\n",
              "      <td>2007.94500</td>\n",
              "    </tr>\n",
              "    <tr>\n",
              "      <th>1337</th>\n",
              "      <td>61</td>\n",
              "      <td>female</td>\n",
              "      <td>29.070</td>\n",
              "      <td>0</td>\n",
              "      <td>yes</td>\n",
              "      <td>northwest</td>\n",
              "      <td>29141.36030</td>\n",
              "    </tr>\n",
              "  </tbody>\n",
              "</table>\n",
              "<p>1338 rows × 7 columns</p>\n",
              "</div>\n",
              "    <div class=\"colab-df-buttons\">\n",
              "\n",
              "  <div class=\"colab-df-container\">\n",
              "    <button class=\"colab-df-convert\" onclick=\"convertToInteractive('df-cc35a520-fc2f-41b0-9568-1735fc986c6d')\"\n",
              "            title=\"Convert this dataframe to an interactive table.\"\n",
              "            style=\"display:none;\">\n",
              "\n",
              "  <svg xmlns=\"http://www.w3.org/2000/svg\" height=\"24px\" viewBox=\"0 -960 960 960\">\n",
              "    <path d=\"M120-120v-720h720v720H120Zm60-500h600v-160H180v160Zm220 220h160v-160H400v160Zm0 220h160v-160H400v160ZM180-400h160v-160H180v160Zm440 0h160v-160H620v160ZM180-180h160v-160H180v160Zm440 0h160v-160H620v160Z\"/>\n",
              "  </svg>\n",
              "    </button>\n",
              "\n",
              "  <style>\n",
              "    .colab-df-container {\n",
              "      display:flex;\n",
              "      gap: 12px;\n",
              "    }\n",
              "\n",
              "    .colab-df-convert {\n",
              "      background-color: #E8F0FE;\n",
              "      border: none;\n",
              "      border-radius: 50%;\n",
              "      cursor: pointer;\n",
              "      display: none;\n",
              "      fill: #1967D2;\n",
              "      height: 32px;\n",
              "      padding: 0 0 0 0;\n",
              "      width: 32px;\n",
              "    }\n",
              "\n",
              "    .colab-df-convert:hover {\n",
              "      background-color: #E2EBFA;\n",
              "      box-shadow: 0px 1px 2px rgba(60, 64, 67, 0.3), 0px 1px 3px 1px rgba(60, 64, 67, 0.15);\n",
              "      fill: #174EA6;\n",
              "    }\n",
              "\n",
              "    .colab-df-buttons div {\n",
              "      margin-bottom: 4px;\n",
              "    }\n",
              "\n",
              "    [theme=dark] .colab-df-convert {\n",
              "      background-color: #3B4455;\n",
              "      fill: #D2E3FC;\n",
              "    }\n",
              "\n",
              "    [theme=dark] .colab-df-convert:hover {\n",
              "      background-color: #434B5C;\n",
              "      box-shadow: 0px 1px 3px 1px rgba(0, 0, 0, 0.15);\n",
              "      filter: drop-shadow(0px 1px 2px rgba(0, 0, 0, 0.3));\n",
              "      fill: #FFFFFF;\n",
              "    }\n",
              "  </style>\n",
              "\n",
              "    <script>\n",
              "      const buttonEl =\n",
              "        document.querySelector('#df-cc35a520-fc2f-41b0-9568-1735fc986c6d button.colab-df-convert');\n",
              "      buttonEl.style.display =\n",
              "        google.colab.kernel.accessAllowed ? 'block' : 'none';\n",
              "\n",
              "      async function convertToInteractive(key) {\n",
              "        const element = document.querySelector('#df-cc35a520-fc2f-41b0-9568-1735fc986c6d');\n",
              "        const dataTable =\n",
              "          await google.colab.kernel.invokeFunction('convertToInteractive',\n",
              "                                                    [key], {});\n",
              "        if (!dataTable) return;\n",
              "\n",
              "        const docLinkHtml = 'Like what you see? Visit the ' +\n",
              "          '<a target=\"_blank\" href=https://colab.research.google.com/notebooks/data_table.ipynb>data table notebook</a>'\n",
              "          + ' to learn more about interactive tables.';\n",
              "        element.innerHTML = '';\n",
              "        dataTable['output_type'] = 'display_data';\n",
              "        await google.colab.output.renderOutput(dataTable, element);\n",
              "        const docLink = document.createElement('div');\n",
              "        docLink.innerHTML = docLinkHtml;\n",
              "        element.appendChild(docLink);\n",
              "      }\n",
              "    </script>\n",
              "  </div>\n",
              "\n",
              "\n",
              "<div id=\"df-97e1f34f-fc8f-4a15-a683-54b63174b55e\">\n",
              "  <button class=\"colab-df-quickchart\" onclick=\"quickchart('df-97e1f34f-fc8f-4a15-a683-54b63174b55e')\"\n",
              "            title=\"Suggest charts\"\n",
              "            style=\"display:none;\">\n",
              "\n",
              "<svg xmlns=\"http://www.w3.org/2000/svg\" height=\"24px\"viewBox=\"0 0 24 24\"\n",
              "     width=\"24px\">\n",
              "    <g>\n",
              "        <path d=\"M19 3H5c-1.1 0-2 .9-2 2v14c0 1.1.9 2 2 2h14c1.1 0 2-.9 2-2V5c0-1.1-.9-2-2-2zM9 17H7v-7h2v7zm4 0h-2V7h2v10zm4 0h-2v-4h2v4z\"/>\n",
              "    </g>\n",
              "</svg>\n",
              "  </button>\n",
              "\n",
              "<style>\n",
              "  .colab-df-quickchart {\n",
              "      --bg-color: #E8F0FE;\n",
              "      --fill-color: #1967D2;\n",
              "      --hover-bg-color: #E2EBFA;\n",
              "      --hover-fill-color: #174EA6;\n",
              "      --disabled-fill-color: #AAA;\n",
              "      --disabled-bg-color: #DDD;\n",
              "  }\n",
              "\n",
              "  [theme=dark] .colab-df-quickchart {\n",
              "      --bg-color: #3B4455;\n",
              "      --fill-color: #D2E3FC;\n",
              "      --hover-bg-color: #434B5C;\n",
              "      --hover-fill-color: #FFFFFF;\n",
              "      --disabled-bg-color: #3B4455;\n",
              "      --disabled-fill-color: #666;\n",
              "  }\n",
              "\n",
              "  .colab-df-quickchart {\n",
              "    background-color: var(--bg-color);\n",
              "    border: none;\n",
              "    border-radius: 50%;\n",
              "    cursor: pointer;\n",
              "    display: none;\n",
              "    fill: var(--fill-color);\n",
              "    height: 32px;\n",
              "    padding: 0;\n",
              "    width: 32px;\n",
              "  }\n",
              "\n",
              "  .colab-df-quickchart:hover {\n",
              "    background-color: var(--hover-bg-color);\n",
              "    box-shadow: 0 1px 2px rgba(60, 64, 67, 0.3), 0 1px 3px 1px rgba(60, 64, 67, 0.15);\n",
              "    fill: var(--button-hover-fill-color);\n",
              "  }\n",
              "\n",
              "  .colab-df-quickchart-complete:disabled,\n",
              "  .colab-df-quickchart-complete:disabled:hover {\n",
              "    background-color: var(--disabled-bg-color);\n",
              "    fill: var(--disabled-fill-color);\n",
              "    box-shadow: none;\n",
              "  }\n",
              "\n",
              "  .colab-df-spinner {\n",
              "    border: 2px solid var(--fill-color);\n",
              "    border-color: transparent;\n",
              "    border-bottom-color: var(--fill-color);\n",
              "    animation:\n",
              "      spin 1s steps(1) infinite;\n",
              "  }\n",
              "\n",
              "  @keyframes spin {\n",
              "    0% {\n",
              "      border-color: transparent;\n",
              "      border-bottom-color: var(--fill-color);\n",
              "      border-left-color: var(--fill-color);\n",
              "    }\n",
              "    20% {\n",
              "      border-color: transparent;\n",
              "      border-left-color: var(--fill-color);\n",
              "      border-top-color: var(--fill-color);\n",
              "    }\n",
              "    30% {\n",
              "      border-color: transparent;\n",
              "      border-left-color: var(--fill-color);\n",
              "      border-top-color: var(--fill-color);\n",
              "      border-right-color: var(--fill-color);\n",
              "    }\n",
              "    40% {\n",
              "      border-color: transparent;\n",
              "      border-right-color: var(--fill-color);\n",
              "      border-top-color: var(--fill-color);\n",
              "    }\n",
              "    60% {\n",
              "      border-color: transparent;\n",
              "      border-right-color: var(--fill-color);\n",
              "    }\n",
              "    80% {\n",
              "      border-color: transparent;\n",
              "      border-right-color: var(--fill-color);\n",
              "      border-bottom-color: var(--fill-color);\n",
              "    }\n",
              "    90% {\n",
              "      border-color: transparent;\n",
              "      border-bottom-color: var(--fill-color);\n",
              "    }\n",
              "  }\n",
              "</style>\n",
              "\n",
              "  <script>\n",
              "    async function quickchart(key) {\n",
              "      const quickchartButtonEl =\n",
              "        document.querySelector('#' + key + ' button');\n",
              "      quickchartButtonEl.disabled = true;  // To prevent multiple clicks.\n",
              "      quickchartButtonEl.classList.add('colab-df-spinner');\n",
              "      try {\n",
              "        const charts = await google.colab.kernel.invokeFunction(\n",
              "            'suggestCharts', [key], {});\n",
              "      } catch (error) {\n",
              "        console.error('Error during call to suggestCharts:', error);\n",
              "      }\n",
              "      quickchartButtonEl.classList.remove('colab-df-spinner');\n",
              "      quickchartButtonEl.classList.add('colab-df-quickchart-complete');\n",
              "    }\n",
              "    (() => {\n",
              "      let quickchartButtonEl =\n",
              "        document.querySelector('#df-97e1f34f-fc8f-4a15-a683-54b63174b55e button');\n",
              "      quickchartButtonEl.style.display =\n",
              "        google.colab.kernel.accessAllowed ? 'block' : 'none';\n",
              "    })();\n",
              "  </script>\n",
              "</div>\n",
              "    </div>\n",
              "  </div>\n"
            ],
            "application/vnd.google.colaboratory.intrinsic+json": {
              "type": "dataframe",
              "variable_name": "insurance",
              "summary": "{\n  \"name\": \"insurance\",\n  \"rows\": 1338,\n  \"fields\": [\n    {\n      \"column\": \"age\",\n      \"properties\": {\n        \"dtype\": \"number\",\n        \"std\": 14,\n        \"min\": 18,\n        \"max\": 64,\n        \"num_unique_values\": 47,\n        \"samples\": [\n          21,\n          45,\n          36\n        ],\n        \"semantic_type\": \"\",\n        \"description\": \"\"\n      }\n    },\n    {\n      \"column\": \"sex\",\n      \"properties\": {\n        \"dtype\": \"category\",\n        \"num_unique_values\": 2,\n        \"samples\": [\n          \"male\",\n          \"female\"\n        ],\n        \"semantic_type\": \"\",\n        \"description\": \"\"\n      }\n    },\n    {\n      \"column\": \"bmi\",\n      \"properties\": {\n        \"dtype\": \"number\",\n        \"std\": 6.098186911679014,\n        \"min\": 15.96,\n        \"max\": 53.13,\n        \"num_unique_values\": 548,\n        \"samples\": [\n          23.18,\n          26.885\n        ],\n        \"semantic_type\": \"\",\n        \"description\": \"\"\n      }\n    },\n    {\n      \"column\": \"children\",\n      \"properties\": {\n        \"dtype\": \"number\",\n        \"std\": 1,\n        \"min\": 0,\n        \"max\": 5,\n        \"num_unique_values\": 6,\n        \"samples\": [\n          0,\n          1\n        ],\n        \"semantic_type\": \"\",\n        \"description\": \"\"\n      }\n    },\n    {\n      \"column\": \"smoker\",\n      \"properties\": {\n        \"dtype\": \"category\",\n        \"num_unique_values\": 2,\n        \"samples\": [\n          \"no\",\n          \"yes\"\n        ],\n        \"semantic_type\": \"\",\n        \"description\": \"\"\n      }\n    },\n    {\n      \"column\": \"region\",\n      \"properties\": {\n        \"dtype\": \"category\",\n        \"num_unique_values\": 4,\n        \"samples\": [\n          \"southeast\",\n          \"northeast\"\n        ],\n        \"semantic_type\": \"\",\n        \"description\": \"\"\n      }\n    },\n    {\n      \"column\": \"charges\",\n      \"properties\": {\n        \"dtype\": \"number\",\n        \"std\": 12110.011236694001,\n        \"min\": 1121.8739,\n        \"max\": 63770.42801,\n        \"num_unique_values\": 1337,\n        \"samples\": [\n          8688.85885,\n          5708.867\n        ],\n        \"semantic_type\": \"\",\n        \"description\": \"\"\n      }\n    }\n  ]\n}"
            }
          },
          "metadata": {},
          "execution_count": 95
        }
      ]
    },
    {
      "cell_type": "markdown",
      "metadata": {
        "id": "x8VN6GfP4Dsn"
      },
      "source": [
        "To prepare our data, we can borrow a few classes from Scikit-Learn."
      ]
    },
    {
      "cell_type": "code",
      "metadata": {
        "id": "XR8i1bHZAV6o"
      },
      "source": [
        "from sklearn.compose import make_column_transformer\n",
        "from sklearn.preprocessing import MinMaxScaler, OneHotEncoder\n",
        "from sklearn.model_selection import train_test_split\n",
        "\n",
        "# Create a column transformer\n",
        "ct = make_column_transformer(\n",
        "    (MinMaxScaler(), [\"age\", \"bmi\", \"children\"]), # turn all values in these columns between 0 and 1\n",
        "    (OneHotEncoder(handle_unknown=\"ignore\"), [\"sex\", \"smoker\", \"region\"])\n",
        ")\n",
        "\n",
        "# Create X & y\n",
        "X = insurance.drop(\"charges\", axis=1)\n",
        "y = insurance[\"charges\"]\n",
        "\n",
        "# Build our train and test sets\n",
        "X_train, X_test, y_train, y_test = train_test_split(X, y, test_size=0.2, random_state=42)\n",
        "\n",
        "# Fit the column transformer to our training data\n",
        "ct.fit(X_train)\n",
        "\n",
        "# Transform training and test data with normalization (MinMaxScaler) and OneHotEncoder\n",
        "X_train_normal = ct.transform(X_train)\n",
        "X_test_normal = ct.transform(X_test)"
      ],
      "execution_count": 96,
      "outputs": []
    },
    {
      "cell_type": "code",
      "metadata": {
        "colab": {
          "base_uri": "https://localhost:8080/"
        },
        "id": "IGD73N7651a3",
        "outputId": "742c93f1-e2a5-4aaf-b564-e0996cc84abf"
      },
      "source": [
        "# What does our data look like now?\n",
        "X_train.loc[0]"
      ],
      "execution_count": 97,
      "outputs": [
        {
          "output_type": "execute_result",
          "data": {
            "text/plain": [
              "age                19\n",
              "sex            female\n",
              "bmi              27.9\n",
              "children            0\n",
              "smoker            yes\n",
              "region      southwest\n",
              "Name: 0, dtype: object"
            ]
          },
          "metadata": {},
          "execution_count": 97
        }
      ]
    },
    {
      "cell_type": "code",
      "metadata": {
        "colab": {
          "base_uri": "https://localhost:8080/"
        },
        "id": "SQsT3lTJ55qS",
        "outputId": "ff6f1e98-3aaa-426a-9b99-6bd714058de4"
      },
      "source": [
        "X_train_normal[0]"
      ],
      "execution_count": 98,
      "outputs": [
        {
          "output_type": "execute_result",
          "data": {
            "text/plain": [
              "array([0.60869565, 0.10734463, 0.4       , 1.        , 0.        ,\n",
              "       1.        , 0.        , 0.        , 1.        , 0.        ,\n",
              "       0.        ])"
            ]
          },
          "metadata": {},
          "execution_count": 98
        }
      ]
    },
    {
      "cell_type": "code",
      "metadata": {
        "colab": {
          "base_uri": "https://localhost:8080/"
        },
        "id": "_tiE2Dj86M6g",
        "outputId": "c012fe5b-e07a-473f-b520-732d6d323140"
      },
      "source": [
        "X_train.shape, X_train_normal.shape"
      ],
      "execution_count": 99,
      "outputs": [
        {
          "output_type": "execute_result",
          "data": {
            "text/plain": [
              "((1070, 6), (1070, 11))"
            ]
          },
          "metadata": {},
          "execution_count": 99
        }
      ]
    },
    {
      "cell_type": "markdown",
      "metadata": {
        "id": "g7o1A7kL6Yrm"
      },
      "source": [
        "Beautiful! Our data has been normalized and one hot encoded. Now let's build a neural network model on it and see how it goes."
      ]
    },
    {
      "cell_type": "code",
      "metadata": {
        "colab": {
          "base_uri": "https://localhost:8080/"
        },
        "id": "KDF9TU0_6W2r",
        "outputId": "b08fb1d1-8cf7-4786-86b6-c03417573b97"
      },
      "source": [
        "# Build a neural network model to fit on our normalized data\n",
        "tf.random.set_seed(42)\n",
        "\n",
        "# 1. Create the model\n",
        "insurance_model_4 = tf.keras.Sequential([\n",
        "  tf.keras.layers.Dense(100),\n",
        "  tf.keras.layers.Dense(10),\n",
        "  tf.keras.layers.Dense(1)\n",
        "])\n",
        "\n",
        "# 2. Compile the model\n",
        "insurance_model_4.compile(loss=tf.keras.losses.mae,\n",
        "                          optimizer=tf.keras.optimizers.Adam(),\n",
        "                          metrics=[\"mae\"])\n",
        "\n",
        "# 3. Fit the model\n",
        "insurance_model_4.fit(X_train_normal, y_train, epochs=100)"
      ],
      "execution_count": 100,
      "outputs": [
        {
          "output_type": "stream",
          "name": "stdout",
          "text": [
            "Epoch 1/100\n",
            "34/34 [==============================] - 1s 9ms/step - loss: 13344.1719 - mae: 13344.1719\n",
            "Epoch 2/100\n",
            "34/34 [==============================] - 0s 5ms/step - loss: 13335.1338 - mae: 13335.1338\n",
            "Epoch 3/100\n",
            "34/34 [==============================] - 0s 12ms/step - loss: 13313.3184 - mae: 13313.3184\n",
            "Epoch 4/100\n",
            "34/34 [==============================] - 0s 6ms/step - loss: 13267.4648 - mae: 13267.4648\n",
            "Epoch 5/100\n",
            "34/34 [==============================] - 0s 12ms/step - loss: 13185.6455 - mae: 13185.6455\n",
            "Epoch 6/100\n",
            "34/34 [==============================] - 0s 10ms/step - loss: 13056.3096 - mae: 13056.3096\n",
            "Epoch 7/100\n",
            "34/34 [==============================] - 0s 9ms/step - loss: 12869.2764 - mae: 12869.2764\n",
            "Epoch 8/100\n",
            "34/34 [==============================] - 0s 13ms/step - loss: 12614.6367 - mae: 12614.6367\n",
            "Epoch 9/100\n",
            "34/34 [==============================] - 0s 13ms/step - loss: 12282.3525 - mae: 12282.3525\n",
            "Epoch 10/100\n",
            "34/34 [==============================] - 0s 12ms/step - loss: 11869.8008 - mae: 11869.8008\n",
            "Epoch 11/100\n",
            "34/34 [==============================] - 1s 28ms/step - loss: 11388.8242 - mae: 11388.8242\n",
            "Epoch 12/100\n",
            "34/34 [==============================] - 0s 8ms/step - loss: 10879.5713 - mae: 10879.5713\n",
            "Epoch 13/100\n",
            "34/34 [==============================] - 0s 10ms/step - loss: 10376.5107 - mae: 10376.5107\n",
            "Epoch 14/100\n",
            "34/34 [==============================] - 0s 9ms/step - loss: 9883.4043 - mae: 9883.4043\n",
            "Epoch 15/100\n",
            "34/34 [==============================] - 0s 5ms/step - loss: 9418.9756 - mae: 9418.9756\n",
            "Epoch 16/100\n",
            "34/34 [==============================] - 0s 3ms/step - loss: 9008.2070 - mae: 9008.2070\n",
            "Epoch 17/100\n",
            "34/34 [==============================] - 0s 7ms/step - loss: 8671.9160 - mae: 8671.9160\n",
            "Epoch 18/100\n",
            "34/34 [==============================] - 0s 5ms/step - loss: 8398.9434 - mae: 8398.9434\n",
            "Epoch 19/100\n",
            "34/34 [==============================] - 0s 4ms/step - loss: 8196.7012 - mae: 8196.7012\n",
            "Epoch 20/100\n",
            "34/34 [==============================] - 0s 3ms/step - loss: 8057.5615 - mae: 8057.5615\n",
            "Epoch 21/100\n",
            "34/34 [==============================] - 0s 4ms/step - loss: 7954.3682 - mae: 7954.3682\n",
            "Epoch 22/100\n",
            "34/34 [==============================] - 0s 5ms/step - loss: 7883.2432 - mae: 7883.2432\n",
            "Epoch 23/100\n",
            "34/34 [==============================] - 0s 4ms/step - loss: 7825.8188 - mae: 7825.8188\n",
            "Epoch 24/100\n",
            "34/34 [==============================] - 0s 3ms/step - loss: 7773.4248 - mae: 7773.4248\n",
            "Epoch 25/100\n",
            "34/34 [==============================] - 0s 3ms/step - loss: 7734.4292 - mae: 7734.4292\n",
            "Epoch 26/100\n",
            "34/34 [==============================] - 0s 5ms/step - loss: 7682.1953 - mae: 7682.1953\n",
            "Epoch 27/100\n",
            "34/34 [==============================] - 0s 5ms/step - loss: 7639.1230 - mae: 7639.1230\n",
            "Epoch 28/100\n",
            "34/34 [==============================] - 0s 3ms/step - loss: 7596.0215 - mae: 7596.0215\n",
            "Epoch 29/100\n",
            "34/34 [==============================] - 0s 3ms/step - loss: 7552.5186 - mae: 7552.5186\n",
            "Epoch 30/100\n",
            "34/34 [==============================] - 0s 5ms/step - loss: 7507.9624 - mae: 7507.9624\n",
            "Epoch 31/100\n",
            "34/34 [==============================] - 0s 4ms/step - loss: 7462.9561 - mae: 7462.9561\n",
            "Epoch 32/100\n",
            "34/34 [==============================] - 0s 4ms/step - loss: 7417.6699 - mae: 7417.6699\n",
            "Epoch 33/100\n",
            "34/34 [==============================] - 0s 4ms/step - loss: 7371.9712 - mae: 7371.9712\n",
            "Epoch 34/100\n",
            "34/34 [==============================] - 0s 3ms/step - loss: 7322.3018 - mae: 7322.3018\n",
            "Epoch 35/100\n",
            "34/34 [==============================] - 0s 3ms/step - loss: 7273.9160 - mae: 7273.9160\n",
            "Epoch 36/100\n",
            "34/34 [==============================] - 0s 5ms/step - loss: 7222.0166 - mae: 7222.0166\n",
            "Epoch 37/100\n",
            "34/34 [==============================] - 0s 7ms/step - loss: 7169.9741 - mae: 7169.9741\n",
            "Epoch 38/100\n",
            "34/34 [==============================] - 0s 3ms/step - loss: 7117.1577 - mae: 7117.1577\n",
            "Epoch 39/100\n",
            "34/34 [==============================] - 0s 4ms/step - loss: 7060.2163 - mae: 7060.2163\n",
            "Epoch 40/100\n",
            "34/34 [==============================] - 0s 4ms/step - loss: 7002.7554 - mae: 7002.7554\n",
            "Epoch 41/100\n",
            "34/34 [==============================] - 0s 3ms/step - loss: 6944.0459 - mae: 6944.0459\n",
            "Epoch 42/100\n",
            "34/34 [==============================] - 0s 9ms/step - loss: 6882.4512 - mae: 6882.4512\n",
            "Epoch 43/100\n",
            "34/34 [==============================] - 0s 6ms/step - loss: 6817.3276 - mae: 6817.3276\n",
            "Epoch 44/100\n",
            "34/34 [==============================] - 0s 10ms/step - loss: 6748.0640 - mae: 6748.0640\n",
            "Epoch 45/100\n",
            "34/34 [==============================] - 0s 11ms/step - loss: 6677.9541 - mae: 6677.9541\n",
            "Epoch 46/100\n",
            "34/34 [==============================] - 0s 7ms/step - loss: 6605.6895 - mae: 6605.6895\n",
            "Epoch 47/100\n",
            "34/34 [==============================] - 0s 9ms/step - loss: 6530.7339 - mae: 6530.7339\n",
            "Epoch 48/100\n",
            "34/34 [==============================] - 0s 7ms/step - loss: 6448.4229 - mae: 6448.4229\n",
            "Epoch 49/100\n",
            "34/34 [==============================] - 0s 6ms/step - loss: 6365.8618 - mae: 6365.8618\n",
            "Epoch 50/100\n",
            "34/34 [==============================] - 0s 5ms/step - loss: 6275.5127 - mae: 6275.5127\n",
            "Epoch 51/100\n",
            "34/34 [==============================] - 0s 5ms/step - loss: 6187.1553 - mae: 6187.1553\n",
            "Epoch 52/100\n",
            "34/34 [==============================] - 0s 6ms/step - loss: 6088.7231 - mae: 6088.7231\n",
            "Epoch 53/100\n",
            "34/34 [==============================] - 0s 6ms/step - loss: 5987.7764 - mae: 5987.7764\n",
            "Epoch 54/100\n",
            "34/34 [==============================] - 0s 6ms/step - loss: 5883.4565 - mae: 5883.4565\n",
            "Epoch 55/100\n",
            "34/34 [==============================] - 0s 5ms/step - loss: 5770.9912 - mae: 5770.9912\n",
            "Epoch 56/100\n",
            "34/34 [==============================] - 0s 3ms/step - loss: 5657.4712 - mae: 5657.4712\n",
            "Epoch 57/100\n",
            "34/34 [==============================] - 0s 2ms/step - loss: 5537.9980 - mae: 5537.9980\n",
            "Epoch 58/100\n",
            "34/34 [==============================] - 0s 3ms/step - loss: 5418.5581 - mae: 5418.5581\n",
            "Epoch 59/100\n",
            "34/34 [==============================] - 0s 4ms/step - loss: 5293.3818 - mae: 5293.3818\n",
            "Epoch 60/100\n",
            "34/34 [==============================] - 0s 3ms/step - loss: 5167.3940 - mae: 5167.3940\n",
            "Epoch 61/100\n",
            "34/34 [==============================] - 0s 2ms/step - loss: 5038.6924 - mae: 5038.6924\n",
            "Epoch 62/100\n",
            "34/34 [==============================] - 0s 3ms/step - loss: 4904.5757 - mae: 4904.5757\n",
            "Epoch 63/100\n",
            "34/34 [==============================] - 0s 2ms/step - loss: 4774.8579 - mae: 4774.8579\n",
            "Epoch 64/100\n",
            "34/34 [==============================] - 0s 2ms/step - loss: 4643.1221 - mae: 4643.1221\n",
            "Epoch 65/100\n",
            "34/34 [==============================] - 0s 2ms/step - loss: 4520.2324 - mae: 4520.2324\n",
            "Epoch 66/100\n",
            "34/34 [==============================] - 0s 2ms/step - loss: 4404.5068 - mae: 4404.5068\n",
            "Epoch 67/100\n",
            "34/34 [==============================] - 0s 3ms/step - loss: 4300.1548 - mae: 4300.1548\n",
            "Epoch 68/100\n",
            "34/34 [==============================] - 0s 2ms/step - loss: 4195.7720 - mae: 4195.7720\n",
            "Epoch 69/100\n",
            "34/34 [==============================] - 0s 2ms/step - loss: 4102.7393 - mae: 4102.7393\n",
            "Epoch 70/100\n",
            "34/34 [==============================] - 0s 3ms/step - loss: 4017.0439 - mae: 4017.0439\n",
            "Epoch 71/100\n",
            "34/34 [==============================] - 0s 3ms/step - loss: 3940.3425 - mae: 3940.3425\n",
            "Epoch 72/100\n",
            "34/34 [==============================] - 0s 3ms/step - loss: 3875.7212 - mae: 3875.7212\n",
            "Epoch 73/100\n",
            "34/34 [==============================] - 0s 3ms/step - loss: 3823.2729 - mae: 3823.2729\n",
            "Epoch 74/100\n",
            "34/34 [==============================] - 0s 2ms/step - loss: 3778.7974 - mae: 3778.7974\n",
            "Epoch 75/100\n",
            "34/34 [==============================] - 0s 2ms/step - loss: 3748.1768 - mae: 3748.1768\n",
            "Epoch 76/100\n",
            "34/34 [==============================] - 0s 3ms/step - loss: 3725.5608 - mae: 3725.5608\n",
            "Epoch 77/100\n",
            "34/34 [==============================] - 0s 3ms/step - loss: 3705.8777 - mae: 3705.8777\n",
            "Epoch 78/100\n",
            "34/34 [==============================] - 0s 3ms/step - loss: 3694.1169 - mae: 3694.1169\n",
            "Epoch 79/100\n",
            "34/34 [==============================] - 0s 5ms/step - loss: 3685.1851 - mae: 3685.1851\n",
            "Epoch 80/100\n",
            "34/34 [==============================] - 0s 5ms/step - loss: 3677.5544 - mae: 3677.5544\n",
            "Epoch 81/100\n",
            "34/34 [==============================] - 0s 4ms/step - loss: 3672.7073 - mae: 3672.7073\n",
            "Epoch 82/100\n",
            "34/34 [==============================] - 0s 3ms/step - loss: 3670.2908 - mae: 3670.2908\n",
            "Epoch 83/100\n",
            "34/34 [==============================] - 0s 4ms/step - loss: 3665.0554 - mae: 3665.0554\n",
            "Epoch 84/100\n",
            "34/34 [==============================] - 0s 3ms/step - loss: 3662.7297 - mae: 3662.7297\n",
            "Epoch 85/100\n",
            "34/34 [==============================] - 0s 3ms/step - loss: 3660.3584 - mae: 3660.3584\n",
            "Epoch 86/100\n",
            "34/34 [==============================] - 0s 4ms/step - loss: 3659.1753 - mae: 3659.1753\n",
            "Epoch 87/100\n",
            "34/34 [==============================] - 0s 4ms/step - loss: 3656.3003 - mae: 3656.3003\n",
            "Epoch 88/100\n",
            "34/34 [==============================] - 0s 4ms/step - loss: 3654.0706 - mae: 3654.0706\n",
            "Epoch 89/100\n",
            "34/34 [==============================] - 0s 3ms/step - loss: 3652.7649 - mae: 3652.7649\n",
            "Epoch 90/100\n",
            "34/34 [==============================] - 0s 3ms/step - loss: 3650.9673 - mae: 3650.9673\n",
            "Epoch 91/100\n",
            "34/34 [==============================] - 0s 4ms/step - loss: 3647.8528 - mae: 3647.8528\n",
            "Epoch 92/100\n",
            "34/34 [==============================] - 0s 4ms/step - loss: 3647.1838 - mae: 3647.1838\n",
            "Epoch 93/100\n",
            "34/34 [==============================] - 0s 5ms/step - loss: 3645.0610 - mae: 3645.0610\n",
            "Epoch 94/100\n",
            "34/34 [==============================] - 0s 4ms/step - loss: 3643.2551 - mae: 3643.2551\n",
            "Epoch 95/100\n",
            "34/34 [==============================] - 0s 5ms/step - loss: 3644.2791 - mae: 3644.2791\n",
            "Epoch 96/100\n",
            "34/34 [==============================] - 0s 4ms/step - loss: 3641.2876 - mae: 3641.2876\n",
            "Epoch 97/100\n",
            "34/34 [==============================] - 0s 5ms/step - loss: 3638.7419 - mae: 3638.7419\n",
            "Epoch 98/100\n",
            "34/34 [==============================] - 0s 5ms/step - loss: 3636.6648 - mae: 3636.6648\n",
            "Epoch 99/100\n",
            "34/34 [==============================] - 0s 4ms/step - loss: 3636.0500 - mae: 3636.0500\n",
            "Epoch 100/100\n",
            "34/34 [==============================] - 0s 2ms/step - loss: 3634.6880 - mae: 3634.6880\n"
          ]
        },
        {
          "output_type": "execute_result",
          "data": {
            "text/plain": [
              "<keras.src.callbacks.History at 0x79b4efced150>"
            ]
          },
          "metadata": {},
          "execution_count": 100
        }
      ]
    },
    {
      "cell_type": "code",
      "metadata": {
        "colab": {
          "base_uri": "https://localhost:8080/"
        },
        "id": "wt84g6C790Y0",
        "outputId": "38261a60-e74e-42d9-b6c8-0dced08ddd2e"
      },
      "source": [
        "# Evalaute our insurance model trained on normalized data\n",
        "insurance_model_4.evaluate(X_test_normal, y_test)"
      ],
      "execution_count": 101,
      "outputs": [
        {
          "output_type": "stream",
          "name": "stdout",
          "text": [
            "9/9 [==============================] - 0s 2ms/step - loss: 3437.1562 - mae: 3437.1562\n"
          ]
        },
        {
          "output_type": "execute_result",
          "data": {
            "text/plain": [
              "[3437.15625, 3437.15625]"
            ]
          },
          "metadata": {},
          "execution_count": 101
        }
      ]
    },
    {
      "cell_type": "code",
      "metadata": {
        "id": "EDJuv8gB-IJ0"
      },
      "source": [
        "# Insurance model 2 results\n",
        "# 9/9 [==============================] - 0s 1ms/step - loss: 4924.3477 - mae: 4924.3477"
      ],
      "execution_count": 102,
      "outputs": []
    },
    {
      "cell_type": "markdown",
      "metadata": {
        "id": "dZZQN7Z5_N46"
      },
      "source": [
        "Our model (`insurance_model_4`) fit on normalized data achieved a ~30% better score compared to the same model (`insurnace_model_2`) fit on non-normalized data!"
      ]
    },
    {
      "cell_type": "code",
      "metadata": {
        "colab": {
          "base_uri": "https://localhost:8080/"
        },
        "id": "Ck80C5Im9Qo8",
        "outputId": "d6d356b7-2c1d-4db7-c827-74b08e518c8e"
      },
      "source": [
        "insurance_model_2.summary()"
      ],
      "execution_count": 103,
      "outputs": [
        {
          "output_type": "stream",
          "name": "stdout",
          "text": [
            "Model: \"sequential_12\"\n",
            "_________________________________________________________________\n",
            " Layer (type)                Output Shape              Param #   \n",
            "=================================================================\n",
            " dense_17 (Dense)            (None, 100)               1200      \n",
            "                                                                 \n",
            " dense_18 (Dense)            (None, 10)                1010      \n",
            "                                                                 \n",
            " dense_19 (Dense)            (None, 1)                 11        \n",
            "                                                                 \n",
            "=================================================================\n",
            "Total params: 2221 (8.68 KB)\n",
            "Trainable params: 2221 (8.68 KB)\n",
            "Non-trainable params: 0 (0.00 Byte)\n",
            "_________________________________________________________________\n"
          ]
        }
      ]
    }
  ]
}